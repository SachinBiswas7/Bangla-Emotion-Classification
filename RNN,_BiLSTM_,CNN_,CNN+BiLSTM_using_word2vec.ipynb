{
  "nbformat": 4,
  "nbformat_minor": 0,
  "metadata": {
    "colab": {
      "provenance": [],
      "gpuType": "T4"
    },
    "kernelspec": {
      "name": "python3",
      "display_name": "Python 3"
    },
    "language_info": {
      "name": "python"
    },
    "accelerator": "GPU"
  },
  "cells": [
    {
      "cell_type": "code",
      "execution_count": null,
      "metadata": {
        "id": "NsCKInIa0tCX"
      },
      "outputs": [],
      "source": []
    },
    {
      "cell_type": "markdown",
      "source": [
        "Step 1: Preprocess the Data"
      ],
      "metadata": {
        "id": "Tk7SkOv-06_H"
      }
    },
    {
      "cell_type": "code",
      "source": [
        "import pandas as pd\n",
        "import numpy as np\n",
        "import tensorflow as tf\n",
        "from tensorflow.keras.preprocessing.text import Tokenizer\n",
        "from tensorflow.keras.preprocessing.sequence import pad_sequences\n",
        "from sklearn.model_selection import train_test_split"
      ],
      "metadata": {
        "id": "sBO-gn_l1doS"
      },
      "execution_count": 1,
      "outputs": []
    },
    {
      "cell_type": "code",
      "source": [
        "df = pd.read_csv(\"Dataset.csv\")"
      ],
      "metadata": {
        "id": "QSEZoxex1hkI"
      },
      "execution_count": 2,
      "outputs": []
    },
    {
      "cell_type": "code",
      "source": [
        "df.head()"
      ],
      "metadata": {
        "colab": {
          "base_uri": "https://localhost:8080/",
          "height": 206
        },
        "id": "JXk61zKI1mSf",
        "outputId": "b46e187a-1a07-4020-a4f2-70579cc8c267"
      },
      "execution_count": 3,
      "outputs": [
        {
          "output_type": "execute_result",
          "data": {
            "text/plain": [
              "   SL  Emotion                                               Text  Year  \\\n",
              "0   1  disgust  নির্বাচনের আগের রাতে সুষ্টু শান্তিপূর্ণ ভাবে ভ...  2016   \n",
              "1   2  disgust  জনগণ মনের আনন্দে নিজেদের ভোট কাস্ট করে দেশদ্রো...  2016   \n",
              "2   3    angry                                   ভেজাল নির্বাচন ।  2016   \n",
              "3   4    happy  বিএনপি ও রাজাকার সমর্থকরা হেরে গেলে দেশের জন্য...  2016   \n",
              "4   5    angry  সূক্ষ্ম কারচুপি বলে এতদিন একটা কথার কথা ছিল, এ...  2016   \n",
              "\n",
              "   Racial Biases  Hatred Percentage  Depression Percentage  \n",
              "0            NaN                NaN                    NaN  \n",
              "1            NaN                NaN                    NaN  \n",
              "2            NaN                NaN                    NaN  \n",
              "3            NaN                NaN                    NaN  \n",
              "4            NaN                NaN                    NaN  "
            ],
            "text/html": [
              "\n",
              "  <div id=\"df-acb30b43-456f-4ace-94c9-47f512cf7053\" class=\"colab-df-container\">\n",
              "    <div>\n",
              "<style scoped>\n",
              "    .dataframe tbody tr th:only-of-type {\n",
              "        vertical-align: middle;\n",
              "    }\n",
              "\n",
              "    .dataframe tbody tr th {\n",
              "        vertical-align: top;\n",
              "    }\n",
              "\n",
              "    .dataframe thead th {\n",
              "        text-align: right;\n",
              "    }\n",
              "</style>\n",
              "<table border=\"1\" class=\"dataframe\">\n",
              "  <thead>\n",
              "    <tr style=\"text-align: right;\">\n",
              "      <th></th>\n",
              "      <th>SL</th>\n",
              "      <th>Emotion</th>\n",
              "      <th>Text</th>\n",
              "      <th>Year</th>\n",
              "      <th>Racial Biases</th>\n",
              "      <th>Hatred Percentage</th>\n",
              "      <th>Depression Percentage</th>\n",
              "    </tr>\n",
              "  </thead>\n",
              "  <tbody>\n",
              "    <tr>\n",
              "      <th>0</th>\n",
              "      <td>1</td>\n",
              "      <td>disgust</td>\n",
              "      <td>নির্বাচনের আগের রাতে সুষ্টু শান্তিপূর্ণ ভাবে ভ...</td>\n",
              "      <td>2016</td>\n",
              "      <td>NaN</td>\n",
              "      <td>NaN</td>\n",
              "      <td>NaN</td>\n",
              "    </tr>\n",
              "    <tr>\n",
              "      <th>1</th>\n",
              "      <td>2</td>\n",
              "      <td>disgust</td>\n",
              "      <td>জনগণ মনের আনন্দে নিজেদের ভোট কাস্ট করে দেশদ্রো...</td>\n",
              "      <td>2016</td>\n",
              "      <td>NaN</td>\n",
              "      <td>NaN</td>\n",
              "      <td>NaN</td>\n",
              "    </tr>\n",
              "    <tr>\n",
              "      <th>2</th>\n",
              "      <td>3</td>\n",
              "      <td>angry</td>\n",
              "      <td>ভেজাল নির্বাচন ।</td>\n",
              "      <td>2016</td>\n",
              "      <td>NaN</td>\n",
              "      <td>NaN</td>\n",
              "      <td>NaN</td>\n",
              "    </tr>\n",
              "    <tr>\n",
              "      <th>3</th>\n",
              "      <td>4</td>\n",
              "      <td>happy</td>\n",
              "      <td>বিএনপি ও রাজাকার সমর্থকরা হেরে গেলে দেশের জন্য...</td>\n",
              "      <td>2016</td>\n",
              "      <td>NaN</td>\n",
              "      <td>NaN</td>\n",
              "      <td>NaN</td>\n",
              "    </tr>\n",
              "    <tr>\n",
              "      <th>4</th>\n",
              "      <td>5</td>\n",
              "      <td>angry</td>\n",
              "      <td>সূক্ষ্ম কারচুপি বলে এতদিন একটা কথার কথা ছিল, এ...</td>\n",
              "      <td>2016</td>\n",
              "      <td>NaN</td>\n",
              "      <td>NaN</td>\n",
              "      <td>NaN</td>\n",
              "    </tr>\n",
              "  </tbody>\n",
              "</table>\n",
              "</div>\n",
              "    <div class=\"colab-df-buttons\">\n",
              "\n",
              "  <div class=\"colab-df-container\">\n",
              "    <button class=\"colab-df-convert\" onclick=\"convertToInteractive('df-acb30b43-456f-4ace-94c9-47f512cf7053')\"\n",
              "            title=\"Convert this dataframe to an interactive table.\"\n",
              "            style=\"display:none;\">\n",
              "\n",
              "  <svg xmlns=\"http://www.w3.org/2000/svg\" height=\"24px\" viewBox=\"0 -960 960 960\">\n",
              "    <path d=\"M120-120v-720h720v720H120Zm60-500h600v-160H180v160Zm220 220h160v-160H400v160Zm0 220h160v-160H400v160ZM180-400h160v-160H180v160Zm440 0h160v-160H620v160ZM180-180h160v-160H180v160Zm440 0h160v-160H620v160Z\"/>\n",
              "  </svg>\n",
              "    </button>\n",
              "\n",
              "  <style>\n",
              "    .colab-df-container {\n",
              "      display:flex;\n",
              "      gap: 12px;\n",
              "    }\n",
              "\n",
              "    .colab-df-convert {\n",
              "      background-color: #E8F0FE;\n",
              "      border: none;\n",
              "      border-radius: 50%;\n",
              "      cursor: pointer;\n",
              "      display: none;\n",
              "      fill: #1967D2;\n",
              "      height: 32px;\n",
              "      padding: 0 0 0 0;\n",
              "      width: 32px;\n",
              "    }\n",
              "\n",
              "    .colab-df-convert:hover {\n",
              "      background-color: #E2EBFA;\n",
              "      box-shadow: 0px 1px 2px rgba(60, 64, 67, 0.3), 0px 1px 3px 1px rgba(60, 64, 67, 0.15);\n",
              "      fill: #174EA6;\n",
              "    }\n",
              "\n",
              "    .colab-df-buttons div {\n",
              "      margin-bottom: 4px;\n",
              "    }\n",
              "\n",
              "    [theme=dark] .colab-df-convert {\n",
              "      background-color: #3B4455;\n",
              "      fill: #D2E3FC;\n",
              "    }\n",
              "\n",
              "    [theme=dark] .colab-df-convert:hover {\n",
              "      background-color: #434B5C;\n",
              "      box-shadow: 0px 1px 3px 1px rgba(0, 0, 0, 0.15);\n",
              "      filter: drop-shadow(0px 1px 2px rgba(0, 0, 0, 0.3));\n",
              "      fill: #FFFFFF;\n",
              "    }\n",
              "  </style>\n",
              "\n",
              "    <script>\n",
              "      const buttonEl =\n",
              "        document.querySelector('#df-acb30b43-456f-4ace-94c9-47f512cf7053 button.colab-df-convert');\n",
              "      buttonEl.style.display =\n",
              "        google.colab.kernel.accessAllowed ? 'block' : 'none';\n",
              "\n",
              "      async function convertToInteractive(key) {\n",
              "        const element = document.querySelector('#df-acb30b43-456f-4ace-94c9-47f512cf7053');\n",
              "        const dataTable =\n",
              "          await google.colab.kernel.invokeFunction('convertToInteractive',\n",
              "                                                    [key], {});\n",
              "        if (!dataTable) return;\n",
              "\n",
              "        const docLinkHtml = 'Like what you see? Visit the ' +\n",
              "          '<a target=\"_blank\" href=https://colab.research.google.com/notebooks/data_table.ipynb>data table notebook</a>'\n",
              "          + ' to learn more about interactive tables.';\n",
              "        element.innerHTML = '';\n",
              "        dataTable['output_type'] = 'display_data';\n",
              "        await google.colab.output.renderOutput(dataTable, element);\n",
              "        const docLink = document.createElement('div');\n",
              "        docLink.innerHTML = docLinkHtml;\n",
              "        element.appendChild(docLink);\n",
              "      }\n",
              "    </script>\n",
              "  </div>\n",
              "\n",
              "\n",
              "<div id=\"df-53b1bd69-b0eb-455e-82ae-23a0c2d7adac\">\n",
              "  <button class=\"colab-df-quickchart\" onclick=\"quickchart('df-53b1bd69-b0eb-455e-82ae-23a0c2d7adac')\"\n",
              "            title=\"Suggest charts\"\n",
              "            style=\"display:none;\">\n",
              "\n",
              "<svg xmlns=\"http://www.w3.org/2000/svg\" height=\"24px\"viewBox=\"0 0 24 24\"\n",
              "     width=\"24px\">\n",
              "    <g>\n",
              "        <path d=\"M19 3H5c-1.1 0-2 .9-2 2v14c0 1.1.9 2 2 2h14c1.1 0 2-.9 2-2V5c0-1.1-.9-2-2-2zM9 17H7v-7h2v7zm4 0h-2V7h2v10zm4 0h-2v-4h2v4z\"/>\n",
              "    </g>\n",
              "</svg>\n",
              "  </button>\n",
              "\n",
              "<style>\n",
              "  .colab-df-quickchart {\n",
              "      --bg-color: #E8F0FE;\n",
              "      --fill-color: #1967D2;\n",
              "      --hover-bg-color: #E2EBFA;\n",
              "      --hover-fill-color: #174EA6;\n",
              "      --disabled-fill-color: #AAA;\n",
              "      --disabled-bg-color: #DDD;\n",
              "  }\n",
              "\n",
              "  [theme=dark] .colab-df-quickchart {\n",
              "      --bg-color: #3B4455;\n",
              "      --fill-color: #D2E3FC;\n",
              "      --hover-bg-color: #434B5C;\n",
              "      --hover-fill-color: #FFFFFF;\n",
              "      --disabled-bg-color: #3B4455;\n",
              "      --disabled-fill-color: #666;\n",
              "  }\n",
              "\n",
              "  .colab-df-quickchart {\n",
              "    background-color: var(--bg-color);\n",
              "    border: none;\n",
              "    border-radius: 50%;\n",
              "    cursor: pointer;\n",
              "    display: none;\n",
              "    fill: var(--fill-color);\n",
              "    height: 32px;\n",
              "    padding: 0;\n",
              "    width: 32px;\n",
              "  }\n",
              "\n",
              "  .colab-df-quickchart:hover {\n",
              "    background-color: var(--hover-bg-color);\n",
              "    box-shadow: 0 1px 2px rgba(60, 64, 67, 0.3), 0 1px 3px 1px rgba(60, 64, 67, 0.15);\n",
              "    fill: var(--button-hover-fill-color);\n",
              "  }\n",
              "\n",
              "  .colab-df-quickchart-complete:disabled,\n",
              "  .colab-df-quickchart-complete:disabled:hover {\n",
              "    background-color: var(--disabled-bg-color);\n",
              "    fill: var(--disabled-fill-color);\n",
              "    box-shadow: none;\n",
              "  }\n",
              "\n",
              "  .colab-df-spinner {\n",
              "    border: 2px solid var(--fill-color);\n",
              "    border-color: transparent;\n",
              "    border-bottom-color: var(--fill-color);\n",
              "    animation:\n",
              "      spin 1s steps(1) infinite;\n",
              "  }\n",
              "\n",
              "  @keyframes spin {\n",
              "    0% {\n",
              "      border-color: transparent;\n",
              "      border-bottom-color: var(--fill-color);\n",
              "      border-left-color: var(--fill-color);\n",
              "    }\n",
              "    20% {\n",
              "      border-color: transparent;\n",
              "      border-left-color: var(--fill-color);\n",
              "      border-top-color: var(--fill-color);\n",
              "    }\n",
              "    30% {\n",
              "      border-color: transparent;\n",
              "      border-left-color: var(--fill-color);\n",
              "      border-top-color: var(--fill-color);\n",
              "      border-right-color: var(--fill-color);\n",
              "    }\n",
              "    40% {\n",
              "      border-color: transparent;\n",
              "      border-right-color: var(--fill-color);\n",
              "      border-top-color: var(--fill-color);\n",
              "    }\n",
              "    60% {\n",
              "      border-color: transparent;\n",
              "      border-right-color: var(--fill-color);\n",
              "    }\n",
              "    80% {\n",
              "      border-color: transparent;\n",
              "      border-right-color: var(--fill-color);\n",
              "      border-bottom-color: var(--fill-color);\n",
              "    }\n",
              "    90% {\n",
              "      border-color: transparent;\n",
              "      border-bottom-color: var(--fill-color);\n",
              "    }\n",
              "  }\n",
              "</style>\n",
              "\n",
              "  <script>\n",
              "    async function quickchart(key) {\n",
              "      const quickchartButtonEl =\n",
              "        document.querySelector('#' + key + ' button');\n",
              "      quickchartButtonEl.disabled = true;  // To prevent multiple clicks.\n",
              "      quickchartButtonEl.classList.add('colab-df-spinner');\n",
              "      try {\n",
              "        const charts = await google.colab.kernel.invokeFunction(\n",
              "            'suggestCharts', [key], {});\n",
              "      } catch (error) {\n",
              "        console.error('Error during call to suggestCharts:', error);\n",
              "      }\n",
              "      quickchartButtonEl.classList.remove('colab-df-spinner');\n",
              "      quickchartButtonEl.classList.add('colab-df-quickchart-complete');\n",
              "    }\n",
              "    (() => {\n",
              "      let quickchartButtonEl =\n",
              "        document.querySelector('#df-53b1bd69-b0eb-455e-82ae-23a0c2d7adac button');\n",
              "      quickchartButtonEl.style.display =\n",
              "        google.colab.kernel.accessAllowed ? 'block' : 'none';\n",
              "    })();\n",
              "  </script>\n",
              "</div>\n",
              "\n",
              "    </div>\n",
              "  </div>\n"
            ],
            "application/vnd.google.colaboratory.intrinsic+json": {
              "type": "dataframe",
              "variable_name": "df",
              "summary": "{\n  \"name\": \"df\",\n  \"rows\": 36000,\n  \"fields\": [\n    {\n      \"column\": \"SL\",\n      \"properties\": {\n        \"dtype\": \"number\",\n        \"std\": 10392,\n        \"min\": 1,\n        \"max\": 36000,\n        \"num_unique_values\": 36000,\n        \"samples\": [\n          16462,\n          23580,\n          23641\n        ],\n        \"semantic_type\": \"\",\n        \"description\": \"\"\n      }\n    },\n    {\n      \"column\": \"Emotion\",\n      \"properties\": {\n        \"dtype\": \"category\",\n        \"num_unique_values\": 6,\n        \"samples\": [\n          \"disgust\",\n          \"angry\",\n          \"sad\"\n        ],\n        \"semantic_type\": \"\",\n        \"description\": \"\"\n      }\n    },\n    {\n      \"column\": \"Text\",\n      \"properties\": {\n        \"dtype\": \"category\",\n        \"num_unique_values\": 11270,\n        \"samples\": [\n          \"\\u098f\\u099f\\u09be \\u0986\\u09ae\\u09c7\\u09b0\\u09bf\\u0995\\u09be\\u09b0 \\u098f\\u0995\\u099f\\u09be \\u09ac\\u09dc\\u09a7\\u09b0\\u09a8\\u09c7\\u09b0 \\u099a\\u09be\\u09b2! \\u099c\\u09be\\u09a4\\u09c0\\u09df \\u09aa\\u09b0\\u09bf\\u099a\\u09df \\u09aa\\u098f\\u09c7\\u09b0 \\u0995\\u09bf \\u0995\\u09c7\\u09be\\u09a8 \\u09ad\\u09c7\\u09b2\\u09c1 \\u09b8\\u09b0\\u0995\\u09be\\u09b0 \\u09a6\\u09bf\\u09a4\\u09c7 \\u099a\\u09be\\u09df \\u09a8\\u09be ?\\u09a6\\u09c7\\u09b6\\u09c7 \\u09b8\\u0995\\u09b2 \\u0995\\u09be\\u099c \\u09a4\\u09c7\\u09be \\u09ad\\u09c7\\u09be\\u099f\\u09be\\u09b0 \\u0986\\u0987\\u09a1\\u09bf \\u09a6\\u09bf\\u09df\\u09be \\u099a\\u09b2\\u09c7. \\u09b9\\u09be\\u09df\\u09b0\\u09c7 \\u09b8\\u09c7\\u09be\\u09a8\\u09be\\u09b0 \\u09ac\\u09be\\u0982\\u09b2\\u09be !!\",\n          \"\\u09ad\\u09be\\u09b0\\u09a4 \\u0985\\u09a4\\u09cd\\u09af\\u09a8\\u09cd\\u09a4 \\u099a\\u09be\\u09b2\\u09be\\u0995\\u09bf\\u09b0 \\u09b8\\u09be\\u09a5\\u09c7 \\u0986\\u09ae\\u09be\\u09a6\\u09c7\\u09b0 \\u09b8\\u09be\\u09a5\\u09c7 \\u09b8\\u09c1'\\u09b8\\u09ae\\u09aa\\u09b0\\u09cd\\u0995 \\u09a6\\u09c7\\u0996\\u09be\\u09df, \\u09ae\\u09c1\\u09b2\\u09a4 \\u09a4\\u09be\\u09b0\\u09be \\u09a8\\u09bf\\u099c\\u09a6\\u09c7\\u09b0 \\u09b8\\u09cd\\u09ac\\u09be\\u09b0\\u09cd\\u09a5 \\u099b\\u09c7\\u09dc\\u09c7 \\u09a6\\u09bf\\u09df\\u09c7 \\u0986\\u09ae\\u09be\\u09a6\\u09c7\\u09b0 \\u0985\\u09a7\\u09bf\\u0995\\u09be\\u09b0 \\u0986\\u09a6\\u09be\\u09df\\u09c7 \\u09b8\\u09c1\\u09af\\u09cb\\u0997 \\u0995\\u09b0\\u09c7 \\u09a6\\u09bf\\u09ac\\u09c7 \\u098f\\u09ae\\u09a8 \\u099a\\u09bf\\u09a8\\u09cd\\u09a4\\u09be \\u09a8\\u09be \\u0995\\u09b0\\u09be\\u0987 \\u0989\\u0993\\u09ae\\u0964\",\n          \"\\u09ac\\u09c1\\u099d\\u09a4\\u09c7 \\u09aa\\u09be\\u09b0\\u09be\\u09b0 \\u099c\\u09a8\\u09cd\\u09af \\u0986\\u09aa\\u09a8\\u09be\\u0995\\u09c7 \\u0985\\u09ad\\u09bf\\u09a8\\u09a8\\u09cd\\u09a6\\u09a8 \\u0964\"\n        ],\n        \"semantic_type\": \"\",\n        \"description\": \"\"\n      }\n    },\n    {\n      \"column\": \"Year\",\n      \"properties\": {\n        \"dtype\": \"number\",\n        \"std\": 1,\n        \"min\": 2016,\n        \"max\": 2021,\n        \"num_unique_values\": 6,\n        \"samples\": [\n          2016,\n          2017,\n          2021\n        ],\n        \"semantic_type\": \"\",\n        \"description\": \"\"\n      }\n    },\n    {\n      \"column\": \"Racial Biases\",\n      \"properties\": {\n        \"dtype\": \"number\",\n        \"std\": null,\n        \"min\": null,\n        \"max\": null,\n        \"num_unique_values\": 0,\n        \"samples\": [],\n        \"semantic_type\": \"\",\n        \"description\": \"\"\n      }\n    },\n    {\n      \"column\": \"Hatred Percentage\",\n      \"properties\": {\n        \"dtype\": \"number\",\n        \"std\": null,\n        \"min\": null,\n        \"max\": null,\n        \"num_unique_values\": 0,\n        \"samples\": [],\n        \"semantic_type\": \"\",\n        \"description\": \"\"\n      }\n    },\n    {\n      \"column\": \"Depression Percentage\",\n      \"properties\": {\n        \"dtype\": \"number\",\n        \"std\": null,\n        \"min\": null,\n        \"max\": null,\n        \"num_unique_values\": 0,\n        \"samples\": [],\n        \"semantic_type\": \"\",\n        \"description\": \"\"\n      }\n    }\n  ]\n}"
            }
          },
          "metadata": {},
          "execution_count": 3
        }
      ]
    },
    {
      "cell_type": "code",
      "source": [
        "# @title Emotion\n",
        "\n",
        "from matplotlib import pyplot as plt\n",
        "import seaborn as sns\n",
        "df.groupby('Emotion').size().plot(kind='barh', color=sns.palettes.mpl_palette('Dark2'))\n",
        "plt.gca().spines[['top', 'right',]].set_visible(False)"
      ],
      "metadata": {
        "colab": {
          "base_uri": "https://localhost:8080/",
          "height": 430
        },
        "id": "3vsx077k1ovP",
        "outputId": "37c4ff59-c9a2-4fb8-8ce7-85a5623b6635"
      },
      "execution_count": 4,
      "outputs": [
        {
          "output_type": "display_data",
          "data": {
            "text/plain": [
              "<Figure size 640x480 with 1 Axes>"
            ],
            "image/png": "[encoded data removed]"
          },
          "metadata": {}
        }
      ]
    },
    {
      "cell_type": "code",
      "source": [
        "#label encoder\n",
        "from sklearn.preprocessing import LabelEncoder\n",
        "le = LabelEncoder()\n",
        "df['Emotion_label'] = le.fit_transform(df['Emotion'])\n"
      ],
      "metadata": {
        "id": "9anJo3Tf1u-w"
      },
      "execution_count": 5,
      "outputs": []
    },
    {
      "cell_type": "code",
      "source": [
        "#drop Racial biases\n",
        "df.drop(['Racial Biases'], axis=1, inplace=True)\n",
        "#drop Hatred Percentage\n",
        "df.drop(['Hatred Percentage',], axis=1, inplace=True)\n",
        "#drop Depression Percentage\n",
        "df.drop(['Depression Percentage'], axis=1, inplace=True)\n",
        "#drop year\n",
        "df.drop(['Year'], axis=1, inplace=True)\n"
      ],
      "metadata": {
        "id": "muKM9bn610vG"
      },
      "execution_count": 7,
      "outputs": []
    },
    {
      "cell_type": "code",
      "source": [
        "#data preprocessing using spacy\n",
        "\n",
        "#removing unnecessary punctuation\n",
        "import re\n",
        "\n",
        "# Data cleaning function\n",
        "def process_comments(Comment):\n",
        "    Comment = re.sub('[^\\u0980-\\u09FF]',' ',str(Comment)) #removing unnecessary punctuation\n",
        "    return Comment\n",
        "\n",
        "df['Cleaned'] = df['Text'].apply(process_comments)\n",
        "df.head()\n"
      ],
      "metadata": {
        "id": "CrQLyUHqSuUr",
        "colab": {
          "base_uri": "https://localhost:8080/",
          "height": 206
        },
        "outputId": "5edb81ba-9286-4a2a-987c-f4b6114b5694"
      },
      "execution_count": 8,
      "outputs": [
        {
          "output_type": "execute_result",
          "data": {
            "text/plain": [
              "   SL  Emotion                                               Text  \\\n",
              "0   1  disgust  নির্বাচনের আগের রাতে সুষ্টু শান্তিপূর্ণ ভাবে ভ...   \n",
              "1   2  disgust  জনগণ মনের আনন্দে নিজেদের ভোট কাস্ট করে দেশদ্রো...   \n",
              "2   3    angry                                   ভেজাল নির্বাচন ।   \n",
              "3   4    happy  বিএনপি ও রাজাকার সমর্থকরা হেরে গেলে দেশের জন্য...   \n",
              "4   5    angry  সূক্ষ্ম কারচুপি বলে এতদিন একটা কথার কথা ছিল, এ...   \n",
              "\n",
              "   Emotion_label                                            Cleaned  \n",
              "0              1  নির্বাচনের আগের রাতে সুষ্টু শান্তিপূর্ণ ভাবে ভ...  \n",
              "1              1  জনগণ মনের আনন্দে নিজেদের ভোট কাস্ট করে দেশদ্রো...  \n",
              "2              0                                   ভেজাল নির্বাচন    \n",
              "3              3  বিএনপি ও রাজাকার সমর্থকরা হেরে গেলে দেশের জন্য...  \n",
              "4              0  সূক্ষ্ম কারচুপি বলে এতদিন একটা কথার কথা ছিল  এ...  "
            ],
            "text/html": [
              "\n",
              "  <div id=\"df-509fc20e-f827-4f70-9330-a4c47083a333\" class=\"colab-df-container\">\n",
              "    <div>\n",
              "<style scoped>\n",
              "    .dataframe tbody tr th:only-of-type {\n",
              "        vertical-align: middle;\n",
              "    }\n",
              "\n",
              "    .dataframe tbody tr th {\n",
              "        vertical-align: top;\n",
              "    }\n",
              "\n",
              "    .dataframe thead th {\n",
              "        text-align: right;\n",
              "    }\n",
              "</style>\n",
              "<table border=\"1\" class=\"dataframe\">\n",
              "  <thead>\n",
              "    <tr style=\"text-align: right;\">\n",
              "      <th></th>\n",
              "      <th>SL</th>\n",
              "      <th>Emotion</th>\n",
              "      <th>Text</th>\n",
              "      <th>Emotion_label</th>\n",
              "      <th>Cleaned</th>\n",
              "    </tr>\n",
              "  </thead>\n",
              "  <tbody>\n",
              "    <tr>\n",
              "      <th>0</th>\n",
              "      <td>1</td>\n",
              "      <td>disgust</td>\n",
              "      <td>নির্বাচনের আগের রাতে সুষ্টু শান্তিপূর্ণ ভাবে ভ...</td>\n",
              "      <td>1</td>\n",
              "      <td>নির্বাচনের আগের রাতে সুষ্টু শান্তিপূর্ণ ভাবে ভ...</td>\n",
              "    </tr>\n",
              "    <tr>\n",
              "      <th>1</th>\n",
              "      <td>2</td>\n",
              "      <td>disgust</td>\n",
              "      <td>জনগণ মনের আনন্দে নিজেদের ভোট কাস্ট করে দেশদ্রো...</td>\n",
              "      <td>1</td>\n",
              "      <td>জনগণ মনের আনন্দে নিজেদের ভোট কাস্ট করে দেশদ্রো...</td>\n",
              "    </tr>\n",
              "    <tr>\n",
              "      <th>2</th>\n",
              "      <td>3</td>\n",
              "      <td>angry</td>\n",
              "      <td>ভেজাল নির্বাচন ।</td>\n",
              "      <td>0</td>\n",
              "      <td>ভেজাল নির্বাচন</td>\n",
              "    </tr>\n",
              "    <tr>\n",
              "      <th>3</th>\n",
              "      <td>4</td>\n",
              "      <td>happy</td>\n",
              "      <td>বিএনপি ও রাজাকার সমর্থকরা হেরে গেলে দেশের জন্য...</td>\n",
              "      <td>3</td>\n",
              "      <td>বিএনপি ও রাজাকার সমর্থকরা হেরে গেলে দেশের জন্য...</td>\n",
              "    </tr>\n",
              "    <tr>\n",
              "      <th>4</th>\n",
              "      <td>5</td>\n",
              "      <td>angry</td>\n",
              "      <td>সূক্ষ্ম কারচুপি বলে এতদিন একটা কথার কথা ছিল, এ...</td>\n",
              "      <td>0</td>\n",
              "      <td>সূক্ষ্ম কারচুপি বলে এতদিন একটা কথার কথা ছিল  এ...</td>\n",
              "    </tr>\n",
              "  </tbody>\n",
              "</table>\n",
              "</div>\n",
              "    <div class=\"colab-df-buttons\">\n",
              "\n",
              "  <div class=\"colab-df-container\">\n",
              "    <button class=\"colab-df-convert\" onclick=\"convertToInteractive('df-509fc20e-f827-4f70-9330-a4c47083a333')\"\n",
              "            title=\"Convert this dataframe to an interactive table.\"\n",
              "            style=\"display:none;\">\n",
              "\n",
              "  <svg xmlns=\"http://www.w3.org/2000/svg\" height=\"24px\" viewBox=\"0 -960 960 960\">\n",
              "    <path d=\"M120-120v-720h720v720H120Zm60-500h600v-160H180v160Zm220 220h160v-160H400v160Zm0 220h160v-160H400v160ZM180-400h160v-160H180v160Zm440 0h160v-160H620v160ZM180-180h160v-160H180v160Zm440 0h160v-160H620v160Z\"/>\n",
              "  </svg>\n",
              "    </button>\n",
              "\n",
              "  <style>\n",
              "    .colab-df-container {\n",
              "      display:flex;\n",
              "      gap: 12px;\n",
              "    }\n",
              "\n",
              "    .colab-df-convert {\n",
              "      background-color: #E8F0FE;\n",
              "      border: none;\n",
              "      border-radius: 50%;\n",
              "      cursor: pointer;\n",
              "      display: none;\n",
              "      fill: #1967D2;\n",
              "      height: 32px;\n",
              "      padding: 0 0 0 0;\n",
              "      width: 32px;\n",
              "    }\n",
              "\n",
              "    .colab-df-convert:hover {\n",
              "      background-color: #E2EBFA;\n",
              "      box-shadow: 0px 1px 2px rgba(60, 64, 67, 0.3), 0px 1px 3px 1px rgba(60, 64, 67, 0.15);\n",
              "      fill: #174EA6;\n",
              "    }\n",
              "\n",
              "    .colab-df-buttons div {\n",
              "      margin-bottom: 4px;\n",
              "    }\n",
              "\n",
              "    [theme=dark] .colab-df-convert {\n",
              "      background-color: #3B4455;\n",
              "      fill: #D2E3FC;\n",
              "    }\n",
              "\n",
              "    [theme=dark] .colab-df-convert:hover {\n",
              "      background-color: #434B5C;\n",
              "      box-shadow: 0px 1px 3px 1px rgba(0, 0, 0, 0.15);\n",
              "      filter: drop-shadow(0px 1px 2px rgba(0, 0, 0, 0.3));\n",
              "      fill: #FFFFFF;\n",
              "    }\n",
              "  </style>\n",
              "\n",
              "    <script>\n",
              "      const buttonEl =\n",
              "        document.querySelector('#df-509fc20e-f827-4f70-9330-a4c47083a333 button.colab-df-convert');\n",
              "      buttonEl.style.display =\n",
              "        google.colab.kernel.accessAllowed ? 'block' : 'none';\n",
              "\n",
              "      async function convertToInteractive(key) {\n",
              "        const element = document.querySelector('#df-509fc20e-f827-4f70-9330-a4c47083a333');\n",
              "        const dataTable =\n",
              "          await google.colab.kernel.invokeFunction('convertToInteractive',\n",
              "                                                    [key], {});\n",
              "        if (!dataTable) return;\n",
              "\n",
              "        const docLinkHtml = 'Like what you see? Visit the ' +\n",
              "          '<a target=\"_blank\" href=https://colab.research.google.com/notebooks/data_table.ipynb>data table notebook</a>'\n",
              "          + ' to learn more about interactive tables.';\n",
              "        element.innerHTML = '';\n",
              "        dataTable['output_type'] = 'display_data';\n",
              "        await google.colab.output.renderOutput(dataTable, element);\n",
              "        const docLink = document.createElement('div');\n",
              "        docLink.innerHTML = docLinkHtml;\n",
              "        element.appendChild(docLink);\n",
              "      }\n",
              "    </script>\n",
              "  </div>\n",
              "\n",
              "\n",
              "<div id=\"df-ca409650-f9fa-4375-b3eb-ec7d4462c800\">\n",
              "  <button class=\"colab-df-quickchart\" onclick=\"quickchart('df-ca409650-f9fa-4375-b3eb-ec7d4462c800')\"\n",
              "            title=\"Suggest charts\"\n",
              "            style=\"display:none;\">\n",
              "\n",
              "<svg xmlns=\"http://www.w3.org/2000/svg\" height=\"24px\"viewBox=\"0 0 24 24\"\n",
              "     width=\"24px\">\n",
              "    <g>\n",
              "        <path d=\"M19 3H5c-1.1 0-2 .9-2 2v14c0 1.1.9 2 2 2h14c1.1 0 2-.9 2-2V5c0-1.1-.9-2-2-2zM9 17H7v-7h2v7zm4 0h-2V7h2v10zm4 0h-2v-4h2v4z\"/>\n",
              "    </g>\n",
              "</svg>\n",
              "  </button>\n",
              "\n",
              "<style>\n",
              "  .colab-df-quickchart {\n",
              "      --bg-color: #E8F0FE;\n",
              "      --fill-color: #1967D2;\n",
              "      --hover-bg-color: #E2EBFA;\n",
              "      --hover-fill-color: #174EA6;\n",
              "      --disabled-fill-color: #AAA;\n",
              "      --disabled-bg-color: #DDD;\n",
              "  }\n",
              "\n",
              "  [theme=dark] .colab-df-quickchart {\n",
              "      --bg-color: #3B4455;\n",
              "      --fill-color: #D2E3FC;\n",
              "      --hover-bg-color: #434B5C;\n",
              "      --hover-fill-color: #FFFFFF;\n",
              "      --disabled-bg-color: #3B4455;\n",
              "      --disabled-fill-color: #666;\n",
              "  }\n",
              "\n",
              "  .colab-df-quickchart {\n",
              "    background-color: var(--bg-color);\n",
              "    border: none;\n",
              "    border-radius: 50%;\n",
              "    cursor: pointer;\n",
              "    display: none;\n",
              "    fill: var(--fill-color);\n",
              "    height: 32px;\n",
              "    padding: 0;\n",
              "    width: 32px;\n",
              "  }\n",
              "\n",
              "  .colab-df-quickchart:hover {\n",
              "    background-color: var(--hover-bg-color);\n",
              "    box-shadow: 0 1px 2px rgba(60, 64, 67, 0.3), 0 1px 3px 1px rgba(60, 64, 67, 0.15);\n",
              "    fill: var(--button-hover-fill-color);\n",
              "  }\n",
              "\n",
              "  .colab-df-quickchart-complete:disabled,\n",
              "  .colab-df-quickchart-complete:disabled:hover {\n",
              "    background-color: var(--disabled-bg-color);\n",
              "    fill: var(--disabled-fill-color);\n",
              "    box-shadow: none;\n",
              "  }\n",
              "\n",
              "  .colab-df-spinner {\n",
              "    border: 2px solid var(--fill-color);\n",
              "    border-color: transparent;\n",
              "    border-bottom-color: var(--fill-color);\n",
              "    animation:\n",
              "      spin 1s steps(1) infinite;\n",
              "  }\n",
              "\n",
              "  @keyframes spin {\n",
              "    0% {\n",
              "      border-color: transparent;\n",
              "      border-bottom-color: var(--fill-color);\n",
              "      border-left-color: var(--fill-color);\n",
              "    }\n",
              "    20% {\n",
              "      border-color: transparent;\n",
              "      border-left-color: var(--fill-color);\n",
              "      border-top-color: var(--fill-color);\n",
              "    }\n",
              "    30% {\n",
              "      border-color: transparent;\n",
              "      border-left-color: var(--fill-color);\n",
              "      border-top-color: var(--fill-color);\n",
              "      border-right-color: var(--fill-color);\n",
              "    }\n",
              "    40% {\n",
              "      border-color: transparent;\n",
              "      border-right-color: var(--fill-color);\n",
              "      border-top-color: var(--fill-color);\n",
              "    }\n",
              "    60% {\n",
              "      border-color: transparent;\n",
              "      border-right-color: var(--fill-color);\n",
              "    }\n",
              "    80% {\n",
              "      border-color: transparent;\n",
              "      border-right-color: var(--fill-color);\n",
              "      border-bottom-color: var(--fill-color);\n",
              "    }\n",
              "    90% {\n",
              "      border-color: transparent;\n",
              "      border-bottom-color: var(--fill-color);\n",
              "    }\n",
              "  }\n",
              "</style>\n",
              "\n",
              "  <script>\n",
              "    async function quickchart(key) {\n",
              "      const quickchartButtonEl =\n",
              "        document.querySelector('#' + key + ' button');\n",
              "      quickchartButtonEl.disabled = true;  // To prevent multiple clicks.\n",
              "      quickchartButtonEl.classList.add('colab-df-spinner');\n",
              "      try {\n",
              "        const charts = await google.colab.kernel.invokeFunction(\n",
              "            'suggestCharts', [key], {});\n",
              "      } catch (error) {\n",
              "        console.error('Error during call to suggestCharts:', error);\n",
              "      }\n",
              "      quickchartButtonEl.classList.remove('colab-df-spinner');\n",
              "      quickchartButtonEl.classList.add('colab-df-quickchart-complete');\n",
              "    }\n",
              "    (() => {\n",
              "      let quickchartButtonEl =\n",
              "        document.querySelector('#df-ca409650-f9fa-4375-b3eb-ec7d4462c800 button');\n",
              "      quickchartButtonEl.style.display =\n",
              "        google.colab.kernel.accessAllowed ? 'block' : 'none';\n",
              "    })();\n",
              "  </script>\n",
              "</div>\n",
              "\n",
              "    </div>\n",
              "  </div>\n"
            ],
            "application/vnd.google.colaboratory.intrinsic+json": {
              "type": "dataframe",
              "variable_name": "df",
              "summary": "{\n  \"name\": \"df\",\n  \"rows\": 36000,\n  \"fields\": [\n    {\n      \"column\": \"SL\",\n      \"properties\": {\n        \"dtype\": \"number\",\n        \"std\": 10392,\n        \"min\": 1,\n        \"max\": 36000,\n        \"num_unique_values\": 36000,\n        \"samples\": [\n          16462,\n          23580,\n          23641\n        ],\n        \"semantic_type\": \"\",\n        \"description\": \"\"\n      }\n    },\n    {\n      \"column\": \"Emotion\",\n      \"properties\": {\n        \"dtype\": \"category\",\n        \"num_unique_values\": 6,\n        \"samples\": [\n          \"disgust\",\n          \"angry\",\n          \"sad\"\n        ],\n        \"semantic_type\": \"\",\n        \"description\": \"\"\n      }\n    },\n    {\n      \"column\": \"Text\",\n      \"properties\": {\n        \"dtype\": \"category\",\n        \"num_unique_values\": 11270,\n        \"samples\": [\n          \"\\u098f\\u099f\\u09be \\u0986\\u09ae\\u09c7\\u09b0\\u09bf\\u0995\\u09be\\u09b0 \\u098f\\u0995\\u099f\\u09be \\u09ac\\u09dc\\u09a7\\u09b0\\u09a8\\u09c7\\u09b0 \\u099a\\u09be\\u09b2! \\u099c\\u09be\\u09a4\\u09c0\\u09df \\u09aa\\u09b0\\u09bf\\u099a\\u09df \\u09aa\\u098f\\u09c7\\u09b0 \\u0995\\u09bf \\u0995\\u09c7\\u09be\\u09a8 \\u09ad\\u09c7\\u09b2\\u09c1 \\u09b8\\u09b0\\u0995\\u09be\\u09b0 \\u09a6\\u09bf\\u09a4\\u09c7 \\u099a\\u09be\\u09df \\u09a8\\u09be ?\\u09a6\\u09c7\\u09b6\\u09c7 \\u09b8\\u0995\\u09b2 \\u0995\\u09be\\u099c \\u09a4\\u09c7\\u09be \\u09ad\\u09c7\\u09be\\u099f\\u09be\\u09b0 \\u0986\\u0987\\u09a1\\u09bf \\u09a6\\u09bf\\u09df\\u09be \\u099a\\u09b2\\u09c7. \\u09b9\\u09be\\u09df\\u09b0\\u09c7 \\u09b8\\u09c7\\u09be\\u09a8\\u09be\\u09b0 \\u09ac\\u09be\\u0982\\u09b2\\u09be !!\",\n          \"\\u09ad\\u09be\\u09b0\\u09a4 \\u0985\\u09a4\\u09cd\\u09af\\u09a8\\u09cd\\u09a4 \\u099a\\u09be\\u09b2\\u09be\\u0995\\u09bf\\u09b0 \\u09b8\\u09be\\u09a5\\u09c7 \\u0986\\u09ae\\u09be\\u09a6\\u09c7\\u09b0 \\u09b8\\u09be\\u09a5\\u09c7 \\u09b8\\u09c1'\\u09b8\\u09ae\\u09aa\\u09b0\\u09cd\\u0995 \\u09a6\\u09c7\\u0996\\u09be\\u09df, \\u09ae\\u09c1\\u09b2\\u09a4 \\u09a4\\u09be\\u09b0\\u09be \\u09a8\\u09bf\\u099c\\u09a6\\u09c7\\u09b0 \\u09b8\\u09cd\\u09ac\\u09be\\u09b0\\u09cd\\u09a5 \\u099b\\u09c7\\u09dc\\u09c7 \\u09a6\\u09bf\\u09df\\u09c7 \\u0986\\u09ae\\u09be\\u09a6\\u09c7\\u09b0 \\u0985\\u09a7\\u09bf\\u0995\\u09be\\u09b0 \\u0986\\u09a6\\u09be\\u09df\\u09c7 \\u09b8\\u09c1\\u09af\\u09cb\\u0997 \\u0995\\u09b0\\u09c7 \\u09a6\\u09bf\\u09ac\\u09c7 \\u098f\\u09ae\\u09a8 \\u099a\\u09bf\\u09a8\\u09cd\\u09a4\\u09be \\u09a8\\u09be \\u0995\\u09b0\\u09be\\u0987 \\u0989\\u0993\\u09ae\\u0964\",\n          \"\\u09ac\\u09c1\\u099d\\u09a4\\u09c7 \\u09aa\\u09be\\u09b0\\u09be\\u09b0 \\u099c\\u09a8\\u09cd\\u09af \\u0986\\u09aa\\u09a8\\u09be\\u0995\\u09c7 \\u0985\\u09ad\\u09bf\\u09a8\\u09a8\\u09cd\\u09a6\\u09a8 \\u0964\"\n        ],\n        \"semantic_type\": \"\",\n        \"description\": \"\"\n      }\n    },\n    {\n      \"column\": \"Emotion_label\",\n      \"properties\": {\n        \"dtype\": \"number\",\n        \"std\": 1,\n        \"min\": 0,\n        \"max\": 5,\n        \"num_unique_values\": 6,\n        \"samples\": [\n          1,\n          0,\n          4\n        ],\n        \"semantic_type\": \"\",\n        \"description\": \"\"\n      }\n    },\n    {\n      \"column\": \"Cleaned\",\n      \"properties\": {\n        \"dtype\": \"category\",\n        \"num_unique_values\": 11260,\n        \"samples\": [\n          \"\\u09ad\\u09be\\u0987\\u0986\\u09ae\\u09be\\u09b0 \\u099c\\u09be\\u09a8\\u09be\\u09ae\\u09a4\\u09c7 \\u09ac\\u09be\\u0982\\u09b2\\u09be\\u09a6\\u09c7\\u09b6\\u09c7\\u09b0 \\u0986\\u0987\\u09a8\\u09be\\u09a8\\u09c1\\u09af\\u09be\\u09df\\u09c0 \\u09aa\\u09cd\\u09b0\\u09c7\\u09b8\\u09bf\\u09a1\\u09c7\\u09a8\\u09cd\\u099f \\u0986\\u09b0 \\u09aa\\u09cd\\u09b0\\u09a7\\u09be\\u09a8 \\u09ac\\u09bf\\u099a\\u09be\\u09b0\\u09aa\\u09a4\\u09bf \\u099b\\u09be\\u09dc\\u09be \\u09ac\\u09be\\u0995\\u09bf \\u09b8\\u09ac\\u09be\\u09b0 \\u09ac\\u09bf\\u09b0\\u09c1\\u09a6\\u09cd\\u09a7\\u09c7 \\u09af\\u09c7 \\u0995\\u09c7\\u0989 \\u09ae\\u09be\\u09ae\\u09b2\\u09be \\u0995\\u09b0\\u09a4\\u09c7 \\u09aa\\u09be\\u09b0\\u09c7\\u09a8    \\u0986\\u0987\\u09a8 \\u09b0\\u0995\\u09cd\\u09b7\\u09be \\u0995\\u09be\\u09b0\\u09bf \\u09ac\\u09be\\u09b9\\u09bf\\u09a8\\u09c0 \\u0986\\u0987\\u09a8\\u09c7\\u09b0 \\u0986\\u0993\\u09a4\\u09be\\u09df \\u0986\\u09a8\\u09a4\\u09c7 \\u09aa\\u09be\\u09b0\\u09c7\\u09a8 \\u098f\\u0996\\u09be\\u09a8\\u09c7 \\u0986\\u0993\\u09df\\u09be\\u09ae\\u09c0\\u09b2\\u09c0\\u0997  \\u09ac\\u09bf\\u098f\\u09a8\\u09aa\\u09bf \\u0995\\u09c7\\u0989 \\u0986\\u0987\\u09a8\\u09c7\\u09b0 \\u0989\\u09b0\\u09cd\\u09a7\\u09c7 \\u09a8\\u09df \\u0995\\u09bf\\u09a8\\u09cd\\u09a4\\u09c1 \\u09a6\\u09c1\\u0983\\u0996\\u09c7\\u09b0 \\u0995\\u09a5\\u09be \\u09b9\\u09b2\\u09cb \\u0986\\u09ae\\u09be\\u09a6\\u09c7\\u09b0 \\u09a6\\u09c7\\u09b6\\u09c7 \\u0986\\u0987\\u09a8\\u09c7\\u09b0 \\u09ac\\u09cd\\u09af\\u09be\\u09ac\\u09b9\\u09be\\u09b0 \\u09a5\\u09c7\\u0995\\u09c7 \\u0985\\u09aa\\u09ac\\u09cd\\u09af\\u09be\\u09ac\\u09b9\\u09be\\u09b0\\u099f\\u09be\\u0987 \\u09ac\\u09c7\\u09b6\\u09bf \\u09b9\\u09df \\u09af\\u09c7\\u09ae\\u09a8 \\u0995\\u09bf\\u099b\\u09c1\\u09a6\\u09bf\\u09a8 \\u0986\\u0997\\u09c7\\u0993 \\u0997\\u09cb\\u09b2\\u09be\\u09ae\\u0986\\u099c\\u09ae \\u0995\\u09c7 \\u0995\\u09c7\\u09a8 \\u0997\\u09cd\\u09b0\\u09c7\\u09ab\\u09a4\\u09be\\u09b0 \\u0995\\u09b0\\u09be \\u09b9\\u099a\\u09cd\\u099b\\u09c7\\u09a8\\u09be \\u09a4\\u09be\\u09b0 \\u099c\\u09a8\\u09cd\\u09af \\u098f\\u0987 \\u0987\\u09ae\\u09b0\\u09be\\u09a8 \\u09b8\\u09b0\\u0995\\u09be\\u09b0 \\u09b8\\u09be\\u09b9\\u09c7\\u09ac\\u0987 \\u0995\\u09bf\\u09a8\\u09cd\\u09a4\\u09c1 \\u09b8\\u09b0\\u0995\\u09be\\u09b0 \\u0995\\u09c7 \\u09ac\\u09bf\\u09ad\\u09bf\\u09a8\\u09cd\\u09a8 \\u09b0\\u0995\\u09ae \\u0986\\u09b2\\u09cd\\u099f\\u09bf\\u09ae\\u09c7\\u099f\\u09be\\u09ae \\u09a6\\u09bf\\u09df\\u09c7\\u099b\\u09bf\\u09b2\\u09c7\\u09a8    \\u0986\\u099c \\u0989\\u09a8\\u09bf\\u0987 \\u098f\\u09b0 \\u09ac\\u09bf\\u09b0\\u09c1\\u09a6\\u09cd\\u09a7\\u09c7 \\u0995\\u09a5\\u09be \\u09ac\\u09b2\\u099b\\u09c7\\u09a8 \\u09b6\\u09ab\\u09bf\\u0995 \\u09b0\\u09c7\\u09b9\\u09ae\\u09be\\u09a8\\u09c7\\u09b0 \\u09aa\\u0995\\u09cd\\u09b7\\u09c7 \\u09b9\\u09df\\u09c7 \\u0985\\u09a5\\u099a \\u098f\\u0987 \\u09ac\\u09cd\\u09af\\u09be\\u0995\\u09cd\\u09a4\\u09bf\\u0987 \\u0995\\u09bf\\u09a8\\u09cd\\u09a4\\u09c1 \\u0995\\u09b0\\u09cd\\u09ae\\u099a\\u09be\\u09b0\\u09c0 \\u09a6\\u09c7\\u09b0 \\u09ac\\u09c7\\u09a4\\u09a8 \\u0986\\u09a4\\u09cd\\u09a4\\u09b8\\u09be\\u09a4 \\u0995\\u09b0\\u09c7 \\u09aa\\u09be\\u09b2\\u09bf\\u09df\\u09c7 \\u099c\\u09be\\u09ac\\u09be\\u09b0 \\u09b8\\u09ae\\u09df \\u09ac\\u09bf\\u09ae\\u09be\\u09a8 \\u09ac\\u09a8\\u09cd\\u09a6\\u09b0 \\u09a5\\u09c7\\u0995\\u09c7 \\u0997\\u09cd\\u09b0\\u09c7\\u09ab\\u09a4\\u09be\\u09b0 \\u09b9\\u09df\\u09c7\\u099b\\u09bf\\u09b2\\u09c7\\u09a8 \\u0986\\u09ae\\u09bf \\u099c\\u09be\\u09a8\\u09bf\\u09a8\\u09be \\u0986\\u09ae\\u09be\\u09b0 \\u098f\\u0987 \\u0995\\u09a5\\u09be \\u0997\\u09c1\\u09b2\\u09cb \\u0987\\u09ae\\u09b0\\u09be\\u09a8 \\u09b8\\u09be\\u09b9\\u09c7\\u09ac\\u09c7\\u09b0 \\u09a8\\u099c\\u09b0\\u09c7 \\u0986\\u09b8\\u09ac\\u09c7 \\u0995\\u09bf\\u09a8\\u09be    \\u09af\\u09a6\\u09bf \\u0986\\u09b8\\u09c7 \\u09a4\\u09ac\\u09c7 \\u0989\\u09a4\\u09cd\\u09a4\\u09b0\\u099f\\u09be \\u09a6\\u09bf\\u09ac\\u09c7\\u09a8 \\u0986\\u09b8\\u09be \\u0995\\u09b0\\u09bf \",\n          \"\\u0986\\u09b8\\u09b2\\u09c7 \\u099c\\u09c7\\u09a4\\u09be\\u09b0 \\u09ae\\u09a4 \\u09ae\\u09a8\\u09ae\\u09be\\u09a8\\u09b8\\u09bf\\u0995\\u09be \\u09ac\\u09b2\\u09a4\\u09c7 \\u0995\\u09bf\\u099b\\u09c1 \\u09a8\\u09c7\\u0987 \",\n          \"\\u0986\\u09ae\\u09b0\\u09be \\u09b8\\u09ac\\u09be\\u0987 \\u09a6\\u09cb\\u09df\\u09be \\u0995\\u09b0\\u09bf \\u0986\\u09b2\\u09cd\\u09b2\\u09be\\u09b9 \\u09af\\u09c7\\u09a8 \\u0986\\u09aa\\u09a8\\u09be\\u09a6\\u09c7\\u09b0 \\u09b8\\u09ac\\u09be\\u0987\\u0995\\u09c7 \\u098f\\u09b0\\u0995\\u09ae\\u0987 \\u09b9\\u09be\\u09b8\\u09bf \\u0996\\u09c1\\u09b6\\u09bf \\u09b0\\u09be\\u0996\\u09c7 \\u0986\\u09ae\\u09bf\\u09a8\\u09cd\"\n        ],\n        \"semantic_type\": \"\",\n        \"description\": \"\"\n      }\n    }\n  ]\n}"
            }
          },
          "metadata": {},
          "execution_count": 8
        }
      ]
    },
    {
      "cell_type": "code",
      "source": [
        "import pandas as pd\n",
        "\n",
        "# Load Bengali stop words from a CSV file\n",
        "stop_words_df = pd.read_csv('stopwords_bangla.csv')  # Assuming the CSV has one column with stop words\n",
        "stop_words_df=stop_words_df.drop(['Unnamed: 0'], axis=1)\n",
        "# Convert the stop words to a list\n",
        "stop_words_list = stop_words_df.iloc[:, 0].tolist()  # Convert the column to a list\n",
        "\n",
        "# Check the stop words list\n",
        "print(\"Stop words list:\", stop_words_list[:10])  # Print first 10 stop words for verification\n",
        "\n",
        "\n",
        "# Function to remove stop words\n",
        "def remove_stop_words(text, stop_words):\n",
        "    if isinstance(text, str):  # Ensure the text is a string\n",
        "        # Tokenize text (simple split for Bengali)\n",
        "        words = text.split()\n",
        "        # Filter out stop words\n",
        "        filtered_words = [word for word in words if word not in stop_words]\n",
        "        # Join words back into a single string\n",
        "        return ' '.join(filtered_words)\n",
        "    else:\n",
        "        return text  # If text is not a string, return it as is\n",
        "\n",
        "# Assuming 'df' is the DataFrame and 'Cleaned' is the column with text data\n",
        "# Check a few entries in the original DataFrame\n",
        "print(\"Original texts:\", df['Cleaned'].head())\n",
        "\n",
        "# Apply the function to the DataFrame\n",
        "df['filtered_text'] = df['Cleaned'].apply(lambda x: remove_stop_words(x, stop_words_list))\n",
        "\n",
        "\n",
        "df.head()"
      ],
      "metadata": {
        "colab": {
          "base_uri": "https://localhost:8080/",
          "height": 397
        },
        "id": "2Y0aMtIu2KIX",
        "outputId": "0498a282-d131-415e-e770-8065f0b95b4c"
      },
      "execution_count": 9,
      "outputs": [
        {
          "output_type": "stream",
          "name": "stdout",
          "text": [
            "Stop words list: ['অই', 'অগত্যা', 'অত: পর', 'অতএব', 'অথচ', 'অথবা', 'অধিক', 'অধীনে', 'অধ্যায়', 'অনুগ্রহ']\n",
            "Original texts: 0    নির্বাচনের আগের রাতে সুষ্টু শান্তিপূর্ণ ভাবে ভ...\n",
            "1    জনগণ মনের আনন্দে নিজেদের ভোট কাস্ট করে দেশদ্রো...\n",
            "2                                     ভেজাল নির্বাচন  \n",
            "3    বিএনপি ও রাজাকার সমর্থকরা হেরে গেলে দেশের জন্য...\n",
            "4    সূক্ষ্ম কারচুপি বলে এতদিন একটা কথার কথা ছিল  এ...\n",
            "Name: Cleaned, dtype: object\n"
          ]
        },
        {
          "output_type": "execute_result",
          "data": {
            "text/plain": [
              "   SL  Emotion                                               Text  \\\n",
              "0   1  disgust  নির্বাচনের আগের রাতে সুষ্টু শান্তিপূর্ণ ভাবে ভ...   \n",
              "1   2  disgust  জনগণ মনের আনন্দে নিজেদের ভোট কাস্ট করে দেশদ্রো...   \n",
              "2   3    angry                                   ভেজাল নির্বাচন ।   \n",
              "3   4    happy  বিএনপি ও রাজাকার সমর্থকরা হেরে গেলে দেশের জন্য...   \n",
              "4   5    angry  সূক্ষ্ম কারচুপি বলে এতদিন একটা কথার কথা ছিল, এ...   \n",
              "\n",
              "   Emotion_label                                            Cleaned  \\\n",
              "0              1  নির্বাচনের আগের রাতে সুষ্টু শান্তিপূর্ণ ভাবে ভ...   \n",
              "1              1  জনগণ মনের আনন্দে নিজেদের ভোট কাস্ট করে দেশদ্রো...   \n",
              "2              0                                   ভেজাল নির্বাচন     \n",
              "3              3  বিএনপি ও রাজাকার সমর্থকরা হেরে গেলে দেশের জন্য...   \n",
              "4              0  সূক্ষ্ম কারচুপি বলে এতদিন একটা কথার কথা ছিল  এ...   \n",
              "\n",
              "                                       filtered_text  \n",
              "0  নির্বাচনের আগের রাতে সুষ্টু শান্তিপূর্ণ ভোট ব...  \n",
              "1  জনগণ মনের আনন্দে ভোট কাস্ট দেশদ্রোহী পেট্রল বো...  \n",
              "2                                     ভেজাল নির্বাচন  \n",
              "3  বিএনপি রাজাকার সমর্থকরা হেরে দেশের আমিও সন্তুষ...  \n",
              "4  সূক্ষ্ম কারচুপি এতদিন একটা কথার কথা বাস্তব রূপ...  "
            ],
            "text/html": [
              "\n",
              "  <div id=\"df-2e16a79c-81f8-4cea-9fa6-1ae3cc4566eb\" class=\"colab-df-container\">\n",
              "    <div>\n",
              "<style scoped>\n",
              "    .dataframe tbody tr th:only-of-type {\n",
              "        vertical-align: middle;\n",
              "    }\n",
              "\n",
              "    .dataframe tbody tr th {\n",
              "        vertical-align: top;\n",
              "    }\n",
              "\n",
              "    .dataframe thead th {\n",
              "        text-align: right;\n",
              "    }\n",
              "</style>\n",
              "<table border=\"1\" class=\"dataframe\">\n",
              "  <thead>\n",
              "    <tr style=\"text-align: right;\">\n",
              "      <th></th>\n",
              "      <th>SL</th>\n",
              "      <th>Emotion</th>\n",
              "      <th>Text</th>\n",
              "      <th>Emotion_label</th>\n",
              "      <th>Cleaned</th>\n",
              "      <th>filtered_text</th>\n",
              "    </tr>\n",
              "  </thead>\n",
              "  <tbody>\n",
              "    <tr>\n",
              "      <th>0</th>\n",
              "      <td>1</td>\n",
              "      <td>disgust</td>\n",
              "      <td>নির্বাচনের আগের রাতে সুষ্টু শান্তিপূর্ণ ভাবে ভ...</td>\n",
              "      <td>1</td>\n",
              "      <td>নির্বাচনের আগের রাতে সুষ্টু শান্তিপূর্ণ ভাবে ভ...</td>\n",
              "      <td>নির্বাচনের আগের রাতে সুষ্টু শান্তিপূর্ণ ভোট ব...</td>\n",
              "    </tr>\n",
              "    <tr>\n",
              "      <th>1</th>\n",
              "      <td>2</td>\n",
              "      <td>disgust</td>\n",
              "      <td>জনগণ মনের আনন্দে নিজেদের ভোট কাস্ট করে দেশদ্রো...</td>\n",
              "      <td>1</td>\n",
              "      <td>জনগণ মনের আনন্দে নিজেদের ভোট কাস্ট করে দেশদ্রো...</td>\n",
              "      <td>জনগণ মনের আনন্দে ভোট কাস্ট দেশদ্রোহী পেট্রল বো...</td>\n",
              "    </tr>\n",
              "    <tr>\n",
              "      <th>2</th>\n",
              "      <td>3</td>\n",
              "      <td>angry</td>\n",
              "      <td>ভেজাল নির্বাচন ।</td>\n",
              "      <td>0</td>\n",
              "      <td>ভেজাল নির্বাচন</td>\n",
              "      <td>ভেজাল নির্বাচন</td>\n",
              "    </tr>\n",
              "    <tr>\n",
              "      <th>3</th>\n",
              "      <td>4</td>\n",
              "      <td>happy</td>\n",
              "      <td>বিএনপি ও রাজাকার সমর্থকরা হেরে গেলে দেশের জন্য...</td>\n",
              "      <td>3</td>\n",
              "      <td>বিএনপি ও রাজাকার সমর্থকরা হেরে গেলে দেশের জন্য...</td>\n",
              "      <td>বিএনপি রাজাকার সমর্থকরা হেরে দেশের আমিও সন্তুষ...</td>\n",
              "    </tr>\n",
              "    <tr>\n",
              "      <th>4</th>\n",
              "      <td>5</td>\n",
              "      <td>angry</td>\n",
              "      <td>সূক্ষ্ম কারচুপি বলে এতদিন একটা কথার কথা ছিল, এ...</td>\n",
              "      <td>0</td>\n",
              "      <td>সূক্ষ্ম কারচুপি বলে এতদিন একটা কথার কথা ছিল  এ...</td>\n",
              "      <td>সূক্ষ্ম কারচুপি এতদিন একটা কথার কথা বাস্তব রূপ...</td>\n",
              "    </tr>\n",
              "  </tbody>\n",
              "</table>\n",
              "</div>\n",
              "    <div class=\"colab-df-buttons\">\n",
              "\n",
              "  <div class=\"colab-df-container\">\n",
              "    <button class=\"colab-df-convert\" onclick=\"convertToInteractive('df-2e16a79c-81f8-4cea-9fa6-1ae3cc4566eb')\"\n",
              "            title=\"Convert this dataframe to an interactive table.\"\n",
              "            style=\"display:none;\">\n",
              "\n",
              "  <svg xmlns=\"http://www.w3.org/2000/svg\" height=\"24px\" viewBox=\"0 -960 960 960\">\n",
              "    <path d=\"M120-120v-720h720v720H120Zm60-500h600v-160H180v160Zm220 220h160v-160H400v160Zm0 220h160v-160H400v160ZM180-400h160v-160H180v160Zm440 0h160v-160H620v160ZM180-180h160v-160H180v160Zm440 0h160v-160H620v160Z\"/>\n",
              "  </svg>\n",
              "    </button>\n",
              "\n",
              "  <style>\n",
              "    .colab-df-container {\n",
              "      display:flex;\n",
              "      gap: 12px;\n",
              "    }\n",
              "\n",
              "    .colab-df-convert {\n",
              "      background-color: #E8F0FE;\n",
              "      border: none;\n",
              "      border-radius: 50%;\n",
              "      cursor: pointer;\n",
              "      display: none;\n",
              "      fill: #1967D2;\n",
              "      height: 32px;\n",
              "      padding: 0 0 0 0;\n",
              "      width: 32px;\n",
              "    }\n",
              "\n",
              "    .colab-df-convert:hover {\n",
              "      background-color: #E2EBFA;\n",
              "      box-shadow: 0px 1px 2px rgba(60, 64, 67, 0.3), 0px 1px 3px 1px rgba(60, 64, 67, 0.15);\n",
              "      fill: #174EA6;\n",
              "    }\n",
              "\n",
              "    .colab-df-buttons div {\n",
              "      margin-bottom: 4px;\n",
              "    }\n",
              "\n",
              "    [theme=dark] .colab-df-convert {\n",
              "      background-color: #3B4455;\n",
              "      fill: #D2E3FC;\n",
              "    }\n",
              "\n",
              "    [theme=dark] .colab-df-convert:hover {\n",
              "      background-color: #434B5C;\n",
              "      box-shadow: 0px 1px 3px 1px rgba(0, 0, 0, 0.15);\n",
              "      filter: drop-shadow(0px 1px 2px rgba(0, 0, 0, 0.3));\n",
              "      fill: #FFFFFF;\n",
              "    }\n",
              "  </style>\n",
              "\n",
              "    <script>\n",
              "      const buttonEl =\n",
              "        document.querySelector('#df-2e16a79c-81f8-4cea-9fa6-1ae3cc4566eb button.colab-df-convert');\n",
              "      buttonEl.style.display =\n",
              "        google.colab.kernel.accessAllowed ? 'block' : 'none';\n",
              "\n",
              "      async function convertToInteractive(key) {\n",
              "        const element = document.querySelector('#df-2e16a79c-81f8-4cea-9fa6-1ae3cc4566eb');\n",
              "        const dataTable =\n",
              "          await google.colab.kernel.invokeFunction('convertToInteractive',\n",
              "                                                    [key], {});\n",
              "        if (!dataTable) return;\n",
              "\n",
              "        const docLinkHtml = 'Like what you see? Visit the ' +\n",
              "          '<a target=\"_blank\" href=https://colab.research.google.com/notebooks/data_table.ipynb>data table notebook</a>'\n",
              "          + ' to learn more about interactive tables.';\n",
              "        element.innerHTML = '';\n",
              "        dataTable['output_type'] = 'display_data';\n",
              "        await google.colab.output.renderOutput(dataTable, element);\n",
              "        const docLink = document.createElement('div');\n",
              "        docLink.innerHTML = docLinkHtml;\n",
              "        element.appendChild(docLink);\n",
              "      }\n",
              "    </script>\n",
              "  </div>\n",
              "\n",
              "\n",
              "<div id=\"df-291b321e-8026-4a33-97d0-818142fc1447\">\n",
              "  <button class=\"colab-df-quickchart\" onclick=\"quickchart('df-291b321e-8026-4a33-97d0-818142fc1447')\"\n",
              "            title=\"Suggest charts\"\n",
              "            style=\"display:none;\">\n",
              "\n",
              "<svg xmlns=\"http://www.w3.org/2000/svg\" height=\"24px\"viewBox=\"0 0 24 24\"\n",
              "     width=\"24px\">\n",
              "    <g>\n",
              "        <path d=\"M19 3H5c-1.1 0-2 .9-2 2v14c0 1.1.9 2 2 2h14c1.1 0 2-.9 2-2V5c0-1.1-.9-2-2-2zM9 17H7v-7h2v7zm4 0h-2V7h2v10zm4 0h-2v-4h2v4z\"/>\n",
              "    </g>\n",
              "</svg>\n",
              "  </button>\n",
              "\n",
              "<style>\n",
              "  .colab-df-quickchart {\n",
              "      --bg-color: #E8F0FE;\n",
              "      --fill-color: #1967D2;\n",
              "      --hover-bg-color: #E2EBFA;\n",
              "      --hover-fill-color: #174EA6;\n",
              "      --disabled-fill-color: #AAA;\n",
              "      --disabled-bg-color: #DDD;\n",
              "  }\n",
              "\n",
              "  [theme=dark] .colab-df-quickchart {\n",
              "      --bg-color: #3B4455;\n",
              "      --fill-color: #D2E3FC;\n",
              "      --hover-bg-color: #434B5C;\n",
              "      --hover-fill-color: #FFFFFF;\n",
              "      --disabled-bg-color: #3B4455;\n",
              "      --disabled-fill-color: #666;\n",
              "  }\n",
              "\n",
              "  .colab-df-quickchart {\n",
              "    background-color: var(--bg-color);\n",
              "    border: none;\n",
              "    border-radius: 50%;\n",
              "    cursor: pointer;\n",
              "    display: none;\n",
              "    fill: var(--fill-color);\n",
              "    height: 32px;\n",
              "    padding: 0;\n",
              "    width: 32px;\n",
              "  }\n",
              "\n",
              "  .colab-df-quickchart:hover {\n",
              "    background-color: var(--hover-bg-color);\n",
              "    box-shadow: 0 1px 2px rgba(60, 64, 67, 0.3), 0 1px 3px 1px rgba(60, 64, 67, 0.15);\n",
              "    fill: var(--button-hover-fill-color);\n",
              "  }\n",
              "\n",
              "  .colab-df-quickchart-complete:disabled,\n",
              "  .colab-df-quickchart-complete:disabled:hover {\n",
              "    background-color: var(--disabled-bg-color);\n",
              "    fill: var(--disabled-fill-color);\n",
              "    box-shadow: none;\n",
              "  }\n",
              "\n",
              "  .colab-df-spinner {\n",
              "    border: 2px solid var(--fill-color);\n",
              "    border-color: transparent;\n",
              "    border-bottom-color: var(--fill-color);\n",
              "    animation:\n",
              "      spin 1s steps(1) infinite;\n",
              "  }\n",
              "\n",
              "  @keyframes spin {\n",
              "    0% {\n",
              "      border-color: transparent;\n",
              "      border-bottom-color: var(--fill-color);\n",
              "      border-left-color: var(--fill-color);\n",
              "    }\n",
              "    20% {\n",
              "      border-color: transparent;\n",
              "      border-left-color: var(--fill-color);\n",
              "      border-top-color: var(--fill-color);\n",
              "    }\n",
              "    30% {\n",
              "      border-color: transparent;\n",
              "      border-left-color: var(--fill-color);\n",
              "      border-top-color: var(--fill-color);\n",
              "      border-right-color: var(--fill-color);\n",
              "    }\n",
              "    40% {\n",
              "      border-color: transparent;\n",
              "      border-right-color: var(--fill-color);\n",
              "      border-top-color: var(--fill-color);\n",
              "    }\n",
              "    60% {\n",
              "      border-color: transparent;\n",
              "      border-right-color: var(--fill-color);\n",
              "    }\n",
              "    80% {\n",
              "      border-color: transparent;\n",
              "      border-right-color: var(--fill-color);\n",
              "      border-bottom-color: var(--fill-color);\n",
              "    }\n",
              "    90% {\n",
              "      border-color: transparent;\n",
              "      border-bottom-color: var(--fill-color);\n",
              "    }\n",
              "  }\n",
              "</style>\n",
              "\n",
              "  <script>\n",
              "    async function quickchart(key) {\n",
              "      const quickchartButtonEl =\n",
              "        document.querySelector('#' + key + ' button');\n",
              "      quickchartButtonEl.disabled = true;  // To prevent multiple clicks.\n",
              "      quickchartButtonEl.classList.add('colab-df-spinner');\n",
              "      try {\n",
              "        const charts = await google.colab.kernel.invokeFunction(\n",
              "            'suggestCharts', [key], {});\n",
              "      } catch (error) {\n",
              "        console.error('Error during call to suggestCharts:', error);\n",
              "      }\n",
              "      quickchartButtonEl.classList.remove('colab-df-spinner');\n",
              "      quickchartButtonEl.classList.add('colab-df-quickchart-complete');\n",
              "    }\n",
              "    (() => {\n",
              "      let quickchartButtonEl =\n",
              "        document.querySelector('#df-291b321e-8026-4a33-97d0-818142fc1447 button');\n",
              "      quickchartButtonEl.style.display =\n",
              "        google.colab.kernel.accessAllowed ? 'block' : 'none';\n",
              "    })();\n",
              "  </script>\n",
              "</div>\n",
              "\n",
              "    </div>\n",
              "  </div>\n"
            ],
            "application/vnd.google.colaboratory.intrinsic+json": {
              "type": "dataframe",
              "variable_name": "df",
              "summary": "{\n  \"name\": \"df\",\n  \"rows\": 36000,\n  \"fields\": [\n    {\n      \"column\": \"SL\",\n      \"properties\": {\n        \"dtype\": \"number\",\n        \"std\": 10392,\n        \"min\": 1,\n        \"max\": 36000,\n        \"num_unique_values\": 36000,\n        \"samples\": [\n          16462,\n          23580,\n          23641\n        ],\n        \"semantic_type\": \"\",\n        \"description\": \"\"\n      }\n    },\n    {\n      \"column\": \"Emotion\",\n      \"properties\": {\n        \"dtype\": \"category\",\n        \"num_unique_values\": 6,\n        \"samples\": [\n          \"disgust\",\n          \"angry\",\n          \"sad\"\n        ],\n        \"semantic_type\": \"\",\n        \"description\": \"\"\n      }\n    },\n    {\n      \"column\": \"Text\",\n      \"properties\": {\n        \"dtype\": \"category\",\n        \"num_unique_values\": 11270,\n        \"samples\": [\n          \"\\u098f\\u099f\\u09be \\u0986\\u09ae\\u09c7\\u09b0\\u09bf\\u0995\\u09be\\u09b0 \\u098f\\u0995\\u099f\\u09be \\u09ac\\u09dc\\u09a7\\u09b0\\u09a8\\u09c7\\u09b0 \\u099a\\u09be\\u09b2! \\u099c\\u09be\\u09a4\\u09c0\\u09df \\u09aa\\u09b0\\u09bf\\u099a\\u09df \\u09aa\\u098f\\u09c7\\u09b0 \\u0995\\u09bf \\u0995\\u09c7\\u09be\\u09a8 \\u09ad\\u09c7\\u09b2\\u09c1 \\u09b8\\u09b0\\u0995\\u09be\\u09b0 \\u09a6\\u09bf\\u09a4\\u09c7 \\u099a\\u09be\\u09df \\u09a8\\u09be ?\\u09a6\\u09c7\\u09b6\\u09c7 \\u09b8\\u0995\\u09b2 \\u0995\\u09be\\u099c \\u09a4\\u09c7\\u09be \\u09ad\\u09c7\\u09be\\u099f\\u09be\\u09b0 \\u0986\\u0987\\u09a1\\u09bf \\u09a6\\u09bf\\u09df\\u09be \\u099a\\u09b2\\u09c7. \\u09b9\\u09be\\u09df\\u09b0\\u09c7 \\u09b8\\u09c7\\u09be\\u09a8\\u09be\\u09b0 \\u09ac\\u09be\\u0982\\u09b2\\u09be !!\",\n          \"\\u09ad\\u09be\\u09b0\\u09a4 \\u0985\\u09a4\\u09cd\\u09af\\u09a8\\u09cd\\u09a4 \\u099a\\u09be\\u09b2\\u09be\\u0995\\u09bf\\u09b0 \\u09b8\\u09be\\u09a5\\u09c7 \\u0986\\u09ae\\u09be\\u09a6\\u09c7\\u09b0 \\u09b8\\u09be\\u09a5\\u09c7 \\u09b8\\u09c1'\\u09b8\\u09ae\\u09aa\\u09b0\\u09cd\\u0995 \\u09a6\\u09c7\\u0996\\u09be\\u09df, \\u09ae\\u09c1\\u09b2\\u09a4 \\u09a4\\u09be\\u09b0\\u09be \\u09a8\\u09bf\\u099c\\u09a6\\u09c7\\u09b0 \\u09b8\\u09cd\\u09ac\\u09be\\u09b0\\u09cd\\u09a5 \\u099b\\u09c7\\u09dc\\u09c7 \\u09a6\\u09bf\\u09df\\u09c7 \\u0986\\u09ae\\u09be\\u09a6\\u09c7\\u09b0 \\u0985\\u09a7\\u09bf\\u0995\\u09be\\u09b0 \\u0986\\u09a6\\u09be\\u09df\\u09c7 \\u09b8\\u09c1\\u09af\\u09cb\\u0997 \\u0995\\u09b0\\u09c7 \\u09a6\\u09bf\\u09ac\\u09c7 \\u098f\\u09ae\\u09a8 \\u099a\\u09bf\\u09a8\\u09cd\\u09a4\\u09be \\u09a8\\u09be \\u0995\\u09b0\\u09be\\u0987 \\u0989\\u0993\\u09ae\\u0964\",\n          \"\\u09ac\\u09c1\\u099d\\u09a4\\u09c7 \\u09aa\\u09be\\u09b0\\u09be\\u09b0 \\u099c\\u09a8\\u09cd\\u09af \\u0986\\u09aa\\u09a8\\u09be\\u0995\\u09c7 \\u0985\\u09ad\\u09bf\\u09a8\\u09a8\\u09cd\\u09a6\\u09a8 \\u0964\"\n        ],\n        \"semantic_type\": \"\",\n        \"description\": \"\"\n      }\n    },\n    {\n      \"column\": \"Emotion_label\",\n      \"properties\": {\n        \"dtype\": \"number\",\n        \"std\": 1,\n        \"min\": 0,\n        \"max\": 5,\n        \"num_unique_values\": 6,\n        \"samples\": [\n          1,\n          0,\n          4\n        ],\n        \"semantic_type\": \"\",\n        \"description\": \"\"\n      }\n    },\n    {\n      \"column\": \"Cleaned\",\n      \"properties\": {\n        \"dtype\": \"category\",\n        \"num_unique_values\": 11260,\n        \"samples\": [\n          \"\\u09ad\\u09be\\u0987\\u0986\\u09ae\\u09be\\u09b0 \\u099c\\u09be\\u09a8\\u09be\\u09ae\\u09a4\\u09c7 \\u09ac\\u09be\\u0982\\u09b2\\u09be\\u09a6\\u09c7\\u09b6\\u09c7\\u09b0 \\u0986\\u0987\\u09a8\\u09be\\u09a8\\u09c1\\u09af\\u09be\\u09df\\u09c0 \\u09aa\\u09cd\\u09b0\\u09c7\\u09b8\\u09bf\\u09a1\\u09c7\\u09a8\\u09cd\\u099f \\u0986\\u09b0 \\u09aa\\u09cd\\u09b0\\u09a7\\u09be\\u09a8 \\u09ac\\u09bf\\u099a\\u09be\\u09b0\\u09aa\\u09a4\\u09bf \\u099b\\u09be\\u09dc\\u09be \\u09ac\\u09be\\u0995\\u09bf \\u09b8\\u09ac\\u09be\\u09b0 \\u09ac\\u09bf\\u09b0\\u09c1\\u09a6\\u09cd\\u09a7\\u09c7 \\u09af\\u09c7 \\u0995\\u09c7\\u0989 \\u09ae\\u09be\\u09ae\\u09b2\\u09be \\u0995\\u09b0\\u09a4\\u09c7 \\u09aa\\u09be\\u09b0\\u09c7\\u09a8    \\u0986\\u0987\\u09a8 \\u09b0\\u0995\\u09cd\\u09b7\\u09be \\u0995\\u09be\\u09b0\\u09bf \\u09ac\\u09be\\u09b9\\u09bf\\u09a8\\u09c0 \\u0986\\u0987\\u09a8\\u09c7\\u09b0 \\u0986\\u0993\\u09a4\\u09be\\u09df \\u0986\\u09a8\\u09a4\\u09c7 \\u09aa\\u09be\\u09b0\\u09c7\\u09a8 \\u098f\\u0996\\u09be\\u09a8\\u09c7 \\u0986\\u0993\\u09df\\u09be\\u09ae\\u09c0\\u09b2\\u09c0\\u0997  \\u09ac\\u09bf\\u098f\\u09a8\\u09aa\\u09bf \\u0995\\u09c7\\u0989 \\u0986\\u0987\\u09a8\\u09c7\\u09b0 \\u0989\\u09b0\\u09cd\\u09a7\\u09c7 \\u09a8\\u09df \\u0995\\u09bf\\u09a8\\u09cd\\u09a4\\u09c1 \\u09a6\\u09c1\\u0983\\u0996\\u09c7\\u09b0 \\u0995\\u09a5\\u09be \\u09b9\\u09b2\\u09cb \\u0986\\u09ae\\u09be\\u09a6\\u09c7\\u09b0 \\u09a6\\u09c7\\u09b6\\u09c7 \\u0986\\u0987\\u09a8\\u09c7\\u09b0 \\u09ac\\u09cd\\u09af\\u09be\\u09ac\\u09b9\\u09be\\u09b0 \\u09a5\\u09c7\\u0995\\u09c7 \\u0985\\u09aa\\u09ac\\u09cd\\u09af\\u09be\\u09ac\\u09b9\\u09be\\u09b0\\u099f\\u09be\\u0987 \\u09ac\\u09c7\\u09b6\\u09bf \\u09b9\\u09df \\u09af\\u09c7\\u09ae\\u09a8 \\u0995\\u09bf\\u099b\\u09c1\\u09a6\\u09bf\\u09a8 \\u0986\\u0997\\u09c7\\u0993 \\u0997\\u09cb\\u09b2\\u09be\\u09ae\\u0986\\u099c\\u09ae \\u0995\\u09c7 \\u0995\\u09c7\\u09a8 \\u0997\\u09cd\\u09b0\\u09c7\\u09ab\\u09a4\\u09be\\u09b0 \\u0995\\u09b0\\u09be \\u09b9\\u099a\\u09cd\\u099b\\u09c7\\u09a8\\u09be \\u09a4\\u09be\\u09b0 \\u099c\\u09a8\\u09cd\\u09af \\u098f\\u0987 \\u0987\\u09ae\\u09b0\\u09be\\u09a8 \\u09b8\\u09b0\\u0995\\u09be\\u09b0 \\u09b8\\u09be\\u09b9\\u09c7\\u09ac\\u0987 \\u0995\\u09bf\\u09a8\\u09cd\\u09a4\\u09c1 \\u09b8\\u09b0\\u0995\\u09be\\u09b0 \\u0995\\u09c7 \\u09ac\\u09bf\\u09ad\\u09bf\\u09a8\\u09cd\\u09a8 \\u09b0\\u0995\\u09ae \\u0986\\u09b2\\u09cd\\u099f\\u09bf\\u09ae\\u09c7\\u099f\\u09be\\u09ae \\u09a6\\u09bf\\u09df\\u09c7\\u099b\\u09bf\\u09b2\\u09c7\\u09a8    \\u0986\\u099c \\u0989\\u09a8\\u09bf\\u0987 \\u098f\\u09b0 \\u09ac\\u09bf\\u09b0\\u09c1\\u09a6\\u09cd\\u09a7\\u09c7 \\u0995\\u09a5\\u09be \\u09ac\\u09b2\\u099b\\u09c7\\u09a8 \\u09b6\\u09ab\\u09bf\\u0995 \\u09b0\\u09c7\\u09b9\\u09ae\\u09be\\u09a8\\u09c7\\u09b0 \\u09aa\\u0995\\u09cd\\u09b7\\u09c7 \\u09b9\\u09df\\u09c7 \\u0985\\u09a5\\u099a \\u098f\\u0987 \\u09ac\\u09cd\\u09af\\u09be\\u0995\\u09cd\\u09a4\\u09bf\\u0987 \\u0995\\u09bf\\u09a8\\u09cd\\u09a4\\u09c1 \\u0995\\u09b0\\u09cd\\u09ae\\u099a\\u09be\\u09b0\\u09c0 \\u09a6\\u09c7\\u09b0 \\u09ac\\u09c7\\u09a4\\u09a8 \\u0986\\u09a4\\u09cd\\u09a4\\u09b8\\u09be\\u09a4 \\u0995\\u09b0\\u09c7 \\u09aa\\u09be\\u09b2\\u09bf\\u09df\\u09c7 \\u099c\\u09be\\u09ac\\u09be\\u09b0 \\u09b8\\u09ae\\u09df \\u09ac\\u09bf\\u09ae\\u09be\\u09a8 \\u09ac\\u09a8\\u09cd\\u09a6\\u09b0 \\u09a5\\u09c7\\u0995\\u09c7 \\u0997\\u09cd\\u09b0\\u09c7\\u09ab\\u09a4\\u09be\\u09b0 \\u09b9\\u09df\\u09c7\\u099b\\u09bf\\u09b2\\u09c7\\u09a8 \\u0986\\u09ae\\u09bf \\u099c\\u09be\\u09a8\\u09bf\\u09a8\\u09be \\u0986\\u09ae\\u09be\\u09b0 \\u098f\\u0987 \\u0995\\u09a5\\u09be \\u0997\\u09c1\\u09b2\\u09cb \\u0987\\u09ae\\u09b0\\u09be\\u09a8 \\u09b8\\u09be\\u09b9\\u09c7\\u09ac\\u09c7\\u09b0 \\u09a8\\u099c\\u09b0\\u09c7 \\u0986\\u09b8\\u09ac\\u09c7 \\u0995\\u09bf\\u09a8\\u09be    \\u09af\\u09a6\\u09bf \\u0986\\u09b8\\u09c7 \\u09a4\\u09ac\\u09c7 \\u0989\\u09a4\\u09cd\\u09a4\\u09b0\\u099f\\u09be \\u09a6\\u09bf\\u09ac\\u09c7\\u09a8 \\u0986\\u09b8\\u09be \\u0995\\u09b0\\u09bf \",\n          \"\\u0986\\u09b8\\u09b2\\u09c7 \\u099c\\u09c7\\u09a4\\u09be\\u09b0 \\u09ae\\u09a4 \\u09ae\\u09a8\\u09ae\\u09be\\u09a8\\u09b8\\u09bf\\u0995\\u09be \\u09ac\\u09b2\\u09a4\\u09c7 \\u0995\\u09bf\\u099b\\u09c1 \\u09a8\\u09c7\\u0987 \",\n          \"\\u0986\\u09ae\\u09b0\\u09be \\u09b8\\u09ac\\u09be\\u0987 \\u09a6\\u09cb\\u09df\\u09be \\u0995\\u09b0\\u09bf \\u0986\\u09b2\\u09cd\\u09b2\\u09be\\u09b9 \\u09af\\u09c7\\u09a8 \\u0986\\u09aa\\u09a8\\u09be\\u09a6\\u09c7\\u09b0 \\u09b8\\u09ac\\u09be\\u0987\\u0995\\u09c7 \\u098f\\u09b0\\u0995\\u09ae\\u0987 \\u09b9\\u09be\\u09b8\\u09bf \\u0996\\u09c1\\u09b6\\u09bf \\u09b0\\u09be\\u0996\\u09c7 \\u0986\\u09ae\\u09bf\\u09a8\\u09cd\"\n        ],\n        \"semantic_type\": \"\",\n        \"description\": \"\"\n      }\n    },\n    {\n      \"column\": \"filtered_text\",\n      \"properties\": {\n        \"dtype\": \"category\",\n        \"num_unique_values\": 11034,\n        \"samples\": [\n          \"\\u09af\\u09be\\u0987\\u09df\\u09be \\u09ac\\u09be\\u09b2 \\u09ab\\u09be\\u09b2\\u09be\\u0987\\u09b8\\u09bf \\u09ac\\u09be\\u09b2 \\u09b9\\u09c1\\u09a6\\u09be\\u0987\",\n          \"\\u09aa\\u09be\\u0995\\u09bf\\u09b8\\u09cd\\u09a4\\u09be\\u09a8\\u09c7\\u09b0 \\u0995\\u09cd\\u09b7\\u09ae\\u09a4\\u09be\\u099a\\u09cd\\u09af\\u09c1\\u09a4 \\u09aa\\u09cd\\u09b0\\u09a7\\u09be\\u09a8\\u09ae\\u09a8\\u09cd\\u09a4\\u09cd\\u09b0\\u09c0 \\u09a8\\u0993\\u09df\\u09be\\u099c \\u09b6\\u09b0\\u09bf\\u09ab \\u09b6\\u09c7\\u0996 \\u09ae\\u09c1\\u099c\\u09bf\\u09ac\\u09c1\\u09b0 \\u09b0\\u09b9\\u09ae\\u09be\\u09a8 \\u09ac\\u09bf\\u09a6\\u09cd\\u09b0\\u09cb\\u09b9\\u09c0 \\u09a8\\u09be \\u09aa\\u09a5\\u09c7 \\u09ac\\u09be\\u09a7\\u09cd\\u09af \\u09e7\\u09ef\\u09ed\\u09e6 \\u09b8\\u09be\\u09b2\\u09c7\\u09b0 \\u09a8\\u09bf\\u09b0\\u09cd\\u09ac\\u09be\\u099a\\u09a8\\u09c7 \\u09ac\\u09bf\\u099c\\u09df\\u09c0 \\u09b9\\u0993\\u09df\\u09be\\u09b0 \\u09aa\\u09b0\\u0993 \\u09ac\\u0999\\u09cd\\u0997\\u09ac\\u09a8\\u09cd\\u09a7\\u09c1 \\u09b6\\u09c7\\u0996 \\u09ae\\u09c1\\u099c\\u09bf\\u09ac\\u09c1\\u09b0 \\u09b0\\u09b9\\u09ae\\u09be\\u09a8\\u09c7\\u09b0 \\u09b9\\u09be\\u09a4\\u09c7 \\u0995\\u09cd\\u09b7\\u09ae\\u09a4\\u09be \\u09b9\\u09b8\\u09cd\\u09a4\\u09be\\u09a8\\u09cd\\u09a4\\u09b0 \\u09a8\\u09be \\u09aa\\u09be\\u0995\\u09bf\\u09b8\\u09cd\\u09a4\\u09be\\u09a8\\u09bf \\u09a8\\u09c0\\u09a4\\u09bf\\u09b0 \\u09b8\\u09ae\\u09be\\u09b2\\u09cb\\u099a\\u09a8\\u09be \\u0995\\u09a5\\u09be \\u09a8\\u0993\\u09df\\u09be\\u099c \\u09ac\\u09be\\u0982\\u09b2\\u09be\\u09a6\\u09c7\\u09b6\\u09c7\\u09b0 \\u09aa\\u09be\\u0993\\u09a8\\u09be \\u09ab\\u09bf\\u09b0\\u09bf\\u09df\\u09c7\",\n          \"\\u09aa\\u09be\\u099e\\u09cd\\u099c\\u09be\\u09ac\\u09c0 \\u09ac\\u09be\\u09ac\\u09be\\u09b0\\u09c7\\u0993\\u0993 \\u09b0\\u09bf\\u09ae\\u09be\\u09a8\\u09cd\\u09a1\\u09c7 \\u09a8\\u09bf\\u09df\\u09be \\u09b6\\u09ab\\u09bf\\u0995 \\u09b0\\u09c7\\u09b9\\u09ae\\u09be\\u09a8\\u09c7\\u09b0 \\u09a1\\u09bf\\u09ae\\u09c7\\u09b0 \\u09ad\\u09be\\u0997 \\u09a6\\u09c7\\u09df\\u09be\"\n        ],\n        \"semantic_type\": \"\",\n        \"description\": \"\"\n      }\n    }\n  ]\n}"
            }
          },
          "metadata": {},
          "execution_count": 9
        }
      ]
    },
    {
      "cell_type": "code",
      "source": [
        "X = df['filtered_text']"
      ],
      "metadata": {
        "id": "zV9rQT88Ic-O"
      },
      "execution_count": 10,
      "outputs": []
    },
    {
      "cell_type": "code",
      "source": [
        "y = df['Emotion_label']"
      ],
      "metadata": {
        "id": "y-nU4fz4Fm7F"
      },
      "execution_count": 11,
      "outputs": []
    },
    {
      "cell_type": "code",
      "source": [
        "# Train-test split\n",
        "x_train, x_test, y_train, y_test = train_test_split(X, y, test_size=0.2, random_state=42)"
      ],
      "metadata": {
        "id": "XgT5iMRjB_lh"
      },
      "execution_count": 12,
      "outputs": []
    },
    {
      "cell_type": "code",
      "source": [
        "from gensim.models import Word2Vec\n",
        "\n",
        "# Train Word2Vec model on the training data\n",
        "word2vec_model = Word2Vec(sentences=x_train, vector_size=100, window=5, min_count=1, workers=4)\n",
        "\n",
        "# Function to convert text to Word2Vec embeddings\n",
        "def text_to_embedding(text, model, max_length):\n",
        "    embedding = []\n",
        "    for word in text:\n",
        "        if word in model.wv:\n",
        "            embedding.append(model.wv[word])\n",
        "        else:\n",
        "            embedding.append([0] * model.vector_size)\n",
        "    if len(embedding) < max_length:\n",
        "        embedding.extend([[0] * model.vector_size] * (max_length - len(embedding)))\n",
        "    return embedding[:max_length]\n",
        "\n",
        "# Set the maximum sequence length\n",
        "max_sequence_length = 100\n",
        "\n",
        "# Convert texts to embeddings\n",
        "x_train_emb = np.array([text_to_embedding(text, word2vec_model, max_sequence_length) for text in x_train])\n",
        "x_test_emb = np.array([text_to_embedding(text, word2vec_model, max_sequence_length) for text in x_test])\n"
      ],
      "metadata": {
        "colab": {
          "base_uri": "https://localhost:8080/"
        },
        "id": "bHsJlN9kIhXN",
        "outputId": "0dd58f30-39c3-4108-cb8b-1b91248e57c5"
      },
      "execution_count": 13,
      "outputs": [
        {
          "output_type": "stream",
          "name": "stderr",
          "text": [
            "WARNING:gensim.models.word2vec:Each 'sentences' item should be a list of words (usually unicode strings). First item here is instead plain <class 'str'>.\n"
          ]
        }
      ]
    },
    {
      "cell_type": "markdown",
      "source": [
        "##simple RNN"
      ],
      "metadata": {
        "id": "N-Ia839Kueyf"
      }
    },
    {
      "cell_type": "code",
      "source": [
        "import numpy as np\n",
        "from tensorflow.keras.models import Sequential\n",
        "from tensorflow.keras.layers import SimpleRNN, Dense, Embedding\n",
        "from tensorflow.keras.layers import Masking\n",
        "\n",
        "# Define the RNN model\n",
        "model = Sequential()\n",
        "model.add(Masking(mask_value=0., input_shape=(max_sequence_length, 100)))\n",
        "model.add(SimpleRNN(units=128))\n",
        "model.add(Dense(units= 6, activation='softmax'))\n",
        "\n",
        "model.compile(loss='sparse_categorical_crossentropy', optimizer='adam', metrics=['accuracy'])\n",
        "model.summary()\n",
        "\n",
        "# Train the model\n",
        "model.fit(x_train_emb, y_train, epochs=20, batch_size=32, validation_split=0.2)\n"
      ],
      "metadata": {
        "colab": {
          "base_uri": "https://localhost:8080/",
          "height": 584
        },
        "id": "uvAvtMpCI32l",
        "outputId": "8a38906e-d41e-4265-8061-c334e056f443"
      },
      "execution_count": 13,
      "outputs": [
        {
          "output_type": "stream",
          "name": "stderr",
          "text": [
            "/usr/local/lib/python3.10/dist-packages/keras/src/layers/core/masking.py:47: UserWarning: Do not pass an `input_shape`/`input_dim` argument to a layer. When using Sequential models, prefer using an `Input(shape)` object as the first layer in the model instead.\n",
            "  super().__init__(**kwargs)\n"
          ]
        },
        {
          "output_type": "display_data",
          "data": {
            "text/plain": [
              "\u001b[1mModel: \"sequential\"\u001b[0m\n"
            ],
            "text/html": [
              "<pre style=\"white-space:pre;overflow-x:auto;line-height:normal;font-family:Menlo,'DejaVu Sans Mono',consolas,'Courier New',monospace\"><span style=\"font-weight: bold\">Model: \"sequential\"</span>\n",
              "</pre>\n"
            ]
          },
          "metadata": {}
        },
        {
          "output_type": "display_data",
          "data": {
            "text/plain": [
              "┏━━━━━━━━━━━━━━━━━━━━━━━━━━━━━━━━━━━━━━┳━━━━━━━━━━━━━━━━━━━━━━━━━━━━━┳━━━━━━━━━━━━━━━━━┓\n",
              "┃\u001b[1m \u001b[0m\u001b[1mLayer (type)                        \u001b[0m\u001b[1m \u001b[0m┃\u001b[1m \u001b[0m\u001b[1mOutput Shape               \u001b[0m\u001b[1m \u001b[0m┃\u001b[1m \u001b[0m\u001b[1m        Param #\u001b[0m\u001b[1m \u001b[0m┃\n",
              "┡━━━━━━━━━━━━━━━━━━━━━━━━━━━━━━━━━━━━━━╇━━━━━━━━━━━━━━━━━━━━━━━━━━━━━╇━━━━━━━━━━━━━━━━━┩\n",
              "│ masking (\u001b[38;5;33mMasking\u001b[0m)                    │ (\u001b[38;5;45mNone\u001b[0m, \u001b[38;5;34m100\u001b[0m, \u001b[38;5;34m100\u001b[0m)            │               \u001b[38;5;34m0\u001b[0m │\n",
              "├──────────────────────────────────────┼─────────────────────────────┼─────────────────┤\n",
              "│ simple_rnn (\u001b[38;5;33mSimpleRNN\u001b[0m)               │ (\u001b[38;5;45mNone\u001b[0m, \u001b[38;5;34m128\u001b[0m)                 │          \u001b[38;5;34m29,312\u001b[0m │\n",
              "├──────────────────────────────────────┼─────────────────────────────┼─────────────────┤\n",
              "│ dense (\u001b[38;5;33mDense\u001b[0m)                        │ (\u001b[38;5;45mNone\u001b[0m, \u001b[38;5;34m6\u001b[0m)                   │             \u001b[38;5;34m774\u001b[0m │\n",
              "└──────────────────────────────────────┴─────────────────────────────┴─────────────────┘\n"
            ],
            "text/html": [
              "<pre style=\"white-space:pre;overflow-x:auto;line-height:normal;font-family:Menlo,'DejaVu Sans Mono',consolas,'Courier New',monospace\">┏━━━━━━━━━━━━━━━━━━━━━━━━━━━━━━━━━━━━━━┳━━━━━━━━━━━━━━━━━━━━━━━━━━━━━┳━━━━━━━━━━━━━━━━━┓\n",
              "┃<span style=\"font-weight: bold\"> Layer (type)                         </span>┃<span style=\"font-weight: bold\"> Output Shape                </span>┃<span style=\"font-weight: bold\">         Param # </span>┃\n",
              "┡━━━━━━━━━━━━━━━━━━━━━━━━━━━━━━━━━━━━━━╇━━━━━━━━━━━━━━━━━━━━━━━━━━━━━╇━━━━━━━━━━━━━━━━━┩\n",
              "│ masking (<span style=\"color: #0087ff; text-decoration-color: #0087ff\">Masking</span>)                    │ (<span style=\"color: #00d7ff; text-decoration-color: #00d7ff\">None</span>, <span style=\"color: #00af00; text-decoration-color: #00af00\">100</span>, <span style=\"color: #00af00; text-decoration-color: #00af00\">100</span>)            │               <span style=\"color: #00af00; text-decoration-color: #00af00\">0</span> │\n",
              "├──────────────────────────────────────┼─────────────────────────────┼─────────────────┤\n",
              "│ simple_rnn (<span style=\"color: #0087ff; text-decoration-color: #0087ff\">SimpleRNN</span>)               │ (<span style=\"color: #00d7ff; text-decoration-color: #00d7ff\">None</span>, <span style=\"color: #00af00; text-decoration-color: #00af00\">128</span>)                 │          <span style=\"color: #00af00; text-decoration-color: #00af00\">29,312</span> │\n",
              "├──────────────────────────────────────┼─────────────────────────────┼─────────────────┤\n",
              "│ dense (<span style=\"color: #0087ff; text-decoration-color: #0087ff\">Dense</span>)                        │ (<span style=\"color: #00d7ff; text-decoration-color: #00d7ff\">None</span>, <span style=\"color: #00af00; text-decoration-color: #00af00\">6</span>)                   │             <span style=\"color: #00af00; text-decoration-color: #00af00\">774</span> │\n",
              "└──────────────────────────────────────┴─────────────────────────────┴─────────────────┘\n",
              "</pre>\n"
            ]
          },
          "metadata": {}
        },
        {
          "output_type": "display_data",
          "data": {
            "text/plain": [
              "\u001b[1m Total params: \u001b[0m\u001b[38;5;34m30,086\u001b[0m (117.52 KB)\n"
            ],
            "text/html": [
              "<pre style=\"white-space:pre;overflow-x:auto;line-height:normal;font-family:Menlo,'DejaVu Sans Mono',consolas,'Courier New',monospace\"><span style=\"font-weight: bold\"> Total params: </span><span style=\"color: #00af00; text-decoration-color: #00af00\">30,086</span> (117.52 KB)\n",
              "</pre>\n"
            ]
          },
          "metadata": {}
        },
        {
          "output_type": "display_data",
          "data": {
            "text/plain": [
              "\u001b[1m Trainable params: \u001b[0m\u001b[38;5;34m30,086\u001b[0m (117.52 KB)\n"
            ],
            "text/html": [
              "<pre style=\"white-space:pre;overflow-x:auto;line-height:normal;font-family:Menlo,'DejaVu Sans Mono',consolas,'Courier New',monospace\"><span style=\"font-weight: bold\"> Trainable params: </span><span style=\"color: #00af00; text-decoration-color: #00af00\">30,086</span> (117.52 KB)\n",
              "</pre>\n"
            ]
          },
          "metadata": {}
        },
        {
          "output_type": "display_data",
          "data": {
            "text/plain": [
              "\u001b[1m Non-trainable params: \u001b[0m\u001b[38;5;34m0\u001b[0m (0.00 B)\n"
            ],
            "text/html": [
              "<pre style=\"white-space:pre;overflow-x:auto;line-height:normal;font-family:Menlo,'DejaVu Sans Mono',consolas,'Courier New',monospace\"><span style=\"font-weight: bold\"> Non-trainable params: </span><span style=\"color: #00af00; text-decoration-color: #00af00\">0</span> (0.00 B)\n",
              "</pre>\n"
            ]
          },
          "metadata": {}
        },
        {
          "output_type": "error",
          "ename": "KeyboardInterrupt",
          "evalue": "",
          "traceback": [
            "\u001b[0;31m---------------------------------------------------------------------------\u001b[0m",
            "\u001b[0;31mKeyboardInterrupt\u001b[0m                         Traceback (most recent call last)",
            "\u001b[0;32m<ipython-input-13-2a8757fba660>\u001b[0m in \u001b[0;36m<cell line: 16>\u001b[0;34m()\u001b[0m\n\u001b[1;32m     14\u001b[0m \u001b[0;34m\u001b[0m\u001b[0m\n\u001b[1;32m     15\u001b[0m \u001b[0;31m# Train the model\u001b[0m\u001b[0;34m\u001b[0m\u001b[0;34m\u001b[0m\u001b[0m\n\u001b[0;32m---> 16\u001b[0;31m \u001b[0mmodel\u001b[0m\u001b[0;34m.\u001b[0m\u001b[0mfit\u001b[0m\u001b[0;34m(\u001b[0m\u001b[0mx_train_emb\u001b[0m\u001b[0;34m,\u001b[0m \u001b[0my_train\u001b[0m\u001b[0;34m,\u001b[0m \u001b[0mepochs\u001b[0m\u001b[0;34m=\u001b[0m\u001b[0;36m20\u001b[0m\u001b[0;34m,\u001b[0m \u001b[0mbatch_size\u001b[0m\u001b[0;34m=\u001b[0m\u001b[0;36m32\u001b[0m\u001b[0;34m,\u001b[0m \u001b[0mvalidation_split\u001b[0m\u001b[0;34m=\u001b[0m\u001b[0;36m0.2\u001b[0m\u001b[0;34m)\u001b[0m\u001b[0;34m\u001b[0m\u001b[0;34m\u001b[0m\u001b[0m\n\u001b[0m",
            "\u001b[0;32m/usr/local/lib/python3.10/dist-packages/keras/src/utils/traceback_utils.py\u001b[0m in \u001b[0;36merror_handler\u001b[0;34m(*args, **kwargs)\u001b[0m\n\u001b[1;32m    115\u001b[0m         \u001b[0mfiltered_tb\u001b[0m \u001b[0;34m=\u001b[0m \u001b[0;32mNone\u001b[0m\u001b[0;34m\u001b[0m\u001b[0;34m\u001b[0m\u001b[0m\n\u001b[1;32m    116\u001b[0m         \u001b[0;32mtry\u001b[0m\u001b[0;34m:\u001b[0m\u001b[0;34m\u001b[0m\u001b[0;34m\u001b[0m\u001b[0m\n\u001b[0;32m--> 117\u001b[0;31m             \u001b[0;32mreturn\u001b[0m \u001b[0mfn\u001b[0m\u001b[0;34m(\u001b[0m\u001b[0;34m*\u001b[0m\u001b[0margs\u001b[0m\u001b[0;34m,\u001b[0m \u001b[0;34m**\u001b[0m\u001b[0mkwargs\u001b[0m\u001b[0;34m)\u001b[0m\u001b[0;34m\u001b[0m\u001b[0;34m\u001b[0m\u001b[0m\n\u001b[0m\u001b[1;32m    118\u001b[0m         \u001b[0;32mexcept\u001b[0m \u001b[0mException\u001b[0m \u001b[0;32mas\u001b[0m \u001b[0me\u001b[0m\u001b[0;34m:\u001b[0m\u001b[0;34m\u001b[0m\u001b[0;34m\u001b[0m\u001b[0m\n\u001b[1;32m    119\u001b[0m             \u001b[0mfiltered_tb\u001b[0m \u001b[0;34m=\u001b[0m \u001b[0m_process_traceback_frames\u001b[0m\u001b[0;34m(\u001b[0m\u001b[0me\u001b[0m\u001b[0;34m.\u001b[0m\u001b[0m__traceback__\u001b[0m\u001b[0;34m)\u001b[0m\u001b[0;34m\u001b[0m\u001b[0;34m\u001b[0m\u001b[0m\n",
            "\u001b[0;32m/usr/local/lib/python3.10/dist-packages/keras/src/backend/tensorflow/trainer.py\u001b[0m in \u001b[0;36mfit\u001b[0;34m(self, x, y, batch_size, epochs, verbose, callbacks, validation_split, validation_data, shuffle, class_weight, sample_weight, initial_epoch, steps_per_epoch, validation_steps, validation_batch_size, validation_freq)\u001b[0m\n\u001b[1;32m    268\u001b[0m                 \u001b[0my\u001b[0m\u001b[0;34m,\u001b[0m\u001b[0;34m\u001b[0m\u001b[0;34m\u001b[0m\u001b[0m\n\u001b[1;32m    269\u001b[0m                 \u001b[0msample_weight\u001b[0m\u001b[0;34m,\u001b[0m\u001b[0;34m\u001b[0m\u001b[0;34m\u001b[0m\u001b[0m\n\u001b[0;32m--> 270\u001b[0;31m             \u001b[0;34m)\u001b[0m\u001b[0;34m,\u001b[0m \u001b[0mvalidation_data\u001b[0m \u001b[0;34m=\u001b[0m \u001b[0marray_slicing\u001b[0m\u001b[0;34m.\u001b[0m\u001b[0mtrain_validation_split\u001b[0m\u001b[0;34m(\u001b[0m\u001b[0;34m\u001b[0m\u001b[0;34m\u001b[0m\u001b[0m\n\u001b[0m\u001b[1;32m    271\u001b[0m                 \u001b[0;34m(\u001b[0m\u001b[0mx\u001b[0m\u001b[0;34m,\u001b[0m \u001b[0my\u001b[0m\u001b[0;34m,\u001b[0m \u001b[0msample_weight\u001b[0m\u001b[0;34m)\u001b[0m\u001b[0;34m,\u001b[0m \u001b[0mvalidation_split\u001b[0m\u001b[0;34m=\u001b[0m\u001b[0mvalidation_split\u001b[0m\u001b[0;34m\u001b[0m\u001b[0;34m\u001b[0m\u001b[0m\n\u001b[1;32m    272\u001b[0m             )\n",
            "\u001b[0;32m/usr/local/lib/python3.10/dist-packages/keras/src/trainers/data_adapters/array_slicing.py\u001b[0m in \u001b[0;36mtrain_validation_split\u001b[0;34m(arrays, validation_split)\u001b[0m\n\u001b[1;32m    503\u001b[0m         \u001b[0;32mreturn\u001b[0m \u001b[0mt\u001b[0m\u001b[0;34m[\u001b[0m\u001b[0mstart\u001b[0m\u001b[0;34m:\u001b[0m\u001b[0mend\u001b[0m\u001b[0;34m]\u001b[0m\u001b[0;34m\u001b[0m\u001b[0;34m\u001b[0m\u001b[0m\n\u001b[1;32m    504\u001b[0m \u001b[0;34m\u001b[0m\u001b[0m\n\u001b[0;32m--> 505\u001b[0;31m     \u001b[0msliceables\u001b[0m \u001b[0;34m=\u001b[0m \u001b[0mconvert_to_sliceable\u001b[0m\u001b[0;34m(\u001b[0m\u001b[0marrays\u001b[0m\u001b[0;34m)\u001b[0m\u001b[0;34m\u001b[0m\u001b[0;34m\u001b[0m\u001b[0m\n\u001b[0m\u001b[1;32m    506\u001b[0m     train_arrays = tree.map_structure(\n\u001b[1;32m    507\u001b[0m         \u001b[0;32mlambda\u001b[0m \u001b[0mx\u001b[0m\u001b[0;34m:\u001b[0m \u001b[0m_split\u001b[0m\u001b[0;34m(\u001b[0m\u001b[0mx\u001b[0m\u001b[0;34m,\u001b[0m \u001b[0mstart\u001b[0m\u001b[0;34m=\u001b[0m\u001b[0;36m0\u001b[0m\u001b[0;34m,\u001b[0m \u001b[0mend\u001b[0m\u001b[0;34m=\u001b[0m\u001b[0msplit_at\u001b[0m\u001b[0;34m)\u001b[0m\u001b[0;34m,\u001b[0m \u001b[0msliceables\u001b[0m\u001b[0;34m\u001b[0m\u001b[0;34m\u001b[0m\u001b[0m\n",
            "\u001b[0;32m/usr/local/lib/python3.10/dist-packages/keras/src/trainers/data_adapters/array_slicing.py\u001b[0m in \u001b[0;36mconvert_to_sliceable\u001b[0;34m(arrays, target_backend)\u001b[0m\n\u001b[1;32m    448\u001b[0m         \u001b[0;32mreturn\u001b[0m \u001b[0msliceable_class\u001b[0m\u001b[0;34m(\u001b[0m\u001b[0mx\u001b[0m\u001b[0;34m)\u001b[0m\u001b[0;34m\u001b[0m\u001b[0;34m\u001b[0m\u001b[0m\n\u001b[1;32m    449\u001b[0m \u001b[0;34m\u001b[0m\u001b[0m\n\u001b[0;32m--> 450\u001b[0;31m     \u001b[0;32mreturn\u001b[0m \u001b[0mtree\u001b[0m\u001b[0;34m.\u001b[0m\u001b[0mmap_structure\u001b[0m\u001b[0;34m(\u001b[0m\u001b[0mconvert_single_array\u001b[0m\u001b[0;34m,\u001b[0m \u001b[0marrays\u001b[0m\u001b[0;34m)\u001b[0m\u001b[0;34m\u001b[0m\u001b[0;34m\u001b[0m\u001b[0m\n\u001b[0m\u001b[1;32m    451\u001b[0m \u001b[0;34m\u001b[0m\u001b[0m\n\u001b[1;32m    452\u001b[0m \u001b[0;34m\u001b[0m\u001b[0m\n",
            "\u001b[0;32m/usr/local/lib/python3.10/dist-packages/keras/src/tree/tree_api.py\u001b[0m in \u001b[0;36mmap_structure\u001b[0;34m(func, *structures)\u001b[0m\n\u001b[1;32m    146\u001b[0m         \u001b[0mA\u001b[0m \u001b[0mnew\u001b[0m \u001b[0mstructure\u001b[0m \u001b[0;32mwith\u001b[0m \u001b[0mthe\u001b[0m \u001b[0msame\u001b[0m \u001b[0mlayout\u001b[0m \u001b[0;32mas\u001b[0m \u001b[0mthe\u001b[0m \u001b[0mgiven\u001b[0m \u001b[0mones\u001b[0m\u001b[0;34m.\u001b[0m\u001b[0;34m\u001b[0m\u001b[0;34m\u001b[0m\u001b[0m\n\u001b[1;32m    147\u001b[0m     \"\"\"\n\u001b[0;32m--> 148\u001b[0;31m     \u001b[0;32mreturn\u001b[0m \u001b[0mtree_impl\u001b[0m\u001b[0;34m.\u001b[0m\u001b[0mmap_structure\u001b[0m\u001b[0;34m(\u001b[0m\u001b[0mfunc\u001b[0m\u001b[0;34m,\u001b[0m \u001b[0;34m*\u001b[0m\u001b[0mstructures\u001b[0m\u001b[0;34m)\u001b[0m\u001b[0;34m\u001b[0m\u001b[0;34m\u001b[0m\u001b[0m\n\u001b[0m\u001b[1;32m    149\u001b[0m \u001b[0;34m\u001b[0m\u001b[0m\n\u001b[1;32m    150\u001b[0m \u001b[0;34m\u001b[0m\u001b[0m\n",
            "\u001b[0;32m/usr/local/lib/python3.10/dist-packages/keras/src/tree/optree_impl.py\u001b[0m in \u001b[0;36mmap_structure\u001b[0;34m(func, *structures)\u001b[0m\n\u001b[1;32m     77\u001b[0m     \u001b[0;32mfor\u001b[0m \u001b[0mother\u001b[0m \u001b[0;32min\u001b[0m \u001b[0mstructures\u001b[0m\u001b[0;34m[\u001b[0m\u001b[0;36m1\u001b[0m\u001b[0;34m:\u001b[0m\u001b[0;34m]\u001b[0m\u001b[0;34m:\u001b[0m\u001b[0;34m\u001b[0m\u001b[0;34m\u001b[0m\u001b[0m\n\u001b[1;32m     78\u001b[0m         \u001b[0massert_same_structure\u001b[0m\u001b[0;34m(\u001b[0m\u001b[0mstructures\u001b[0m\u001b[0;34m[\u001b[0m\u001b[0;36m0\u001b[0m\u001b[0;34m]\u001b[0m\u001b[0;34m,\u001b[0m \u001b[0mother\u001b[0m\u001b[0;34m,\u001b[0m \u001b[0mcheck_types\u001b[0m\u001b[0;34m=\u001b[0m\u001b[0;32mFalse\u001b[0m\u001b[0;34m)\u001b[0m\u001b[0;34m\u001b[0m\u001b[0;34m\u001b[0m\u001b[0m\n\u001b[0;32m---> 79\u001b[0;31m     return optree.tree_map(\n\u001b[0m\u001b[1;32m     80\u001b[0m         \u001b[0mfunc\u001b[0m\u001b[0;34m,\u001b[0m \u001b[0;34m*\u001b[0m\u001b[0mstructures\u001b[0m\u001b[0;34m,\u001b[0m \u001b[0mnone_is_leaf\u001b[0m\u001b[0;34m=\u001b[0m\u001b[0;32mTrue\u001b[0m\u001b[0;34m,\u001b[0m \u001b[0mnamespace\u001b[0m\u001b[0;34m=\u001b[0m\u001b[0;34m\"keras\"\u001b[0m\u001b[0;34m\u001b[0m\u001b[0;34m\u001b[0m\u001b[0m\n\u001b[1;32m     81\u001b[0m     )\n",
            "\u001b[0;32m/usr/local/lib/python3.10/dist-packages/optree/ops.py\u001b[0m in \u001b[0;36mtree_map\u001b[0;34m(func, tree, is_leaf, none_is_leaf, namespace, *rests)\u001b[0m\n\u001b[1;32m    745\u001b[0m     \u001b[0mleaves\u001b[0m\u001b[0;34m,\u001b[0m \u001b[0mtreespec\u001b[0m \u001b[0;34m=\u001b[0m \u001b[0m_C\u001b[0m\u001b[0;34m.\u001b[0m\u001b[0mflatten\u001b[0m\u001b[0;34m(\u001b[0m\u001b[0mtree\u001b[0m\u001b[0;34m,\u001b[0m \u001b[0mis_leaf\u001b[0m\u001b[0;34m,\u001b[0m \u001b[0mnone_is_leaf\u001b[0m\u001b[0;34m,\u001b[0m \u001b[0mnamespace\u001b[0m\u001b[0;34m)\u001b[0m\u001b[0;34m\u001b[0m\u001b[0;34m\u001b[0m\u001b[0m\n\u001b[1;32m    746\u001b[0m     \u001b[0mflat_args\u001b[0m \u001b[0;34m=\u001b[0m \u001b[0;34m[\u001b[0m\u001b[0mleaves\u001b[0m\u001b[0;34m]\u001b[0m \u001b[0;34m+\u001b[0m \u001b[0;34m[\u001b[0m\u001b[0mtreespec\u001b[0m\u001b[0;34m.\u001b[0m\u001b[0mflatten_up_to\u001b[0m\u001b[0;34m(\u001b[0m\u001b[0mr\u001b[0m\u001b[0;34m)\u001b[0m \u001b[0;32mfor\u001b[0m \u001b[0mr\u001b[0m \u001b[0;32min\u001b[0m \u001b[0mrests\u001b[0m\u001b[0;34m]\u001b[0m\u001b[0;34m\u001b[0m\u001b[0;34m\u001b[0m\u001b[0m\n\u001b[0;32m--> 747\u001b[0;31m     \u001b[0;32mreturn\u001b[0m \u001b[0mtreespec\u001b[0m\u001b[0;34m.\u001b[0m\u001b[0munflatten\u001b[0m\u001b[0;34m(\u001b[0m\u001b[0mmap\u001b[0m\u001b[0;34m(\u001b[0m\u001b[0mfunc\u001b[0m\u001b[0;34m,\u001b[0m \u001b[0;34m*\u001b[0m\u001b[0mflat_args\u001b[0m\u001b[0;34m)\u001b[0m\u001b[0;34m)\u001b[0m\u001b[0;34m\u001b[0m\u001b[0;34m\u001b[0m\u001b[0m\n\u001b[0m\u001b[1;32m    748\u001b[0m \u001b[0;34m\u001b[0m\u001b[0m\n\u001b[1;32m    749\u001b[0m \u001b[0;34m\u001b[0m\u001b[0m\n",
            "\u001b[0;32m/usr/local/lib/python3.10/dist-packages/keras/src/trainers/data_adapters/array_slicing.py\u001b[0m in \u001b[0;36mconvert_single_array\u001b[0;34m(x)\u001b[0m\n\u001b[1;32m    425\u001b[0m \u001b[0;34m\u001b[0m\u001b[0m\n\u001b[1;32m    426\u001b[0m         \u001b[0;32mif\u001b[0m \u001b[0mcast_dtype\u001b[0m \u001b[0;32mis\u001b[0m \u001b[0;32mnot\u001b[0m \u001b[0;32mNone\u001b[0m\u001b[0;34m:\u001b[0m\u001b[0;34m\u001b[0m\u001b[0;34m\u001b[0m\u001b[0m\n\u001b[0;32m--> 427\u001b[0;31m             \u001b[0mx\u001b[0m \u001b[0;34m=\u001b[0m \u001b[0msliceable_class\u001b[0m\u001b[0;34m.\u001b[0m\u001b[0mcast\u001b[0m\u001b[0;34m(\u001b[0m\u001b[0mx\u001b[0m\u001b[0;34m,\u001b[0m \u001b[0mcast_dtype\u001b[0m\u001b[0;34m)\u001b[0m\u001b[0;34m\u001b[0m\u001b[0;34m\u001b[0m\u001b[0m\n\u001b[0m\u001b[1;32m    428\u001b[0m \u001b[0;34m\u001b[0m\u001b[0m\n\u001b[1;32m    429\u001b[0m         \u001b[0;31m# Step 3. Apply target backend specific logic and optimizations.\u001b[0m\u001b[0;34m\u001b[0m\u001b[0;34m\u001b[0m\u001b[0m\n",
            "\u001b[0;32m/usr/local/lib/python3.10/dist-packages/keras/src/trainers/data_adapters/array_slicing.py\u001b[0m in \u001b[0;36mcast\u001b[0;34m(cls, x, dtype)\u001b[0m\n\u001b[1;32m     60\u001b[0m         \u001b[0mReturns\u001b[0m\u001b[0;34m:\u001b[0m \u001b[0mthe\u001b[0m \u001b[0mcast\u001b[0m \u001b[0mtensor\u001b[0m\u001b[0;34m.\u001b[0m\u001b[0;34m\u001b[0m\u001b[0;34m\u001b[0m\u001b[0m\n\u001b[1;32m     61\u001b[0m         \"\"\"\n\u001b[0;32m---> 62\u001b[0;31m         \u001b[0;32mreturn\u001b[0m \u001b[0mx\u001b[0m\u001b[0;34m.\u001b[0m\u001b[0mastype\u001b[0m\u001b[0;34m(\u001b[0m\u001b[0mdtype\u001b[0m\u001b[0;34m)\u001b[0m\u001b[0;34m\u001b[0m\u001b[0;34m\u001b[0m\u001b[0m\n\u001b[0m\u001b[1;32m     63\u001b[0m \u001b[0;34m\u001b[0m\u001b[0m\n\u001b[1;32m     64\u001b[0m     \u001b[0;34m@\u001b[0m\u001b[0mclassmethod\u001b[0m\u001b[0;34m\u001b[0m\u001b[0;34m\u001b[0m\u001b[0m\n",
            "\u001b[0;31mKeyboardInterrupt\u001b[0m: "
          ]
        }
      ]
    },
    {
      "cell_type": "code",
      "source": [
        "from sklearn.metrics import classification_report\n",
        "\n",
        "# Predict on the test set\n",
        "y_pred = np.argmax(model.predict(x_test_emb), axis=1)\n",
        "\n",
        "# Print classification report\n",
        "print(\"Results for RNN with Word2Vec:\")\n",
        "print(classification_report(y_test, y_pred))\n"
      ],
      "metadata": {
        "colab": {
          "base_uri": "https://localhost:8080/"
        },
        "id": "4sz4amTnJnac",
        "outputId": "b6c3ec39-dcb8-4fcf-b746-89b0e849478c"
      },
      "execution_count": null,
      "outputs": [
        {
          "output_type": "stream",
          "name": "stdout",
          "text": [
            "225/225 [==============================] - 2s 9ms/step\n",
            "Results for RNN with Word2Vec:\n",
            "              precision    recall  f1-score   support\n",
            "\n",
            "           0       0.62      0.58      0.60      1226\n",
            "           1       0.72      0.71      0.72      1188\n",
            "           2       0.78      0.77      0.77      1129\n",
            "           3       0.65      0.65      0.65      1246\n",
            "           4       0.48      0.49      0.48      1244\n",
            "           5       0.73      0.77      0.75      1167\n",
            "\n",
            "    accuracy                           0.66      7200\n",
            "   macro avg       0.66      0.66      0.66      7200\n",
            "weighted avg       0.66      0.66      0.66      7200\n",
            "\n"
          ]
        }
      ]
    },
    {
      "cell_type": "markdown",
      "source": [
        "##RNN(LSTM)"
      ],
      "metadata": {
        "id": "QVvp8iuculJ7"
      }
    },
    {
      "cell_type": "code",
      "source": [
        "import numpy as np\n",
        "from tensorflow.keras.models import Sequential\n",
        "from tensorflow.keras.layers import LSTM, Dense, Embedding, Masking, Bidirectional\n",
        "\n",
        "# Define the BiLSTM model\n",
        "model = Sequential()\n",
        "model.add(Masking(mask_value=0., input_shape=(max_sequence_length, 100)))\n",
        "model.add(Bidirectional(LSTM(units=128, return_sequences=False, recurrent_regularizer='l2', use_bias=False, kernel_initializer='lecun_uniform', implementation=1)))\n",
        "model.add(Dense(units=6, activation='softmax'))\n",
        "\n",
        "model.compile(loss='sparse_categorical_crossentropy', optimizer='adam', metrics=['accuracy'])\n",
        "model.summary()\n",
        "\n",
        "# Train the model\n",
        "model.fit(x_train_emb, y_train, epochs=10, batch_size=32, validation_split=0.2)\n"
      ],
      "metadata": {
        "colab": {
          "base_uri": "https://localhost:8080/"
        },
        "id": "5ou9IITyP1jM",
        "outputId": "bd9c0795-fbbb-40e5-e53b-7c4b34d63bc8"
      },
      "execution_count": null,
      "outputs": [
        {
          "output_type": "stream",
          "name": "stdout",
          "text": [
            "Model: \"sequential_1\"\n",
            "_________________________________________________________________\n",
            " Layer (type)                Output Shape              Param #   \n",
            "=================================================================\n",
            " masking_1 (Masking)         (None, 100, 100)          0         \n",
            "                                                                 \n",
            " bidirectional_1 (Bidirecti  (None, 256)               233472    \n",
            " onal)                                                           \n",
            "                                                                 \n",
            " dense_1 (Dense)             (None, 6)                 1542      \n",
            "                                                                 \n",
            "=================================================================\n",
            "Total params: 235014 (918.02 KB)\n",
            "Trainable params: 235014 (918.02 KB)\n",
            "Non-trainable params: 0 (0.00 Byte)\n",
            "_________________________________________________________________\n",
            "Epoch 1/10\n",
            "720/720 [==============================] - 53s 69ms/step - loss: 1.8428 - accuracy: 0.2503 - val_loss: 1.7152 - val_accuracy: 0.2743\n",
            "Epoch 2/10\n",
            "720/720 [==============================] - 49s 68ms/step - loss: 1.6701 - accuracy: 0.3201 - val_loss: 1.6581 - val_accuracy: 0.3175\n",
            "Epoch 3/10\n",
            "720/720 [==============================] - 50s 69ms/step - loss: 1.5903 - accuracy: 0.3707 - val_loss: 1.6007 - val_accuracy: 0.3556\n",
            "Epoch 4/10\n",
            "720/720 [==============================] - 49s 68ms/step - loss: 1.5109 - accuracy: 0.4216 - val_loss: 1.5304 - val_accuracy: 0.4017\n",
            "Epoch 5/10\n",
            "720/720 [==============================] - 49s 68ms/step - loss: 1.4318 - accuracy: 0.4664 - val_loss: 1.4706 - val_accuracy: 0.4424\n",
            "Epoch 6/10\n",
            "720/720 [==============================] - 49s 68ms/step - loss: 1.3574 - accuracy: 0.5117 - val_loss: 1.4173 - val_accuracy: 0.4724\n",
            "Epoch 7/10\n",
            "720/720 [==============================] - 49s 68ms/step - loss: 1.2868 - accuracy: 0.5487 - val_loss: 1.3572 - val_accuracy: 0.5205\n",
            "Epoch 8/10\n",
            "720/720 [==============================] - 49s 68ms/step - loss: 1.2216 - accuracy: 0.5814 - val_loss: 1.3155 - val_accuracy: 0.5512\n",
            "Epoch 9/10\n",
            "720/720 [==============================] - 49s 69ms/step - loss: 1.1648 - accuracy: 0.6099 - val_loss: 1.2707 - val_accuracy: 0.5677\n",
            "Epoch 10/10\n",
            "720/720 [==============================] - 49s 68ms/step - loss: 1.1101 - accuracy: 0.6392 - val_loss: 1.2365 - val_accuracy: 0.5896\n"
          ]
        },
        {
          "output_type": "execute_result",
          "data": {
            "text/plain": [
              "<keras.src.callbacks.History at 0x78bbb26a1660>"
            ]
          },
          "metadata": {},
          "execution_count": 15
        }
      ]
    },
    {
      "cell_type": "code",
      "source": [
        "from sklearn.metrics import classification_report\n",
        "\n",
        "# Predict on the test set\n",
        "y_pred = np.argmax(model.predict(x_test_emb), axis=1)\n",
        "\n",
        "# Print classification report\n",
        "print(\"Results for RNN with Word2Vec:\")\n",
        "print(classification_report(y_test, y_pred))\n"
      ],
      "metadata": {
        "colab": {
          "base_uri": "https://localhost:8080/"
        },
        "id": "uxss4B-vnW-u",
        "outputId": "881e2a05-8da9-43db-925b-93200d9abb58"
      },
      "execution_count": null,
      "outputs": [
        {
          "output_type": "stream",
          "name": "stdout",
          "text": [
            "225/225 [==============================] - 6s 23ms/step\n",
            "Results for RNN with Word2Vec:\n",
            "              precision    recall  f1-score   support\n",
            "\n",
            "           0       0.54      0.54      0.54      1226\n",
            "           1       0.59      0.72      0.65      1188\n",
            "           2       0.68      0.71      0.69      1129\n",
            "           3       0.62      0.58      0.60      1246\n",
            "           4       0.45      0.33      0.38      1244\n",
            "           5       0.63      0.70      0.66      1167\n",
            "\n",
            "    accuracy                           0.59      7200\n",
            "   macro avg       0.58      0.59      0.59      7200\n",
            "weighted avg       0.58      0.59      0.58      7200\n",
            "\n"
          ]
        }
      ]
    },
    {
      "cell_type": "markdown",
      "source": [
        "#CNN"
      ],
      "metadata": {
        "id": "KwgTWSTeuxNb"
      }
    },
    {
      "cell_type": "code",
      "source": [
        "import numpy as np\n",
        "from tensorflow.keras.models import Sequential\n",
        "from tensorflow.keras.layers import Conv1D, MaxPooling1D, Flatten, Dense, Embedding, Masking\n",
        "\n",
        "# Define the CNN model\n",
        "model = Sequential()\n",
        "model.add(Masking(mask_value=0., input_shape=(max_sequence_length, 100)))  # Assuming input_shape remains the same\n",
        "\n",
        "# Add convolutional layer\n",
        "model.add(Conv1D(filters=128, kernel_size=5, activation='relu', padding='same'))\n",
        "\n",
        "# Add max pooling layer\n",
        "model.add(MaxPooling1D(pool_size=2))\n",
        "\n",
        "# Flatten the output from the convolutional layers\n",
        "model.add(Flatten())\n",
        "\n",
        "# Add fully connected (Dense) layer\n",
        "model.add(Dense(units=128, activation='relu'))\n",
        "\n",
        "# Output layer\n",
        "model.add(Dense(units=6, activation='softmax'))\n",
        "\n",
        "model.compile(loss='sparse_categorical_crossentropy', optimizer='adam', metrics=['accuracy'])\n",
        "model.summary()\n",
        "\n",
        "# Train the model\n",
        "model.fit(x_train_emb, y_train, epochs=40, batch_size=32, validation_split=0.2)\n"
      ],
      "metadata": {
        "colab": {
          "base_uri": "https://localhost:8080/",
          "height": 1000
        },
        "id": "dIzgGHi5uCsA",
        "outputId": "d81f1c18-2a60-4d87-acd4-75c357200d77"
      },
      "execution_count": 14,
      "outputs": [
        {
          "output_type": "stream",
          "name": "stderr",
          "text": [
            "/usr/local/lib/python3.10/dist-packages/keras/src/layers/layer.py:915: UserWarning: Layer 'conv1d' (of type Conv1D) was passed an input with a mask attached to it. However, this layer does not support masking and will therefore destroy the mask information. Downstream layers will not see the mask.\n",
            "  warnings.warn(\n"
          ]
        },
        {
          "output_type": "display_data",
          "data": {
            "text/plain": [
              "\u001b[1mModel: \"sequential_1\"\u001b[0m\n"
            ],
            "text/html": [
              "<pre style=\"white-space:pre;overflow-x:auto;line-height:normal;font-family:Menlo,'DejaVu Sans Mono',consolas,'Courier New',monospace\"><span style=\"font-weight: bold\">Model: \"sequential_1\"</span>\n",
              "</pre>\n"
            ]
          },
          "metadata": {}
        },
        {
          "output_type": "display_data",
          "data": {
            "text/plain": [
              "┏━━━━━━━━━━━━━━━━━━━━━━━━━━━━━━━━━━━━━━┳━━━━━━━━━━━━━━━━━━━━━━━━━━━━━┳━━━━━━━━━━━━━━━━━┓\n",
              "┃\u001b[1m \u001b[0m\u001b[1mLayer (type)                        \u001b[0m\u001b[1m \u001b[0m┃\u001b[1m \u001b[0m\u001b[1mOutput Shape               \u001b[0m\u001b[1m \u001b[0m┃\u001b[1m \u001b[0m\u001b[1m        Param #\u001b[0m\u001b[1m \u001b[0m┃\n",
              "┡━━━━━━━━━━━━━━━━━━━━━━━━━━━━━━━━━━━━━━╇━━━━━━━━━━━━━━━━━━━━━━━━━━━━━╇━━━━━━━━━━━━━━━━━┩\n",
              "│ masking_1 (\u001b[38;5;33mMasking\u001b[0m)                  │ (\u001b[38;5;45mNone\u001b[0m, \u001b[38;5;34m100\u001b[0m, \u001b[38;5;34m100\u001b[0m)            │               \u001b[38;5;34m0\u001b[0m │\n",
              "├──────────────────────────────────────┼─────────────────────────────┼─────────────────┤\n",
              "│ conv1d (\u001b[38;5;33mConv1D\u001b[0m)                      │ (\u001b[38;5;45mNone\u001b[0m, \u001b[38;5;34m100\u001b[0m, \u001b[38;5;34m128\u001b[0m)            │          \u001b[38;5;34m64,128\u001b[0m │\n",
              "├──────────────────────────────────────┼─────────────────────────────┼─────────────────┤\n",
              "│ max_pooling1d (\u001b[38;5;33mMaxPooling1D\u001b[0m)         │ (\u001b[38;5;45mNone\u001b[0m, \u001b[38;5;34m50\u001b[0m, \u001b[38;5;34m128\u001b[0m)             │               \u001b[38;5;34m0\u001b[0m │\n",
              "├──────────────────────────────────────┼─────────────────────────────┼─────────────────┤\n",
              "│ flatten (\u001b[38;5;33mFlatten\u001b[0m)                    │ (\u001b[38;5;45mNone\u001b[0m, \u001b[38;5;34m6400\u001b[0m)                │               \u001b[38;5;34m0\u001b[0m │\n",
              "├──────────────────────────────────────┼─────────────────────────────┼─────────────────┤\n",
              "│ dense_1 (\u001b[38;5;33mDense\u001b[0m)                      │ (\u001b[38;5;45mNone\u001b[0m, \u001b[38;5;34m128\u001b[0m)                 │         \u001b[38;5;34m819,328\u001b[0m │\n",
              "├──────────────────────────────────────┼─────────────────────────────┼─────────────────┤\n",
              "│ dense_2 (\u001b[38;5;33mDense\u001b[0m)                      │ (\u001b[38;5;45mNone\u001b[0m, \u001b[38;5;34m6\u001b[0m)                   │             \u001b[38;5;34m774\u001b[0m │\n",
              "└──────────────────────────────────────┴─────────────────────────────┴─────────────────┘\n"
            ],
            "text/html": [
              "<pre style=\"white-space:pre;overflow-x:auto;line-height:normal;font-family:Menlo,'DejaVu Sans Mono',consolas,'Courier New',monospace\">┏━━━━━━━━━━━━━━━━━━━━━━━━━━━━━━━━━━━━━━┳━━━━━━━━━━━━━━━━━━━━━━━━━━━━━┳━━━━━━━━━━━━━━━━━┓\n",
              "┃<span style=\"font-weight: bold\"> Layer (type)                         </span>┃<span style=\"font-weight: bold\"> Output Shape                </span>┃<span style=\"font-weight: bold\">         Param # </span>┃\n",
              "┡━━━━━━━━━━━━━━━━━━━━━━━━━━━━━━━━━━━━━━╇━━━━━━━━━━━━━━━━━━━━━━━━━━━━━╇━━━━━━━━━━━━━━━━━┩\n",
              "│ masking_1 (<span style=\"color: #0087ff; text-decoration-color: #0087ff\">Masking</span>)                  │ (<span style=\"color: #00d7ff; text-decoration-color: #00d7ff\">None</span>, <span style=\"color: #00af00; text-decoration-color: #00af00\">100</span>, <span style=\"color: #00af00; text-decoration-color: #00af00\">100</span>)            │               <span style=\"color: #00af00; text-decoration-color: #00af00\">0</span> │\n",
              "├──────────────────────────────────────┼─────────────────────────────┼─────────────────┤\n",
              "│ conv1d (<span style=\"color: #0087ff; text-decoration-color: #0087ff\">Conv1D</span>)                      │ (<span style=\"color: #00d7ff; text-decoration-color: #00d7ff\">None</span>, <span style=\"color: #00af00; text-decoration-color: #00af00\">100</span>, <span style=\"color: #00af00; text-decoration-color: #00af00\">128</span>)            │          <span style=\"color: #00af00; text-decoration-color: #00af00\">64,128</span> │\n",
              "├──────────────────────────────────────┼─────────────────────────────┼─────────────────┤\n",
              "│ max_pooling1d (<span style=\"color: #0087ff; text-decoration-color: #0087ff\">MaxPooling1D</span>)         │ (<span style=\"color: #00d7ff; text-decoration-color: #00d7ff\">None</span>, <span style=\"color: #00af00; text-decoration-color: #00af00\">50</span>, <span style=\"color: #00af00; text-decoration-color: #00af00\">128</span>)             │               <span style=\"color: #00af00; text-decoration-color: #00af00\">0</span> │\n",
              "├──────────────────────────────────────┼─────────────────────────────┼─────────────────┤\n",
              "│ flatten (<span style=\"color: #0087ff; text-decoration-color: #0087ff\">Flatten</span>)                    │ (<span style=\"color: #00d7ff; text-decoration-color: #00d7ff\">None</span>, <span style=\"color: #00af00; text-decoration-color: #00af00\">6400</span>)                │               <span style=\"color: #00af00; text-decoration-color: #00af00\">0</span> │\n",
              "├──────────────────────────────────────┼─────────────────────────────┼─────────────────┤\n",
              "│ dense_1 (<span style=\"color: #0087ff; text-decoration-color: #0087ff\">Dense</span>)                      │ (<span style=\"color: #00d7ff; text-decoration-color: #00d7ff\">None</span>, <span style=\"color: #00af00; text-decoration-color: #00af00\">128</span>)                 │         <span style=\"color: #00af00; text-decoration-color: #00af00\">819,328</span> │\n",
              "├──────────────────────────────────────┼─────────────────────────────┼─────────────────┤\n",
              "│ dense_2 (<span style=\"color: #0087ff; text-decoration-color: #0087ff\">Dense</span>)                      │ (<span style=\"color: #00d7ff; text-decoration-color: #00d7ff\">None</span>, <span style=\"color: #00af00; text-decoration-color: #00af00\">6</span>)                   │             <span style=\"color: #00af00; text-decoration-color: #00af00\">774</span> │\n",
              "└──────────────────────────────────────┴─────────────────────────────┴─────────────────┘\n",
              "</pre>\n"
            ]
          },
          "metadata": {}
        },
        {
          "output_type": "display_data",
          "data": {
            "text/plain": [
              "\u001b[1m Total params: \u001b[0m\u001b[38;5;34m884,230\u001b[0m (3.37 MB)\n"
            ],
            "text/html": [
              "<pre style=\"white-space:pre;overflow-x:auto;line-height:normal;font-family:Menlo,'DejaVu Sans Mono',consolas,'Courier New',monospace\"><span style=\"font-weight: bold\"> Total params: </span><span style=\"color: #00af00; text-decoration-color: #00af00\">884,230</span> (3.37 MB)\n",
              "</pre>\n"
            ]
          },
          "metadata": {}
        },
        {
          "output_type": "display_data",
          "data": {
            "text/plain": [
              "\u001b[1m Trainable params: \u001b[0m\u001b[38;5;34m884,230\u001b[0m (3.37 MB)\n"
            ],
            "text/html": [
              "<pre style=\"white-space:pre;overflow-x:auto;line-height:normal;font-family:Menlo,'DejaVu Sans Mono',consolas,'Courier New',monospace\"><span style=\"font-weight: bold\"> Trainable params: </span><span style=\"color: #00af00; text-decoration-color: #00af00\">884,230</span> (3.37 MB)\n",
              "</pre>\n"
            ]
          },
          "metadata": {}
        },
        {
          "output_type": "display_data",
          "data": {
            "text/plain": [
              "\u001b[1m Non-trainable params: \u001b[0m\u001b[38;5;34m0\u001b[0m (0.00 B)\n"
            ],
            "text/html": [
              "<pre style=\"white-space:pre;overflow-x:auto;line-height:normal;font-family:Menlo,'DejaVu Sans Mono',consolas,'Courier New',monospace\"><span style=\"font-weight: bold\"> Non-trainable params: </span><span style=\"color: #00af00; text-decoration-color: #00af00\">0</span> (0.00 B)\n",
              "</pre>\n"
            ]
          },
          "metadata": {}
        },
        {
          "output_type": "stream",
          "name": "stdout",
          "text": [
            "Epoch 1/40\n",
            "\u001b[1m720/720\u001b[0m \u001b[32m━━━━━━━━━━━━━━━━━━━━\u001b[0m\u001b[37m\u001b[0m \u001b[1m7s\u001b[0m 5ms/step - accuracy: 0.3573 - loss: 1.6034 - val_accuracy: 0.6375 - val_loss: 1.0487\n",
            "Epoch 2/40\n",
            "\u001b[1m720/720\u001b[0m \u001b[32m━━━━━━━━━━━━━━━━━━━━\u001b[0m\u001b[37m\u001b[0m \u001b[1m6s\u001b[0m 4ms/step - accuracy: 0.7430 - loss: 0.7716 - val_accuracy: 0.7540 - val_loss: 0.8005\n",
            "Epoch 3/40\n",
            "\u001b[1m720/720\u001b[0m \u001b[32m━━━━━━━━━━━━━━━━━━━━\u001b[0m\u001b[37m\u001b[0m \u001b[1m5s\u001b[0m 4ms/step - accuracy: 0.8633 - loss: 0.4355 - val_accuracy: 0.7797 - val_loss: 0.7726\n",
            "Epoch 4/40\n",
            "\u001b[1m720/720\u001b[0m \u001b[32m━━━━━━━━━━━━━━━━━━━━\u001b[0m\u001b[37m\u001b[0m \u001b[1m5s\u001b[0m 4ms/step - accuracy: 0.9141 - loss: 0.2970 - val_accuracy: 0.8040 - val_loss: 0.7264\n",
            "Epoch 5/40\n",
            "\u001b[1m720/720\u001b[0m \u001b[32m━━━━━━━━━━━━━━━━━━━━\u001b[0m\u001b[37m\u001b[0m \u001b[1m3s\u001b[0m 4ms/step - accuracy: 0.9375 - loss: 0.2245 - val_accuracy: 0.8170 - val_loss: 0.7479\n",
            "Epoch 6/40\n",
            "\u001b[1m720/720\u001b[0m \u001b[32m━━━━━━━━━━━━━━━━━━━━\u001b[0m\u001b[37m\u001b[0m \u001b[1m5s\u001b[0m 4ms/step - accuracy: 0.9510 - loss: 0.1822 - val_accuracy: 0.8137 - val_loss: 0.8110\n",
            "Epoch 7/40\n",
            "\u001b[1m720/720\u001b[0m \u001b[32m━━━━━━━━━━━━━━━━━━━━\u001b[0m\u001b[37m\u001b[0m \u001b[1m4s\u001b[0m 5ms/step - accuracy: 0.9542 - loss: 0.1581 - val_accuracy: 0.8215 - val_loss: 0.7997\n",
            "Epoch 8/40\n",
            "\u001b[1m720/720\u001b[0m \u001b[32m━━━━━━━━━━━━━━━━━━━━\u001b[0m\u001b[37m\u001b[0m \u001b[1m3s\u001b[0m 4ms/step - accuracy: 0.9575 - loss: 0.1387 - val_accuracy: 0.8238 - val_loss: 0.8329\n",
            "Epoch 9/40\n",
            "\u001b[1m720/720\u001b[0m \u001b[32m━━━━━━━━━━━━━━━━━━━━\u001b[0m\u001b[37m\u001b[0m \u001b[1m3s\u001b[0m 4ms/step - accuracy: 0.9580 - loss: 0.1312 - val_accuracy: 0.8193 - val_loss: 0.8667\n",
            "Epoch 10/40\n",
            "\u001b[1m720/720\u001b[0m \u001b[32m━━━━━━━━━━━━━━━━━━━━\u001b[0m\u001b[37m\u001b[0m \u001b[1m3s\u001b[0m 4ms/step - accuracy: 0.9557 - loss: 0.1350 - val_accuracy: 0.8203 - val_loss: 0.8963\n",
            "Epoch 11/40\n",
            "\u001b[1m720/720\u001b[0m \u001b[32m━━━━━━━━━━━━━━━━━━━━\u001b[0m\u001b[37m\u001b[0m \u001b[1m6s\u001b[0m 5ms/step - accuracy: 0.9569 - loss: 0.1194 - val_accuracy: 0.8191 - val_loss: 0.9283\n",
            "Epoch 12/40\n",
            "\u001b[1m720/720\u001b[0m \u001b[32m━━━━━━━━━━━━━━━━━━━━\u001b[0m\u001b[37m\u001b[0m \u001b[1m3s\u001b[0m 3ms/step - accuracy: 0.9589 - loss: 0.1170 - val_accuracy: 0.8203 - val_loss: 0.9590\n",
            "Epoch 13/40\n",
            "\u001b[1m720/720\u001b[0m \u001b[32m━━━━━━━━━━━━━━━━━━━━\u001b[0m\u001b[37m\u001b[0m \u001b[1m3s\u001b[0m 4ms/step - accuracy: 0.9604 - loss: 0.1130 - val_accuracy: 0.8196 - val_loss: 0.9777\n",
            "Epoch 14/40\n",
            "\u001b[1m720/720\u001b[0m \u001b[32m━━━━━━━━━━━━━━━━━━━━\u001b[0m\u001b[37m\u001b[0m \u001b[1m3s\u001b[0m 4ms/step - accuracy: 0.9633 - loss: 0.0961 - val_accuracy: 0.8201 - val_loss: 0.9747\n",
            "Epoch 15/40\n",
            "\u001b[1m720/720\u001b[0m \u001b[32m━━━━━━━━━━━━━━━━━━━━\u001b[0m\u001b[37m\u001b[0m \u001b[1m4s\u001b[0m 5ms/step - accuracy: 0.9560 - loss: 0.1160 - val_accuracy: 0.8149 - val_loss: 1.0645\n",
            "Epoch 16/40\n",
            "\u001b[1m720/720\u001b[0m \u001b[32m━━━━━━━━━━━━━━━━━━━━\u001b[0m\u001b[37m\u001b[0m \u001b[1m3s\u001b[0m 4ms/step - accuracy: 0.9608 - loss: 0.0987 - val_accuracy: 0.8174 - val_loss: 1.0846\n",
            "Epoch 17/40\n",
            "\u001b[1m720/720\u001b[0m \u001b[32m━━━━━━━━━━━━━━━━━━━━\u001b[0m\u001b[37m\u001b[0m \u001b[1m3s\u001b[0m 4ms/step - accuracy: 0.9616 - loss: 0.0898 - val_accuracy: 0.8168 - val_loss: 1.1111\n",
            "Epoch 18/40\n",
            "\u001b[1m720/720\u001b[0m \u001b[32m━━━━━━━━━━━━━━━━━━━━\u001b[0m\u001b[37m\u001b[0m \u001b[1m3s\u001b[0m 3ms/step - accuracy: 0.9611 - loss: 0.0885 - val_accuracy: 0.8208 - val_loss: 1.0559\n",
            "Epoch 19/40\n",
            "\u001b[1m720/720\u001b[0m \u001b[32m━━━━━━━━━━━━━━━━━━━━\u001b[0m\u001b[37m\u001b[0m \u001b[1m3s\u001b[0m 4ms/step - accuracy: 0.9638 - loss: 0.0928 - val_accuracy: 0.8156 - val_loss: 1.1684\n",
            "Epoch 20/40\n",
            "\u001b[1m720/720\u001b[0m \u001b[32m━━━━━━━━━━━━━━━━━━━━\u001b[0m\u001b[37m\u001b[0m \u001b[1m5s\u001b[0m 4ms/step - accuracy: 0.9566 - loss: 0.1108 - val_accuracy: 0.8189 - val_loss: 1.1462\n",
            "Epoch 21/40\n",
            "\u001b[1m720/720\u001b[0m \u001b[32m━━━━━━━━━━━━━━━━━━━━\u001b[0m\u001b[37m\u001b[0m \u001b[1m6s\u001b[0m 4ms/step - accuracy: 0.9660 - loss: 0.0839 - val_accuracy: 0.8188 - val_loss: 1.1654\n",
            "Epoch 22/40\n",
            "\u001b[1m720/720\u001b[0m \u001b[32m━━━━━━━━━━━━━━━━━━━━\u001b[0m\u001b[37m\u001b[0m \u001b[1m4s\u001b[0m 5ms/step - accuracy: 0.9647 - loss: 0.0855 - val_accuracy: 0.8229 - val_loss: 1.2524\n",
            "Epoch 23/40\n",
            "\u001b[1m720/720\u001b[0m \u001b[32m━━━━━━━━━━━━━━━━━━━━\u001b[0m\u001b[37m\u001b[0m \u001b[1m4s\u001b[0m 4ms/step - accuracy: 0.9678 - loss: 0.0777 - val_accuracy: 0.8191 - val_loss: 1.2162\n",
            "Epoch 24/40\n",
            "\u001b[1m720/720\u001b[0m \u001b[32m━━━━━━━━━━━━━━━━━━━━\u001b[0m\u001b[37m\u001b[0m \u001b[1m5s\u001b[0m 4ms/step - accuracy: 0.9598 - loss: 0.0994 - val_accuracy: 0.8142 - val_loss: 1.2762\n",
            "Epoch 25/40\n",
            "\u001b[1m720/720\u001b[0m \u001b[32m━━━━━━━━━━━━━━━━━━━━\u001b[0m\u001b[37m\u001b[0m \u001b[1m3s\u001b[0m 4ms/step - accuracy: 0.9541 - loss: 0.1061 - val_accuracy: 0.8189 - val_loss: 1.3238\n",
            "Epoch 26/40\n",
            "\u001b[1m720/720\u001b[0m \u001b[32m━━━━━━━━━━━━━━━━━━━━\u001b[0m\u001b[37m\u001b[0m \u001b[1m3s\u001b[0m 4ms/step - accuracy: 0.9633 - loss: 0.0823 - val_accuracy: 0.8201 - val_loss: 1.2944\n",
            "Epoch 27/40\n",
            "\u001b[1m720/720\u001b[0m \u001b[32m━━━━━━━━━━━━━━━━━━━━\u001b[0m\u001b[37m\u001b[0m \u001b[1m5s\u001b[0m 4ms/step - accuracy: 0.9648 - loss: 0.0779 - val_accuracy: 0.8196 - val_loss: 1.2999\n",
            "Epoch 28/40\n",
            "\u001b[1m720/720\u001b[0m \u001b[32m━━━━━━━━━━━━━━━━━━━━\u001b[0m\u001b[37m\u001b[0m \u001b[1m6s\u001b[0m 4ms/step - accuracy: 0.9649 - loss: 0.0744 - val_accuracy: 0.8182 - val_loss: 1.3409\n",
            "Epoch 29/40\n",
            "\u001b[1m720/720\u001b[0m \u001b[32m━━━━━━━━━━━━━━━━━━━━\u001b[0m\u001b[37m\u001b[0m \u001b[1m4s\u001b[0m 5ms/step - accuracy: 0.9637 - loss: 0.0768 - val_accuracy: 0.8092 - val_loss: 1.4328\n",
            "Epoch 30/40\n",
            "\u001b[1m720/720\u001b[0m \u001b[32m━━━━━━━━━━━━━━━━━━━━\u001b[0m\u001b[37m\u001b[0m \u001b[1m4s\u001b[0m 4ms/step - accuracy: 0.9532 - loss: 0.1258 - val_accuracy: 0.8151 - val_loss: 1.4693\n",
            "Epoch 31/40\n",
            "\u001b[1m720/720\u001b[0m \u001b[32m━━━━━━━━━━━━━━━━━━━━\u001b[0m\u001b[37m\u001b[0m \u001b[1m5s\u001b[0m 4ms/step - accuracy: 0.9624 - loss: 0.0860 - val_accuracy: 0.8212 - val_loss: 1.4106\n",
            "Epoch 32/40\n",
            "\u001b[1m720/720\u001b[0m \u001b[32m━━━━━━━━━━━━━━━━━━━━\u001b[0m\u001b[37m\u001b[0m \u001b[1m3s\u001b[0m 5ms/step - accuracy: 0.9674 - loss: 0.0691 - val_accuracy: 0.8247 - val_loss: 1.4118\n",
            "Epoch 33/40\n",
            "\u001b[1m720/720\u001b[0m \u001b[32m━━━━━━━━━━━━━━━━━━━━\u001b[0m\u001b[37m\u001b[0m \u001b[1m5s\u001b[0m 4ms/step - accuracy: 0.9671 - loss: 0.0667 - val_accuracy: 0.8252 - val_loss: 1.3999\n",
            "Epoch 34/40\n",
            "\u001b[1m720/720\u001b[0m \u001b[32m━━━━━━━━━━━━━━━━━━━━\u001b[0m\u001b[37m\u001b[0m \u001b[1m3s\u001b[0m 4ms/step - accuracy: 0.9670 - loss: 0.0678 - val_accuracy: 0.8250 - val_loss: 1.4557\n",
            "Epoch 35/40\n",
            "\u001b[1m720/720\u001b[0m \u001b[32m━━━━━━━━━━━━━━━━━━━━\u001b[0m\u001b[37m\u001b[0m \u001b[1m5s\u001b[0m 5ms/step - accuracy: 0.9570 - loss: 0.1077 - val_accuracy: 0.8168 - val_loss: 1.4213\n",
            "Epoch 36/40\n",
            "\u001b[1m720/720\u001b[0m \u001b[32m━━━━━━━━━━━━━━━━━━━━\u001b[0m\u001b[37m\u001b[0m \u001b[1m5s\u001b[0m 4ms/step - accuracy: 0.9612 - loss: 0.0932 - val_accuracy: 0.8248 - val_loss: 1.4549\n",
            "Epoch 37/40\n",
            "\u001b[1m720/720\u001b[0m \u001b[32m━━━━━━━━━━━━━━━━━━━━\u001b[0m\u001b[37m\u001b[0m \u001b[1m3s\u001b[0m 3ms/step - accuracy: 0.9659 - loss: 0.0737 - val_accuracy: 0.8233 - val_loss: 1.4286\n",
            "Epoch 38/40\n",
            "\u001b[1m720/720\u001b[0m \u001b[32m━━━━━━━━━━━━━━━━━━━━\u001b[0m\u001b[37m\u001b[0m \u001b[1m3s\u001b[0m 4ms/step - accuracy: 0.9658 - loss: 0.0682 - val_accuracy: 0.8259 - val_loss: 1.4377\n",
            "Epoch 39/40\n",
            "\u001b[1m720/720\u001b[0m \u001b[32m━━━━━━━━━━━━━━━━━━━━\u001b[0m\u001b[37m\u001b[0m \u001b[1m4s\u001b[0m 5ms/step - accuracy: 0.9663 - loss: 0.0670 - val_accuracy: 0.8260 - val_loss: 1.4311\n",
            "Epoch 40/40\n",
            "\u001b[1m720/720\u001b[0m \u001b[32m━━━━━━━━━━━━━━━━━━━━\u001b[0m\u001b[37m\u001b[0m \u001b[1m3s\u001b[0m 4ms/step - accuracy: 0.9657 - loss: 0.0704 - val_accuracy: 0.8241 - val_loss: 1.4345\n"
          ]
        },
        {
          "output_type": "execute_result",
          "data": {
            "text/plain": [
              "<keras.src.callbacks.history.History at 0x7b3999e3b880>"
            ]
          },
          "metadata": {},
          "execution_count": 14
        }
      ]
    },
    {
      "cell_type": "code",
      "source": [
        "from sklearn.metrics import classification_report\n",
        "\n",
        "# Predict on the test set\n",
        "y_pred = np.argmax(model.predict(x_test_emb), axis=1)\n",
        "\n",
        "# Print classification report\n",
        "print(\"Results for RNN with Word2Vec:\")\n",
        "print(classification_report(y_test, y_pred))\n"
      ],
      "metadata": {
        "colab": {
          "base_uri": "https://localhost:8080/"
        },
        "id": "7JeK5VCfu7_4",
        "outputId": "c11e4fdd-77c3-4559-9d24-0f0aece21803"
      },
      "execution_count": 15,
      "outputs": [
        {
          "output_type": "stream",
          "name": "stdout",
          "text": [
            "\u001b[1m225/225\u001b[0m \u001b[32m━━━━━━━━━━━━━━━━━━━━\u001b[0m\u001b[37m\u001b[0m \u001b[1m1s\u001b[0m 3ms/step\n",
            "Results for RNN with Word2Vec:\n",
            "              precision    recall  f1-score   support\n",
            "\n",
            "           0       0.81      0.78      0.80      1226\n",
            "           1       0.83      0.88      0.86      1188\n",
            "           2       0.90      0.88      0.89      1129\n",
            "           3       0.84      0.80      0.82      1246\n",
            "           4       0.74      0.69      0.72      1244\n",
            "           5       0.82      0.92      0.87      1167\n",
            "\n",
            "    accuracy                           0.82      7200\n",
            "   macro avg       0.82      0.83      0.82      7200\n",
            "weighted avg       0.82      0.82      0.82      7200\n",
            "\n"
          ]
        }
      ]
    },
    {
      "cell_type": "markdown",
      "source": [
        "#CNN+BiLSTM"
      ],
      "metadata": {
        "id": "At66o5YbwtLn"
      }
    },
    {
      "cell_type": "code",
      "source": [
        "import numpy as np\n",
        "from tensorflow.keras.models import Sequential\n",
        "from tensorflow.keras.layers import Conv1D, MaxPooling1D, Dense, Embedding, Masking, Bidirectional, LSTM\n",
        "\n",
        "# Define the CNN-BiLSTM model\n",
        "model = Sequential()\n",
        "\n",
        "# Masking layer to handle padding\n",
        "model.add(Masking(mask_value=0., input_shape=(max_sequence_length, 100)))\n",
        "\n",
        "# Convolutional layers\n",
        "model.add(Conv1D(filters=128, kernel_size=5, activation='relu', padding='same'))\n",
        "model.add(MaxPooling1D(pool_size=2))\n",
        "\n",
        "model.add(Conv1D(filters=128, kernel_size=5, activation='relu', padding='same'))\n",
        "model.add(MaxPooling1D(pool_size=2))\n",
        "\n",
        "# Bidirectional LSTM layer\n",
        "model.add(Bidirectional(LSTM(units=128, return_sequences=False, recurrent_regularizer='l2', use_bias=False, kernel_initializer='lecun_uniform', implementation=1)))\n",
        "\n",
        "# Output layer\n",
        "model.add(Dense(units=6, activation='softmax'))\n",
        "\n",
        "model.compile(loss='sparse_categorical_crossentropy', optimizer='adam', metrics=['accuracy'])\n",
        "model.summary()\n",
        "\n",
        "# Train the model\n",
        "model.fit(x_train_emb, y_train, epochs=10, batch_size=32, validation_split=0.2)\n"
      ],
      "metadata": {
        "colab": {
          "base_uri": "https://localhost:8080/"
        },
        "id": "K2tFRFVYve1_",
        "outputId": "a53ae6b0-640f-4f4e-cf7c-efb2bc6a04ef"
      },
      "execution_count": null,
      "outputs": [
        {
          "output_type": "stream",
          "name": "stdout",
          "text": [
            "Model: \"sequential_5\"\n",
            "_________________________________________________________________\n",
            " Layer (type)                Output Shape              Param #   \n",
            "=================================================================\n",
            " masking_5 (Masking)         (None, 100, 100)          0         \n",
            "                                                                 \n",
            " conv1d_5 (Conv1D)           (None, 100, 128)          64128     \n",
            "                                                                 \n",
            " max_pooling1d_5 (MaxPoolin  (None, 50, 128)           0         \n",
            " g1D)                                                            \n",
            "                                                                 \n",
            " conv1d_6 (Conv1D)           (None, 50, 128)           82048     \n",
            "                                                                 \n",
            " max_pooling1d_6 (MaxPoolin  (None, 25, 128)           0         \n",
            " g1D)                                                            \n",
            "                                                                 \n",
            " bidirectional_2 (Bidirecti  (None, 256)               262144    \n",
            " onal)                                                           \n",
            "                                                                 \n",
            " dense_7 (Dense)             (None, 6)                 1542      \n",
            "                                                                 \n",
            "=================================================================\n",
            "Total params: 409862 (1.56 MB)\n",
            "Trainable params: 409862 (1.56 MB)\n",
            "Non-trainable params: 0 (0.00 Byte)\n",
            "_________________________________________________________________\n",
            "Epoch 1/10\n",
            "720/720 [==============================] - 21s 26ms/step - loss: 1.7392 - accuracy: 0.3241 - val_loss: 1.4472 - val_accuracy: 0.4462\n",
            "Epoch 2/10\n",
            "720/720 [==============================] - 18s 24ms/step - loss: 1.1630 - accuracy: 0.5778 - val_loss: 1.0935 - val_accuracy: 0.6033\n",
            "Epoch 3/10\n",
            "720/720 [==============================] - 18s 25ms/step - loss: 0.8289 - accuracy: 0.7142 - val_loss: 0.8841 - val_accuracy: 0.7120\n",
            "Epoch 4/10\n",
            "720/720 [==============================] - 18s 24ms/step - loss: 0.6170 - accuracy: 0.7951 - val_loss: 0.9047 - val_accuracy: 0.7260\n",
            "Epoch 5/10\n",
            "720/720 [==============================] - 18s 24ms/step - loss: 0.4766 - accuracy: 0.8469 - val_loss: 0.9329 - val_accuracy: 0.7344\n",
            "Epoch 6/10\n",
            "720/720 [==============================] - 18s 25ms/step - loss: 0.3818 - accuracy: 0.8780 - val_loss: 0.7828 - val_accuracy: 0.7903\n",
            "Epoch 7/10\n",
            "720/720 [==============================] - 18s 24ms/step - loss: 0.3191 - accuracy: 0.8966 - val_loss: 0.8171 - val_accuracy: 0.7906\n",
            "Epoch 8/10\n",
            "720/720 [==============================] - 17s 24ms/step - loss: 0.2692 - accuracy: 0.9133 - val_loss: 0.8115 - val_accuracy: 0.7957\n",
            "Epoch 9/10\n",
            "720/720 [==============================] - 18s 24ms/step - loss: 0.2352 - accuracy: 0.9255 - val_loss: 0.8546 - val_accuracy: 0.8026\n",
            "Epoch 10/10\n",
            "720/720 [==============================] - 18s 25ms/step - loss: 0.2168 - accuracy: 0.9316 - val_loss: 0.8298 - val_accuracy: 0.8125\n"
          ]
        },
        {
          "output_type": "execute_result",
          "data": {
            "text/plain": [
              "<keras.src.callbacks.History at 0x78bbb1c5a110>"
            ]
          },
          "metadata": {},
          "execution_count": 21
        }
      ]
    },
    {
      "cell_type": "code",
      "source": [
        "from sklearn.metrics import classification_report\n",
        "\n",
        "# Predict on the test set\n",
        "y_pred = np.argmax(model.predict(x_test_emb), axis=1)\n",
        "\n",
        "# Print classification report\n",
        "print(\"Results for RNN with Word2Vec:\")\n",
        "print(classification_report(y_test, y_pred))\n"
      ],
      "metadata": {
        "colab": {
          "base_uri": "https://localhost:8080/"
        },
        "id": "8bnD-xkew5iw",
        "outputId": "967d848c-6ac3-4933-a82e-4f3dfed55660"
      },
      "execution_count": null,
      "outputs": [
        {
          "output_type": "stream",
          "name": "stdout",
          "text": [
            "225/225 [==============================] - 2s 9ms/step\n",
            "Results for RNN with Word2Vec:\n",
            "              precision    recall  f1-score   support\n",
            "\n",
            "           0       0.84      0.77      0.80      1226\n",
            "           1       0.83      0.84      0.84      1188\n",
            "           2       0.88      0.88      0.88      1129\n",
            "           3       0.83      0.84      0.83      1246\n",
            "           4       0.70      0.70      0.70      1244\n",
            "           5       0.83      0.89      0.86      1167\n",
            "\n",
            "    accuracy                           0.82      7200\n",
            "   macro avg       0.82      0.82      0.82      7200\n",
            "weighted avg       0.82      0.82      0.82      7200\n",
            "\n"
          ]
        }
      ]
    },
    {
      "cell_type": "markdown",
      "source": [
        "##BGRU"
      ],
      "metadata": {
        "id": "tmtEDWnp0-cR"
      }
    },
    {
      "cell_type": "code",
      "source": [
        "import numpy as np\n",
        "from tensorflow.keras.models import Sequential\n",
        "from tensorflow.keras.layers import GRU, Dense, Embedding, Masking, Bidirectional\n",
        "\n",
        "# Define the BGRU model\n",
        "model = Sequential()\n",
        "model.add(Masking(mask_value=0., input_shape=(max_sequence_length, 100)))\n",
        "model.add(Bidirectional(GRU(units=128, return_sequences=False, recurrent_regularizer='l2', use_bias=False, kernel_initializer='lecun_uniform', implementation=1)))\n",
        "model.add(Dense(units=6, activation='softmax'))\n",
        "\n",
        "model.compile(loss='sparse_categorical_crossentropy', optimizer='adam', metrics=['accuracy'])\n",
        "model.summary()\n",
        "\n",
        "# Train the model\n",
        "model.fit(x_train_emb, y_train, epochs=80, batch_size=32, validation_split=0.2)\n"
      ],
      "metadata": {
        "id": "76iWdbd_1B4R",
        "outputId": "f752e6c2-99c0-4606-d744-f50c0a4cf5d3",
        "colab": {
          "base_uri": "https://localhost:8080/",
          "height": 1000
        }
      },
      "execution_count": null,
      "outputs": [
        {
          "metadata": {
            "tags": null
          },
          "name": "stderr",
          "output_type": "stream",
          "text": [
            "/usr/local/lib/python3.10/dist-packages/keras/src/layers/core/masking.py:47: UserWarning: Do not pass an `input_shape`/`input_dim` argument to a layer. When using Sequential models, prefer using an `Input(shape)` object as the first layer in the model instead.\n",
            "  super().__init__(**kwargs)\n"
          ]
        },
        {
          "data": {
            "text/html": [
              "<pre style=\"white-space:pre;overflow-x:auto;line-height:normal;font-family:Menlo,'DejaVu Sans Mono',consolas,'Courier New',monospace\"><span style=\"font-weight: bold\">Model: \"sequential\"</span>\n",
              "</pre>\n"
            ],
            "text/plain": [
              "\u001b[1mModel: \"sequential\"\u001b[0m\n"
            ]
          },
          "metadata": {},
          "output_type": "display_data"
        },
        {
          "data": {
            "text/html": [
              "<pre style=\"white-space:pre;overflow-x:auto;line-height:normal;font-family:Menlo,'DejaVu Sans Mono',consolas,'Courier New',monospace\">┏━━━━━━━━━━━━━━━━━━━━━━━━━━━━━━━━━━━━━━┳━━━━━━━━━━━━━━━━━━━━━━━━━━━━━┳━━━━━━━━━━━━━━━━━┓\n",
              "┃<span style=\"font-weight: bold\"> Layer (type)                         </span>┃<span style=\"font-weight: bold\"> Output Shape                </span>┃<span style=\"font-weight: bold\">         Param # </span>┃\n",
              "┡━━━━━━━━━━━━━━━━━━━━━━━━━━━━━━━━━━━━━━╇━━━━━━━━━━━━━━━━━━━━━━━━━━━━━╇━━━━━━━━━━━━━━━━━┩\n",
              "│ masking (<span style=\"color: #0087ff; text-decoration-color: #0087ff\">Masking</span>)                    │ (<span style=\"color: #00d7ff; text-decoration-color: #00d7ff\">None</span>, <span style=\"color: #00af00; text-decoration-color: #00af00\">100</span>, <span style=\"color: #00af00; text-decoration-color: #00af00\">100</span>)            │               <span style=\"color: #00af00; text-decoration-color: #00af00\">0</span> │\n",
              "├──────────────────────────────────────┼─────────────────────────────┼─────────────────┤\n",
              "│ bidirectional (<span style=\"color: #0087ff; text-decoration-color: #0087ff\">Bidirectional</span>)        │ (<span style=\"color: #00d7ff; text-decoration-color: #00d7ff\">None</span>, <span style=\"color: #00af00; text-decoration-color: #00af00\">256</span>)                 │         <span style=\"color: #00af00; text-decoration-color: #00af00\">175,104</span> │\n",
              "├──────────────────────────────────────┼─────────────────────────────┼─────────────────┤\n",
              "│ dense (<span style=\"color: #0087ff; text-decoration-color: #0087ff\">Dense</span>)                        │ (<span style=\"color: #00d7ff; text-decoration-color: #00d7ff\">None</span>, <span style=\"color: #00af00; text-decoration-color: #00af00\">6</span>)                   │           <span style=\"color: #00af00; text-decoration-color: #00af00\">1,542</span> │\n",
              "└──────────────────────────────────────┴─────────────────────────────┴─────────────────┘\n",
              "</pre>\n"
            ],
            "text/plain": [
              "┏━━━━━━━━━━━━━━━━━━━━━━━━━━━━━━━━━━━━━━┳━━━━━━━━━━━━━━━━━━━━━━━━━━━━━┳━━━━━━━━━━━━━━━━━┓\n",
              "┃\u001b[1m \u001b[0m\u001b[1mLayer (type)                        \u001b[0m\u001b[1m \u001b[0m┃\u001b[1m \u001b[0m\u001b[1mOutput Shape               \u001b[0m\u001b[1m \u001b[0m┃\u001b[1m \u001b[0m\u001b[1m        Param #\u001b[0m\u001b[1m \u001b[0m┃\n",
              "┡━━━━━━━━━━━━━━━━━━━━━━━━━━━━━━━━━━━━━━╇━━━━━━━━━━━━━━━━━━━━━━━━━━━━━╇━━━━━━━━━━━━━━━━━┩\n",
              "│ masking (\u001b[38;5;33mMasking\u001b[0m)                    │ (\u001b[38;5;45mNone\u001b[0m, \u001b[38;5;34m100\u001b[0m, \u001b[38;5;34m100\u001b[0m)            │               \u001b[38;5;34m0\u001b[0m │\n",
              "├──────────────────────────────────────┼─────────────────────────────┼─────────────────┤\n",
              "│ bidirectional (\u001b[38;5;33mBidirectional\u001b[0m)        │ (\u001b[38;5;45mNone\u001b[0m, \u001b[38;5;34m256\u001b[0m)                 │         \u001b[38;5;34m175,104\u001b[0m │\n",
              "├──────────────────────────────────────┼─────────────────────────────┼─────────────────┤\n",
              "│ dense (\u001b[38;5;33mDense\u001b[0m)                        │ (\u001b[38;5;45mNone\u001b[0m, \u001b[38;5;34m6\u001b[0m)                   │           \u001b[38;5;34m1,542\u001b[0m │\n",
              "└──────────────────────────────────────┴─────────────────────────────┴─────────────────┘\n"
            ]
          },
          "metadata": {},
          "output_type": "display_data"
        },
        {
          "data": {
            "text/html": [
              "<pre style=\"white-space:pre;overflow-x:auto;line-height:normal;font-family:Menlo,'DejaVu Sans Mono',consolas,'Courier New',monospace\"><span style=\"font-weight: bold\"> Total params: </span><span style=\"color: #00af00; text-decoration-color: #00af00\">176,646</span> (690.02 KB)\n",
              "</pre>\n"
            ],
            "text/plain": [
              "\u001b[1m Total params: \u001b[0m\u001b[38;5;34m176,646\u001b[0m (690.02 KB)\n"
            ]
          },
          "metadata": {},
          "output_type": "display_data"
        },
        {
          "data": {
            "text/html": [
              "<pre style=\"white-space:pre;overflow-x:auto;line-height:normal;font-family:Menlo,'DejaVu Sans Mono',consolas,'Courier New',monospace\"><span style=\"font-weight: bold\"> Trainable params: </span><span style=\"color: #00af00; text-decoration-color: #00af00\">176,646</span> (690.02 KB)\n",
              "</pre>\n"
            ],
            "text/plain": [
              "\u001b[1m Trainable params: \u001b[0m\u001b[38;5;34m176,646\u001b[0m (690.02 KB)\n"
            ]
          },
          "metadata": {},
          "output_type": "display_data"
        },
        {
          "data": {
            "text/html": [
              "<pre style=\"white-space:pre;overflow-x:auto;line-height:normal;font-family:Menlo,'DejaVu Sans Mono',consolas,'Courier New',monospace\"><span style=\"font-weight: bold\"> Non-trainable params: </span><span style=\"color: #00af00; text-decoration-color: #00af00\">0</span> (0.00 B)\n",
              "</pre>\n"
            ],
            "text/plain": [
              "\u001b[1m Non-trainable params: \u001b[0m\u001b[38;5;34m0\u001b[0m (0.00 B)\n"
            ]
          },
          "metadata": {},
          "output_type": "display_data"
        },
        {
          "output_type": "stream",
          "name": "stdout",
          "text": [
            "Epoch 1/80\n",
            "\u001b[1m720/720\u001b[0m \u001b[32m━━━━━━━━━━━━━━━━━━━━\u001b[0m\u001b[37m\u001b[0m \u001b[1m31s\u001b[0m 37ms/step - accuracy: 0.2240 - loss: 2.2250 - val_accuracy: 0.2559 - val_loss: 1.7361\n",
            "Epoch 2/80\n",
            "\u001b[1m720/720\u001b[0m \u001b[32m━━━━━━━━━━━━━━━━━━━━\u001b[0m\u001b[37m\u001b[0m \u001b[1m37s\u001b[0m 35ms/step - accuracy: 0.2916 - loss: 1.7127 - val_accuracy: 0.2910 - val_loss: 1.7086\n",
            "Epoch 3/80\n",
            "\u001b[1m720/720\u001b[0m \u001b[32m━━━━━━━━━━━━━━━━━━━━\u001b[0m\u001b[37m\u001b[0m \u001b[1m41s\u001b[0m 34ms/step - accuracy: 0.3119 - loss: 1.6860 - val_accuracy: 0.3085 - val_loss: 1.6867\n",
            "Epoch 4/80\n",
            "\u001b[1m720/720\u001b[0m \u001b[32m━━━━━━━━━━━━━━━━━━━━\u001b[0m\u001b[37m\u001b[0m \u001b[1m41s\u001b[0m 35ms/step - accuracy: 0.3340 - loss: 1.6546 - val_accuracy: 0.3342 - val_loss: 1.6571\n",
            "Epoch 5/80\n",
            "\u001b[1m720/720\u001b[0m \u001b[32m━━━━━━━━━━━━━━━━━━━━\u001b[0m\u001b[37m\u001b[0m \u001b[1m41s\u001b[0m 34ms/step - accuracy: 0.3684 - loss: 1.6039 - val_accuracy: 0.3675 - val_loss: 1.6218\n",
            "Epoch 6/80\n",
            "\u001b[1m720/720\u001b[0m \u001b[32m━━━━━━━━━━━━━━━━━━━━\u001b[0m\u001b[37m\u001b[0m \u001b[1m41s\u001b[0m 35ms/step - accuracy: 0.3978 - loss: 1.5617 - val_accuracy: 0.3887 - val_loss: 1.5909\n",
            "Epoch 7/80\n",
            "\u001b[1m720/720\u001b[0m \u001b[32m━━━━━━━━━━━━━━━━━━━━\u001b[0m\u001b[37m\u001b[0m \u001b[1m41s\u001b[0m 35ms/step - accuracy: 0.4223 - loss: 1.5216 - val_accuracy: 0.4064 - val_loss: 1.5719\n",
            "Epoch 8/80\n",
            "\u001b[1m720/720\u001b[0m \u001b[32m━━━━━━━━━━━━━━━━━━━━\u001b[0m\u001b[37m\u001b[0m \u001b[1m41s\u001b[0m 35ms/step - accuracy: 0.4486 - loss: 1.4780 - val_accuracy: 0.4286 - val_loss: 1.5288\n",
            "Epoch 9/80\n",
            "\u001b[1m720/720\u001b[0m \u001b[32m━━━━━━━━━━━━━━━━━━━━\u001b[0m\u001b[37m\u001b[0m \u001b[1m41s\u001b[0m 35ms/step - accuracy: 0.4732 - loss: 1.4407 - val_accuracy: 0.4451 - val_loss: 1.5063\n",
            "Epoch 10/80\n",
            "\u001b[1m720/720\u001b[0m \u001b[32m━━━━━━━━━━━━━━━━━━━━\u001b[0m\u001b[37m\u001b[0m \u001b[1m41s\u001b[0m 35ms/step - accuracy: 0.4937 - loss: 1.4023 - val_accuracy: 0.4573 - val_loss: 1.4916\n",
            "Epoch 11/80\n",
            "\u001b[1m720/720\u001b[0m \u001b[32m━━━━━━━━━━━━━━━━━━━━\u001b[0m\u001b[37m\u001b[0m \u001b[1m25s\u001b[0m 34ms/step - accuracy: 0.5124 - loss: 1.3531 - val_accuracy: 0.4851 - val_loss: 1.4608\n",
            "Epoch 12/80\n",
            "\u001b[1m720/720\u001b[0m \u001b[32m━━━━━━━━━━━━━━━━━━━━\u001b[0m\u001b[37m\u001b[0m \u001b[1m26s\u001b[0m 36ms/step - accuracy: 0.5288 - loss: 1.3340 - val_accuracy: 0.4865 - val_loss: 1.4367\n",
            "Epoch 13/80\n",
            "\u001b[1m720/720\u001b[0m \u001b[32m━━━━━━━━━━━━━━━━━━━━\u001b[0m\u001b[37m\u001b[0m \u001b[1m40s\u001b[0m 35ms/step - accuracy: 0.5491 - loss: 1.2951 - val_accuracy: 0.4863 - val_loss: 1.4219\n",
            "Epoch 14/80\n",
            "\u001b[1m720/720\u001b[0m \u001b[32m━━━━━━━━━━━━━━━━━━━━\u001b[0m\u001b[37m\u001b[0m \u001b[1m41s\u001b[0m 35ms/step - accuracy: 0.5603 - loss: 1.2753 - val_accuracy: 0.5196 - val_loss: 1.3808\n",
            "Epoch 15/80\n",
            "\u001b[1m720/720\u001b[0m \u001b[32m━━━━━━━━━━━━━━━━━━━━\u001b[0m\u001b[37m\u001b[0m \u001b[1m41s\u001b[0m 34ms/step - accuracy: 0.5725 - loss: 1.2445 - val_accuracy: 0.5306 - val_loss: 1.3813\n",
            "Epoch 16/80\n",
            "\u001b[1m720/720\u001b[0m \u001b[32m━━━━━━━━━━━━━━━━━━━━\u001b[0m\u001b[37m\u001b[0m \u001b[1m41s\u001b[0m 35ms/step - accuracy: 0.5951 - loss: 1.2099 - val_accuracy: 0.5424 - val_loss: 1.3442\n",
            "Epoch 17/80\n",
            "\u001b[1m720/720\u001b[0m \u001b[32m━━━━━━━━━━━━━━━━━━━━\u001b[0m\u001b[37m\u001b[0m \u001b[1m25s\u001b[0m 34ms/step - accuracy: 0.6039 - loss: 1.1818 - val_accuracy: 0.5507 - val_loss: 1.3446\n",
            "Epoch 18/80\n",
            "\u001b[1m720/720\u001b[0m \u001b[32m━━━━━━━━━━━━━━━━━━━━\u001b[0m\u001b[37m\u001b[0m \u001b[1m41s\u001b[0m 35ms/step - accuracy: 0.6182 - loss: 1.1577 - val_accuracy: 0.5472 - val_loss: 1.3386\n",
            "Epoch 19/80\n",
            "\u001b[1m720/720\u001b[0m \u001b[32m━━━━━━━━━━━━━━━━━━━━\u001b[0m\u001b[37m\u001b[0m \u001b[1m41s\u001b[0m 35ms/step - accuracy: 0.6241 - loss: 1.1482 - val_accuracy: 0.5562 - val_loss: 1.3326\n",
            "Epoch 20/80\n",
            "\u001b[1m720/720\u001b[0m \u001b[32m━━━━━━━━━━━━━━━━━━━━\u001b[0m\u001b[37m\u001b[0m \u001b[1m25s\u001b[0m 34ms/step - accuracy: 0.6318 - loss: 1.1251 - val_accuracy: 0.5792 - val_loss: 1.2794\n",
            "Epoch 21/80\n",
            "\u001b[1m720/720\u001b[0m \u001b[32m━━━━━━━━━━━━━━━━━━━━\u001b[0m\u001b[37m\u001b[0m \u001b[1m41s\u001b[0m 35ms/step - accuracy: 0.6496 - loss: 1.1001 - val_accuracy: 0.5872 - val_loss: 1.2803\n",
            "Epoch 22/80\n",
            "\u001b[1m720/720\u001b[0m \u001b[32m━━━━━━━━━━━━━━━━━━━━\u001b[0m\u001b[37m\u001b[0m \u001b[1m42s\u001b[0m 36ms/step - accuracy: 0.6571 - loss: 1.0843 - val_accuracy: 0.5915 - val_loss: 1.2692\n",
            "Epoch 23/80\n",
            "\u001b[1m720/720\u001b[0m \u001b[32m━━━━━━━━━━━━━━━━━━━━\u001b[0m\u001b[37m\u001b[0m \u001b[1m40s\u001b[0m 34ms/step - accuracy: 0.6678 - loss: 1.0612 - val_accuracy: 0.5922 - val_loss: 1.2759\n",
            "Epoch 24/80\n",
            "\u001b[1m720/720\u001b[0m \u001b[32m━━━━━━━━━━━━━━━━━━━━\u001b[0m\u001b[37m\u001b[0m \u001b[1m42s\u001b[0m 36ms/step - accuracy: 0.6696 - loss: 1.0440 - val_accuracy: 0.5972 - val_loss: 1.2604\n",
            "Epoch 25/80\n",
            "\u001b[1m720/720\u001b[0m \u001b[32m━━━━━━━━━━━━━━━━━━━━\u001b[0m\u001b[37m\u001b[0m \u001b[1m40s\u001b[0m 34ms/step - accuracy: 0.6793 - loss: 1.0165 - val_accuracy: 0.6005 - val_loss: 1.2509\n",
            "Epoch 26/80\n",
            "\u001b[1m720/720\u001b[0m \u001b[32m━━━━━━━━━━━━━━━━━━━━\u001b[0m\u001b[37m\u001b[0m \u001b[1m41s\u001b[0m 34ms/step - accuracy: 0.6893 - loss: 1.0105 - val_accuracy: 0.6299 - val_loss: 1.2105\n",
            "Epoch 27/80\n",
            "\u001b[1m720/720\u001b[0m \u001b[32m━━━━━━━━━━━━━━━━━━━━\u001b[0m\u001b[37m\u001b[0m \u001b[1m41s\u001b[0m 34ms/step - accuracy: 0.6982 - loss: 0.9935 - val_accuracy: 0.6191 - val_loss: 1.2266\n",
            "Epoch 28/80\n",
            "\u001b[1m720/720\u001b[0m \u001b[32m━━━━━━━━━━━━━━━━━━━━\u001b[0m\u001b[37m\u001b[0m \u001b[1m42s\u001b[0m 35ms/step - accuracy: 0.7017 - loss: 0.9757 - val_accuracy: 0.6158 - val_loss: 1.2335\n",
            "Epoch 29/80\n",
            "\u001b[1m720/720\u001b[0m \u001b[32m━━━━━━━━━━━━━━━━━━━━\u001b[0m\u001b[37m\u001b[0m \u001b[1m41s\u001b[0m 35ms/step - accuracy: 0.7062 - loss: 0.9711 - val_accuracy: 0.6344 - val_loss: 1.1955\n",
            "Epoch 30/80\n",
            "\u001b[1m720/720\u001b[0m \u001b[32m━━━━━━━━━━━━━━━━━━━━\u001b[0m\u001b[37m\u001b[0m \u001b[1m41s\u001b[0m 35ms/step - accuracy: 0.7141 - loss: 0.9483 - val_accuracy: 0.6361 - val_loss: 1.2001\n",
            "Epoch 31/80\n",
            "\u001b[1m720/720\u001b[0m \u001b[32m━━━━━━━━━━━━━━━━━━━━\u001b[0m\u001b[37m\u001b[0m \u001b[1m41s\u001b[0m 35ms/step - accuracy: 0.7175 - loss: 0.9311 - val_accuracy: 0.6299 - val_loss: 1.2069\n",
            "Epoch 32/80\n",
            "\u001b[1m720/720\u001b[0m \u001b[32m━━━━━━━━━━━━━━━━━━━━\u001b[0m\u001b[37m\u001b[0m \u001b[1m41s\u001b[0m 35ms/step - accuracy: 0.7219 - loss: 0.9272 - val_accuracy: 0.6543 - val_loss: 1.1770\n",
            "Epoch 33/80\n",
            "\u001b[1m720/720\u001b[0m \u001b[32m━━━━━━━━━━━━━━━━━━━━\u001b[0m\u001b[37m\u001b[0m \u001b[1m41s\u001b[0m 35ms/step - accuracy: 0.7252 - loss: 0.9273 - val_accuracy: 0.6424 - val_loss: 1.1896\n",
            "Epoch 34/80\n",
            "\u001b[1m720/720\u001b[0m \u001b[32m━━━━━━━━━━━━━━━━━━━━\u001b[0m\u001b[37m\u001b[0m \u001b[1m41s\u001b[0m 35ms/step - accuracy: 0.7322 - loss: 0.8981 - val_accuracy: 0.6444 - val_loss: 1.1803\n",
            "Epoch 35/80\n",
            "\u001b[1m720/720\u001b[0m \u001b[32m━━━━━━━━━━━━━━━━━━━━\u001b[0m\u001b[37m\u001b[0m \u001b[1m41s\u001b[0m 35ms/step - accuracy: 0.7348 - loss: 0.8998 - val_accuracy: 0.6559 - val_loss: 1.1745\n",
            "Epoch 36/80\n",
            "\u001b[1m720/720\u001b[0m \u001b[32m━━━━━━━━━━━━━━━━━━━━\u001b[0m\u001b[37m\u001b[0m \u001b[1m41s\u001b[0m 35ms/step - accuracy: 0.7391 - loss: 0.8903 - val_accuracy: 0.6542 - val_loss: 1.1813\n",
            "Epoch 37/80\n",
            "\u001b[1m720/720\u001b[0m \u001b[32m━━━━━━━━━━━━━━━━━━━━\u001b[0m\u001b[37m\u001b[0m \u001b[1m41s\u001b[0m 35ms/step - accuracy: 0.7474 - loss: 0.8826 - val_accuracy: 0.6578 - val_loss: 1.1708\n",
            "Epoch 38/80\n",
            "\u001b[1m720/720\u001b[0m \u001b[32m━━━━━━━━━━━━━━━━━━━━\u001b[0m\u001b[37m\u001b[0m \u001b[1m41s\u001b[0m 35ms/step - accuracy: 0.7498 - loss: 0.8622 - val_accuracy: 0.6571 - val_loss: 1.1561\n",
            "Epoch 39/80\n",
            "\u001b[1m720/720\u001b[0m \u001b[32m━━━━━━━━━━━━━━━━━━━━\u001b[0m\u001b[37m\u001b[0m \u001b[1m25s\u001b[0m 34ms/step - accuracy: 0.7439 - loss: 0.8671 - val_accuracy: 0.6620 - val_loss: 1.1694\n",
            "Epoch 40/80\n",
            "\u001b[1m720/720\u001b[0m \u001b[32m━━━━━━━━━━━━━━━━━━━━\u001b[0m\u001b[37m\u001b[0m \u001b[1m41s\u001b[0m 35ms/step - accuracy: 0.7493 - loss: 0.8587 - val_accuracy: 0.6639 - val_loss: 1.1575\n",
            "Epoch 41/80\n",
            "\u001b[1m720/720\u001b[0m \u001b[32m━━━━━━━━━━━━━━━━━━━━\u001b[0m\u001b[37m\u001b[0m \u001b[1m41s\u001b[0m 35ms/step - accuracy: 0.7536 - loss: 0.8477 - val_accuracy: 0.6670 - val_loss: 1.1553\n",
            "Epoch 42/80\n",
            "\u001b[1m720/720\u001b[0m \u001b[32m━━━━━━━━━━━━━━━━━━━━\u001b[0m\u001b[37m\u001b[0m \u001b[1m25s\u001b[0m 35ms/step - accuracy: 0.7652 - loss: 0.8246 - val_accuracy: 0.6634 - val_loss: 1.1559\n",
            "Epoch 43/80\n",
            "\u001b[1m720/720\u001b[0m \u001b[32m━━━━━━━━━━━━━━━━━━━━\u001b[0m\u001b[37m\u001b[0m \u001b[1m41s\u001b[0m 35ms/step - accuracy: 0.7617 - loss: 0.8267 - val_accuracy: 0.6727 - val_loss: 1.1505\n",
            "Epoch 44/80\n",
            "\u001b[1m720/720\u001b[0m \u001b[32m━━━━━━━━━━━━━━━━━━━━\u001b[0m\u001b[37m\u001b[0m \u001b[1m41s\u001b[0m 35ms/step - accuracy: 0.7675 - loss: 0.8112 - val_accuracy: 0.6783 - val_loss: 1.1360\n",
            "Epoch 45/80\n",
            "\u001b[1m720/720\u001b[0m \u001b[32m━━━━━━━━━━━━━━━━━━━━\u001b[0m\u001b[37m\u001b[0m \u001b[1m42s\u001b[0m 36ms/step - accuracy: 0.7646 - loss: 0.8190 - val_accuracy: 0.6773 - val_loss: 1.1443\n",
            "Epoch 46/80\n",
            "\u001b[1m720/720\u001b[0m \u001b[32m━━━━━━━━━━━━━━━━━━━━\u001b[0m\u001b[37m\u001b[0m \u001b[1m24s\u001b[0m 34ms/step - accuracy: 0.7716 - loss: 0.8009 - val_accuracy: 0.6769 - val_loss: 1.1359\n",
            "Epoch 47/80\n",
            "\u001b[1m720/720\u001b[0m \u001b[32m━━━━━━━━━━━━━━━━━━━━\u001b[0m\u001b[37m\u001b[0m \u001b[1m41s\u001b[0m 34ms/step - accuracy: 0.7706 - loss: 0.8007 - val_accuracy: 0.6878 - val_loss: 1.1432\n",
            "Epoch 48/80\n",
            "\u001b[1m720/720\u001b[0m \u001b[32m━━━━━━━━━━━━━━━━━━━━\u001b[0m\u001b[37m\u001b[0m \u001b[1m42s\u001b[0m 36ms/step - accuracy: 0.7757 - loss: 0.7870 - val_accuracy: 0.6873 - val_loss: 1.1338\n",
            "Epoch 49/80\n",
            "\u001b[1m720/720\u001b[0m \u001b[32m━━━━━━━━━━━━━━━━━━━━\u001b[0m\u001b[37m\u001b[0m \u001b[1m41s\u001b[0m 36ms/step - accuracy: 0.7792 - loss: 0.7882 - val_accuracy: 0.6977 - val_loss: 1.1254\n",
            "Epoch 50/80\n",
            "\u001b[1m720/720\u001b[0m \u001b[32m━━━━━━━━━━━━━━━━━━━━\u001b[0m\u001b[37m\u001b[0m \u001b[1m40s\u001b[0m 35ms/step - accuracy: 0.7836 - loss: 0.7696 - val_accuracy: 0.6884 - val_loss: 1.1217\n",
            "Epoch 51/80\n",
            "\u001b[1m720/720\u001b[0m \u001b[32m━━━━━━━━━━━━━━━━━━━━\u001b[0m\u001b[37m\u001b[0m \u001b[1m41s\u001b[0m 35ms/step - accuracy: 0.7827 - loss: 0.7694 - val_accuracy: 0.6944 - val_loss: 1.1310\n",
            "Epoch 52/80\n",
            "\u001b[1m720/720\u001b[0m \u001b[32m━━━━━━━━━━━━━━━━━━━━\u001b[0m\u001b[37m\u001b[0m \u001b[1m41s\u001b[0m 35ms/step - accuracy: 0.7844 - loss: 0.7699 - val_accuracy: 0.6866 - val_loss: 1.1293\n",
            "Epoch 53/80\n",
            "\u001b[1m720/720\u001b[0m \u001b[32m━━━━━━━━━━━━━━━━━━━━\u001b[0m\u001b[37m\u001b[0m \u001b[1m41s\u001b[0m 35ms/step - accuracy: 0.7892 - loss: 0.7658 - val_accuracy: 0.6974 - val_loss: 1.1278\n",
            "Epoch 54/80\n",
            "\u001b[1m720/720\u001b[0m \u001b[32m━━━━━━━━━━━━━━━━━━━━\u001b[0m\u001b[37m\u001b[0m \u001b[1m41s\u001b[0m 35ms/step - accuracy: 0.7865 - loss: 0.7704 - val_accuracy: 0.6953 - val_loss: 1.1397\n",
            "Epoch 55/80\n",
            "\u001b[1m720/720\u001b[0m \u001b[32m━━━━━━━━━━━━━━━━━━━━\u001b[0m\u001b[37m\u001b[0m \u001b[1m41s\u001b[0m 35ms/step - accuracy: 0.7875 - loss: 0.7611 - val_accuracy: 0.6974 - val_loss: 1.1170\n",
            "Epoch 56/80\n",
            "\u001b[1m720/720\u001b[0m \u001b[32m━━━━━━━━━━━━━━━━━━━━\u001b[0m\u001b[37m\u001b[0m \u001b[1m41s\u001b[0m 35ms/step - accuracy: 0.7953 - loss: 0.7456 - val_accuracy: 0.6981 - val_loss: 1.1345\n",
            "Epoch 57/80\n",
            "\u001b[1m720/720\u001b[0m \u001b[32m━━━━━━━━━━━━━━━━━━━━\u001b[0m\u001b[37m\u001b[0m \u001b[1m41s\u001b[0m 35ms/step - accuracy: 0.7939 - loss: 0.7431 - val_accuracy: 0.7005 - val_loss: 1.1325\n",
            "Epoch 58/80\n",
            "\u001b[1m720/720\u001b[0m \u001b[32m━━━━━━━━━━━━━━━━━━━━\u001b[0m\u001b[37m\u001b[0m \u001b[1m41s\u001b[0m 35ms/step - accuracy: 0.7888 - loss: 0.7455 - val_accuracy: 0.7023 - val_loss: 1.1250\n",
            "Epoch 59/80\n",
            "\u001b[1m720/720\u001b[0m \u001b[32m━━━━━━━━━━━━━━━━━━━━\u001b[0m\u001b[37m\u001b[0m \u001b[1m25s\u001b[0m 35ms/step - accuracy: 0.7955 - loss: 0.7431 - val_accuracy: 0.7040 - val_loss: 1.1258\n",
            "Epoch 60/80\n",
            "\u001b[1m720/720\u001b[0m \u001b[32m━━━━━━━━━━━━━━━━━━━━\u001b[0m\u001b[37m\u001b[0m \u001b[1m41s\u001b[0m 35ms/step - accuracy: 0.8040 - loss: 0.7252 - val_accuracy: 0.7063 - val_loss: 1.1137\n",
            "Epoch 61/80\n",
            "\u001b[1m720/720\u001b[0m \u001b[32m━━━━━━━━━━━━━━━━━━━━\u001b[0m\u001b[37m\u001b[0m \u001b[1m41s\u001b[0m 35ms/step - accuracy: 0.8003 - loss: 0.7291 - val_accuracy: 0.7073 - val_loss: 1.1100\n",
            "Epoch 62/80\n",
            "\u001b[1m720/720\u001b[0m \u001b[32m━━━━━━━━━━━━━━━━━━━━\u001b[0m\u001b[37m\u001b[0m \u001b[1m41s\u001b[0m 35ms/step - accuracy: 0.7998 - loss: 0.7243 - val_accuracy: 0.7108 - val_loss: 1.1100\n",
            "Epoch 63/80\n",
            "\u001b[1m720/720\u001b[0m \u001b[32m━━━━━━━━━━━━━━━━━━━━\u001b[0m\u001b[37m\u001b[0m \u001b[1m41s\u001b[0m 35ms/step - accuracy: 0.8064 - loss: 0.7204 - val_accuracy: 0.7089 - val_loss: 1.1098\n",
            "Epoch 64/80\n",
            "\u001b[1m720/720\u001b[0m \u001b[32m━━━━━━━━━━━━━━━━━━━━\u001b[0m\u001b[37m\u001b[0m \u001b[1m25s\u001b[0m 35ms/step - accuracy: 0.8045 - loss: 0.7212 - val_accuracy: 0.7156 - val_loss: 1.1035\n",
            "Epoch 65/80\n",
            "\u001b[1m720/720\u001b[0m \u001b[32m━━━━━━━━━━━━━━━━━━━━\u001b[0m\u001b[37m\u001b[0m \u001b[1m41s\u001b[0m 35ms/step - accuracy: 0.8081 - loss: 0.7056 - val_accuracy: 0.7128 - val_loss: 1.1183\n",
            "Epoch 66/80\n",
            "\u001b[1m720/720\u001b[0m \u001b[32m━━━━━━━━━━━━━━━━━━━━\u001b[0m\u001b[37m\u001b[0m \u001b[1m25s\u001b[0m 35ms/step - accuracy: 0.8047 - loss: 0.7175 - val_accuracy: 0.7012 - val_loss: 1.1367\n",
            "Epoch 67/80\n",
            "\u001b[1m720/720\u001b[0m \u001b[32m━━━━━━━━━━━━━━━━━━━━\u001b[0m\u001b[37m\u001b[0m \u001b[1m25s\u001b[0m 35ms/step - accuracy: 0.8061 - loss: 0.7148 - val_accuracy: 0.6974 - val_loss: 1.1427\n",
            "Epoch 68/80\n",
            "\u001b[1m720/720\u001b[0m \u001b[32m━━━━━━━━━━━━━━━━━━━━\u001b[0m\u001b[37m\u001b[0m \u001b[1m41s\u001b[0m 35ms/step - accuracy: 0.8051 - loss: 0.7087 - val_accuracy: 0.7127 - val_loss: 1.1221\n",
            "Epoch 69/80\n",
            "\u001b[1m720/720\u001b[0m \u001b[32m━━━━━━━━━━━━━━━━━━━━\u001b[0m\u001b[37m\u001b[0m \u001b[1m25s\u001b[0m 35ms/step - accuracy: 0.8105 - loss: 0.7008 - val_accuracy: 0.7170 - val_loss: 1.1055\n",
            "Epoch 70/80\n",
            "\u001b[1m720/720\u001b[0m \u001b[32m━━━━━━━━━━━━━━━━━━━━\u001b[0m\u001b[37m\u001b[0m \u001b[1m41s\u001b[0m 35ms/step - accuracy: 0.8102 - loss: 0.7036 - val_accuracy: 0.7205 - val_loss: 1.1064\n",
            "Epoch 71/80\n",
            "\u001b[1m720/720\u001b[0m \u001b[32m━━━━━━━━━━━━━━━━━━━━\u001b[0m\u001b[37m\u001b[0m \u001b[1m41s\u001b[0m 35ms/step - accuracy: 0.8139 - loss: 0.6958 - val_accuracy: 0.7222 - val_loss: 1.1026\n",
            "Epoch 72/80\n",
            "\u001b[1m720/720\u001b[0m \u001b[32m━━━━━━━━━━━━━━━━━━━━\u001b[0m\u001b[37m\u001b[0m \u001b[1m41s\u001b[0m 35ms/step - accuracy: 0.8122 - loss: 0.6895 - val_accuracy: 0.7266 - val_loss: 1.1151\n",
            "Epoch 73/80\n",
            "\u001b[1m720/720\u001b[0m \u001b[32m━━━━━━━━━━━━━━━━━━━━\u001b[0m\u001b[37m\u001b[0m \u001b[1m25s\u001b[0m 35ms/step - accuracy: 0.8118 - loss: 0.6911 - val_accuracy: 0.7217 - val_loss: 1.1160\n",
            "Epoch 74/80\n",
            "\u001b[1m720/720\u001b[0m \u001b[32m━━━━━━━━━━━━━━━━━━━━\u001b[0m\u001b[37m\u001b[0m \u001b[1m41s\u001b[0m 35ms/step - accuracy: 0.8166 - loss: 0.6831 - val_accuracy: 0.7238 - val_loss: 1.0982\n",
            "Epoch 75/80\n",
            "\u001b[1m720/720\u001b[0m \u001b[32m━━━━━━━━━━━━━━━━━━━━\u001b[0m\u001b[37m\u001b[0m \u001b[1m25s\u001b[0m 34ms/step - accuracy: 0.8225 - loss: 0.6706 - val_accuracy: 0.7172 - val_loss: 1.1125\n",
            "Epoch 76/80\n",
            "\u001b[1m720/720\u001b[0m \u001b[32m━━━━━━━━━━━━━━━━━━━━\u001b[0m\u001b[37m\u001b[0m \u001b[1m41s\u001b[0m 35ms/step - accuracy: 0.8190 - loss: 0.6768 - val_accuracy: 0.7181 - val_loss: 1.1231\n",
            "Epoch 77/80\n",
            "\u001b[1m720/720\u001b[0m \u001b[32m━━━━━━━━━━━━━━━━━━━━\u001b[0m\u001b[37m\u001b[0m \u001b[1m25s\u001b[0m 35ms/step - accuracy: 0.8132 - loss: 0.6843 - val_accuracy: 0.7255 - val_loss: 1.1068\n",
            "Epoch 78/80\n",
            "\u001b[1m720/720\u001b[0m \u001b[32m━━━━━━━━━━━━━━━━━━━━\u001b[0m\u001b[37m\u001b[0m \u001b[1m41s\u001b[0m 35ms/step - accuracy: 0.8169 - loss: 0.6758 - val_accuracy: 0.7245 - val_loss: 1.1258\n",
            "Epoch 79/80\n",
            "\u001b[1m720/720\u001b[0m \u001b[32m━━━━━━━━━━━━━━━━━━━━\u001b[0m\u001b[37m\u001b[0m \u001b[1m41s\u001b[0m 35ms/step - accuracy: 0.8213 - loss: 0.6683 - val_accuracy: 0.7193 - val_loss: 1.1152\n",
            "Epoch 80/80\n",
            "\u001b[1m720/720\u001b[0m \u001b[32m━━━━━━━━━━━━━━━━━━━━\u001b[0m\u001b[37m\u001b[0m \u001b[1m42s\u001b[0m 36ms/step - accuracy: 0.8280 - loss: 0.6601 - val_accuracy: 0.7194 - val_loss: 1.1294\n"
          ]
        },
        {
          "output_type": "execute_result",
          "data": {
            "text/plain": [
              "<keras.src.callbacks.history.History at 0x7c5b6e7a47c0>"
            ]
          },
          "metadata": {},
          "execution_count": 11
        }
      ]
    },
    {
      "cell_type": "code",
      "source": [
        "from sklearn.metrics import classification_report\n",
        "\n",
        "# Predict on the test set\n",
        "y_pred = np.argmax(model.predict(x_test_emb), axis=1)\n",
        "\n",
        "# Print classification report\n",
        "print(\"Results for RNN with Word2Vec:\")\n",
        "print(classification_report(y_test, y_pred))\n"
      ],
      "metadata": {
        "id": "I5xAq6ub-rNd",
        "outputId": "61102e19-4980-48f3-e33f-06915ddda17e",
        "colab": {
          "base_uri": "https://localhost:8080/"
        }
      },
      "execution_count": null,
      "outputs": [
        {
          "output_type": "stream",
          "name": "stdout",
          "text": [
            "\u001b[1m225/225\u001b[0m \u001b[32m━━━━━━━━━━━━━━━━━━━━\u001b[0m\u001b[37m\u001b[0m \u001b[1m3s\u001b[0m 12ms/step\n",
            "Results for RNN with Word2Vec:\n",
            "              precision    recall  f1-score   support\n",
            "\n",
            "           0       0.64      0.73      0.68      1226\n",
            "           1       0.73      0.79      0.76      1188\n",
            "           2       0.75      0.84      0.79      1129\n",
            "           3       0.78      0.69      0.73      1246\n",
            "           4       0.64      0.42      0.51      1244\n",
            "           5       0.74      0.84      0.79      1167\n",
            "\n",
            "    accuracy                           0.71      7200\n",
            "   macro avg       0.71      0.72      0.71      7200\n",
            "weighted avg       0.71      0.71      0.71      7200\n",
            "\n"
          ]
        }
      ]
    },
    {
      "cell_type": "markdown",
      "source": [
        "##CNN+BGRU"
      ],
      "metadata": {
        "id": "WBqyYldZ-sYT"
      }
    },
    {
      "cell_type": "code",
      "source": [
        "import numpy as np\n",
        "from tensorflow.keras.models import Sequential\n",
        "from tensorflow.keras.layers import Conv1D, MaxPooling1D, GRU, Dense, Masking, Bidirectional, Dropout\n",
        "\n",
        "# Define the CNN + BGRU model\n",
        "model = Sequential()\n",
        "model.add(Masking(mask_value=0., input_shape=(max_sequence_length, 100)))\n",
        "\n",
        "# CNN Layer\n",
        "model.add(Conv1D(filters=64, kernel_size=3, padding='same', activation='relu'))\n",
        "model.add(MaxPooling1D(pool_size=2))\n",
        "\n",
        "# BGRU Layer\n",
        "model.add(Bidirectional(GRU(units=128, return_sequences=False, recurrent_regularizer='l2', use_bias=False, kernel_initializer='lecun_uniform', implementation=1)))\n",
        "\n",
        "# Fully Connected Layer\n",
        "model.add(Dense(units=64, activation='relu'))\n",
        "model.add(Dropout(0.5))\n",
        "\n",
        "# Output Layer\n",
        "model.add(Dense(units=6, activation='softmax'))\n",
        "\n",
        "model.compile(loss='sparse_categorical_crossentropy', optimizer='adam', metrics=['accuracy'])\n",
        "model.summary()\n",
        "\n",
        "# Train the model\n",
        "model.fit(x_train_emb, y_train, epochs=40, batch_size=32, validation_split=0.2)\n"
      ],
      "metadata": {
        "id": "FaumfQ8v-nR0",
        "outputId": "c4be08f0-a229-4200-f37e-6615ecb379fa",
        "colab": {
          "base_uri": "https://localhost:8080/",
          "height": 1000
        }
      },
      "execution_count": null,
      "outputs": [
        {
          "metadata": {
            "tags": null
          },
          "name": "stderr",
          "output_type": "stream",
          "text": [
            "/usr/local/lib/python3.10/dist-packages/keras/src/layers/core/masking.py:47: UserWarning: Do not pass an `input_shape`/`input_dim` argument to a layer. When using Sequential models, prefer using an `Input(shape)` object as the first layer in the model instead.\n",
            "  super().__init__(**kwargs)\n",
            "/usr/local/lib/python3.10/dist-packages/keras/src/layers/layer.py:915: UserWarning: Layer 'conv1d_1' (of type Conv1D) was passed an input with a mask attached to it. However, this layer does not support masking and will therefore destroy the mask information. Downstream layers will not see the mask.\n",
            "  warnings.warn(\n"
          ]
        },
        {
          "data": {
            "text/html": [
              "<pre style=\"white-space:pre;overflow-x:auto;line-height:normal;font-family:Menlo,'DejaVu Sans Mono',consolas,'Courier New',monospace\"><span style=\"font-weight: bold\">Model: \"sequential_4\"</span>\n",
              "</pre>\n"
            ],
            "text/plain": [
              "\u001b[1mModel: \"sequential_4\"\u001b[0m\n"
            ]
          },
          "metadata": {},
          "output_type": "display_data"
        },
        {
          "data": {
            "text/html": [
              "<pre style=\"white-space:pre;overflow-x:auto;line-height:normal;font-family:Menlo,'DejaVu Sans Mono',consolas,'Courier New',monospace\">┏━━━━━━━━━━━━━━━━━━━━━━━━━━━━━━━━━━━━━━┳━━━━━━━━━━━━━━━━━━━━━━━━━━━━━┳━━━━━━━━━━━━━━━━━┓\n",
              "┃<span style=\"font-weight: bold\"> Layer (type)                         </span>┃<span style=\"font-weight: bold\"> Output Shape                </span>┃<span style=\"font-weight: bold\">         Param # </span>┃\n",
              "┡━━━━━━━━━━━━━━━━━━━━━━━━━━━━━━━━━━━━━━╇━━━━━━━━━━━━━━━━━━━━━━━━━━━━━╇━━━━━━━━━━━━━━━━━┩\n",
              "│ masking_4 (<span style=\"color: #0087ff; text-decoration-color: #0087ff\">Masking</span>)                  │ (<span style=\"color: #00d7ff; text-decoration-color: #00d7ff\">None</span>, <span style=\"color: #00af00; text-decoration-color: #00af00\">100</span>, <span style=\"color: #00af00; text-decoration-color: #00af00\">100</span>)            │               <span style=\"color: #00af00; text-decoration-color: #00af00\">0</span> │\n",
              "├──────────────────────────────────────┼─────────────────────────────┼─────────────────┤\n",
              "│ conv1d_1 (<span style=\"color: #0087ff; text-decoration-color: #0087ff\">Conv1D</span>)                    │ (<span style=\"color: #00d7ff; text-decoration-color: #00d7ff\">None</span>, <span style=\"color: #00af00; text-decoration-color: #00af00\">100</span>, <span style=\"color: #00af00; text-decoration-color: #00af00\">64</span>)             │          <span style=\"color: #00af00; text-decoration-color: #00af00\">19,264</span> │\n",
              "├──────────────────────────────────────┼─────────────────────────────┼─────────────────┤\n",
              "│ max_pooling1d_1 (<span style=\"color: #0087ff; text-decoration-color: #0087ff\">MaxPooling1D</span>)       │ (<span style=\"color: #00d7ff; text-decoration-color: #00d7ff\">None</span>, <span style=\"color: #00af00; text-decoration-color: #00af00\">50</span>, <span style=\"color: #00af00; text-decoration-color: #00af00\">64</span>)              │               <span style=\"color: #00af00; text-decoration-color: #00af00\">0</span> │\n",
              "├──────────────────────────────────────┼─────────────────────────────┼─────────────────┤\n",
              "│ bidirectional_4 (<span style=\"color: #0087ff; text-decoration-color: #0087ff\">Bidirectional</span>)      │ (<span style=\"color: #00d7ff; text-decoration-color: #00d7ff\">None</span>, <span style=\"color: #00af00; text-decoration-color: #00af00\">256</span>)                 │         <span style=\"color: #00af00; text-decoration-color: #00af00\">147,456</span> │\n",
              "├──────────────────────────────────────┼─────────────────────────────┼─────────────────┤\n",
              "│ dense_5 (<span style=\"color: #0087ff; text-decoration-color: #0087ff\">Dense</span>)                      │ (<span style=\"color: #00d7ff; text-decoration-color: #00d7ff\">None</span>, <span style=\"color: #00af00; text-decoration-color: #00af00\">64</span>)                  │          <span style=\"color: #00af00; text-decoration-color: #00af00\">16,448</span> │\n",
              "├──────────────────────────────────────┼─────────────────────────────┼─────────────────┤\n",
              "│ dropout_1 (<span style=\"color: #0087ff; text-decoration-color: #0087ff\">Dropout</span>)                  │ (<span style=\"color: #00d7ff; text-decoration-color: #00d7ff\">None</span>, <span style=\"color: #00af00; text-decoration-color: #00af00\">64</span>)                  │               <span style=\"color: #00af00; text-decoration-color: #00af00\">0</span> │\n",
              "├──────────────────────────────────────┼─────────────────────────────┼─────────────────┤\n",
              "│ dense_6 (<span style=\"color: #0087ff; text-decoration-color: #0087ff\">Dense</span>)                      │ (<span style=\"color: #00d7ff; text-decoration-color: #00d7ff\">None</span>, <span style=\"color: #00af00; text-decoration-color: #00af00\">6</span>)                   │             <span style=\"color: #00af00; text-decoration-color: #00af00\">390</span> │\n",
              "└──────────────────────────────────────┴─────────────────────────────┴─────────────────┘\n",
              "</pre>\n"
            ],
            "text/plain": [
              "┏━━━━━━━━━━━━━━━━━━━━━━━━━━━━━━━━━━━━━━┳━━━━━━━━━━━━━━━━━━━━━━━━━━━━━┳━━━━━━━━━━━━━━━━━┓\n",
              "┃\u001b[1m \u001b[0m\u001b[1mLayer (type)                        \u001b[0m\u001b[1m \u001b[0m┃\u001b[1m \u001b[0m\u001b[1mOutput Shape               \u001b[0m\u001b[1m \u001b[0m┃\u001b[1m \u001b[0m\u001b[1m        Param #\u001b[0m\u001b[1m \u001b[0m┃\n",
              "┡━━━━━━━━━━━━━━━━━━━━━━━━━━━━━━━━━━━━━━╇━━━━━━━━━━━━━━━━━━━━━━━━━━━━━╇━━━━━━━━━━━━━━━━━┩\n",
              "│ masking_4 (\u001b[38;5;33mMasking\u001b[0m)                  │ (\u001b[38;5;45mNone\u001b[0m, \u001b[38;5;34m100\u001b[0m, \u001b[38;5;34m100\u001b[0m)            │               \u001b[38;5;34m0\u001b[0m │\n",
              "├──────────────────────────────────────┼─────────────────────────────┼─────────────────┤\n",
              "│ conv1d_1 (\u001b[38;5;33mConv1D\u001b[0m)                    │ (\u001b[38;5;45mNone\u001b[0m, \u001b[38;5;34m100\u001b[0m, \u001b[38;5;34m64\u001b[0m)             │          \u001b[38;5;34m19,264\u001b[0m │\n",
              "├──────────────────────────────────────┼─────────────────────────────┼─────────────────┤\n",
              "│ max_pooling1d_1 (\u001b[38;5;33mMaxPooling1D\u001b[0m)       │ (\u001b[38;5;45mNone\u001b[0m, \u001b[38;5;34m50\u001b[0m, \u001b[38;5;34m64\u001b[0m)              │               \u001b[38;5;34m0\u001b[0m │\n",
              "├──────────────────────────────────────┼─────────────────────────────┼─────────────────┤\n",
              "│ bidirectional_4 (\u001b[38;5;33mBidirectional\u001b[0m)      │ (\u001b[38;5;45mNone\u001b[0m, \u001b[38;5;34m256\u001b[0m)                 │         \u001b[38;5;34m147,456\u001b[0m │\n",
              "├──────────────────────────────────────┼─────────────────────────────┼─────────────────┤\n",
              "│ dense_5 (\u001b[38;5;33mDense\u001b[0m)                      │ (\u001b[38;5;45mNone\u001b[0m, \u001b[38;5;34m64\u001b[0m)                  │          \u001b[38;5;34m16,448\u001b[0m │\n",
              "├──────────────────────────────────────┼─────────────────────────────┼─────────────────┤\n",
              "│ dropout_1 (\u001b[38;5;33mDropout\u001b[0m)                  │ (\u001b[38;5;45mNone\u001b[0m, \u001b[38;5;34m64\u001b[0m)                  │               \u001b[38;5;34m0\u001b[0m │\n",
              "├──────────────────────────────────────┼─────────────────────────────┼─────────────────┤\n",
              "│ dense_6 (\u001b[38;5;33mDense\u001b[0m)                      │ (\u001b[38;5;45mNone\u001b[0m, \u001b[38;5;34m6\u001b[0m)                   │             \u001b[38;5;34m390\u001b[0m │\n",
              "└──────────────────────────────────────┴─────────────────────────────┴─────────────────┘\n"
            ]
          },
          "metadata": {},
          "output_type": "display_data"
        },
        {
          "data": {
            "text/html": [
              "<pre style=\"white-space:pre;overflow-x:auto;line-height:normal;font-family:Menlo,'DejaVu Sans Mono',consolas,'Courier New',monospace\"><span style=\"font-weight: bold\"> Total params: </span><span style=\"color: #00af00; text-decoration-color: #00af00\">183,558</span> (717.02 KB)\n",
              "</pre>\n"
            ],
            "text/plain": [
              "\u001b[1m Total params: \u001b[0m\u001b[38;5;34m183,558\u001b[0m (717.02 KB)\n"
            ]
          },
          "metadata": {},
          "output_type": "display_data"
        },
        {
          "data": {
            "text/html": [
              "<pre style=\"white-space:pre;overflow-x:auto;line-height:normal;font-family:Menlo,'DejaVu Sans Mono',consolas,'Courier New',monospace\"><span style=\"font-weight: bold\"> Trainable params: </span><span style=\"color: #00af00; text-decoration-color: #00af00\">183,558</span> (717.02 KB)\n",
              "</pre>\n"
            ],
            "text/plain": [
              "\u001b[1m Trainable params: \u001b[0m\u001b[38;5;34m183,558\u001b[0m (717.02 KB)\n"
            ]
          },
          "metadata": {},
          "output_type": "display_data"
        },
        {
          "data": {
            "text/html": [
              "<pre style=\"white-space:pre;overflow-x:auto;line-height:normal;font-family:Menlo,'DejaVu Sans Mono',consolas,'Courier New',monospace\"><span style=\"font-weight: bold\"> Non-trainable params: </span><span style=\"color: #00af00; text-decoration-color: #00af00\">0</span> (0.00 B)\n",
              "</pre>\n"
            ],
            "text/plain": [
              "\u001b[1m Non-trainable params: \u001b[0m\u001b[38;5;34m0\u001b[0m (0.00 B)\n"
            ]
          },
          "metadata": {},
          "output_type": "display_data"
        },
        {
          "output_type": "stream",
          "name": "stdout",
          "text": [
            "Epoch 1/20\n",
            "\u001b[1m720/720\u001b[0m \u001b[32m━━━━━━━━━━━━━━━━━━━━\u001b[0m\u001b[37m\u001b[0m \u001b[1m23s\u001b[0m 26ms/step - accuracy: 0.1857 - loss: 2.2496 - val_accuracy: 0.2708 - val_loss: 1.7392\n",
            "Epoch 2/20\n",
            "\u001b[1m720/720\u001b[0m \u001b[32m━━━━━━━━━━━━━━━━━━━━\u001b[0m\u001b[37m\u001b[0m \u001b[1m17s\u001b[0m 24ms/step - accuracy: 0.2711 - loss: 1.7223 - val_accuracy: 0.3363 - val_loss: 1.6355\n",
            "Epoch 3/20\n",
            "\u001b[1m720/720\u001b[0m \u001b[32m━━━━━━━━━━━━━━━━━━━━\u001b[0m\u001b[37m\u001b[0m \u001b[1m17s\u001b[0m 23ms/step - accuracy: 0.3414 - loss: 1.6239 - val_accuracy: 0.3974 - val_loss: 1.5534\n",
            "Epoch 4/20\n",
            "\u001b[1m720/720\u001b[0m \u001b[32m━━━━━━━━━━━━━━━━━━━━\u001b[0m\u001b[37m\u001b[0m \u001b[1m17s\u001b[0m 24ms/step - accuracy: 0.4074 - loss: 1.5161 - val_accuracy: 0.4389 - val_loss: 1.4459\n",
            "Epoch 5/20\n",
            "\u001b[1m720/720\u001b[0m \u001b[32m━━━━━━━━━━━━━━━━━━━━\u001b[0m\u001b[37m\u001b[0m \u001b[1m21s\u001b[0m 24ms/step - accuracy: 0.4461 - loss: 1.4192 - val_accuracy: 0.4701 - val_loss: 1.3792\n",
            "Epoch 6/20\n",
            "\u001b[1m720/720\u001b[0m \u001b[32m━━━━━━━━━━━━━━━━━━━━\u001b[0m\u001b[37m\u001b[0m \u001b[1m18s\u001b[0m 25ms/step - accuracy: 0.4983 - loss: 1.3175 - val_accuracy: 0.5194 - val_loss: 1.2766\n",
            "Epoch 7/20\n",
            "\u001b[1m720/720\u001b[0m \u001b[32m━━━━━━━━━━━━━━━━━━━━\u001b[0m\u001b[37m\u001b[0m \u001b[1m20s\u001b[0m 24ms/step - accuracy: 0.5386 - loss: 1.2252 - val_accuracy: 0.5488 - val_loss: 1.2052\n",
            "Epoch 8/20\n",
            "\u001b[1m720/720\u001b[0m \u001b[32m━━━━━━━━━━━━━━━━━━━━\u001b[0m\u001b[37m\u001b[0m \u001b[1m18s\u001b[0m 25ms/step - accuracy: 0.5817 - loss: 1.1358 - val_accuracy: 0.5915 - val_loss: 1.1351\n",
            "Epoch 9/20\n",
            "\u001b[1m720/720\u001b[0m \u001b[32m━━━━━━━━━━━━━━━━━━━━\u001b[0m\u001b[37m\u001b[0m \u001b[1m18s\u001b[0m 24ms/step - accuracy: 0.6139 - loss: 1.0446 - val_accuracy: 0.6163 - val_loss: 1.0858\n",
            "Epoch 10/20\n",
            "\u001b[1m720/720\u001b[0m \u001b[32m━━━━━━━━━━━━━━━━━━━━\u001b[0m\u001b[37m\u001b[0m \u001b[1m21s\u001b[0m 25ms/step - accuracy: 0.6466 - loss: 0.9777 - val_accuracy: 0.6465 - val_loss: 1.0289\n",
            "Epoch 11/20\n",
            "\u001b[1m720/720\u001b[0m \u001b[32m━━━━━━━━━━━━━━━━━━━━\u001b[0m\u001b[37m\u001b[0m \u001b[1m20s\u001b[0m 24ms/step - accuracy: 0.6742 - loss: 0.9105 - val_accuracy: 0.6708 - val_loss: 0.9965\n",
            "Epoch 12/20\n",
            "\u001b[1m720/720\u001b[0m \u001b[32m━━━━━━━━━━━━━━━━━━━━\u001b[0m\u001b[37m\u001b[0m \u001b[1m18s\u001b[0m 24ms/step - accuracy: 0.6940 - loss: 0.8619 - val_accuracy: 0.6839 - val_loss: 0.9692\n",
            "Epoch 13/20\n",
            "\u001b[1m720/720\u001b[0m \u001b[32m━━━━━━━━━━━━━━━━━━━━\u001b[0m\u001b[37m\u001b[0m \u001b[1m17s\u001b[0m 24ms/step - accuracy: 0.7034 - loss: 0.8258 - val_accuracy: 0.6962 - val_loss: 0.9402\n",
            "Epoch 14/20\n",
            "\u001b[1m720/720\u001b[0m \u001b[32m━━━━━━━━━━━━━━━━━━━━\u001b[0m\u001b[37m\u001b[0m \u001b[1m20s\u001b[0m 24ms/step - accuracy: 0.7251 - loss: 0.7709 - val_accuracy: 0.7054 - val_loss: 0.9244\n",
            "Epoch 15/20\n",
            "\u001b[1m720/720\u001b[0m \u001b[32m━━━━━━━━━━━━━━━━━━━━\u001b[0m\u001b[37m\u001b[0m \u001b[1m20s\u001b[0m 24ms/step - accuracy: 0.7448 - loss: 0.7371 - val_accuracy: 0.7118 - val_loss: 0.9282\n",
            "Epoch 16/20\n",
            "\u001b[1m720/720\u001b[0m \u001b[32m━━━━━━━━━━━━━━━━━━━━\u001b[0m\u001b[37m\u001b[0m \u001b[1m21s\u001b[0m 25ms/step - accuracy: 0.7517 - loss: 0.7008 - val_accuracy: 0.7273 - val_loss: 0.9108\n",
            "Epoch 17/20\n",
            "\u001b[1m720/720\u001b[0m \u001b[32m━━━━━━━━━━━━━━━━━━━━\u001b[0m\u001b[37m\u001b[0m \u001b[1m17s\u001b[0m 24ms/step - accuracy: 0.7622 - loss: 0.6741 - val_accuracy: 0.7316 - val_loss: 0.9210\n",
            "Epoch 18/20\n",
            "\u001b[1m720/720\u001b[0m \u001b[32m━━━━━━━━━━━━━━━━━━━━\u001b[0m\u001b[37m\u001b[0m \u001b[1m21s\u001b[0m 24ms/step - accuracy: 0.7732 - loss: 0.6482 - val_accuracy: 0.7389 - val_loss: 0.9035\n",
            "Epoch 19/20\n",
            "\u001b[1m720/720\u001b[0m \u001b[32m━━━━━━━━━━━━━━━━━━━━\u001b[0m\u001b[37m\u001b[0m \u001b[1m17s\u001b[0m 24ms/step - accuracy: 0.7857 - loss: 0.6132 - val_accuracy: 0.7342 - val_loss: 0.9091\n",
            "Epoch 20/20\n",
            "\u001b[1m720/720\u001b[0m \u001b[32m━━━━━━━━━━━━━━━━━━━━\u001b[0m\u001b[37m\u001b[0m \u001b[1m21s\u001b[0m 24ms/step - accuracy: 0.7924 - loss: 0.5914 - val_accuracy: 0.7413 - val_loss: 0.9180\n"
          ]
        },
        {
          "output_type": "execute_result",
          "data": {
            "text/plain": [
              "<keras.src.callbacks.history.History at 0x7e06140d5840>"
            ]
          },
          "metadata": {},
          "execution_count": 20
        }
      ]
    },
    {
      "cell_type": "code",
      "source": [
        "from sklearn.metrics import classification_report\n",
        "\n",
        "# Predict on the test set\n",
        "y_pred = np.argmax(model.predict(x_test_emb), axis=1)\n",
        "\n",
        "# Print classification report\n",
        "print(\"Results for RNN with Word2Vec:\")\n",
        "print(classification_report(y_test, y_pred))\n"
      ],
      "metadata": {
        "id": "tK4R073r-yQj",
        "outputId": "27fd00f8-eee5-48cf-e276-47b4219d4c46",
        "colab": {
          "base_uri": "https://localhost:8080/"
        }
      },
      "execution_count": null,
      "outputs": [
        {
          "output_type": "stream",
          "name": "stdout",
          "text": [
            "\u001b[1m225/225\u001b[0m \u001b[32m━━━━━━━━━━━━━━━━━━━━\u001b[0m\u001b[37m\u001b[0m \u001b[1m2s\u001b[0m 6ms/step\n",
            "Results for RNN with Word2Vec:\n",
            "              precision    recall  f1-score   support\n",
            "\n",
            "           0       0.67      0.73      0.70      1226\n",
            "           1       0.74      0.80      0.77      1188\n",
            "           2       0.80      0.84      0.82      1129\n",
            "           3       0.85      0.71      0.77      1246\n",
            "           4       0.55      0.52      0.54      1244\n",
            "           5       0.82      0.82      0.82      1167\n",
            "\n",
            "    accuracy                           0.73      7200\n",
            "   macro avg       0.74      0.74      0.73      7200\n",
            "weighted avg       0.73      0.73      0.73      7200\n",
            "\n"
          ]
        }
      ]
    },
    {
      "cell_type": "markdown",
      "source": [
        "cnn+bgru+bilstm"
      ],
      "metadata": {
        "id": "NOWlmM23y4qT"
      }
    },
    {
      "cell_type": "code",
      "source": [
        "import numpy as np\n",
        "from tensorflow.keras.models import Sequential\n",
        "from tensorflow.keras.layers import Conv1D, MaxPooling1D, GRU, LSTM, Dense, Masking, Bidirectional, Dropout\n",
        "\n",
        "# Define the CNN + BiLSTM + BGRU + BiLSTM model\n",
        "model = Sequential()\n",
        "model.add(Masking(mask_value=0., input_shape=(max_sequence_length, 100)))\n",
        "\n",
        "# CNN Layer\n",
        "model.add(Conv1D(filters=64, kernel_size=3, padding='same', activation='relu'))\n",
        "model.add(MaxPooling1D(pool_size=2))\n",
        "\n",
        "# First BiLSTM Layer (before BGRU)\n",
        "model.add(Bidirectional(LSTM(units=64, return_sequences=True, recurrent_regularizer='l2', use_bias=False, kernel_initializer='lecun_uniform')))\n",
        "\n",
        "# BGRU Layer\n",
        "model.add(Bidirectional(GRU(units=128, return_sequences=True, recurrent_regularizer='l2', use_bias=False, kernel_initializer='lecun_uniform', implementation=1)))\n",
        "\n",
        "# Second BiLSTM Layer (after BGRU)\n",
        "model.add(Bidirectional(LSTM(units=64, return_sequences=False, recurrent_regularizer='l2', use_bias=False, kernel_initializer='lecun_uniform')))\n",
        "\n",
        "# Fully Connected Layer\n",
        "model.add(Dense(units=64, activation='relu'))\n",
        "model.add(Dropout(0.3))\n",
        "\n",
        "# Output Layer\n",
        "model.add(Dense(units=6, activation='softmax'))\n",
        "\n",
        "model.compile(loss='sparse_categorical_crossentropy', optimizer='adam', metrics=['accuracy'])\n",
        "model.summary()\n",
        "\n",
        "# Train the model\n",
        "model.fit(x_train_emb, y_train, epochs=40, batch_size=64, validation_split=0.2)\n"
      ],
      "metadata": {
        "id": "eV5UfN_gy4XM",
        "outputId": "9f7ab7c9-64c9-4c05-e11a-7c78a2af294f",
        "colab": {
          "base_uri": "https://localhost:8080/",
          "height": 1000
        }
      },
      "execution_count": 27,
      "outputs": [
        {
          "metadata": {
            "tags": null
          },
          "name": "stderr",
          "output_type": "stream",
          "text": [
            "/usr/local/lib/python3.10/dist-packages/keras/src/layers/layer.py:915: UserWarning: Layer 'conv1d_12' (of type Conv1D) was passed an input with a mask attached to it. However, this layer does not support masking and will therefore destroy the mask information. Downstream layers will not see the mask.\n",
            "  warnings.warn(\n"
          ]
        },
        {
          "data": {
            "text/html": [
              "<pre style=\"white-space:pre;overflow-x:auto;line-height:normal;font-family:Menlo,'DejaVu Sans Mono',consolas,'Courier New',monospace\"><span style=\"font-weight: bold\">Model: \"sequential_13\"</span>\n",
              "</pre>\n"
            ],
            "text/plain": [
              "\u001b[1mModel: \"sequential_13\"\u001b[0m\n"
            ]
          },
          "metadata": {},
          "output_type": "display_data"
        },
        {
          "data": {
            "text/html": [
              "<pre style=\"white-space:pre;overflow-x:auto;line-height:normal;font-family:Menlo,'DejaVu Sans Mono',consolas,'Courier New',monospace\">┏━━━━━━━━━━━━━━━━━━━━━━━━━━━━━━━━━━━━━━┳━━━━━━━━━━━━━━━━━━━━━━━━━━━━━┳━━━━━━━━━━━━━━━━━┓\n",
              "┃<span style=\"font-weight: bold\"> Layer (type)                         </span>┃<span style=\"font-weight: bold\"> Output Shape                </span>┃<span style=\"font-weight: bold\">         Param # </span>┃\n",
              "┡━━━━━━━━━━━━━━━━━━━━━━━━━━━━━━━━━━━━━━╇━━━━━━━━━━━━━━━━━━━━━━━━━━━━━╇━━━━━━━━━━━━━━━━━┩\n",
              "│ masking_12 (<span style=\"color: #0087ff; text-decoration-color: #0087ff\">Masking</span>)                 │ (<span style=\"color: #00d7ff; text-decoration-color: #00d7ff\">None</span>, <span style=\"color: #00af00; text-decoration-color: #00af00\">100</span>, <span style=\"color: #00af00; text-decoration-color: #00af00\">100</span>)            │               <span style=\"color: #00af00; text-decoration-color: #00af00\">0</span> │\n",
              "├──────────────────────────────────────┼─────────────────────────────┼─────────────────┤\n",
              "│ conv1d_12 (<span style=\"color: #0087ff; text-decoration-color: #0087ff\">Conv1D</span>)                   │ (<span style=\"color: #00d7ff; text-decoration-color: #00d7ff\">None</span>, <span style=\"color: #00af00; text-decoration-color: #00af00\">100</span>, <span style=\"color: #00af00; text-decoration-color: #00af00\">64</span>)             │          <span style=\"color: #00af00; text-decoration-color: #00af00\">19,264</span> │\n",
              "├──────────────────────────────────────┼─────────────────────────────┼─────────────────┤\n",
              "│ max_pooling1d_12 (<span style=\"color: #0087ff; text-decoration-color: #0087ff\">MaxPooling1D</span>)      │ (<span style=\"color: #00d7ff; text-decoration-color: #00d7ff\">None</span>, <span style=\"color: #00af00; text-decoration-color: #00af00\">50</span>, <span style=\"color: #00af00; text-decoration-color: #00af00\">64</span>)              │               <span style=\"color: #00af00; text-decoration-color: #00af00\">0</span> │\n",
              "├──────────────────────────────────────┼─────────────────────────────┼─────────────────┤\n",
              "│ bidirectional_22 (<span style=\"color: #0087ff; text-decoration-color: #0087ff\">Bidirectional</span>)     │ (<span style=\"color: #00d7ff; text-decoration-color: #00d7ff\">None</span>, <span style=\"color: #00af00; text-decoration-color: #00af00\">50</span>, <span style=\"color: #00af00; text-decoration-color: #00af00\">128</span>)             │          <span style=\"color: #00af00; text-decoration-color: #00af00\">65,536</span> │\n",
              "├──────────────────────────────────────┼─────────────────────────────┼─────────────────┤\n",
              "│ bidirectional_23 (<span style=\"color: #0087ff; text-decoration-color: #0087ff\">Bidirectional</span>)     │ (<span style=\"color: #00d7ff; text-decoration-color: #00d7ff\">None</span>, <span style=\"color: #00af00; text-decoration-color: #00af00\">50</span>, <span style=\"color: #00af00; text-decoration-color: #00af00\">256</span>)             │         <span style=\"color: #00af00; text-decoration-color: #00af00\">196,608</span> │\n",
              "├──────────────────────────────────────┼─────────────────────────────┼─────────────────┤\n",
              "│ bidirectional_24 (<span style=\"color: #0087ff; text-decoration-color: #0087ff\">Bidirectional</span>)     │ (<span style=\"color: #00d7ff; text-decoration-color: #00d7ff\">None</span>, <span style=\"color: #00af00; text-decoration-color: #00af00\">128</span>)                 │         <span style=\"color: #00af00; text-decoration-color: #00af00\">163,840</span> │\n",
              "├──────────────────────────────────────┼─────────────────────────────┼─────────────────┤\n",
              "│ dense_12 (<span style=\"color: #0087ff; text-decoration-color: #0087ff\">Dense</span>)                     │ (<span style=\"color: #00d7ff; text-decoration-color: #00d7ff\">None</span>, <span style=\"color: #00af00; text-decoration-color: #00af00\">64</span>)                  │           <span style=\"color: #00af00; text-decoration-color: #00af00\">8,256</span> │\n",
              "├──────────────────────────────────────┼─────────────────────────────┼─────────────────┤\n",
              "│ dropout_9 (<span style=\"color: #0087ff; text-decoration-color: #0087ff\">Dropout</span>)                  │ (<span style=\"color: #00d7ff; text-decoration-color: #00d7ff\">None</span>, <span style=\"color: #00af00; text-decoration-color: #00af00\">64</span>)                  │               <span style=\"color: #00af00; text-decoration-color: #00af00\">0</span> │\n",
              "├──────────────────────────────────────┼─────────────────────────────┼─────────────────┤\n",
              "│ dense_13 (<span style=\"color: #0087ff; text-decoration-color: #0087ff\">Dense</span>)                     │ (<span style=\"color: #00d7ff; text-decoration-color: #00d7ff\">None</span>, <span style=\"color: #00af00; text-decoration-color: #00af00\">6</span>)                   │             <span style=\"color: #00af00; text-decoration-color: #00af00\">390</span> │\n",
              "└──────────────────────────────────────┴─────────────────────────────┴─────────────────┘\n",
              "</pre>\n"
            ],
            "text/plain": [
              "┏━━━━━━━━━━━━━━━━━━━━━━━━━━━━━━━━━━━━━━┳━━━━━━━━━━━━━━━━━━━━━━━━━━━━━┳━━━━━━━━━━━━━━━━━┓\n",
              "┃\u001b[1m \u001b[0m\u001b[1mLayer (type)                        \u001b[0m\u001b[1m \u001b[0m┃\u001b[1m \u001b[0m\u001b[1mOutput Shape               \u001b[0m\u001b[1m \u001b[0m┃\u001b[1m \u001b[0m\u001b[1m        Param #\u001b[0m\u001b[1m \u001b[0m┃\n",
              "┡━━━━━━━━━━━━━━━━━━━━━━━━━━━━━━━━━━━━━━╇━━━━━━━━━━━━━━━━━━━━━━━━━━━━━╇━━━━━━━━━━━━━━━━━┩\n",
              "│ masking_12 (\u001b[38;5;33mMasking\u001b[0m)                 │ (\u001b[38;5;45mNone\u001b[0m, \u001b[38;5;34m100\u001b[0m, \u001b[38;5;34m100\u001b[0m)            │               \u001b[38;5;34m0\u001b[0m │\n",
              "├──────────────────────────────────────┼─────────────────────────────┼─────────────────┤\n",
              "│ conv1d_12 (\u001b[38;5;33mConv1D\u001b[0m)                   │ (\u001b[38;5;45mNone\u001b[0m, \u001b[38;5;34m100\u001b[0m, \u001b[38;5;34m64\u001b[0m)             │          \u001b[38;5;34m19,264\u001b[0m │\n",
              "├──────────────────────────────────────┼─────────────────────────────┼─────────────────┤\n",
              "│ max_pooling1d_12 (\u001b[38;5;33mMaxPooling1D\u001b[0m)      │ (\u001b[38;5;45mNone\u001b[0m, \u001b[38;5;34m50\u001b[0m, \u001b[38;5;34m64\u001b[0m)              │               \u001b[38;5;34m0\u001b[0m │\n",
              "├──────────────────────────────────────┼─────────────────────────────┼─────────────────┤\n",
              "│ bidirectional_22 (\u001b[38;5;33mBidirectional\u001b[0m)     │ (\u001b[38;5;45mNone\u001b[0m, \u001b[38;5;34m50\u001b[0m, \u001b[38;5;34m128\u001b[0m)             │          \u001b[38;5;34m65,536\u001b[0m │\n",
              "├──────────────────────────────────────┼─────────────────────────────┼─────────────────┤\n",
              "│ bidirectional_23 (\u001b[38;5;33mBidirectional\u001b[0m)     │ (\u001b[38;5;45mNone\u001b[0m, \u001b[38;5;34m50\u001b[0m, \u001b[38;5;34m256\u001b[0m)             │         \u001b[38;5;34m196,608\u001b[0m │\n",
              "├──────────────────────────────────────┼─────────────────────────────┼─────────────────┤\n",
              "│ bidirectional_24 (\u001b[38;5;33mBidirectional\u001b[0m)     │ (\u001b[38;5;45mNone\u001b[0m, \u001b[38;5;34m128\u001b[0m)                 │         \u001b[38;5;34m163,840\u001b[0m │\n",
              "├──────────────────────────────────────┼─────────────────────────────┼─────────────────┤\n",
              "│ dense_12 (\u001b[38;5;33mDense\u001b[0m)                     │ (\u001b[38;5;45mNone\u001b[0m, \u001b[38;5;34m64\u001b[0m)                  │           \u001b[38;5;34m8,256\u001b[0m │\n",
              "├──────────────────────────────────────┼─────────────────────────────┼─────────────────┤\n",
              "│ dropout_9 (\u001b[38;5;33mDropout\u001b[0m)                  │ (\u001b[38;5;45mNone\u001b[0m, \u001b[38;5;34m64\u001b[0m)                  │               \u001b[38;5;34m0\u001b[0m │\n",
              "├──────────────────────────────────────┼─────────────────────────────┼─────────────────┤\n",
              "│ dense_13 (\u001b[38;5;33mDense\u001b[0m)                     │ (\u001b[38;5;45mNone\u001b[0m, \u001b[38;5;34m6\u001b[0m)                   │             \u001b[38;5;34m390\u001b[0m │\n",
              "└──────────────────────────────────────┴─────────────────────────────┴─────────────────┘\n"
            ]
          },
          "metadata": {},
          "output_type": "display_data"
        },
        {
          "data": {
            "text/html": [
              "<pre style=\"white-space:pre;overflow-x:auto;line-height:normal;font-family:Menlo,'DejaVu Sans Mono',consolas,'Courier New',monospace\"><span style=\"font-weight: bold\"> Total params: </span><span style=\"color: #00af00; text-decoration-color: #00af00\">453,894</span> (1.73 MB)\n",
              "</pre>\n"
            ],
            "text/plain": [
              "\u001b[1m Total params: \u001b[0m\u001b[38;5;34m453,894\u001b[0m (1.73 MB)\n"
            ]
          },
          "metadata": {},
          "output_type": "display_data"
        },
        {
          "data": {
            "text/html": [
              "<pre style=\"white-space:pre;overflow-x:auto;line-height:normal;font-family:Menlo,'DejaVu Sans Mono',consolas,'Courier New',monospace\"><span style=\"font-weight: bold\"> Trainable params: </span><span style=\"color: #00af00; text-decoration-color: #00af00\">453,894</span> (1.73 MB)\n",
              "</pre>\n"
            ],
            "text/plain": [
              "\u001b[1m Trainable params: \u001b[0m\u001b[38;5;34m453,894\u001b[0m (1.73 MB)\n"
            ]
          },
          "metadata": {},
          "output_type": "display_data"
        },
        {
          "data": {
            "text/html": [
              "<pre style=\"white-space:pre;overflow-x:auto;line-height:normal;font-family:Menlo,'DejaVu Sans Mono',consolas,'Courier New',monospace\"><span style=\"font-weight: bold\"> Non-trainable params: </span><span style=\"color: #00af00; text-decoration-color: #00af00\">0</span> (0.00 B)\n",
              "</pre>\n"
            ],
            "text/plain": [
              "\u001b[1m Non-trainable params: \u001b[0m\u001b[38;5;34m0\u001b[0m (0.00 B)\n"
            ]
          },
          "metadata": {},
          "output_type": "display_data"
        },
        {
          "output_type": "stream",
          "name": "stdout",
          "text": [
            "Epoch 1/40\n",
            "\u001b[1m360/360\u001b[0m \u001b[32m━━━━━━━━━━━━━━━━━━━━\u001b[0m\u001b[37m\u001b[0m \u001b[1m32s\u001b[0m 60ms/step - accuracy: 0.2006 - loss: 3.2164 - val_accuracy: 0.2882 - val_loss: 1.7098\n",
            "Epoch 2/40\n",
            "\u001b[1m360/360\u001b[0m \u001b[32m━━━━━━━━━━━━━━━━━━━━\u001b[0m\u001b[37m\u001b[0m \u001b[1m18s\u001b[0m 50ms/step - accuracy: 0.3276 - loss: 1.6543 - val_accuracy: 0.3941 - val_loss: 1.5391\n",
            "Epoch 3/40\n",
            "\u001b[1m360/360\u001b[0m \u001b[32m━━━━━━━━━━━━━━━━━━━━\u001b[0m\u001b[37m\u001b[0m \u001b[1m21s\u001b[0m 52ms/step - accuracy: 0.4292 - loss: 1.4859 - val_accuracy: 0.4573 - val_loss: 1.4058\n",
            "Epoch 4/40\n",
            "\u001b[1m360/360\u001b[0m \u001b[32m━━━━━━━━━━━━━━━━━━━━\u001b[0m\u001b[37m\u001b[0m \u001b[1m20s\u001b[0m 51ms/step - accuracy: 0.5085 - loss: 1.3142 - val_accuracy: 0.5252 - val_loss: 1.2780\n",
            "Epoch 5/40\n",
            "\u001b[1m360/360\u001b[0m \u001b[32m━━━━━━━━━━━━━━━━━━━━\u001b[0m\u001b[37m\u001b[0m \u001b[1m20s\u001b[0m 51ms/step - accuracy: 0.5806 - loss: 1.1637 - val_accuracy: 0.5757 - val_loss: 1.1676\n",
            "Epoch 6/40\n",
            "\u001b[1m360/360\u001b[0m \u001b[32m━━━━━━━━━━━━━━━━━━━━\u001b[0m\u001b[37m\u001b[0m \u001b[1m21s\u001b[0m 53ms/step - accuracy: 0.6456 - loss: 1.0252 - val_accuracy: 0.6316 - val_loss: 1.0699\n",
            "Epoch 7/40\n",
            "\u001b[1m360/360\u001b[0m \u001b[32m━━━━━━━━━━━━━━━━━━━━\u001b[0m\u001b[37m\u001b[0m \u001b[1m20s\u001b[0m 51ms/step - accuracy: 0.6946 - loss: 0.8912 - val_accuracy: 0.6566 - val_loss: 1.0092\n",
            "Epoch 8/40\n",
            "\u001b[1m360/360\u001b[0m \u001b[32m━━━━━━━━━━━━━━━━━━━━\u001b[0m\u001b[37m\u001b[0m \u001b[1m21s\u001b[0m 51ms/step - accuracy: 0.7496 - loss: 0.7544 - val_accuracy: 0.6901 - val_loss: 0.9680\n",
            "Epoch 9/40\n",
            "\u001b[1m360/360\u001b[0m \u001b[32m━━━━━━━━━━━━━━━━━━━━\u001b[0m\u001b[37m\u001b[0m \u001b[1m21s\u001b[0m 52ms/step - accuracy: 0.7825 - loss: 0.6597 - val_accuracy: 0.7273 - val_loss: 0.9037\n",
            "Epoch 10/40\n",
            "\u001b[1m360/360\u001b[0m \u001b[32m━━━━━━━━━━━━━━━━━━━━\u001b[0m\u001b[37m\u001b[0m \u001b[1m20s\u001b[0m 51ms/step - accuracy: 0.8170 - loss: 0.5821 - val_accuracy: 0.7134 - val_loss: 0.9187\n",
            "Epoch 11/40\n",
            "\u001b[1m360/360\u001b[0m \u001b[32m━━━━━━━━━━━━━━━━━━━━\u001b[0m\u001b[37m\u001b[0m \u001b[1m21s\u001b[0m 51ms/step - accuracy: 0.8281 - loss: 0.5423 - val_accuracy: 0.7587 - val_loss: 0.8301\n",
            "Epoch 12/40\n",
            "\u001b[1m360/360\u001b[0m \u001b[32m━━━━━━━━━━━━━━━━━━━━\u001b[0m\u001b[37m\u001b[0m \u001b[1m22s\u001b[0m 57ms/step - accuracy: 0.8631 - loss: 0.4423 - val_accuracy: 0.7793 - val_loss: 0.8178\n",
            "Epoch 13/40\n",
            "\u001b[1m360/360\u001b[0m \u001b[32m━━━━━━━━━━━━━━━━━━━━\u001b[0m\u001b[37m\u001b[0m \u001b[1m39s\u001b[0m 52ms/step - accuracy: 0.8771 - loss: 0.3963 - val_accuracy: 0.7755 - val_loss: 0.8566\n",
            "Epoch 14/40\n",
            "\u001b[1m360/360\u001b[0m \u001b[32m━━━━━━━━━━━━━━━━━━━━\u001b[0m\u001b[37m\u001b[0m \u001b[1m21s\u001b[0m 53ms/step - accuracy: 0.8934 - loss: 0.3588 - val_accuracy: 0.7898 - val_loss: 0.8342\n",
            "Epoch 15/40\n",
            "\u001b[1m360/360\u001b[0m \u001b[32m━━━━━━━━━━━━━━━━━━━━\u001b[0m\u001b[37m\u001b[0m \u001b[1m18s\u001b[0m 51ms/step - accuracy: 0.9044 - loss: 0.3198 - val_accuracy: 0.7970 - val_loss: 0.8469\n",
            "Epoch 16/40\n",
            "\u001b[1m360/360\u001b[0m \u001b[32m━━━━━━━━━━━━━━━━━━━━\u001b[0m\u001b[37m\u001b[0m \u001b[1m19s\u001b[0m 52ms/step - accuracy: 0.9113 - loss: 0.2927 - val_accuracy: 0.8061 - val_loss: 0.8630\n",
            "Epoch 17/40\n",
            "\u001b[1m360/360\u001b[0m \u001b[32m━━━━━━━━━━━━━━━━━━━━\u001b[0m\u001b[37m\u001b[0m \u001b[1m20s\u001b[0m 51ms/step - accuracy: 0.9172 - loss: 0.2719 - val_accuracy: 0.8009 - val_loss: 0.9333\n",
            "Epoch 18/40\n",
            "\u001b[1m360/360\u001b[0m \u001b[32m━━━━━━━━━━━━━━━━━━━━\u001b[0m\u001b[37m\u001b[0m \u001b[1m21s\u001b[0m 52ms/step - accuracy: 0.9181 - loss: 0.2764 - val_accuracy: 0.7998 - val_loss: 0.9106\n",
            "Epoch 19/40\n",
            "\u001b[1m360/360\u001b[0m \u001b[32m━━━━━━━━━━━━━━━━━━━━\u001b[0m\u001b[37m\u001b[0m \u001b[1m20s\u001b[0m 51ms/step - accuracy: 0.9237 - loss: 0.2537 - val_accuracy: 0.8024 - val_loss: 0.9727\n",
            "Epoch 20/40\n",
            "\u001b[1m360/360\u001b[0m \u001b[32m━━━━━━━━━━━━━━━━━━━━\u001b[0m\u001b[37m\u001b[0m \u001b[1m21s\u001b[0m 51ms/step - accuracy: 0.9263 - loss: 0.2438 - val_accuracy: 0.8125 - val_loss: 0.9007\n",
            "Epoch 21/40\n",
            "\u001b[1m360/360\u001b[0m \u001b[32m━━━━━━━━━━━━━━━━━━━━\u001b[0m\u001b[37m\u001b[0m \u001b[1m19s\u001b[0m 52ms/step - accuracy: 0.9313 - loss: 0.2227 - val_accuracy: 0.8087 - val_loss: 0.9505\n",
            "Epoch 22/40\n",
            "\u001b[1m360/360\u001b[0m \u001b[32m━━━━━━━━━━━━━━━━━━━━\u001b[0m\u001b[37m\u001b[0m \u001b[1m20s\u001b[0m 51ms/step - accuracy: 0.9391 - loss: 0.2002 - val_accuracy: 0.8099 - val_loss: 0.9456\n",
            "Epoch 23/40\n",
            "\u001b[1m360/360\u001b[0m \u001b[32m━━━━━━━━━━━━━━━━━━━━\u001b[0m\u001b[37m\u001b[0m \u001b[1m19s\u001b[0m 52ms/step - accuracy: 0.9466 - loss: 0.1812 - val_accuracy: 0.8142 - val_loss: 1.0028\n",
            "Epoch 24/40\n",
            "\u001b[1m360/360\u001b[0m \u001b[32m━━━━━━━━━━━━━━━━━━━━\u001b[0m\u001b[37m\u001b[0m \u001b[1m20s\u001b[0m 51ms/step - accuracy: 0.9418 - loss: 0.1979 - val_accuracy: 0.8155 - val_loss: 1.0016\n",
            "Epoch 25/40\n",
            "\u001b[1m360/360\u001b[0m \u001b[32m━━━━━━━━━━━━━━━━━━━━\u001b[0m\u001b[37m\u001b[0m \u001b[1m21s\u001b[0m 51ms/step - accuracy: 0.9392 - loss: 0.1998 - val_accuracy: 0.8118 - val_loss: 0.9727\n",
            "Epoch 26/40\n",
            "\u001b[1m360/360\u001b[0m \u001b[32m━━━━━━━━━━━━━━━━━━━━\u001b[0m\u001b[37m\u001b[0m \u001b[1m21s\u001b[0m 53ms/step - accuracy: 0.9493 - loss: 0.1673 - val_accuracy: 0.8175 - val_loss: 0.9846\n",
            "Epoch 27/40\n",
            "\u001b[1m360/360\u001b[0m \u001b[32m━━━━━━━━━━━━━━━━━━━━\u001b[0m\u001b[37m\u001b[0m \u001b[1m19s\u001b[0m 52ms/step - accuracy: 0.9457 - loss: 0.1794 - val_accuracy: 0.8175 - val_loss: 1.0218\n",
            "Epoch 28/40\n",
            "\u001b[1m360/360\u001b[0m \u001b[32m━━━━━━━━━━━━━━━━━━━━\u001b[0m\u001b[37m\u001b[0m \u001b[1m19s\u001b[0m 52ms/step - accuracy: 0.9484 - loss: 0.1757 - val_accuracy: 0.8163 - val_loss: 1.0146\n",
            "Epoch 29/40\n",
            "\u001b[1m360/360\u001b[0m \u001b[32m━━━━━━━━━━━━━━━━━━━━\u001b[0m\u001b[37m\u001b[0m \u001b[1m19s\u001b[0m 52ms/step - accuracy: 0.9463 - loss: 0.1747 - val_accuracy: 0.8097 - val_loss: 1.0633\n",
            "Epoch 30/40\n",
            "\u001b[1m360/360\u001b[0m \u001b[32m━━━━━━━━━━━━━━━━━━━━\u001b[0m\u001b[37m\u001b[0m \u001b[1m21s\u001b[0m 53ms/step - accuracy: 0.9434 - loss: 0.1850 - val_accuracy: 0.8172 - val_loss: 1.0914\n",
            "Epoch 31/40\n",
            "\u001b[1m360/360\u001b[0m \u001b[32m━━━━━━━━━━━━━━━━━━━━\u001b[0m\u001b[37m\u001b[0m \u001b[1m20s\u001b[0m 51ms/step - accuracy: 0.9540 - loss: 0.1502 - val_accuracy: 0.8231 - val_loss: 1.0343\n",
            "Epoch 32/40\n",
            "\u001b[1m360/360\u001b[0m \u001b[32m━━━━━━━━━━━━━━━━━━━━\u001b[0m\u001b[37m\u001b[0m \u001b[1m21s\u001b[0m 53ms/step - accuracy: 0.9528 - loss: 0.1483 - val_accuracy: 0.8163 - val_loss: 1.0575\n",
            "Epoch 33/40\n",
            "\u001b[1m360/360\u001b[0m \u001b[32m━━━━━━━━━━━━━━━━━━━━\u001b[0m\u001b[37m\u001b[0m \u001b[1m19s\u001b[0m 52ms/step - accuracy: 0.9510 - loss: 0.1522 - val_accuracy: 0.8061 - val_loss: 1.1230\n",
            "Epoch 34/40\n",
            "\u001b[1m360/360\u001b[0m \u001b[32m━━━━━━━━━━━━━━━━━━━━\u001b[0m\u001b[37m\u001b[0m \u001b[1m21s\u001b[0m 52ms/step - accuracy: 0.9373 - loss: 0.2081 - val_accuracy: 0.8241 - val_loss: 1.0777\n",
            "Epoch 35/40\n",
            "\u001b[1m360/360\u001b[0m \u001b[32m━━━━━━━━━━━━━━━━━━━━\u001b[0m\u001b[37m\u001b[0m \u001b[1m22s\u001b[0m 56ms/step - accuracy: 0.9540 - loss: 0.1481 - val_accuracy: 0.8255 - val_loss: 1.0306\n",
            "Epoch 36/40\n",
            "\u001b[1m360/360\u001b[0m \u001b[32m━━━━━━━━━━━━━━━━━━━━\u001b[0m\u001b[37m\u001b[0m \u001b[1m19s\u001b[0m 52ms/step - accuracy: 0.9552 - loss: 0.1286 - val_accuracy: 0.8175 - val_loss: 1.1344\n",
            "Epoch 37/40\n",
            "\u001b[1m360/360\u001b[0m \u001b[32m━━━━━━━━━━━━━━━━━━━━\u001b[0m\u001b[37m\u001b[0m \u001b[1m21s\u001b[0m 53ms/step - accuracy: 0.9504 - loss: 0.1605 - val_accuracy: 0.8161 - val_loss: 1.1116\n",
            "Epoch 38/40\n",
            "\u001b[1m360/360\u001b[0m \u001b[32m━━━━━━━━━━━━━━━━━━━━\u001b[0m\u001b[37m\u001b[0m \u001b[1m19s\u001b[0m 51ms/step - accuracy: 0.9455 - loss: 0.1828 - val_accuracy: 0.8127 - val_loss: 1.1849\n",
            "Epoch 39/40\n",
            "\u001b[1m360/360\u001b[0m \u001b[32m━━━━━━━━━━━━━━━━━━━━\u001b[0m\u001b[37m\u001b[0m \u001b[1m21s\u001b[0m 53ms/step - accuracy: 0.9477 - loss: 0.1749 - val_accuracy: 0.8207 - val_loss: 1.1726\n",
            "Epoch 40/40\n",
            "\u001b[1m360/360\u001b[0m \u001b[32m━━━━━━━━━━━━━━━━━━━━\u001b[0m\u001b[37m\u001b[0m \u001b[1m18s\u001b[0m 51ms/step - accuracy: 0.9524 - loss: 0.1551 - val_accuracy: 0.8229 - val_loss: 1.1517\n"
          ]
        },
        {
          "output_type": "execute_result",
          "data": {
            "text/plain": [
              "<keras.src.callbacks.history.History at 0x7842e2e5b670>"
            ]
          },
          "metadata": {},
          "execution_count": 27
        }
      ]
    },
    {
      "cell_type": "code",
      "source": [
        "import numpy as np\n",
        "from sklearn.ensemble import RandomForestClassifier\n",
        "from sklearn.model_selection import train_test_split\n",
        "from sklearn.metrics import accuracy_score, classification_report, confusion_matrix\n",
        "\n",
        "# Assuming x_data and y_data are your features and labels respectively\n",
        "# x_data = ...\n",
        "# y_data = ...\n",
        "\n",
        "# Split the dataset into training and testing sets\n",
        "x_train, x_test, y_train, y_test = train_test_split(x_data, y_data, test_size=0.2, random_state=42)\n",
        "\n",
        "# Initialize the Random Forest classifier\n",
        "rf_model = RandomForestClassifier(n_estimators=100, random_state=42)\n",
        "\n",
        "# Train the model\n",
        "rf_model.fit(x_train, y_train)\n",
        "\n",
        "# Make predictions\n",
        "y_pred = rf_model.predict(x_test)\n",
        "\n",
        "# Evaluate the model\n",
        "accuracy = accuracy_score(y_test, y_pred)\n",
        "print(f\"Accuracy: {accuracy * 100:.2f}%\")\n",
        "\n",
        "print(\"Classification Report:\")\n",
        "print(classification_report(y_test, y_pred))\n",
        "\n",
        "print(\"Confusion Matrix:\")\n",
        "print(confusion_matrix(y_test, y_pred))\n"
      ],
      "metadata": {
        "id": "zj0nf8Lo5SN8"
      },
      "execution_count": null,
      "outputs": []
    }
  ]
}