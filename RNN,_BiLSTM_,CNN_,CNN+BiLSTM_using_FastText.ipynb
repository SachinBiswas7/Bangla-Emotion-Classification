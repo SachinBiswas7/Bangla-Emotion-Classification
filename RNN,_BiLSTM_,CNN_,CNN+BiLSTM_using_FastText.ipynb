{
  "nbformat": 4,
  "nbformat_minor": 0,
  "metadata": {
    "colab": {
      "provenance": [],
      "gpuType": "T4"
    },
    "kernelspec": {
      "name": "python3",
      "display_name": "Python 3"
    },
    "language_info": {
      "name": "python"
    },
    "accelerator": "GPU"
  },
  "cells": [
    {
      "cell_type": "code",
      "execution_count": 2,
      "metadata": {
        "id": "NsCKInIa0tCX"
      },
      "outputs": [],
      "source": []
    },
    {
      "cell_type": "markdown",
      "source": [
        "Preprocess the data: Tokenize and pad sequences.\n",
        "Create embeddings: Use word2vec and fastText.\n",
        "Build models: Define the architectures for the neural network and the CNNs.\n",
        "Train and evaluate models: Train each model and evaluate its performance"
      ],
      "metadata": {
        "id": "xolr2a1800BQ"
      }
    },
    {
      "cell_type": "markdown",
      "source": [
        "Step 1: Preprocess the Data"
      ],
      "metadata": {
        "id": "Tk7SkOv-06_H"
      }
    },
    {
      "cell_type": "code",
      "source": [
        "import pandas as pd\n",
        "import numpy as np\n",
        "import tensorflow as tf\n",
        "from tensorflow.keras.preprocessing.text import Tokenizer\n",
        "from tensorflow.keras.preprocessing.sequence import pad_sequences\n",
        "from sklearn.model_selection import train_test_split"
      ],
      "metadata": {
        "id": "sBO-gn_l1doS"
      },
      "execution_count": 3,
      "outputs": []
    },
    {
      "cell_type": "code",
      "source": [
        "df = pd.read_csv(\"Dataset.csv\")"
      ],
      "metadata": {
        "id": "QSEZoxex1hkI"
      },
      "execution_count": 4,
      "outputs": []
    },
    {
      "cell_type": "code",
      "source": [
        "df.head()"
      ],
      "metadata": {
        "colab": {
          "base_uri": "https://localhost:8080/",
          "height": 258
        },
        "id": "JXk61zKI1mSf",
        "outputId": "0a978c66-1dd4-4e1c-e7d6-2effcfa8d8ad"
      },
      "execution_count": 5,
      "outputs": [
        {
          "output_type": "execute_result",
          "data": {
            "text/plain": [
              "   SL  Emotion                                               Text  Year  \\\n",
              "0   1  disgust  নির্বাচনের আগের রাতে সুষ্টু শান্তিপূর্ণ ভাবে ভ...  2016   \n",
              "1   2  disgust  জনগণ মনের আনন্দে নিজেদের ভোট কাস্ট করে দেশদ্রো...  2016   \n",
              "2   3    angry                                   ভেজাল নির্বাচন ।  2016   \n",
              "3   4    happy  বিএনপি ও রাজাকার সমর্থকরা হেরে গেলে দেশের জন্য...  2016   \n",
              "4   5    angry  সূক্ষ্ম কারচুপি বলে এতদিন একটা কথার কথা ছিল, এ...  2016   \n",
              "\n",
              "   Racial Biases  Hatred Percentage  Depression Percentage  \n",
              "0            NaN                NaN                    NaN  \n",
              "1            NaN                NaN                    NaN  \n",
              "2            NaN                NaN                    NaN  \n",
              "3            NaN                NaN                    NaN  \n",
              "4            NaN                NaN                    NaN  "
            ],
            "text/html": [
              "\n",
              "  <div id=\"df-232253a1-618f-465d-9350-b0da55516012\" class=\"colab-df-container\">\n",
              "    <div>\n",
              "<style scoped>\n",
              "    .dataframe tbody tr th:only-of-type {\n",
              "        vertical-align: middle;\n",
              "    }\n",
              "\n",
              "    .dataframe tbody tr th {\n",
              "        vertical-align: top;\n",
              "    }\n",
              "\n",
              "    .dataframe thead th {\n",
              "        text-align: right;\n",
              "    }\n",
              "</style>\n",
              "<table border=\"1\" class=\"dataframe\">\n",
              "  <thead>\n",
              "    <tr style=\"text-align: right;\">\n",
              "      <th></th>\n",
              "      <th>SL</th>\n",
              "      <th>Emotion</th>\n",
              "      <th>Text</th>\n",
              "      <th>Year</th>\n",
              "      <th>Racial Biases</th>\n",
              "      <th>Hatred Percentage</th>\n",
              "      <th>Depression Percentage</th>\n",
              "    </tr>\n",
              "  </thead>\n",
              "  <tbody>\n",
              "    <tr>\n",
              "      <th>0</th>\n",
              "      <td>1</td>\n",
              "      <td>disgust</td>\n",
              "      <td>নির্বাচনের আগের রাতে সুষ্টু শান্তিপূর্ণ ভাবে ভ...</td>\n",
              "      <td>2016</td>\n",
              "      <td>NaN</td>\n",
              "      <td>NaN</td>\n",
              "      <td>NaN</td>\n",
              "    </tr>\n",
              "    <tr>\n",
              "      <th>1</th>\n",
              "      <td>2</td>\n",
              "      <td>disgust</td>\n",
              "      <td>জনগণ মনের আনন্দে নিজেদের ভোট কাস্ট করে দেশদ্রো...</td>\n",
              "      <td>2016</td>\n",
              "      <td>NaN</td>\n",
              "      <td>NaN</td>\n",
              "      <td>NaN</td>\n",
              "    </tr>\n",
              "    <tr>\n",
              "      <th>2</th>\n",
              "      <td>3</td>\n",
              "      <td>angry</td>\n",
              "      <td>ভেজাল নির্বাচন ।</td>\n",
              "      <td>2016</td>\n",
              "      <td>NaN</td>\n",
              "      <td>NaN</td>\n",
              "      <td>NaN</td>\n",
              "    </tr>\n",
              "    <tr>\n",
              "      <th>3</th>\n",
              "      <td>4</td>\n",
              "      <td>happy</td>\n",
              "      <td>বিএনপি ও রাজাকার সমর্থকরা হেরে গেলে দেশের জন্য...</td>\n",
              "      <td>2016</td>\n",
              "      <td>NaN</td>\n",
              "      <td>NaN</td>\n",
              "      <td>NaN</td>\n",
              "    </tr>\n",
              "    <tr>\n",
              "      <th>4</th>\n",
              "      <td>5</td>\n",
              "      <td>angry</td>\n",
              "      <td>সূক্ষ্ম কারচুপি বলে এতদিন একটা কথার কথা ছিল, এ...</td>\n",
              "      <td>2016</td>\n",
              "      <td>NaN</td>\n",
              "      <td>NaN</td>\n",
              "      <td>NaN</td>\n",
              "    </tr>\n",
              "  </tbody>\n",
              "</table>\n",
              "</div>\n",
              "    <div class=\"colab-df-buttons\">\n",
              "\n",
              "  <div class=\"colab-df-container\">\n",
              "    <button class=\"colab-df-convert\" onclick=\"convertToInteractive('df-232253a1-618f-465d-9350-b0da55516012')\"\n",
              "            title=\"Convert this dataframe to an interactive table.\"\n",
              "            style=\"display:none;\">\n",
              "\n",
              "  <svg xmlns=\"http://www.w3.org/2000/svg\" height=\"24px\" viewBox=\"0 -960 960 960\">\n",
              "    <path d=\"M120-120v-720h720v720H120Zm60-500h600v-160H180v160Zm220 220h160v-160H400v160Zm0 220h160v-160H400v160ZM180-400h160v-160H180v160Zm440 0h160v-160H620v160ZM180-180h160v-160H180v160Zm440 0h160v-160H620v160Z\"/>\n",
              "  </svg>\n",
              "    </button>\n",
              "\n",
              "  <style>\n",
              "    .colab-df-container {\n",
              "      display:flex;\n",
              "      gap: 12px;\n",
              "    }\n",
              "\n",
              "    .colab-df-convert {\n",
              "      background-color: #E8F0FE;\n",
              "      border: none;\n",
              "      border-radius: 50%;\n",
              "      cursor: pointer;\n",
              "      display: none;\n",
              "      fill: #1967D2;\n",
              "      height: 32px;\n",
              "      padding: 0 0 0 0;\n",
              "      width: 32px;\n",
              "    }\n",
              "\n",
              "    .colab-df-convert:hover {\n",
              "      background-color: #E2EBFA;\n",
              "      box-shadow: 0px 1px 2px rgba(60, 64, 67, 0.3), 0px 1px 3px 1px rgba(60, 64, 67, 0.15);\n",
              "      fill: #174EA6;\n",
              "    }\n",
              "\n",
              "    .colab-df-buttons div {\n",
              "      margin-bottom: 4px;\n",
              "    }\n",
              "\n",
              "    [theme=dark] .colab-df-convert {\n",
              "      background-color: #3B4455;\n",
              "      fill: #D2E3FC;\n",
              "    }\n",
              "\n",
              "    [theme=dark] .colab-df-convert:hover {\n",
              "      background-color: #434B5C;\n",
              "      box-shadow: 0px 1px 3px 1px rgba(0, 0, 0, 0.15);\n",
              "      filter: drop-shadow(0px 1px 2px rgba(0, 0, 0, 0.3));\n",
              "      fill: #FFFFFF;\n",
              "    }\n",
              "  </style>\n",
              "\n",
              "    <script>\n",
              "      const buttonEl =\n",
              "        document.querySelector('#df-232253a1-618f-465d-9350-b0da55516012 button.colab-df-convert');\n",
              "      buttonEl.style.display =\n",
              "        google.colab.kernel.accessAllowed ? 'block' : 'none';\n",
              "\n",
              "      async function convertToInteractive(key) {\n",
              "        const element = document.querySelector('#df-232253a1-618f-465d-9350-b0da55516012');\n",
              "        const dataTable =\n",
              "          await google.colab.kernel.invokeFunction('convertToInteractive',\n",
              "                                                    [key], {});\n",
              "        if (!dataTable) return;\n",
              "\n",
              "        const docLinkHtml = 'Like what you see? Visit the ' +\n",
              "          '<a target=\"_blank\" href=https://colab.research.google.com/notebooks/data_table.ipynb>data table notebook</a>'\n",
              "          + ' to learn more about interactive tables.';\n",
              "        element.innerHTML = '';\n",
              "        dataTable['output_type'] = 'display_data';\n",
              "        await google.colab.output.renderOutput(dataTable, element);\n",
              "        const docLink = document.createElement('div');\n",
              "        docLink.innerHTML = docLinkHtml;\n",
              "        element.appendChild(docLink);\n",
              "      }\n",
              "    </script>\n",
              "  </div>\n",
              "\n",
              "\n",
              "<div id=\"df-424f664b-b2d8-4ec5-ad04-6d2c8c1479ec\">\n",
              "  <button class=\"colab-df-quickchart\" onclick=\"quickchart('df-424f664b-b2d8-4ec5-ad04-6d2c8c1479ec')\"\n",
              "            title=\"Suggest charts\"\n",
              "            style=\"display:none;\">\n",
              "\n",
              "<svg xmlns=\"http://www.w3.org/2000/svg\" height=\"24px\"viewBox=\"0 0 24 24\"\n",
              "     width=\"24px\">\n",
              "    <g>\n",
              "        <path d=\"M19 3H5c-1.1 0-2 .9-2 2v14c0 1.1.9 2 2 2h14c1.1 0 2-.9 2-2V5c0-1.1-.9-2-2-2zM9 17H7v-7h2v7zm4 0h-2V7h2v10zm4 0h-2v-4h2v4z\"/>\n",
              "    </g>\n",
              "</svg>\n",
              "  </button>\n",
              "\n",
              "<style>\n",
              "  .colab-df-quickchart {\n",
              "      --bg-color: #E8F0FE;\n",
              "      --fill-color: #1967D2;\n",
              "      --hover-bg-color: #E2EBFA;\n",
              "      --hover-fill-color: #174EA6;\n",
              "      --disabled-fill-color: #AAA;\n",
              "      --disabled-bg-color: #DDD;\n",
              "  }\n",
              "\n",
              "  [theme=dark] .colab-df-quickchart {\n",
              "      --bg-color: #3B4455;\n",
              "      --fill-color: #D2E3FC;\n",
              "      --hover-bg-color: #434B5C;\n",
              "      --hover-fill-color: #FFFFFF;\n",
              "      --disabled-bg-color: #3B4455;\n",
              "      --disabled-fill-color: #666;\n",
              "  }\n",
              "\n",
              "  .colab-df-quickchart {\n",
              "    background-color: var(--bg-color);\n",
              "    border: none;\n",
              "    border-radius: 50%;\n",
              "    cursor: pointer;\n",
              "    display: none;\n",
              "    fill: var(--fill-color);\n",
              "    height: 32px;\n",
              "    padding: 0;\n",
              "    width: 32px;\n",
              "  }\n",
              "\n",
              "  .colab-df-quickchart:hover {\n",
              "    background-color: var(--hover-bg-color);\n",
              "    box-shadow: 0 1px 2px rgba(60, 64, 67, 0.3), 0 1px 3px 1px rgba(60, 64, 67, 0.15);\n",
              "    fill: var(--button-hover-fill-color);\n",
              "  }\n",
              "\n",
              "  .colab-df-quickchart-complete:disabled,\n",
              "  .colab-df-quickchart-complete:disabled:hover {\n",
              "    background-color: var(--disabled-bg-color);\n",
              "    fill: var(--disabled-fill-color);\n",
              "    box-shadow: none;\n",
              "  }\n",
              "\n",
              "  .colab-df-spinner {\n",
              "    border: 2px solid var(--fill-color);\n",
              "    border-color: transparent;\n",
              "    border-bottom-color: var(--fill-color);\n",
              "    animation:\n",
              "      spin 1s steps(1) infinite;\n",
              "  }\n",
              "\n",
              "  @keyframes spin {\n",
              "    0% {\n",
              "      border-color: transparent;\n",
              "      border-bottom-color: var(--fill-color);\n",
              "      border-left-color: var(--fill-color);\n",
              "    }\n",
              "    20% {\n",
              "      border-color: transparent;\n",
              "      border-left-color: var(--fill-color);\n",
              "      border-top-color: var(--fill-color);\n",
              "    }\n",
              "    30% {\n",
              "      border-color: transparent;\n",
              "      border-left-color: var(--fill-color);\n",
              "      border-top-color: var(--fill-color);\n",
              "      border-right-color: var(--fill-color);\n",
              "    }\n",
              "    40% {\n",
              "      border-color: transparent;\n",
              "      border-right-color: var(--fill-color);\n",
              "      border-top-color: var(--fill-color);\n",
              "    }\n",
              "    60% {\n",
              "      border-color: transparent;\n",
              "      border-right-color: var(--fill-color);\n",
              "    }\n",
              "    80% {\n",
              "      border-color: transparent;\n",
              "      border-right-color: var(--fill-color);\n",
              "      border-bottom-color: var(--fill-color);\n",
              "    }\n",
              "    90% {\n",
              "      border-color: transparent;\n",
              "      border-bottom-color: var(--fill-color);\n",
              "    }\n",
              "  }\n",
              "</style>\n",
              "\n",
              "  <script>\n",
              "    async function quickchart(key) {\n",
              "      const quickchartButtonEl =\n",
              "        document.querySelector('#' + key + ' button');\n",
              "      quickchartButtonEl.disabled = true;  // To prevent multiple clicks.\n",
              "      quickchartButtonEl.classList.add('colab-df-spinner');\n",
              "      try {\n",
              "        const charts = await google.colab.kernel.invokeFunction(\n",
              "            'suggestCharts', [key], {});\n",
              "      } catch (error) {\n",
              "        console.error('Error during call to suggestCharts:', error);\n",
              "      }\n",
              "      quickchartButtonEl.classList.remove('colab-df-spinner');\n",
              "      quickchartButtonEl.classList.add('colab-df-quickchart-complete');\n",
              "    }\n",
              "    (() => {\n",
              "      let quickchartButtonEl =\n",
              "        document.querySelector('#df-424f664b-b2d8-4ec5-ad04-6d2c8c1479ec button');\n",
              "      quickchartButtonEl.style.display =\n",
              "        google.colab.kernel.accessAllowed ? 'block' : 'none';\n",
              "    })();\n",
              "  </script>\n",
              "</div>\n",
              "\n",
              "    </div>\n",
              "  </div>\n"
            ],
            "application/vnd.google.colaboratory.intrinsic+json": {
              "type": "dataframe",
              "variable_name": "df",
              "summary": "{\n  \"name\": \"df\",\n  \"rows\": 36000,\n  \"fields\": [\n    {\n      \"column\": \"SL\",\n      \"properties\": {\n        \"dtype\": \"number\",\n        \"std\": 10392,\n        \"min\": 1,\n        \"max\": 36000,\n        \"num_unique_values\": 36000,\n        \"samples\": [\n          16462,\n          23580,\n          23641\n        ],\n        \"semantic_type\": \"\",\n        \"description\": \"\"\n      }\n    },\n    {\n      \"column\": \"Emotion\",\n      \"properties\": {\n        \"dtype\": \"category\",\n        \"num_unique_values\": 6,\n        \"samples\": [\n          \"disgust\",\n          \"angry\",\n          \"sad\"\n        ],\n        \"semantic_type\": \"\",\n        \"description\": \"\"\n      }\n    },\n    {\n      \"column\": \"Text\",\n      \"properties\": {\n        \"dtype\": \"category\",\n        \"num_unique_values\": 11270,\n        \"samples\": [\n          \"\\u098f\\u099f\\u09be \\u0986\\u09ae\\u09c7\\u09b0\\u09bf\\u0995\\u09be\\u09b0 \\u098f\\u0995\\u099f\\u09be \\u09ac\\u09dc\\u09a7\\u09b0\\u09a8\\u09c7\\u09b0 \\u099a\\u09be\\u09b2! \\u099c\\u09be\\u09a4\\u09c0\\u09df \\u09aa\\u09b0\\u09bf\\u099a\\u09df \\u09aa\\u098f\\u09c7\\u09b0 \\u0995\\u09bf \\u0995\\u09c7\\u09be\\u09a8 \\u09ad\\u09c7\\u09b2\\u09c1 \\u09b8\\u09b0\\u0995\\u09be\\u09b0 \\u09a6\\u09bf\\u09a4\\u09c7 \\u099a\\u09be\\u09df \\u09a8\\u09be ?\\u09a6\\u09c7\\u09b6\\u09c7 \\u09b8\\u0995\\u09b2 \\u0995\\u09be\\u099c \\u09a4\\u09c7\\u09be \\u09ad\\u09c7\\u09be\\u099f\\u09be\\u09b0 \\u0986\\u0987\\u09a1\\u09bf \\u09a6\\u09bf\\u09df\\u09be \\u099a\\u09b2\\u09c7. \\u09b9\\u09be\\u09df\\u09b0\\u09c7 \\u09b8\\u09c7\\u09be\\u09a8\\u09be\\u09b0 \\u09ac\\u09be\\u0982\\u09b2\\u09be !!\",\n          \"\\u09ad\\u09be\\u09b0\\u09a4 \\u0985\\u09a4\\u09cd\\u09af\\u09a8\\u09cd\\u09a4 \\u099a\\u09be\\u09b2\\u09be\\u0995\\u09bf\\u09b0 \\u09b8\\u09be\\u09a5\\u09c7 \\u0986\\u09ae\\u09be\\u09a6\\u09c7\\u09b0 \\u09b8\\u09be\\u09a5\\u09c7 \\u09b8\\u09c1'\\u09b8\\u09ae\\u09aa\\u09b0\\u09cd\\u0995 \\u09a6\\u09c7\\u0996\\u09be\\u09df, \\u09ae\\u09c1\\u09b2\\u09a4 \\u09a4\\u09be\\u09b0\\u09be \\u09a8\\u09bf\\u099c\\u09a6\\u09c7\\u09b0 \\u09b8\\u09cd\\u09ac\\u09be\\u09b0\\u09cd\\u09a5 \\u099b\\u09c7\\u09dc\\u09c7 \\u09a6\\u09bf\\u09df\\u09c7 \\u0986\\u09ae\\u09be\\u09a6\\u09c7\\u09b0 \\u0985\\u09a7\\u09bf\\u0995\\u09be\\u09b0 \\u0986\\u09a6\\u09be\\u09df\\u09c7 \\u09b8\\u09c1\\u09af\\u09cb\\u0997 \\u0995\\u09b0\\u09c7 \\u09a6\\u09bf\\u09ac\\u09c7 \\u098f\\u09ae\\u09a8 \\u099a\\u09bf\\u09a8\\u09cd\\u09a4\\u09be \\u09a8\\u09be \\u0995\\u09b0\\u09be\\u0987 \\u0989\\u0993\\u09ae\\u0964\",\n          \"\\u09ac\\u09c1\\u099d\\u09a4\\u09c7 \\u09aa\\u09be\\u09b0\\u09be\\u09b0 \\u099c\\u09a8\\u09cd\\u09af \\u0986\\u09aa\\u09a8\\u09be\\u0995\\u09c7 \\u0985\\u09ad\\u09bf\\u09a8\\u09a8\\u09cd\\u09a6\\u09a8 \\u0964\"\n        ],\n        \"semantic_type\": \"\",\n        \"description\": \"\"\n      }\n    },\n    {\n      \"column\": \"Year\",\n      \"properties\": {\n        \"dtype\": \"number\",\n        \"std\": 1,\n        \"min\": 2016,\n        \"max\": 2021,\n        \"num_unique_values\": 6,\n        \"samples\": [\n          2016,\n          2017,\n          2021\n        ],\n        \"semantic_type\": \"\",\n        \"description\": \"\"\n      }\n    },\n    {\n      \"column\": \"Racial Biases\",\n      \"properties\": {\n        \"dtype\": \"number\",\n        \"std\": null,\n        \"min\": null,\n        \"max\": null,\n        \"num_unique_values\": 0,\n        \"samples\": [],\n        \"semantic_type\": \"\",\n        \"description\": \"\"\n      }\n    },\n    {\n      \"column\": \"Hatred Percentage\",\n      \"properties\": {\n        \"dtype\": \"number\",\n        \"std\": null,\n        \"min\": null,\n        \"max\": null,\n        \"num_unique_values\": 0,\n        \"samples\": [],\n        \"semantic_type\": \"\",\n        \"description\": \"\"\n      }\n    },\n    {\n      \"column\": \"Depression Percentage\",\n      \"properties\": {\n        \"dtype\": \"number\",\n        \"std\": null,\n        \"min\": null,\n        \"max\": null,\n        \"num_unique_values\": 0,\n        \"samples\": [],\n        \"semantic_type\": \"\",\n        \"description\": \"\"\n      }\n    }\n  ]\n}"
            }
          },
          "metadata": {},
          "execution_count": 5
        }
      ]
    },
    {
      "cell_type": "code",
      "source": [
        "# @title Emotion\n",
        "\n",
        "from matplotlib import pyplot as plt\n",
        "import seaborn as sns\n",
        "df.groupby('Emotion').size().plot(kind='barh', color=sns.palettes.mpl_palette('Dark2'))\n",
        "plt.gca().spines[['top', 'right',]].set_visible(False)"
      ],
      "metadata": {
        "colab": {
          "base_uri": "https://localhost:8080/",
          "height": 430
        },
        "id": "3vsx077k1ovP",
        "outputId": "e084e0ed-fa78-4b18-fc71-27d627c334e9"
      },
      "execution_count": 6,
      "outputs": [
        {
          "output_type": "display_data",
          "data": {
            "text/plain": [
              "<Figure size 640x480 with 1 Axes>"
            ],
            "image/png": "[encoded data removed]"
          },
          "metadata": {}
        }
      ]
    },
    {
      "cell_type": "code",
      "source": [
        "#label encoder\n",
        "from sklearn.preprocessing import LabelEncoder\n",
        "le = LabelEncoder()\n",
        "df['Emotion_label'] = le.fit_transform(df['Emotion'])\n"
      ],
      "metadata": {
        "id": "9anJo3Tf1u-w"
      },
      "execution_count": 7,
      "outputs": []
    },
    {
      "cell_type": "code",
      "source": [
        "#drop Racial biases\n",
        "df.drop(['Racial Biases'], axis=1, inplace=True)\n",
        "#drop Hatred Percentage\n",
        "df.drop(['Hatred Percentage',], axis=1, inplace=True)\n",
        "#drop Depression Percentage\n",
        "df.drop(['Depression Percentage'], axis=1, inplace=True)\n",
        "#drop year\n",
        "df.drop(['Year'], axis=1, inplace=True)\n"
      ],
      "metadata": {
        "id": "muKM9bn610vG"
      },
      "execution_count": 8,
      "outputs": []
    },
    {
      "cell_type": "code",
      "source": [
        "#data preprocessing using spacy\n",
        "\n",
        "#removing unnecessary punctuation\n",
        "import re\n",
        "\n",
        "# Data cleaning function\n",
        "def process_comments(Comment):\n",
        "    Comment = re.sub('[^\\u0980-\\u09FF]',' ',str(Comment)) #removing unnecessary punctuation\n",
        "    return Comment\n",
        "\n",
        "df['Cleaned'] = df['Text'].apply(process_comments)\n",
        "df.head()\n"
      ],
      "metadata": {
        "id": "CrQLyUHqSuUr",
        "colab": {
          "base_uri": "https://localhost:8080/",
          "height": 223
        },
        "outputId": "d6990886-f988-4f96-ef79-3c1f739bbea8"
      },
      "execution_count": 9,
      "outputs": [
        {
          "output_type": "execute_result",
          "data": {
            "text/plain": [
              "   SL  Emotion                                               Text  \\\n",
              "0   1  disgust  নির্বাচনের আগের রাতে সুষ্টু শান্তিপূর্ণ ভাবে ভ...   \n",
              "1   2  disgust  জনগণ মনের আনন্দে নিজেদের ভোট কাস্ট করে দেশদ্রো...   \n",
              "2   3    angry                                   ভেজাল নির্বাচন ।   \n",
              "3   4    happy  বিএনপি ও রাজাকার সমর্থকরা হেরে গেলে দেশের জন্য...   \n",
              "4   5    angry  সূক্ষ্ম কারচুপি বলে এতদিন একটা কথার কথা ছিল, এ...   \n",
              "\n",
              "   Emotion_label                                            Cleaned  \n",
              "0              1  নির্বাচনের আগের রাতে সুষ্টু শান্তিপূর্ণ ভাবে ভ...  \n",
              "1              1  জনগণ মনের আনন্দে নিজেদের ভোট কাস্ট করে দেশদ্রো...  \n",
              "2              0                                   ভেজাল নির্বাচন    \n",
              "3              3  বিএনপি ও রাজাকার সমর্থকরা হেরে গেলে দেশের জন্য...  \n",
              "4              0  সূক্ষ্ম কারচুপি বলে এতদিন একটা কথার কথা ছিল  এ...  "
            ],
            "text/html": [
              "\n",
              "  <div id=\"df-aa408d31-bb3a-4e5a-8bfe-053d54b42d97\" class=\"colab-df-container\">\n",
              "    <div>\n",
              "<style scoped>\n",
              "    .dataframe tbody tr th:only-of-type {\n",
              "        vertical-align: middle;\n",
              "    }\n",
              "\n",
              "    .dataframe tbody tr th {\n",
              "        vertical-align: top;\n",
              "    }\n",
              "\n",
              "    .dataframe thead th {\n",
              "        text-align: right;\n",
              "    }\n",
              "</style>\n",
              "<table border=\"1\" class=\"dataframe\">\n",
              "  <thead>\n",
              "    <tr style=\"text-align: right;\">\n",
              "      <th></th>\n",
              "      <th>SL</th>\n",
              "      <th>Emotion</th>\n",
              "      <th>Text</th>\n",
              "      <th>Emotion_label</th>\n",
              "      <th>Cleaned</th>\n",
              "    </tr>\n",
              "  </thead>\n",
              "  <tbody>\n",
              "    <tr>\n",
              "      <th>0</th>\n",
              "      <td>1</td>\n",
              "      <td>disgust</td>\n",
              "      <td>নির্বাচনের আগের রাতে সুষ্টু শান্তিপূর্ণ ভাবে ভ...</td>\n",
              "      <td>1</td>\n",
              "      <td>নির্বাচনের আগের রাতে সুষ্টু শান্তিপূর্ণ ভাবে ভ...</td>\n",
              "    </tr>\n",
              "    <tr>\n",
              "      <th>1</th>\n",
              "      <td>2</td>\n",
              "      <td>disgust</td>\n",
              "      <td>জনগণ মনের আনন্দে নিজেদের ভোট কাস্ট করে দেশদ্রো...</td>\n",
              "      <td>1</td>\n",
              "      <td>জনগণ মনের আনন্দে নিজেদের ভোট কাস্ট করে দেশদ্রো...</td>\n",
              "    </tr>\n",
              "    <tr>\n",
              "      <th>2</th>\n",
              "      <td>3</td>\n",
              "      <td>angry</td>\n",
              "      <td>ভেজাল নির্বাচন ।</td>\n",
              "      <td>0</td>\n",
              "      <td>ভেজাল নির্বাচন</td>\n",
              "    </tr>\n",
              "    <tr>\n",
              "      <th>3</th>\n",
              "      <td>4</td>\n",
              "      <td>happy</td>\n",
              "      <td>বিএনপি ও রাজাকার সমর্থকরা হেরে গেলে দেশের জন্য...</td>\n",
              "      <td>3</td>\n",
              "      <td>বিএনপি ও রাজাকার সমর্থকরা হেরে গেলে দেশের জন্য...</td>\n",
              "    </tr>\n",
              "    <tr>\n",
              "      <th>4</th>\n",
              "      <td>5</td>\n",
              "      <td>angry</td>\n",
              "      <td>সূক্ষ্ম কারচুপি বলে এতদিন একটা কথার কথা ছিল, এ...</td>\n",
              "      <td>0</td>\n",
              "      <td>সূক্ষ্ম কারচুপি বলে এতদিন একটা কথার কথা ছিল  এ...</td>\n",
              "    </tr>\n",
              "  </tbody>\n",
              "</table>\n",
              "</div>\n",
              "    <div class=\"colab-df-buttons\">\n",
              "\n",
              "  <div class=\"colab-df-container\">\n",
              "    <button class=\"colab-df-convert\" onclick=\"convertToInteractive('df-aa408d31-bb3a-4e5a-8bfe-053d54b42d97')\"\n",
              "            title=\"Convert this dataframe to an interactive table.\"\n",
              "            style=\"display:none;\">\n",
              "\n",
              "  <svg xmlns=\"http://www.w3.org/2000/svg\" height=\"24px\" viewBox=\"0 -960 960 960\">\n",
              "    <path d=\"M120-120v-720h720v720H120Zm60-500h600v-160H180v160Zm220 220h160v-160H400v160Zm0 220h160v-160H400v160ZM180-400h160v-160H180v160Zm440 0h160v-160H620v160ZM180-180h160v-160H180v160Zm440 0h160v-160H620v160Z\"/>\n",
              "  </svg>\n",
              "    </button>\n",
              "\n",
              "  <style>\n",
              "    .colab-df-container {\n",
              "      display:flex;\n",
              "      gap: 12px;\n",
              "    }\n",
              "\n",
              "    .colab-df-convert {\n",
              "      background-color: #E8F0FE;\n",
              "      border: none;\n",
              "      border-radius: 50%;\n",
              "      cursor: pointer;\n",
              "      display: none;\n",
              "      fill: #1967D2;\n",
              "      height: 32px;\n",
              "      padding: 0 0 0 0;\n",
              "      width: 32px;\n",
              "    }\n",
              "\n",
              "    .colab-df-convert:hover {\n",
              "      background-color: #E2EBFA;\n",
              "      box-shadow: 0px 1px 2px rgba(60, 64, 67, 0.3), 0px 1px 3px 1px rgba(60, 64, 67, 0.15);\n",
              "      fill: #174EA6;\n",
              "    }\n",
              "\n",
              "    .colab-df-buttons div {\n",
              "      margin-bottom: 4px;\n",
              "    }\n",
              "\n",
              "    [theme=dark] .colab-df-convert {\n",
              "      background-color: #3B4455;\n",
              "      fill: #D2E3FC;\n",
              "    }\n",
              "\n",
              "    [theme=dark] .colab-df-convert:hover {\n",
              "      background-color: #434B5C;\n",
              "      box-shadow: 0px 1px 3px 1px rgba(0, 0, 0, 0.15);\n",
              "      filter: drop-shadow(0px 1px 2px rgba(0, 0, 0, 0.3));\n",
              "      fill: #FFFFFF;\n",
              "    }\n",
              "  </style>\n",
              "\n",
              "    <script>\n",
              "      const buttonEl =\n",
              "        document.querySelector('#df-aa408d31-bb3a-4e5a-8bfe-053d54b42d97 button.colab-df-convert');\n",
              "      buttonEl.style.display =\n",
              "        google.colab.kernel.accessAllowed ? 'block' : 'none';\n",
              "\n",
              "      async function convertToInteractive(key) {\n",
              "        const element = document.querySelector('#df-aa408d31-bb3a-4e5a-8bfe-053d54b42d97');\n",
              "        const dataTable =\n",
              "          await google.colab.kernel.invokeFunction('convertToInteractive',\n",
              "                                                    [key], {});\n",
              "        if (!dataTable) return;\n",
              "\n",
              "        const docLinkHtml = 'Like what you see? Visit the ' +\n",
              "          '<a target=\"_blank\" href=https://colab.research.google.com/notebooks/data_table.ipynb>data table notebook</a>'\n",
              "          + ' to learn more about interactive tables.';\n",
              "        element.innerHTML = '';\n",
              "        dataTable['output_type'] = 'display_data';\n",
              "        await google.colab.output.renderOutput(dataTable, element);\n",
              "        const docLink = document.createElement('div');\n",
              "        docLink.innerHTML = docLinkHtml;\n",
              "        element.appendChild(docLink);\n",
              "      }\n",
              "    </script>\n",
              "  </div>\n",
              "\n",
              "\n",
              "<div id=\"df-f89d0400-7e83-42bf-b82e-57e3e663df3e\">\n",
              "  <button class=\"colab-df-quickchart\" onclick=\"quickchart('df-f89d0400-7e83-42bf-b82e-57e3e663df3e')\"\n",
              "            title=\"Suggest charts\"\n",
              "            style=\"display:none;\">\n",
              "\n",
              "<svg xmlns=\"http://www.w3.org/2000/svg\" height=\"24px\"viewBox=\"0 0 24 24\"\n",
              "     width=\"24px\">\n",
              "    <g>\n",
              "        <path d=\"M19 3H5c-1.1 0-2 .9-2 2v14c0 1.1.9 2 2 2h14c1.1 0 2-.9 2-2V5c0-1.1-.9-2-2-2zM9 17H7v-7h2v7zm4 0h-2V7h2v10zm4 0h-2v-4h2v4z\"/>\n",
              "    </g>\n",
              "</svg>\n",
              "  </button>\n",
              "\n",
              "<style>\n",
              "  .colab-df-quickchart {\n",
              "      --bg-color: #E8F0FE;\n",
              "      --fill-color: #1967D2;\n",
              "      --hover-bg-color: #E2EBFA;\n",
              "      --hover-fill-color: #174EA6;\n",
              "      --disabled-fill-color: #AAA;\n",
              "      --disabled-bg-color: #DDD;\n",
              "  }\n",
              "\n",
              "  [theme=dark] .colab-df-quickchart {\n",
              "      --bg-color: #3B4455;\n",
              "      --fill-color: #D2E3FC;\n",
              "      --hover-bg-color: #434B5C;\n",
              "      --hover-fill-color: #FFFFFF;\n",
              "      --disabled-bg-color: #3B4455;\n",
              "      --disabled-fill-color: #666;\n",
              "  }\n",
              "\n",
              "  .colab-df-quickchart {\n",
              "    background-color: var(--bg-color);\n",
              "    border: none;\n",
              "    border-radius: 50%;\n",
              "    cursor: pointer;\n",
              "    display: none;\n",
              "    fill: var(--fill-color);\n",
              "    height: 32px;\n",
              "    padding: 0;\n",
              "    width: 32px;\n",
              "  }\n",
              "\n",
              "  .colab-df-quickchart:hover {\n",
              "    background-color: var(--hover-bg-color);\n",
              "    box-shadow: 0 1px 2px rgba(60, 64, 67, 0.3), 0 1px 3px 1px rgba(60, 64, 67, 0.15);\n",
              "    fill: var(--button-hover-fill-color);\n",
              "  }\n",
              "\n",
              "  .colab-df-quickchart-complete:disabled,\n",
              "  .colab-df-quickchart-complete:disabled:hover {\n",
              "    background-color: var(--disabled-bg-color);\n",
              "    fill: var(--disabled-fill-color);\n",
              "    box-shadow: none;\n",
              "  }\n",
              "\n",
              "  .colab-df-spinner {\n",
              "    border: 2px solid var(--fill-color);\n",
              "    border-color: transparent;\n",
              "    border-bottom-color: var(--fill-color);\n",
              "    animation:\n",
              "      spin 1s steps(1) infinite;\n",
              "  }\n",
              "\n",
              "  @keyframes spin {\n",
              "    0% {\n",
              "      border-color: transparent;\n",
              "      border-bottom-color: var(--fill-color);\n",
              "      border-left-color: var(--fill-color);\n",
              "    }\n",
              "    20% {\n",
              "      border-color: transparent;\n",
              "      border-left-color: var(--fill-color);\n",
              "      border-top-color: var(--fill-color);\n",
              "    }\n",
              "    30% {\n",
              "      border-color: transparent;\n",
              "      border-left-color: var(--fill-color);\n",
              "      border-top-color: var(--fill-color);\n",
              "      border-right-color: var(--fill-color);\n",
              "    }\n",
              "    40% {\n",
              "      border-color: transparent;\n",
              "      border-right-color: var(--fill-color);\n",
              "      border-top-color: var(--fill-color);\n",
              "    }\n",
              "    60% {\n",
              "      border-color: transparent;\n",
              "      border-right-color: var(--fill-color);\n",
              "    }\n",
              "    80% {\n",
              "      border-color: transparent;\n",
              "      border-right-color: var(--fill-color);\n",
              "      border-bottom-color: var(--fill-color);\n",
              "    }\n",
              "    90% {\n",
              "      border-color: transparent;\n",
              "      border-bottom-color: var(--fill-color);\n",
              "    }\n",
              "  }\n",
              "</style>\n",
              "\n",
              "  <script>\n",
              "    async function quickchart(key) {\n",
              "      const quickchartButtonEl =\n",
              "        document.querySelector('#' + key + ' button');\n",
              "      quickchartButtonEl.disabled = true;  // To prevent multiple clicks.\n",
              "      quickchartButtonEl.classList.add('colab-df-spinner');\n",
              "      try {\n",
              "        const charts = await google.colab.kernel.invokeFunction(\n",
              "            'suggestCharts', [key], {});\n",
              "      } catch (error) {\n",
              "        console.error('Error during call to suggestCharts:', error);\n",
              "      }\n",
              "      quickchartButtonEl.classList.remove('colab-df-spinner');\n",
              "      quickchartButtonEl.classList.add('colab-df-quickchart-complete');\n",
              "    }\n",
              "    (() => {\n",
              "      let quickchartButtonEl =\n",
              "        document.querySelector('#df-f89d0400-7e83-42bf-b82e-57e3e663df3e button');\n",
              "      quickchartButtonEl.style.display =\n",
              "        google.colab.kernel.accessAllowed ? 'block' : 'none';\n",
              "    })();\n",
              "  </script>\n",
              "</div>\n",
              "\n",
              "    </div>\n",
              "  </div>\n"
            ],
            "application/vnd.google.colaboratory.intrinsic+json": {
              "type": "dataframe",
              "variable_name": "df",
              "summary": "{\n  \"name\": \"df\",\n  \"rows\": 36000,\n  \"fields\": [\n    {\n      \"column\": \"SL\",\n      \"properties\": {\n        \"dtype\": \"number\",\n        \"std\": 10392,\n        \"min\": 1,\n        \"max\": 36000,\n        \"num_unique_values\": 36000,\n        \"samples\": [\n          16462,\n          23580,\n          23641\n        ],\n        \"semantic_type\": \"\",\n        \"description\": \"\"\n      }\n    },\n    {\n      \"column\": \"Emotion\",\n      \"properties\": {\n        \"dtype\": \"category\",\n        \"num_unique_values\": 6,\n        \"samples\": [\n          \"disgust\",\n          \"angry\",\n          \"sad\"\n        ],\n        \"semantic_type\": \"\",\n        \"description\": \"\"\n      }\n    },\n    {\n      \"column\": \"Text\",\n      \"properties\": {\n        \"dtype\": \"category\",\n        \"num_unique_values\": 11270,\n        \"samples\": [\n          \"\\u098f\\u099f\\u09be \\u0986\\u09ae\\u09c7\\u09b0\\u09bf\\u0995\\u09be\\u09b0 \\u098f\\u0995\\u099f\\u09be \\u09ac\\u09dc\\u09a7\\u09b0\\u09a8\\u09c7\\u09b0 \\u099a\\u09be\\u09b2! \\u099c\\u09be\\u09a4\\u09c0\\u09df \\u09aa\\u09b0\\u09bf\\u099a\\u09df \\u09aa\\u098f\\u09c7\\u09b0 \\u0995\\u09bf \\u0995\\u09c7\\u09be\\u09a8 \\u09ad\\u09c7\\u09b2\\u09c1 \\u09b8\\u09b0\\u0995\\u09be\\u09b0 \\u09a6\\u09bf\\u09a4\\u09c7 \\u099a\\u09be\\u09df \\u09a8\\u09be ?\\u09a6\\u09c7\\u09b6\\u09c7 \\u09b8\\u0995\\u09b2 \\u0995\\u09be\\u099c \\u09a4\\u09c7\\u09be \\u09ad\\u09c7\\u09be\\u099f\\u09be\\u09b0 \\u0986\\u0987\\u09a1\\u09bf \\u09a6\\u09bf\\u09df\\u09be \\u099a\\u09b2\\u09c7. \\u09b9\\u09be\\u09df\\u09b0\\u09c7 \\u09b8\\u09c7\\u09be\\u09a8\\u09be\\u09b0 \\u09ac\\u09be\\u0982\\u09b2\\u09be !!\",\n          \"\\u09ad\\u09be\\u09b0\\u09a4 \\u0985\\u09a4\\u09cd\\u09af\\u09a8\\u09cd\\u09a4 \\u099a\\u09be\\u09b2\\u09be\\u0995\\u09bf\\u09b0 \\u09b8\\u09be\\u09a5\\u09c7 \\u0986\\u09ae\\u09be\\u09a6\\u09c7\\u09b0 \\u09b8\\u09be\\u09a5\\u09c7 \\u09b8\\u09c1'\\u09b8\\u09ae\\u09aa\\u09b0\\u09cd\\u0995 \\u09a6\\u09c7\\u0996\\u09be\\u09df, \\u09ae\\u09c1\\u09b2\\u09a4 \\u09a4\\u09be\\u09b0\\u09be \\u09a8\\u09bf\\u099c\\u09a6\\u09c7\\u09b0 \\u09b8\\u09cd\\u09ac\\u09be\\u09b0\\u09cd\\u09a5 \\u099b\\u09c7\\u09dc\\u09c7 \\u09a6\\u09bf\\u09df\\u09c7 \\u0986\\u09ae\\u09be\\u09a6\\u09c7\\u09b0 \\u0985\\u09a7\\u09bf\\u0995\\u09be\\u09b0 \\u0986\\u09a6\\u09be\\u09df\\u09c7 \\u09b8\\u09c1\\u09af\\u09cb\\u0997 \\u0995\\u09b0\\u09c7 \\u09a6\\u09bf\\u09ac\\u09c7 \\u098f\\u09ae\\u09a8 \\u099a\\u09bf\\u09a8\\u09cd\\u09a4\\u09be \\u09a8\\u09be \\u0995\\u09b0\\u09be\\u0987 \\u0989\\u0993\\u09ae\\u0964\",\n          \"\\u09ac\\u09c1\\u099d\\u09a4\\u09c7 \\u09aa\\u09be\\u09b0\\u09be\\u09b0 \\u099c\\u09a8\\u09cd\\u09af \\u0986\\u09aa\\u09a8\\u09be\\u0995\\u09c7 \\u0985\\u09ad\\u09bf\\u09a8\\u09a8\\u09cd\\u09a6\\u09a8 \\u0964\"\n        ],\n        \"semantic_type\": \"\",\n        \"description\": \"\"\n      }\n    },\n    {\n      \"column\": \"Emotion_label\",\n      \"properties\": {\n        \"dtype\": \"number\",\n        \"std\": 1,\n        \"min\": 0,\n        \"max\": 5,\n        \"num_unique_values\": 6,\n        \"samples\": [\n          1,\n          0,\n          4\n        ],\n        \"semantic_type\": \"\",\n        \"description\": \"\"\n      }\n    },\n    {\n      \"column\": \"Cleaned\",\n      \"properties\": {\n        \"dtype\": \"category\",\n        \"num_unique_values\": 11260,\n        \"samples\": [\n          \"\\u09ad\\u09be\\u0987\\u0986\\u09ae\\u09be\\u09b0 \\u099c\\u09be\\u09a8\\u09be\\u09ae\\u09a4\\u09c7 \\u09ac\\u09be\\u0982\\u09b2\\u09be\\u09a6\\u09c7\\u09b6\\u09c7\\u09b0 \\u0986\\u0987\\u09a8\\u09be\\u09a8\\u09c1\\u09af\\u09be\\u09df\\u09c0 \\u09aa\\u09cd\\u09b0\\u09c7\\u09b8\\u09bf\\u09a1\\u09c7\\u09a8\\u09cd\\u099f \\u0986\\u09b0 \\u09aa\\u09cd\\u09b0\\u09a7\\u09be\\u09a8 \\u09ac\\u09bf\\u099a\\u09be\\u09b0\\u09aa\\u09a4\\u09bf \\u099b\\u09be\\u09dc\\u09be \\u09ac\\u09be\\u0995\\u09bf \\u09b8\\u09ac\\u09be\\u09b0 \\u09ac\\u09bf\\u09b0\\u09c1\\u09a6\\u09cd\\u09a7\\u09c7 \\u09af\\u09c7 \\u0995\\u09c7\\u0989 \\u09ae\\u09be\\u09ae\\u09b2\\u09be \\u0995\\u09b0\\u09a4\\u09c7 \\u09aa\\u09be\\u09b0\\u09c7\\u09a8    \\u0986\\u0987\\u09a8 \\u09b0\\u0995\\u09cd\\u09b7\\u09be \\u0995\\u09be\\u09b0\\u09bf \\u09ac\\u09be\\u09b9\\u09bf\\u09a8\\u09c0 \\u0986\\u0987\\u09a8\\u09c7\\u09b0 \\u0986\\u0993\\u09a4\\u09be\\u09df \\u0986\\u09a8\\u09a4\\u09c7 \\u09aa\\u09be\\u09b0\\u09c7\\u09a8 \\u098f\\u0996\\u09be\\u09a8\\u09c7 \\u0986\\u0993\\u09df\\u09be\\u09ae\\u09c0\\u09b2\\u09c0\\u0997  \\u09ac\\u09bf\\u098f\\u09a8\\u09aa\\u09bf \\u0995\\u09c7\\u0989 \\u0986\\u0987\\u09a8\\u09c7\\u09b0 \\u0989\\u09b0\\u09cd\\u09a7\\u09c7 \\u09a8\\u09df \\u0995\\u09bf\\u09a8\\u09cd\\u09a4\\u09c1 \\u09a6\\u09c1\\u0983\\u0996\\u09c7\\u09b0 \\u0995\\u09a5\\u09be \\u09b9\\u09b2\\u09cb \\u0986\\u09ae\\u09be\\u09a6\\u09c7\\u09b0 \\u09a6\\u09c7\\u09b6\\u09c7 \\u0986\\u0987\\u09a8\\u09c7\\u09b0 \\u09ac\\u09cd\\u09af\\u09be\\u09ac\\u09b9\\u09be\\u09b0 \\u09a5\\u09c7\\u0995\\u09c7 \\u0985\\u09aa\\u09ac\\u09cd\\u09af\\u09be\\u09ac\\u09b9\\u09be\\u09b0\\u099f\\u09be\\u0987 \\u09ac\\u09c7\\u09b6\\u09bf \\u09b9\\u09df \\u09af\\u09c7\\u09ae\\u09a8 \\u0995\\u09bf\\u099b\\u09c1\\u09a6\\u09bf\\u09a8 \\u0986\\u0997\\u09c7\\u0993 \\u0997\\u09cb\\u09b2\\u09be\\u09ae\\u0986\\u099c\\u09ae \\u0995\\u09c7 \\u0995\\u09c7\\u09a8 \\u0997\\u09cd\\u09b0\\u09c7\\u09ab\\u09a4\\u09be\\u09b0 \\u0995\\u09b0\\u09be \\u09b9\\u099a\\u09cd\\u099b\\u09c7\\u09a8\\u09be \\u09a4\\u09be\\u09b0 \\u099c\\u09a8\\u09cd\\u09af \\u098f\\u0987 \\u0987\\u09ae\\u09b0\\u09be\\u09a8 \\u09b8\\u09b0\\u0995\\u09be\\u09b0 \\u09b8\\u09be\\u09b9\\u09c7\\u09ac\\u0987 \\u0995\\u09bf\\u09a8\\u09cd\\u09a4\\u09c1 \\u09b8\\u09b0\\u0995\\u09be\\u09b0 \\u0995\\u09c7 \\u09ac\\u09bf\\u09ad\\u09bf\\u09a8\\u09cd\\u09a8 \\u09b0\\u0995\\u09ae \\u0986\\u09b2\\u09cd\\u099f\\u09bf\\u09ae\\u09c7\\u099f\\u09be\\u09ae \\u09a6\\u09bf\\u09df\\u09c7\\u099b\\u09bf\\u09b2\\u09c7\\u09a8    \\u0986\\u099c \\u0989\\u09a8\\u09bf\\u0987 \\u098f\\u09b0 \\u09ac\\u09bf\\u09b0\\u09c1\\u09a6\\u09cd\\u09a7\\u09c7 \\u0995\\u09a5\\u09be \\u09ac\\u09b2\\u099b\\u09c7\\u09a8 \\u09b6\\u09ab\\u09bf\\u0995 \\u09b0\\u09c7\\u09b9\\u09ae\\u09be\\u09a8\\u09c7\\u09b0 \\u09aa\\u0995\\u09cd\\u09b7\\u09c7 \\u09b9\\u09df\\u09c7 \\u0985\\u09a5\\u099a \\u098f\\u0987 \\u09ac\\u09cd\\u09af\\u09be\\u0995\\u09cd\\u09a4\\u09bf\\u0987 \\u0995\\u09bf\\u09a8\\u09cd\\u09a4\\u09c1 \\u0995\\u09b0\\u09cd\\u09ae\\u099a\\u09be\\u09b0\\u09c0 \\u09a6\\u09c7\\u09b0 \\u09ac\\u09c7\\u09a4\\u09a8 \\u0986\\u09a4\\u09cd\\u09a4\\u09b8\\u09be\\u09a4 \\u0995\\u09b0\\u09c7 \\u09aa\\u09be\\u09b2\\u09bf\\u09df\\u09c7 \\u099c\\u09be\\u09ac\\u09be\\u09b0 \\u09b8\\u09ae\\u09df \\u09ac\\u09bf\\u09ae\\u09be\\u09a8 \\u09ac\\u09a8\\u09cd\\u09a6\\u09b0 \\u09a5\\u09c7\\u0995\\u09c7 \\u0997\\u09cd\\u09b0\\u09c7\\u09ab\\u09a4\\u09be\\u09b0 \\u09b9\\u09df\\u09c7\\u099b\\u09bf\\u09b2\\u09c7\\u09a8 \\u0986\\u09ae\\u09bf \\u099c\\u09be\\u09a8\\u09bf\\u09a8\\u09be \\u0986\\u09ae\\u09be\\u09b0 \\u098f\\u0987 \\u0995\\u09a5\\u09be \\u0997\\u09c1\\u09b2\\u09cb \\u0987\\u09ae\\u09b0\\u09be\\u09a8 \\u09b8\\u09be\\u09b9\\u09c7\\u09ac\\u09c7\\u09b0 \\u09a8\\u099c\\u09b0\\u09c7 \\u0986\\u09b8\\u09ac\\u09c7 \\u0995\\u09bf\\u09a8\\u09be    \\u09af\\u09a6\\u09bf \\u0986\\u09b8\\u09c7 \\u09a4\\u09ac\\u09c7 \\u0989\\u09a4\\u09cd\\u09a4\\u09b0\\u099f\\u09be \\u09a6\\u09bf\\u09ac\\u09c7\\u09a8 \\u0986\\u09b8\\u09be \\u0995\\u09b0\\u09bf \",\n          \"\\u0986\\u09b8\\u09b2\\u09c7 \\u099c\\u09c7\\u09a4\\u09be\\u09b0 \\u09ae\\u09a4 \\u09ae\\u09a8\\u09ae\\u09be\\u09a8\\u09b8\\u09bf\\u0995\\u09be \\u09ac\\u09b2\\u09a4\\u09c7 \\u0995\\u09bf\\u099b\\u09c1 \\u09a8\\u09c7\\u0987 \",\n          \"\\u0986\\u09ae\\u09b0\\u09be \\u09b8\\u09ac\\u09be\\u0987 \\u09a6\\u09cb\\u09df\\u09be \\u0995\\u09b0\\u09bf \\u0986\\u09b2\\u09cd\\u09b2\\u09be\\u09b9 \\u09af\\u09c7\\u09a8 \\u0986\\u09aa\\u09a8\\u09be\\u09a6\\u09c7\\u09b0 \\u09b8\\u09ac\\u09be\\u0987\\u0995\\u09c7 \\u098f\\u09b0\\u0995\\u09ae\\u0987 \\u09b9\\u09be\\u09b8\\u09bf \\u0996\\u09c1\\u09b6\\u09bf \\u09b0\\u09be\\u0996\\u09c7 \\u0986\\u09ae\\u09bf\\u09a8\\u09cd\"\n        ],\n        \"semantic_type\": \"\",\n        \"description\": \"\"\n      }\n    }\n  ]\n}"
            }
          },
          "metadata": {},
          "execution_count": 9
        }
      ]
    },
    {
      "cell_type": "code",
      "source": [
        "import pandas as pd\n",
        "\n",
        "# Load Bengali stop words from a CSV file\n",
        "stop_words_df = pd.read_csv('stopwords_bangla.csv')  # Assuming the CSV has one column with stop words\n",
        "stop_words_df=stop_words_df.drop(['Unnamed: 0'], axis=1)\n",
        "# Convert the stop words to a list\n",
        "stop_words_list = stop_words_df.iloc[:, 0].tolist()  # Convert the column to a list\n",
        "\n",
        "# Check the stop words list\n",
        "print(\"Stop words list:\", stop_words_list[:10])  # Print first 10 stop words for verification\n",
        "\n",
        "\n",
        "# Function to remove stop words\n",
        "def remove_stop_words(text, stop_words):\n",
        "    if isinstance(text, str):  # Ensure the text is a string\n",
        "        # Tokenize text (simple split for Bengali)\n",
        "        words = text.split()\n",
        "        # Filter out stop words\n",
        "        filtered_words = [word for word in words if word not in stop_words]\n",
        "        # Join words back into a single string\n",
        "        return ' '.join(filtered_words)\n",
        "    else:\n",
        "        return text  # If text is not a string, return it as is\n",
        "\n",
        "# Assuming 'df' is the DataFrame and 'Cleaned' is the column with text data\n",
        "# Check a few entries in the original DataFrame\n",
        "print(\"Original texts:\", df['Cleaned'].head())\n",
        "\n",
        "# Apply the function to the DataFrame\n",
        "df['filtered_text'] = df['Cleaned'].apply(lambda x: remove_stop_words(x, stop_words_list))\n",
        "\n",
        "\n",
        "df.head()"
      ],
      "metadata": {
        "colab": {
          "base_uri": "https://localhost:8080/",
          "height": 397
        },
        "id": "2Y0aMtIu2KIX",
        "outputId": "e2a0cfb6-2e26-44a2-f316-822c1cc0b88a"
      },
      "execution_count": 10,
      "outputs": [
        {
          "output_type": "stream",
          "name": "stdout",
          "text": [
            "Stop words list: ['অই', 'অগত্যা', 'অত: পর', 'অতএব', 'অথচ', 'অথবা', 'অধিক', 'অধীনে', 'অধ্যায়', 'অনুগ্রহ']\n",
            "Original texts: 0    নির্বাচনের আগের রাতে সুষ্টু শান্তিপূর্ণ ভাবে ভ...\n",
            "1    জনগণ মনের আনন্দে নিজেদের ভোট কাস্ট করে দেশদ্রো...\n",
            "2                                     ভেজাল নির্বাচন  \n",
            "3    বিএনপি ও রাজাকার সমর্থকরা হেরে গেলে দেশের জন্য...\n",
            "4    সূক্ষ্ম কারচুপি বলে এতদিন একটা কথার কথা ছিল  এ...\n",
            "Name: Cleaned, dtype: object\n"
          ]
        },
        {
          "output_type": "execute_result",
          "data": {
            "text/plain": [
              "   SL  Emotion                                               Text  \\\n",
              "0   1  disgust  নির্বাচনের আগের রাতে সুষ্টু শান্তিপূর্ণ ভাবে ভ...   \n",
              "1   2  disgust  জনগণ মনের আনন্দে নিজেদের ভোট কাস্ট করে দেশদ্রো...   \n",
              "2   3    angry                                   ভেজাল নির্বাচন ।   \n",
              "3   4    happy  বিএনপি ও রাজাকার সমর্থকরা হেরে গেলে দেশের জন্য...   \n",
              "4   5    angry  সূক্ষ্ম কারচুপি বলে এতদিন একটা কথার কথা ছিল, এ...   \n",
              "\n",
              "   Emotion_label                                            Cleaned  \\\n",
              "0              1  নির্বাচনের আগের রাতে সুষ্টু শান্তিপূর্ণ ভাবে ভ...   \n",
              "1              1  জনগণ মনের আনন্দে নিজেদের ভোট কাস্ট করে দেশদ্রো...   \n",
              "2              0                                   ভেজাল নির্বাচন     \n",
              "3              3  বিএনপি ও রাজাকার সমর্থকরা হেরে গেলে দেশের জন্য...   \n",
              "4              0  সূক্ষ্ম কারচুপি বলে এতদিন একটা কথার কথা ছিল  এ...   \n",
              "\n",
              "                                       filtered_text  \n",
              "0  নির্বাচনের আগের রাতে সুষ্টু শান্তিপূর্ণ ভোট ব...  \n",
              "1  জনগণ মনের আনন্দে ভোট কাস্ট দেশদ্রোহী পেট্রল বো...  \n",
              "2                                     ভেজাল নির্বাচন  \n",
              "3  বিএনপি রাজাকার সমর্থকরা হেরে দেশের আমিও সন্তুষ...  \n",
              "4  সূক্ষ্ম কারচুপি এতদিন একটা কথার কথা বাস্তব রূপ...  "
            ],
            "text/html": [
              "\n",
              "  <div id=\"df-63c4667d-9fff-46dc-b2b0-755cb51f7ba2\" class=\"colab-df-container\">\n",
              "    <div>\n",
              "<style scoped>\n",
              "    .dataframe tbody tr th:only-of-type {\n",
              "        vertical-align: middle;\n",
              "    }\n",
              "\n",
              "    .dataframe tbody tr th {\n",
              "        vertical-align: top;\n",
              "    }\n",
              "\n",
              "    .dataframe thead th {\n",
              "        text-align: right;\n",
              "    }\n",
              "</style>\n",
              "<table border=\"1\" class=\"dataframe\">\n",
              "  <thead>\n",
              "    <tr style=\"text-align: right;\">\n",
              "      <th></th>\n",
              "      <th>SL</th>\n",
              "      <th>Emotion</th>\n",
              "      <th>Text</th>\n",
              "      <th>Emotion_label</th>\n",
              "      <th>Cleaned</th>\n",
              "      <th>filtered_text</th>\n",
              "    </tr>\n",
              "  </thead>\n",
              "  <tbody>\n",
              "    <tr>\n",
              "      <th>0</th>\n",
              "      <td>1</td>\n",
              "      <td>disgust</td>\n",
              "      <td>নির্বাচনের আগের রাতে সুষ্টু শান্তিপূর্ণ ভাবে ভ...</td>\n",
              "      <td>1</td>\n",
              "      <td>নির্বাচনের আগের রাতে সুষ্টু শান্তিপূর্ণ ভাবে ভ...</td>\n",
              "      <td>নির্বাচনের আগের রাতে সুষ্টু শান্তিপূর্ণ ভোট ব...</td>\n",
              "    </tr>\n",
              "    <tr>\n",
              "      <th>1</th>\n",
              "      <td>2</td>\n",
              "      <td>disgust</td>\n",
              "      <td>জনগণ মনের আনন্দে নিজেদের ভোট কাস্ট করে দেশদ্রো...</td>\n",
              "      <td>1</td>\n",
              "      <td>জনগণ মনের আনন্দে নিজেদের ভোট কাস্ট করে দেশদ্রো...</td>\n",
              "      <td>জনগণ মনের আনন্দে ভোট কাস্ট দেশদ্রোহী পেট্রল বো...</td>\n",
              "    </tr>\n",
              "    <tr>\n",
              "      <th>2</th>\n",
              "      <td>3</td>\n",
              "      <td>angry</td>\n",
              "      <td>ভেজাল নির্বাচন ।</td>\n",
              "      <td>0</td>\n",
              "      <td>ভেজাল নির্বাচন</td>\n",
              "      <td>ভেজাল নির্বাচন</td>\n",
              "    </tr>\n",
              "    <tr>\n",
              "      <th>3</th>\n",
              "      <td>4</td>\n",
              "      <td>happy</td>\n",
              "      <td>বিএনপি ও রাজাকার সমর্থকরা হেরে গেলে দেশের জন্য...</td>\n",
              "      <td>3</td>\n",
              "      <td>বিএনপি ও রাজাকার সমর্থকরা হেরে গেলে দেশের জন্য...</td>\n",
              "      <td>বিএনপি রাজাকার সমর্থকরা হেরে দেশের আমিও সন্তুষ...</td>\n",
              "    </tr>\n",
              "    <tr>\n",
              "      <th>4</th>\n",
              "      <td>5</td>\n",
              "      <td>angry</td>\n",
              "      <td>সূক্ষ্ম কারচুপি বলে এতদিন একটা কথার কথা ছিল, এ...</td>\n",
              "      <td>0</td>\n",
              "      <td>সূক্ষ্ম কারচুপি বলে এতদিন একটা কথার কথা ছিল  এ...</td>\n",
              "      <td>সূক্ষ্ম কারচুপি এতদিন একটা কথার কথা বাস্তব রূপ...</td>\n",
              "    </tr>\n",
              "  </tbody>\n",
              "</table>\n",
              "</div>\n",
              "    <div class=\"colab-df-buttons\">\n",
              "\n",
              "  <div class=\"colab-df-container\">\n",
              "    <button class=\"colab-df-convert\" onclick=\"convertToInteractive('df-63c4667d-9fff-46dc-b2b0-755cb51f7ba2')\"\n",
              "            title=\"Convert this dataframe to an interactive table.\"\n",
              "            style=\"display:none;\">\n",
              "\n",
              "  <svg xmlns=\"http://www.w3.org/2000/svg\" height=\"24px\" viewBox=\"0 -960 960 960\">\n",
              "    <path d=\"M120-120v-720h720v720H120Zm60-500h600v-160H180v160Zm220 220h160v-160H400v160Zm0 220h160v-160H400v160ZM180-400h160v-160H180v160Zm440 0h160v-160H620v160ZM180-180h160v-160H180v160Zm440 0h160v-160H620v160Z\"/>\n",
              "  </svg>\n",
              "    </button>\n",
              "\n",
              "  <style>\n",
              "    .colab-df-container {\n",
              "      display:flex;\n",
              "      gap: 12px;\n",
              "    }\n",
              "\n",
              "    .colab-df-convert {\n",
              "      background-color: #E8F0FE;\n",
              "      border: none;\n",
              "      border-radius: 50%;\n",
              "      cursor: pointer;\n",
              "      display: none;\n",
              "      fill: #1967D2;\n",
              "      height: 32px;\n",
              "      padding: 0 0 0 0;\n",
              "      width: 32px;\n",
              "    }\n",
              "\n",
              "    .colab-df-convert:hover {\n",
              "      background-color: #E2EBFA;\n",
              "      box-shadow: 0px 1px 2px rgba(60, 64, 67, 0.3), 0px 1px 3px 1px rgba(60, 64, 67, 0.15);\n",
              "      fill: #174EA6;\n",
              "    }\n",
              "\n",
              "    .colab-df-buttons div {\n",
              "      margin-bottom: 4px;\n",
              "    }\n",
              "\n",
              "    [theme=dark] .colab-df-convert {\n",
              "      background-color: #3B4455;\n",
              "      fill: #D2E3FC;\n",
              "    }\n",
              "\n",
              "    [theme=dark] .colab-df-convert:hover {\n",
              "      background-color: #434B5C;\n",
              "      box-shadow: 0px 1px 3px 1px rgba(0, 0, 0, 0.15);\n",
              "      filter: drop-shadow(0px 1px 2px rgba(0, 0, 0, 0.3));\n",
              "      fill: #FFFFFF;\n",
              "    }\n",
              "  </style>\n",
              "\n",
              "    <script>\n",
              "      const buttonEl =\n",
              "        document.querySelector('#df-63c4667d-9fff-46dc-b2b0-755cb51f7ba2 button.colab-df-convert');\n",
              "      buttonEl.style.display =\n",
              "        google.colab.kernel.accessAllowed ? 'block' : 'none';\n",
              "\n",
              "      async function convertToInteractive(key) {\n",
              "        const element = document.querySelector('#df-63c4667d-9fff-46dc-b2b0-755cb51f7ba2');\n",
              "        const dataTable =\n",
              "          await google.colab.kernel.invokeFunction('convertToInteractive',\n",
              "                                                    [key], {});\n",
              "        if (!dataTable) return;\n",
              "\n",
              "        const docLinkHtml = 'Like what you see? Visit the ' +\n",
              "          '<a target=\"_blank\" href=https://colab.research.google.com/notebooks/data_table.ipynb>data table notebook</a>'\n",
              "          + ' to learn more about interactive tables.';\n",
              "        element.innerHTML = '';\n",
              "        dataTable['output_type'] = 'display_data';\n",
              "        await google.colab.output.renderOutput(dataTable, element);\n",
              "        const docLink = document.createElement('div');\n",
              "        docLink.innerHTML = docLinkHtml;\n",
              "        element.appendChild(docLink);\n",
              "      }\n",
              "    </script>\n",
              "  </div>\n",
              "\n",
              "\n",
              "<div id=\"df-dad57498-ed1c-4086-a3e0-cb64f795cc04\">\n",
              "  <button class=\"colab-df-quickchart\" onclick=\"quickchart('df-dad57498-ed1c-4086-a3e0-cb64f795cc04')\"\n",
              "            title=\"Suggest charts\"\n",
              "            style=\"display:none;\">\n",
              "\n",
              "<svg xmlns=\"http://www.w3.org/2000/svg\" height=\"24px\"viewBox=\"0 0 24 24\"\n",
              "     width=\"24px\">\n",
              "    <g>\n",
              "        <path d=\"M19 3H5c-1.1 0-2 .9-2 2v14c0 1.1.9 2 2 2h14c1.1 0 2-.9 2-2V5c0-1.1-.9-2-2-2zM9 17H7v-7h2v7zm4 0h-2V7h2v10zm4 0h-2v-4h2v4z\"/>\n",
              "    </g>\n",
              "</svg>\n",
              "  </button>\n",
              "\n",
              "<style>\n",
              "  .colab-df-quickchart {\n",
              "      --bg-color: #E8F0FE;\n",
              "      --fill-color: #1967D2;\n",
              "      --hover-bg-color: #E2EBFA;\n",
              "      --hover-fill-color: #174EA6;\n",
              "      --disabled-fill-color: #AAA;\n",
              "      --disabled-bg-color: #DDD;\n",
              "  }\n",
              "\n",
              "  [theme=dark] .colab-df-quickchart {\n",
              "      --bg-color: #3B4455;\n",
              "      --fill-color: #D2E3FC;\n",
              "      --hover-bg-color: #434B5C;\n",
              "      --hover-fill-color: #FFFFFF;\n",
              "      --disabled-bg-color: #3B4455;\n",
              "      --disabled-fill-color: #666;\n",
              "  }\n",
              "\n",
              "  .colab-df-quickchart {\n",
              "    background-color: var(--bg-color);\n",
              "    border: none;\n",
              "    border-radius: 50%;\n",
              "    cursor: pointer;\n",
              "    display: none;\n",
              "    fill: var(--fill-color);\n",
              "    height: 32px;\n",
              "    padding: 0;\n",
              "    width: 32px;\n",
              "  }\n",
              "\n",
              "  .colab-df-quickchart:hover {\n",
              "    background-color: var(--hover-bg-color);\n",
              "    box-shadow: 0 1px 2px rgba(60, 64, 67, 0.3), 0 1px 3px 1px rgba(60, 64, 67, 0.15);\n",
              "    fill: var(--button-hover-fill-color);\n",
              "  }\n",
              "\n",
              "  .colab-df-quickchart-complete:disabled,\n",
              "  .colab-df-quickchart-complete:disabled:hover {\n",
              "    background-color: var(--disabled-bg-color);\n",
              "    fill: var(--disabled-fill-color);\n",
              "    box-shadow: none;\n",
              "  }\n",
              "\n",
              "  .colab-df-spinner {\n",
              "    border: 2px solid var(--fill-color);\n",
              "    border-color: transparent;\n",
              "    border-bottom-color: var(--fill-color);\n",
              "    animation:\n",
              "      spin 1s steps(1) infinite;\n",
              "  }\n",
              "\n",
              "  @keyframes spin {\n",
              "    0% {\n",
              "      border-color: transparent;\n",
              "      border-bottom-color: var(--fill-color);\n",
              "      border-left-color: var(--fill-color);\n",
              "    }\n",
              "    20% {\n",
              "      border-color: transparent;\n",
              "      border-left-color: var(--fill-color);\n",
              "      border-top-color: var(--fill-color);\n",
              "    }\n",
              "    30% {\n",
              "      border-color: transparent;\n",
              "      border-left-color: var(--fill-color);\n",
              "      border-top-color: var(--fill-color);\n",
              "      border-right-color: var(--fill-color);\n",
              "    }\n",
              "    40% {\n",
              "      border-color: transparent;\n",
              "      border-right-color: var(--fill-color);\n",
              "      border-top-color: var(--fill-color);\n",
              "    }\n",
              "    60% {\n",
              "      border-color: transparent;\n",
              "      border-right-color: var(--fill-color);\n",
              "    }\n",
              "    80% {\n",
              "      border-color: transparent;\n",
              "      border-right-color: var(--fill-color);\n",
              "      border-bottom-color: var(--fill-color);\n",
              "    }\n",
              "    90% {\n",
              "      border-color: transparent;\n",
              "      border-bottom-color: var(--fill-color);\n",
              "    }\n",
              "  }\n",
              "</style>\n",
              "\n",
              "  <script>\n",
              "    async function quickchart(key) {\n",
              "      const quickchartButtonEl =\n",
              "        document.querySelector('#' + key + ' button');\n",
              "      quickchartButtonEl.disabled = true;  // To prevent multiple clicks.\n",
              "      quickchartButtonEl.classList.add('colab-df-spinner');\n",
              "      try {\n",
              "        const charts = await google.colab.kernel.invokeFunction(\n",
              "            'suggestCharts', [key], {});\n",
              "      } catch (error) {\n",
              "        console.error('Error during call to suggestCharts:', error);\n",
              "      }\n",
              "      quickchartButtonEl.classList.remove('colab-df-spinner');\n",
              "      quickchartButtonEl.classList.add('colab-df-quickchart-complete');\n",
              "    }\n",
              "    (() => {\n",
              "      let quickchartButtonEl =\n",
              "        document.querySelector('#df-dad57498-ed1c-4086-a3e0-cb64f795cc04 button');\n",
              "      quickchartButtonEl.style.display =\n",
              "        google.colab.kernel.accessAllowed ? 'block' : 'none';\n",
              "    })();\n",
              "  </script>\n",
              "</div>\n",
              "\n",
              "    </div>\n",
              "  </div>\n"
            ],
            "application/vnd.google.colaboratory.intrinsic+json": {
              "type": "dataframe",
              "variable_name": "df",
              "summary": "{\n  \"name\": \"df\",\n  \"rows\": 36000,\n  \"fields\": [\n    {\n      \"column\": \"SL\",\n      \"properties\": {\n        \"dtype\": \"number\",\n        \"std\": 10392,\n        \"min\": 1,\n        \"max\": 36000,\n        \"num_unique_values\": 36000,\n        \"samples\": [\n          16462,\n          23580,\n          23641\n        ],\n        \"semantic_type\": \"\",\n        \"description\": \"\"\n      }\n    },\n    {\n      \"column\": \"Emotion\",\n      \"properties\": {\n        \"dtype\": \"category\",\n        \"num_unique_values\": 6,\n        \"samples\": [\n          \"disgust\",\n          \"angry\",\n          \"sad\"\n        ],\n        \"semantic_type\": \"\",\n        \"description\": \"\"\n      }\n    },\n    {\n      \"column\": \"Text\",\n      \"properties\": {\n        \"dtype\": \"category\",\n        \"num_unique_values\": 11270,\n        \"samples\": [\n          \"\\u098f\\u099f\\u09be \\u0986\\u09ae\\u09c7\\u09b0\\u09bf\\u0995\\u09be\\u09b0 \\u098f\\u0995\\u099f\\u09be \\u09ac\\u09dc\\u09a7\\u09b0\\u09a8\\u09c7\\u09b0 \\u099a\\u09be\\u09b2! \\u099c\\u09be\\u09a4\\u09c0\\u09df \\u09aa\\u09b0\\u09bf\\u099a\\u09df \\u09aa\\u098f\\u09c7\\u09b0 \\u0995\\u09bf \\u0995\\u09c7\\u09be\\u09a8 \\u09ad\\u09c7\\u09b2\\u09c1 \\u09b8\\u09b0\\u0995\\u09be\\u09b0 \\u09a6\\u09bf\\u09a4\\u09c7 \\u099a\\u09be\\u09df \\u09a8\\u09be ?\\u09a6\\u09c7\\u09b6\\u09c7 \\u09b8\\u0995\\u09b2 \\u0995\\u09be\\u099c \\u09a4\\u09c7\\u09be \\u09ad\\u09c7\\u09be\\u099f\\u09be\\u09b0 \\u0986\\u0987\\u09a1\\u09bf \\u09a6\\u09bf\\u09df\\u09be \\u099a\\u09b2\\u09c7. \\u09b9\\u09be\\u09df\\u09b0\\u09c7 \\u09b8\\u09c7\\u09be\\u09a8\\u09be\\u09b0 \\u09ac\\u09be\\u0982\\u09b2\\u09be !!\",\n          \"\\u09ad\\u09be\\u09b0\\u09a4 \\u0985\\u09a4\\u09cd\\u09af\\u09a8\\u09cd\\u09a4 \\u099a\\u09be\\u09b2\\u09be\\u0995\\u09bf\\u09b0 \\u09b8\\u09be\\u09a5\\u09c7 \\u0986\\u09ae\\u09be\\u09a6\\u09c7\\u09b0 \\u09b8\\u09be\\u09a5\\u09c7 \\u09b8\\u09c1'\\u09b8\\u09ae\\u09aa\\u09b0\\u09cd\\u0995 \\u09a6\\u09c7\\u0996\\u09be\\u09df, \\u09ae\\u09c1\\u09b2\\u09a4 \\u09a4\\u09be\\u09b0\\u09be \\u09a8\\u09bf\\u099c\\u09a6\\u09c7\\u09b0 \\u09b8\\u09cd\\u09ac\\u09be\\u09b0\\u09cd\\u09a5 \\u099b\\u09c7\\u09dc\\u09c7 \\u09a6\\u09bf\\u09df\\u09c7 \\u0986\\u09ae\\u09be\\u09a6\\u09c7\\u09b0 \\u0985\\u09a7\\u09bf\\u0995\\u09be\\u09b0 \\u0986\\u09a6\\u09be\\u09df\\u09c7 \\u09b8\\u09c1\\u09af\\u09cb\\u0997 \\u0995\\u09b0\\u09c7 \\u09a6\\u09bf\\u09ac\\u09c7 \\u098f\\u09ae\\u09a8 \\u099a\\u09bf\\u09a8\\u09cd\\u09a4\\u09be \\u09a8\\u09be \\u0995\\u09b0\\u09be\\u0987 \\u0989\\u0993\\u09ae\\u0964\",\n          \"\\u09ac\\u09c1\\u099d\\u09a4\\u09c7 \\u09aa\\u09be\\u09b0\\u09be\\u09b0 \\u099c\\u09a8\\u09cd\\u09af \\u0986\\u09aa\\u09a8\\u09be\\u0995\\u09c7 \\u0985\\u09ad\\u09bf\\u09a8\\u09a8\\u09cd\\u09a6\\u09a8 \\u0964\"\n        ],\n        \"semantic_type\": \"\",\n        \"description\": \"\"\n      }\n    },\n    {\n      \"column\": \"Emotion_label\",\n      \"properties\": {\n        \"dtype\": \"number\",\n        \"std\": 1,\n        \"min\": 0,\n        \"max\": 5,\n        \"num_unique_values\": 6,\n        \"samples\": [\n          1,\n          0,\n          4\n        ],\n        \"semantic_type\": \"\",\n        \"description\": \"\"\n      }\n    },\n    {\n      \"column\": \"Cleaned\",\n      \"properties\": {\n        \"dtype\": \"category\",\n        \"num_unique_values\": 11260,\n        \"samples\": [\n          \"\\u09ad\\u09be\\u0987\\u0986\\u09ae\\u09be\\u09b0 \\u099c\\u09be\\u09a8\\u09be\\u09ae\\u09a4\\u09c7 \\u09ac\\u09be\\u0982\\u09b2\\u09be\\u09a6\\u09c7\\u09b6\\u09c7\\u09b0 \\u0986\\u0987\\u09a8\\u09be\\u09a8\\u09c1\\u09af\\u09be\\u09df\\u09c0 \\u09aa\\u09cd\\u09b0\\u09c7\\u09b8\\u09bf\\u09a1\\u09c7\\u09a8\\u09cd\\u099f \\u0986\\u09b0 \\u09aa\\u09cd\\u09b0\\u09a7\\u09be\\u09a8 \\u09ac\\u09bf\\u099a\\u09be\\u09b0\\u09aa\\u09a4\\u09bf \\u099b\\u09be\\u09dc\\u09be \\u09ac\\u09be\\u0995\\u09bf \\u09b8\\u09ac\\u09be\\u09b0 \\u09ac\\u09bf\\u09b0\\u09c1\\u09a6\\u09cd\\u09a7\\u09c7 \\u09af\\u09c7 \\u0995\\u09c7\\u0989 \\u09ae\\u09be\\u09ae\\u09b2\\u09be \\u0995\\u09b0\\u09a4\\u09c7 \\u09aa\\u09be\\u09b0\\u09c7\\u09a8    \\u0986\\u0987\\u09a8 \\u09b0\\u0995\\u09cd\\u09b7\\u09be \\u0995\\u09be\\u09b0\\u09bf \\u09ac\\u09be\\u09b9\\u09bf\\u09a8\\u09c0 \\u0986\\u0987\\u09a8\\u09c7\\u09b0 \\u0986\\u0993\\u09a4\\u09be\\u09df \\u0986\\u09a8\\u09a4\\u09c7 \\u09aa\\u09be\\u09b0\\u09c7\\u09a8 \\u098f\\u0996\\u09be\\u09a8\\u09c7 \\u0986\\u0993\\u09df\\u09be\\u09ae\\u09c0\\u09b2\\u09c0\\u0997  \\u09ac\\u09bf\\u098f\\u09a8\\u09aa\\u09bf \\u0995\\u09c7\\u0989 \\u0986\\u0987\\u09a8\\u09c7\\u09b0 \\u0989\\u09b0\\u09cd\\u09a7\\u09c7 \\u09a8\\u09df \\u0995\\u09bf\\u09a8\\u09cd\\u09a4\\u09c1 \\u09a6\\u09c1\\u0983\\u0996\\u09c7\\u09b0 \\u0995\\u09a5\\u09be \\u09b9\\u09b2\\u09cb \\u0986\\u09ae\\u09be\\u09a6\\u09c7\\u09b0 \\u09a6\\u09c7\\u09b6\\u09c7 \\u0986\\u0987\\u09a8\\u09c7\\u09b0 \\u09ac\\u09cd\\u09af\\u09be\\u09ac\\u09b9\\u09be\\u09b0 \\u09a5\\u09c7\\u0995\\u09c7 \\u0985\\u09aa\\u09ac\\u09cd\\u09af\\u09be\\u09ac\\u09b9\\u09be\\u09b0\\u099f\\u09be\\u0987 \\u09ac\\u09c7\\u09b6\\u09bf \\u09b9\\u09df \\u09af\\u09c7\\u09ae\\u09a8 \\u0995\\u09bf\\u099b\\u09c1\\u09a6\\u09bf\\u09a8 \\u0986\\u0997\\u09c7\\u0993 \\u0997\\u09cb\\u09b2\\u09be\\u09ae\\u0986\\u099c\\u09ae \\u0995\\u09c7 \\u0995\\u09c7\\u09a8 \\u0997\\u09cd\\u09b0\\u09c7\\u09ab\\u09a4\\u09be\\u09b0 \\u0995\\u09b0\\u09be \\u09b9\\u099a\\u09cd\\u099b\\u09c7\\u09a8\\u09be \\u09a4\\u09be\\u09b0 \\u099c\\u09a8\\u09cd\\u09af \\u098f\\u0987 \\u0987\\u09ae\\u09b0\\u09be\\u09a8 \\u09b8\\u09b0\\u0995\\u09be\\u09b0 \\u09b8\\u09be\\u09b9\\u09c7\\u09ac\\u0987 \\u0995\\u09bf\\u09a8\\u09cd\\u09a4\\u09c1 \\u09b8\\u09b0\\u0995\\u09be\\u09b0 \\u0995\\u09c7 \\u09ac\\u09bf\\u09ad\\u09bf\\u09a8\\u09cd\\u09a8 \\u09b0\\u0995\\u09ae \\u0986\\u09b2\\u09cd\\u099f\\u09bf\\u09ae\\u09c7\\u099f\\u09be\\u09ae \\u09a6\\u09bf\\u09df\\u09c7\\u099b\\u09bf\\u09b2\\u09c7\\u09a8    \\u0986\\u099c \\u0989\\u09a8\\u09bf\\u0987 \\u098f\\u09b0 \\u09ac\\u09bf\\u09b0\\u09c1\\u09a6\\u09cd\\u09a7\\u09c7 \\u0995\\u09a5\\u09be \\u09ac\\u09b2\\u099b\\u09c7\\u09a8 \\u09b6\\u09ab\\u09bf\\u0995 \\u09b0\\u09c7\\u09b9\\u09ae\\u09be\\u09a8\\u09c7\\u09b0 \\u09aa\\u0995\\u09cd\\u09b7\\u09c7 \\u09b9\\u09df\\u09c7 \\u0985\\u09a5\\u099a \\u098f\\u0987 \\u09ac\\u09cd\\u09af\\u09be\\u0995\\u09cd\\u09a4\\u09bf\\u0987 \\u0995\\u09bf\\u09a8\\u09cd\\u09a4\\u09c1 \\u0995\\u09b0\\u09cd\\u09ae\\u099a\\u09be\\u09b0\\u09c0 \\u09a6\\u09c7\\u09b0 \\u09ac\\u09c7\\u09a4\\u09a8 \\u0986\\u09a4\\u09cd\\u09a4\\u09b8\\u09be\\u09a4 \\u0995\\u09b0\\u09c7 \\u09aa\\u09be\\u09b2\\u09bf\\u09df\\u09c7 \\u099c\\u09be\\u09ac\\u09be\\u09b0 \\u09b8\\u09ae\\u09df \\u09ac\\u09bf\\u09ae\\u09be\\u09a8 \\u09ac\\u09a8\\u09cd\\u09a6\\u09b0 \\u09a5\\u09c7\\u0995\\u09c7 \\u0997\\u09cd\\u09b0\\u09c7\\u09ab\\u09a4\\u09be\\u09b0 \\u09b9\\u09df\\u09c7\\u099b\\u09bf\\u09b2\\u09c7\\u09a8 \\u0986\\u09ae\\u09bf \\u099c\\u09be\\u09a8\\u09bf\\u09a8\\u09be \\u0986\\u09ae\\u09be\\u09b0 \\u098f\\u0987 \\u0995\\u09a5\\u09be \\u0997\\u09c1\\u09b2\\u09cb \\u0987\\u09ae\\u09b0\\u09be\\u09a8 \\u09b8\\u09be\\u09b9\\u09c7\\u09ac\\u09c7\\u09b0 \\u09a8\\u099c\\u09b0\\u09c7 \\u0986\\u09b8\\u09ac\\u09c7 \\u0995\\u09bf\\u09a8\\u09be    \\u09af\\u09a6\\u09bf \\u0986\\u09b8\\u09c7 \\u09a4\\u09ac\\u09c7 \\u0989\\u09a4\\u09cd\\u09a4\\u09b0\\u099f\\u09be \\u09a6\\u09bf\\u09ac\\u09c7\\u09a8 \\u0986\\u09b8\\u09be \\u0995\\u09b0\\u09bf \",\n          \"\\u0986\\u09b8\\u09b2\\u09c7 \\u099c\\u09c7\\u09a4\\u09be\\u09b0 \\u09ae\\u09a4 \\u09ae\\u09a8\\u09ae\\u09be\\u09a8\\u09b8\\u09bf\\u0995\\u09be \\u09ac\\u09b2\\u09a4\\u09c7 \\u0995\\u09bf\\u099b\\u09c1 \\u09a8\\u09c7\\u0987 \",\n          \"\\u0986\\u09ae\\u09b0\\u09be \\u09b8\\u09ac\\u09be\\u0987 \\u09a6\\u09cb\\u09df\\u09be \\u0995\\u09b0\\u09bf \\u0986\\u09b2\\u09cd\\u09b2\\u09be\\u09b9 \\u09af\\u09c7\\u09a8 \\u0986\\u09aa\\u09a8\\u09be\\u09a6\\u09c7\\u09b0 \\u09b8\\u09ac\\u09be\\u0987\\u0995\\u09c7 \\u098f\\u09b0\\u0995\\u09ae\\u0987 \\u09b9\\u09be\\u09b8\\u09bf \\u0996\\u09c1\\u09b6\\u09bf \\u09b0\\u09be\\u0996\\u09c7 \\u0986\\u09ae\\u09bf\\u09a8\\u09cd\"\n        ],\n        \"semantic_type\": \"\",\n        \"description\": \"\"\n      }\n    },\n    {\n      \"column\": \"filtered_text\",\n      \"properties\": {\n        \"dtype\": \"category\",\n        \"num_unique_values\": 11034,\n        \"samples\": [\n          \"\\u09af\\u09be\\u0987\\u09df\\u09be \\u09ac\\u09be\\u09b2 \\u09ab\\u09be\\u09b2\\u09be\\u0987\\u09b8\\u09bf \\u09ac\\u09be\\u09b2 \\u09b9\\u09c1\\u09a6\\u09be\\u0987\",\n          \"\\u09aa\\u09be\\u0995\\u09bf\\u09b8\\u09cd\\u09a4\\u09be\\u09a8\\u09c7\\u09b0 \\u0995\\u09cd\\u09b7\\u09ae\\u09a4\\u09be\\u099a\\u09cd\\u09af\\u09c1\\u09a4 \\u09aa\\u09cd\\u09b0\\u09a7\\u09be\\u09a8\\u09ae\\u09a8\\u09cd\\u09a4\\u09cd\\u09b0\\u09c0 \\u09a8\\u0993\\u09df\\u09be\\u099c \\u09b6\\u09b0\\u09bf\\u09ab \\u09b6\\u09c7\\u0996 \\u09ae\\u09c1\\u099c\\u09bf\\u09ac\\u09c1\\u09b0 \\u09b0\\u09b9\\u09ae\\u09be\\u09a8 \\u09ac\\u09bf\\u09a6\\u09cd\\u09b0\\u09cb\\u09b9\\u09c0 \\u09a8\\u09be \\u09aa\\u09a5\\u09c7 \\u09ac\\u09be\\u09a7\\u09cd\\u09af \\u09e7\\u09ef\\u09ed\\u09e6 \\u09b8\\u09be\\u09b2\\u09c7\\u09b0 \\u09a8\\u09bf\\u09b0\\u09cd\\u09ac\\u09be\\u099a\\u09a8\\u09c7 \\u09ac\\u09bf\\u099c\\u09df\\u09c0 \\u09b9\\u0993\\u09df\\u09be\\u09b0 \\u09aa\\u09b0\\u0993 \\u09ac\\u0999\\u09cd\\u0997\\u09ac\\u09a8\\u09cd\\u09a7\\u09c1 \\u09b6\\u09c7\\u0996 \\u09ae\\u09c1\\u099c\\u09bf\\u09ac\\u09c1\\u09b0 \\u09b0\\u09b9\\u09ae\\u09be\\u09a8\\u09c7\\u09b0 \\u09b9\\u09be\\u09a4\\u09c7 \\u0995\\u09cd\\u09b7\\u09ae\\u09a4\\u09be \\u09b9\\u09b8\\u09cd\\u09a4\\u09be\\u09a8\\u09cd\\u09a4\\u09b0 \\u09a8\\u09be \\u09aa\\u09be\\u0995\\u09bf\\u09b8\\u09cd\\u09a4\\u09be\\u09a8\\u09bf \\u09a8\\u09c0\\u09a4\\u09bf\\u09b0 \\u09b8\\u09ae\\u09be\\u09b2\\u09cb\\u099a\\u09a8\\u09be \\u0995\\u09a5\\u09be \\u09a8\\u0993\\u09df\\u09be\\u099c \\u09ac\\u09be\\u0982\\u09b2\\u09be\\u09a6\\u09c7\\u09b6\\u09c7\\u09b0 \\u09aa\\u09be\\u0993\\u09a8\\u09be \\u09ab\\u09bf\\u09b0\\u09bf\\u09df\\u09c7\",\n          \"\\u09aa\\u09be\\u099e\\u09cd\\u099c\\u09be\\u09ac\\u09c0 \\u09ac\\u09be\\u09ac\\u09be\\u09b0\\u09c7\\u0993\\u0993 \\u09b0\\u09bf\\u09ae\\u09be\\u09a8\\u09cd\\u09a1\\u09c7 \\u09a8\\u09bf\\u09df\\u09be \\u09b6\\u09ab\\u09bf\\u0995 \\u09b0\\u09c7\\u09b9\\u09ae\\u09be\\u09a8\\u09c7\\u09b0 \\u09a1\\u09bf\\u09ae\\u09c7\\u09b0 \\u09ad\\u09be\\u0997 \\u09a6\\u09c7\\u09df\\u09be\"\n        ],\n        \"semantic_type\": \"\",\n        \"description\": \"\"\n      }\n    }\n  ]\n}"
            }
          },
          "metadata": {},
          "execution_count": 10
        }
      ]
    },
    {
      "cell_type": "code",
      "source": [
        "X = df['filtered_text']"
      ],
      "metadata": {
        "id": "zV9rQT88Ic-O"
      },
      "execution_count": 11,
      "outputs": []
    },
    {
      "cell_type": "code",
      "source": [
        "y = df['Emotion_label']"
      ],
      "metadata": {
        "id": "y-nU4fz4Fm7F"
      },
      "execution_count": 12,
      "outputs": []
    },
    {
      "cell_type": "code",
      "source": [
        "# Train-test split\n",
        "x_train, x_test, y_train, y_test = train_test_split(X, y, test_size=0.2, random_state=42)"
      ],
      "metadata": {
        "id": "XgT5iMRjB_lh"
      },
      "execution_count": 13,
      "outputs": []
    },
    {
      "cell_type": "code",
      "source": [
        "from gensim.models import FastText\n",
        "import numpy as np\n",
        "\n",
        "# Train FastText model on the training data\n",
        "fasttext_model = FastText(sentences=x_train, vector_size=100, window=5, min_count=1, workers=4)\n",
        "\n",
        "# Precompute zero vectors for out-of-vocabulary words\n",
        "zero_vector = np.zeros(fasttext_model.vector_size)\n",
        "\n",
        "# Function to convert text to FastText embeddings\n",
        "def text_to_embedding(text, model, max_length):\n",
        "    # Initialize embedding array with zeros\n",
        "    embedding = np.zeros((max_length, model.vector_size))\n",
        "\n",
        "    # Iterate through words and fill the embedding array\n",
        "    for i, word in enumerate(text[:max_length]):\n",
        "        embedding[i] = model.wv[word] if word in model.wv else zero_vector\n",
        "\n",
        "    return embedding\n",
        "\n",
        "# Set the maximum sequence length\n",
        "max_sequence_length = 100\n",
        "\n",
        "# Convert texts to embeddings\n",
        "x_train_emb = np.array([text_to_embedding(text, fasttext_model, max_sequence_length) for text in x_train])\n",
        "x_test_emb = np.array([text_to_embedding(text, fasttext_model, max_sequence_length) for text in x_test])\n"
      ],
      "metadata": {
        "colab": {
          "base_uri": "https://localhost:8080/"
        },
        "id": "bHsJlN9kIhXN",
        "outputId": "944dfb2e-5820-4d10-d576-fc0c1bebb0f1"
      },
      "execution_count": 14,
      "outputs": [
        {
          "output_type": "stream",
          "name": "stderr",
          "text": [
            "WARNING:gensim.models.word2vec:Each 'sentences' item should be a list of words (usually unicode strings). First item here is instead plain <class 'str'>.\n"
          ]
        }
      ]
    },
    {
      "cell_type": "markdown",
      "source": [
        "##simple RNN"
      ],
      "metadata": {
        "id": "N-Ia839Kueyf"
      }
    },
    {
      "cell_type": "code",
      "source": [
        "import numpy as np\n",
        "from tensorflow.keras.models import Sequential\n",
        "from tensorflow.keras.layers import SimpleRNN, Dense, Embedding\n",
        "from tensorflow.keras.layers import Masking\n",
        "\n",
        "# Define the RNN model\n",
        "model = Sequential()\n",
        "model.add(Masking(mask_value=0., input_shape=(max_sequence_length, 100)))\n",
        "model.add(SimpleRNN(units=128))\n",
        "model.add(Dense(units= 6, activation='softmax'))\n",
        "\n",
        "model.compile(loss='sparse_categorical_crossentropy', optimizer='adam', metrics=['accuracy'])\n",
        "model.summary()\n",
        "\n",
        "# Train the model\n",
        "model.fit(x_train_emb, y_train, epochs=20, batch_size=32, validation_split=0.2)\n"
      ],
      "metadata": {
        "colab": {
          "base_uri": "https://localhost:8080/",
          "height": 1000
        },
        "id": "uvAvtMpCI32l",
        "outputId": "808d23f8-e649-4d03-dc9a-ab90c7dcfaa3"
      },
      "execution_count": 15,
      "outputs": [
        {
          "output_type": "stream",
          "name": "stderr",
          "text": [
            "/usr/local/lib/python3.10/dist-packages/keras/src/layers/core/masking.py:47: UserWarning: Do not pass an `input_shape`/`input_dim` argument to a layer. When using Sequential models, prefer using an `Input(shape)` object as the first layer in the model instead.\n",
            "  super().__init__(**kwargs)\n"
          ]
        },
        {
          "output_type": "display_data",
          "data": {
            "text/plain": [
              "\u001b[1mModel: \"sequential\"\u001b[0m\n"
            ],
            "text/html": [
              "<pre style=\"white-space:pre;overflow-x:auto;line-height:normal;font-family:Menlo,'DejaVu Sans Mono',consolas,'Courier New',monospace\"><span style=\"font-weight: bold\">Model: \"sequential\"</span>\n",
              "</pre>\n"
            ]
          },
          "metadata": {}
        },
        {
          "output_type": "display_data",
          "data": {
            "text/plain": [
              "┏━━━━━━━━━━━━━━━━━━━━━━━━━━━━━━━━━━━━━━┳━━━━━━━━━━━━━━━━━━━━━━━━━━━━━┳━━━━━━━━━━━━━━━━━┓\n",
              "┃\u001b[1m \u001b[0m\u001b[1mLayer (type)                        \u001b[0m\u001b[1m \u001b[0m┃\u001b[1m \u001b[0m\u001b[1mOutput Shape               \u001b[0m\u001b[1m \u001b[0m┃\u001b[1m \u001b[0m\u001b[1m        Param #\u001b[0m\u001b[1m \u001b[0m┃\n",
              "┡━━━━━━━━━━━━━━━━━━━━━━━━━━━━━━━━━━━━━━╇━━━━━━━━━━━━━━━━━━━━━━━━━━━━━╇━━━━━━━━━━━━━━━━━┩\n",
              "│ masking (\u001b[38;5;33mMasking\u001b[0m)                    │ (\u001b[38;5;45mNone\u001b[0m, \u001b[38;5;34m100\u001b[0m, \u001b[38;5;34m100\u001b[0m)            │               \u001b[38;5;34m0\u001b[0m │\n",
              "├──────────────────────────────────────┼─────────────────────────────┼─────────────────┤\n",
              "│ simple_rnn (\u001b[38;5;33mSimpleRNN\u001b[0m)               │ (\u001b[38;5;45mNone\u001b[0m, \u001b[38;5;34m128\u001b[0m)                 │          \u001b[38;5;34m29,312\u001b[0m │\n",
              "├──────────────────────────────────────┼─────────────────────────────┼─────────────────┤\n",
              "│ dense (\u001b[38;5;33mDense\u001b[0m)                        │ (\u001b[38;5;45mNone\u001b[0m, \u001b[38;5;34m6\u001b[0m)                   │             \u001b[38;5;34m774\u001b[0m │\n",
              "└──────────────────────────────────────┴─────────────────────────────┴─────────────────┘\n"
            ],
            "text/html": [
              "<pre style=\"white-space:pre;overflow-x:auto;line-height:normal;font-family:Menlo,'DejaVu Sans Mono',consolas,'Courier New',monospace\">┏━━━━━━━━━━━━━━━━━━━━━━━━━━━━━━━━━━━━━━┳━━━━━━━━━━━━━━━━━━━━━━━━━━━━━┳━━━━━━━━━━━━━━━━━┓\n",
              "┃<span style=\"font-weight: bold\"> Layer (type)                         </span>┃<span style=\"font-weight: bold\"> Output Shape                </span>┃<span style=\"font-weight: bold\">         Param # </span>┃\n",
              "┡━━━━━━━━━━━━━━━━━━━━━━━━━━━━━━━━━━━━━━╇━━━━━━━━━━━━━━━━━━━━━━━━━━━━━╇━━━━━━━━━━━━━━━━━┩\n",
              "│ masking (<span style=\"color: #0087ff; text-decoration-color: #0087ff\">Masking</span>)                    │ (<span style=\"color: #00d7ff; text-decoration-color: #00d7ff\">None</span>, <span style=\"color: #00af00; text-decoration-color: #00af00\">100</span>, <span style=\"color: #00af00; text-decoration-color: #00af00\">100</span>)            │               <span style=\"color: #00af00; text-decoration-color: #00af00\">0</span> │\n",
              "├──────────────────────────────────────┼─────────────────────────────┼─────────────────┤\n",
              "│ simple_rnn (<span style=\"color: #0087ff; text-decoration-color: #0087ff\">SimpleRNN</span>)               │ (<span style=\"color: #00d7ff; text-decoration-color: #00d7ff\">None</span>, <span style=\"color: #00af00; text-decoration-color: #00af00\">128</span>)                 │          <span style=\"color: #00af00; text-decoration-color: #00af00\">29,312</span> │\n",
              "├──────────────────────────────────────┼─────────────────────────────┼─────────────────┤\n",
              "│ dense (<span style=\"color: #0087ff; text-decoration-color: #0087ff\">Dense</span>)                        │ (<span style=\"color: #00d7ff; text-decoration-color: #00d7ff\">None</span>, <span style=\"color: #00af00; text-decoration-color: #00af00\">6</span>)                   │             <span style=\"color: #00af00; text-decoration-color: #00af00\">774</span> │\n",
              "└──────────────────────────────────────┴─────────────────────────────┴─────────────────┘\n",
              "</pre>\n"
            ]
          },
          "metadata": {}
        },
        {
          "output_type": "display_data",
          "data": {
            "text/plain": [
              "\u001b[1m Total params: \u001b[0m\u001b[38;5;34m30,086\u001b[0m (117.52 KB)\n"
            ],
            "text/html": [
              "<pre style=\"white-space:pre;overflow-x:auto;line-height:normal;font-family:Menlo,'DejaVu Sans Mono',consolas,'Courier New',monospace\"><span style=\"font-weight: bold\"> Total params: </span><span style=\"color: #00af00; text-decoration-color: #00af00\">30,086</span> (117.52 KB)\n",
              "</pre>\n"
            ]
          },
          "metadata": {}
        },
        {
          "output_type": "display_data",
          "data": {
            "text/plain": [
              "\u001b[1m Trainable params: \u001b[0m\u001b[38;5;34m30,086\u001b[0m (117.52 KB)\n"
            ],
            "text/html": [
              "<pre style=\"white-space:pre;overflow-x:auto;line-height:normal;font-family:Menlo,'DejaVu Sans Mono',consolas,'Courier New',monospace\"><span style=\"font-weight: bold\"> Trainable params: </span><span style=\"color: #00af00; text-decoration-color: #00af00\">30,086</span> (117.52 KB)\n",
              "</pre>\n"
            ]
          },
          "metadata": {}
        },
        {
          "output_type": "display_data",
          "data": {
            "text/plain": [
              "\u001b[1m Non-trainable params: \u001b[0m\u001b[38;5;34m0\u001b[0m (0.00 B)\n"
            ],
            "text/html": [
              "<pre style=\"white-space:pre;overflow-x:auto;line-height:normal;font-family:Menlo,'DejaVu Sans Mono',consolas,'Courier New',monospace\"><span style=\"font-weight: bold\"> Non-trainable params: </span><span style=\"color: #00af00; text-decoration-color: #00af00\">0</span> (0.00 B)\n",
              "</pre>\n"
            ]
          },
          "metadata": {}
        },
        {
          "output_type": "stream",
          "name": "stdout",
          "text": [
            "Epoch 1/20\n",
            "\u001b[1m720/720\u001b[0m \u001b[32m━━━━━━━━━━━━━━━━━━━━\u001b[0m\u001b[37m\u001b[0m \u001b[1m15s\u001b[0m 16ms/step - accuracy: 0.2583 - loss: 1.7690 - val_accuracy: 0.3734 - val_loss: 1.5938\n",
            "Epoch 2/20\n",
            "\u001b[1m720/720\u001b[0m \u001b[32m━━━━━━━━━━━━━━━━━━━━\u001b[0m\u001b[37m\u001b[0m \u001b[1m18s\u001b[0m 15ms/step - accuracy: 0.4198 - loss: 1.5065 - val_accuracy: 0.4661 - val_loss: 1.4255\n",
            "Epoch 3/20\n",
            "\u001b[1m720/720\u001b[0m \u001b[32m━━━━━━━━━━━━━━━━━━━━\u001b[0m\u001b[37m\u001b[0m \u001b[1m21s\u001b[0m 15ms/step - accuracy: 0.5223 - loss: 1.2868 - val_accuracy: 0.5153 - val_loss: 1.3064\n",
            "Epoch 4/20\n",
            "\u001b[1m720/720\u001b[0m \u001b[32m━━━━━━━━━━━━━━━━━━━━\u001b[0m\u001b[37m\u001b[0m \u001b[1m20s\u001b[0m 14ms/step - accuracy: 0.5962 - loss: 1.1291 - val_accuracy: 0.5693 - val_loss: 1.2064\n",
            "Epoch 5/20\n",
            "\u001b[1m720/720\u001b[0m \u001b[32m━━━━━━━━━━━━━━━━━━━━\u001b[0m\u001b[37m\u001b[0m \u001b[1m11s\u001b[0m 15ms/step - accuracy: 0.6454 - loss: 1.0057 - val_accuracy: 0.5974 - val_loss: 1.1588\n",
            "Epoch 6/20\n",
            "\u001b[1m720/720\u001b[0m \u001b[32m━━━━━━━━━━━━━━━━━━━━\u001b[0m\u001b[37m\u001b[0m \u001b[1m20s\u001b[0m 15ms/step - accuracy: 0.6754 - loss: 0.9253 - val_accuracy: 0.6090 - val_loss: 1.1379\n",
            "Epoch 7/20\n",
            "\u001b[1m720/720\u001b[0m \u001b[32m━━━━━━━━━━━━━━━━━━━━\u001b[0m\u001b[37m\u001b[0m \u001b[1m20s\u001b[0m 15ms/step - accuracy: 0.6887 - loss: 0.8927 - val_accuracy: 0.6217 - val_loss: 1.0980\n",
            "Epoch 8/20\n",
            "\u001b[1m720/720\u001b[0m \u001b[32m━━━━━━━━━━━━━━━━━━━━\u001b[0m\u001b[37m\u001b[0m \u001b[1m10s\u001b[0m 14ms/step - accuracy: 0.7020 - loss: 0.8584 - val_accuracy: 0.6292 - val_loss: 1.0986\n",
            "Epoch 9/20\n",
            "\u001b[1m720/720\u001b[0m \u001b[32m━━━━━━━━━━━━━━━━━━━━\u001b[0m\u001b[37m\u001b[0m \u001b[1m11s\u001b[0m 14ms/step - accuracy: 0.7180 - loss: 0.8116 - val_accuracy: 0.6361 - val_loss: 1.0861\n",
            "Epoch 10/20\n",
            "\u001b[1m720/720\u001b[0m \u001b[32m━━━━━━━━━━━━━━━━━━━━\u001b[0m\u001b[37m\u001b[0m \u001b[1m21s\u001b[0m 15ms/step - accuracy: 0.7214 - loss: 0.8035 - val_accuracy: 0.6399 - val_loss: 1.0979\n",
            "Epoch 11/20\n",
            "\u001b[1m720/720\u001b[0m \u001b[32m━━━━━━━━━━━━━━━━━━━━\u001b[0m\u001b[37m\u001b[0m \u001b[1m10s\u001b[0m 14ms/step - accuracy: 0.7326 - loss: 0.7730 - val_accuracy: 0.6491 - val_loss: 1.1036\n",
            "Epoch 12/20\n",
            "\u001b[1m720/720\u001b[0m \u001b[32m━━━━━━━━━━━━━━━━━━━━\u001b[0m\u001b[37m\u001b[0m \u001b[1m10s\u001b[0m 14ms/step - accuracy: 0.7416 - loss: 0.7580 - val_accuracy: 0.6392 - val_loss: 1.1055\n",
            "Epoch 13/20\n",
            "\u001b[1m720/720\u001b[0m \u001b[32m━━━━━━━━━━━━━━━━━━━━\u001b[0m\u001b[37m\u001b[0m \u001b[1m10s\u001b[0m 14ms/step - accuracy: 0.7310 - loss: 0.7702 - val_accuracy: 0.6469 - val_loss: 1.0784\n",
            "Epoch 14/20\n",
            "\u001b[1m720/720\u001b[0m \u001b[32m━━━━━━━━━━━━━━━━━━━━\u001b[0m\u001b[37m\u001b[0m \u001b[1m10s\u001b[0m 14ms/step - accuracy: 0.7412 - loss: 0.7524 - val_accuracy: 0.6418 - val_loss: 1.1129\n",
            "Epoch 15/20\n",
            "\u001b[1m720/720\u001b[0m \u001b[32m━━━━━━━━━━━━━━━━━━━━\u001b[0m\u001b[37m\u001b[0m \u001b[1m11s\u001b[0m 15ms/step - accuracy: 0.7317 - loss: 0.7696 - val_accuracy: 0.6521 - val_loss: 1.0831\n",
            "Epoch 16/20\n",
            "\u001b[1m720/720\u001b[0m \u001b[32m━━━━━━━━━━━━━━━━━━━━\u001b[0m\u001b[37m\u001b[0m \u001b[1m20s\u001b[0m 15ms/step - accuracy: 0.7458 - loss: 0.7321 - val_accuracy: 0.6441 - val_loss: 1.0969\n",
            "Epoch 17/20\n",
            "\u001b[1m720/720\u001b[0m \u001b[32m━━━━━━━━━━━━━━━━━━━━\u001b[0m\u001b[37m\u001b[0m \u001b[1m20s\u001b[0m 15ms/step - accuracy: 0.7356 - loss: 0.7509 - val_accuracy: 0.6403 - val_loss: 1.0902\n",
            "Epoch 18/20\n",
            "\u001b[1m720/720\u001b[0m \u001b[32m━━━━━━━━━━━━━━━━━━━━\u001b[0m\u001b[37m\u001b[0m \u001b[1m10s\u001b[0m 14ms/step - accuracy: 0.7421 - loss: 0.7375 - val_accuracy: 0.6587 - val_loss: 1.0757\n",
            "Epoch 19/20\n",
            "\u001b[1m720/720\u001b[0m \u001b[32m━━━━━━━━━━━━━━━━━━━━\u001b[0m\u001b[37m\u001b[0m \u001b[1m21s\u001b[0m 15ms/step - accuracy: 0.7460 - loss: 0.7290 - val_accuracy: 0.6431 - val_loss: 1.0954\n",
            "Epoch 20/20\n",
            "\u001b[1m720/720\u001b[0m \u001b[32m━━━━━━━━━━━━━━━━━━━━\u001b[0m\u001b[37m\u001b[0m \u001b[1m10s\u001b[0m 14ms/step - accuracy: 0.7490 - loss: 0.7191 - val_accuracy: 0.6627 - val_loss: 1.0427\n"
          ]
        },
        {
          "output_type": "execute_result",
          "data": {
            "text/plain": [
              "<keras.src.callbacks.history.History at 0x7fb71eb4ada0>"
            ]
          },
          "metadata": {},
          "execution_count": 15
        }
      ]
    },
    {
      "cell_type": "code",
      "source": [
        "from sklearn.metrics import classification_report\n",
        "\n",
        "# Predict on the test set\n",
        "y_pred = np.argmax(model.predict(x_test_emb), axis=1)\n",
        "\n",
        "# Print classification report\n",
        "print(\"Results for RNN with Word2Vec:\")\n",
        "print(classification_report(y_test, y_pred))\n"
      ],
      "metadata": {
        "colab": {
          "base_uri": "https://localhost:8080/"
        },
        "id": "4sz4amTnJnac",
        "outputId": "e32b7480-575e-4cb3-9c10-0d934fd629e2"
      },
      "execution_count": 16,
      "outputs": [
        {
          "output_type": "stream",
          "name": "stdout",
          "text": [
            "\u001b[1m225/225\u001b[0m \u001b[32m━━━━━━━━━━━━━━━━━━━━\u001b[0m\u001b[37m\u001b[0m \u001b[1m2s\u001b[0m 6ms/step\n",
            "Results for RNN with Word2Vec:\n",
            "              precision    recall  f1-score   support\n",
            "\n",
            "           0       0.58      0.62      0.60      1226\n",
            "           1       0.67      0.76      0.71      1188\n",
            "           2       0.75      0.79      0.77      1129\n",
            "           3       0.68      0.66      0.67      1246\n",
            "           4       0.51      0.42      0.46      1244\n",
            "           5       0.75      0.74      0.74      1167\n",
            "\n",
            "    accuracy                           0.66      7200\n",
            "   macro avg       0.66      0.66      0.66      7200\n",
            "weighted avg       0.66      0.66      0.66      7200\n",
            "\n"
          ]
        }
      ]
    },
    {
      "cell_type": "markdown",
      "source": [
        "##RNN(LSTM)"
      ],
      "metadata": {
        "id": "QVvp8iuculJ7"
      }
    },
    {
      "cell_type": "code",
      "source": [
        "import numpy as np\n",
        "from tensorflow.keras.models import Sequential\n",
        "from tensorflow.keras.layers import LSTM, Dense, Embedding, Masking, Bidirectional\n",
        "\n",
        "# Define the BiLSTM model\n",
        "model = Sequential()\n",
        "model.add(Masking(mask_value=0., input_shape=(max_sequence_length, 100)))\n",
        "model.add(Bidirectional(LSTM(units=128, return_sequences=False, recurrent_regularizer='l2', use_bias=False, kernel_initializer='lecun_uniform', implementation=1)))\n",
        "model.add(Dense(units=6, activation='softmax'))\n",
        "\n",
        "model.compile(loss='sparse_categorical_crossentropy', optimizer='adam', metrics=['accuracy'])\n",
        "model.summary()\n",
        "\n",
        "# Train the model\n",
        "model.fit(x_train_emb, y_train, epochs=10, batch_size=32, validation_split=0.2)\n"
      ],
      "metadata": {
        "colab": {
          "base_uri": "https://localhost:8080/",
          "height": 654
        },
        "id": "5ou9IITyP1jM",
        "outputId": "ca334c6e-eba8-4da9-a639-846ad16141a3"
      },
      "execution_count": 17,
      "outputs": [
        {
          "output_type": "stream",
          "name": "stderr",
          "text": [
            "/usr/local/lib/python3.10/dist-packages/keras/src/layers/core/masking.py:47: UserWarning: Do not pass an `input_shape`/`input_dim` argument to a layer. When using Sequential models, prefer using an `Input(shape)` object as the first layer in the model instead.\n",
            "  super().__init__(**kwargs)\n"
          ]
        },
        {
          "output_type": "display_data",
          "data": {
            "text/plain": [
              "\u001b[1mModel: \"sequential_1\"\u001b[0m\n"
            ],
            "text/html": [
              "<pre style=\"white-space:pre;overflow-x:auto;line-height:normal;font-family:Menlo,'DejaVu Sans Mono',consolas,'Courier New',monospace\"><span style=\"font-weight: bold\">Model: \"sequential_1\"</span>\n",
              "</pre>\n"
            ]
          },
          "metadata": {}
        },
        {
          "output_type": "display_data",
          "data": {
            "text/plain": [
              "┏━━━━━━━━━━━━━━━━━━━━━━━━━━━━━━━━━━━━━━┳━━━━━━━━━━━━━━━━━━━━━━━━━━━━━┳━━━━━━━━━━━━━━━━━┓\n",
              "┃\u001b[1m \u001b[0m\u001b[1mLayer (type)                        \u001b[0m\u001b[1m \u001b[0m┃\u001b[1m \u001b[0m\u001b[1mOutput Shape               \u001b[0m\u001b[1m \u001b[0m┃\u001b[1m \u001b[0m\u001b[1m        Param #\u001b[0m\u001b[1m \u001b[0m┃\n",
              "┡━━━━━━━━━━━━━━━━━━━━━━━━━━━━━━━━━━━━━━╇━━━━━━━━━━━━━━━━━━━━━━━━━━━━━╇━━━━━━━━━━━━━━━━━┩\n",
              "│ masking_1 (\u001b[38;5;33mMasking\u001b[0m)                  │ (\u001b[38;5;45mNone\u001b[0m, \u001b[38;5;34m100\u001b[0m, \u001b[38;5;34m100\u001b[0m)            │               \u001b[38;5;34m0\u001b[0m │\n",
              "├──────────────────────────────────────┼─────────────────────────────┼─────────────────┤\n",
              "│ bidirectional (\u001b[38;5;33mBidirectional\u001b[0m)        │ (\u001b[38;5;45mNone\u001b[0m, \u001b[38;5;34m256\u001b[0m)                 │         \u001b[38;5;34m233,472\u001b[0m │\n",
              "├──────────────────────────────────────┼─────────────────────────────┼─────────────────┤\n",
              "│ dense_1 (\u001b[38;5;33mDense\u001b[0m)                      │ (\u001b[38;5;45mNone\u001b[0m, \u001b[38;5;34m6\u001b[0m)                   │           \u001b[38;5;34m1,542\u001b[0m │\n",
              "└──────────────────────────────────────┴─────────────────────────────┴─────────────────┘\n"
            ],
            "text/html": [
              "<pre style=\"white-space:pre;overflow-x:auto;line-height:normal;font-family:Menlo,'DejaVu Sans Mono',consolas,'Courier New',monospace\">┏━━━━━━━━━━━━━━━━━━━━━━━━━━━━━━━━━━━━━━┳━━━━━━━━━━━━━━━━━━━━━━━━━━━━━┳━━━━━━━━━━━━━━━━━┓\n",
              "┃<span style=\"font-weight: bold\"> Layer (type)                         </span>┃<span style=\"font-weight: bold\"> Output Shape                </span>┃<span style=\"font-weight: bold\">         Param # </span>┃\n",
              "┡━━━━━━━━━━━━━━━━━━━━━━━━━━━━━━━━━━━━━━╇━━━━━━━━━━━━━━━━━━━━━━━━━━━━━╇━━━━━━━━━━━━━━━━━┩\n",
              "│ masking_1 (<span style=\"color: #0087ff; text-decoration-color: #0087ff\">Masking</span>)                  │ (<span style=\"color: #00d7ff; text-decoration-color: #00d7ff\">None</span>, <span style=\"color: #00af00; text-decoration-color: #00af00\">100</span>, <span style=\"color: #00af00; text-decoration-color: #00af00\">100</span>)            │               <span style=\"color: #00af00; text-decoration-color: #00af00\">0</span> │\n",
              "├──────────────────────────────────────┼─────────────────────────────┼─────────────────┤\n",
              "│ bidirectional (<span style=\"color: #0087ff; text-decoration-color: #0087ff\">Bidirectional</span>)        │ (<span style=\"color: #00d7ff; text-decoration-color: #00d7ff\">None</span>, <span style=\"color: #00af00; text-decoration-color: #00af00\">256</span>)                 │         <span style=\"color: #00af00; text-decoration-color: #00af00\">233,472</span> │\n",
              "├──────────────────────────────────────┼─────────────────────────────┼─────────────────┤\n",
              "│ dense_1 (<span style=\"color: #0087ff; text-decoration-color: #0087ff\">Dense</span>)                      │ (<span style=\"color: #00d7ff; text-decoration-color: #00d7ff\">None</span>, <span style=\"color: #00af00; text-decoration-color: #00af00\">6</span>)                   │           <span style=\"color: #00af00; text-decoration-color: #00af00\">1,542</span> │\n",
              "└──────────────────────────────────────┴─────────────────────────────┴─────────────────┘\n",
              "</pre>\n"
            ]
          },
          "metadata": {}
        },
        {
          "output_type": "display_data",
          "data": {
            "text/plain": [
              "\u001b[1m Total params: \u001b[0m\u001b[38;5;34m235,014\u001b[0m (918.02 KB)\n"
            ],
            "text/html": [
              "<pre style=\"white-space:pre;overflow-x:auto;line-height:normal;font-family:Menlo,'DejaVu Sans Mono',consolas,'Courier New',monospace\"><span style=\"font-weight: bold\"> Total params: </span><span style=\"color: #00af00; text-decoration-color: #00af00\">235,014</span> (918.02 KB)\n",
              "</pre>\n"
            ]
          },
          "metadata": {}
        },
        {
          "output_type": "display_data",
          "data": {
            "text/plain": [
              "\u001b[1m Trainable params: \u001b[0m\u001b[38;5;34m235,014\u001b[0m (918.02 KB)\n"
            ],
            "text/html": [
              "<pre style=\"white-space:pre;overflow-x:auto;line-height:normal;font-family:Menlo,'DejaVu Sans Mono',consolas,'Courier New',monospace\"><span style=\"font-weight: bold\"> Trainable params: </span><span style=\"color: #00af00; text-decoration-color: #00af00\">235,014</span> (918.02 KB)\n",
              "</pre>\n"
            ]
          },
          "metadata": {}
        },
        {
          "output_type": "display_data",
          "data": {
            "text/plain": [
              "\u001b[1m Non-trainable params: \u001b[0m\u001b[38;5;34m0\u001b[0m (0.00 B)\n"
            ],
            "text/html": [
              "<pre style=\"white-space:pre;overflow-x:auto;line-height:normal;font-family:Menlo,'DejaVu Sans Mono',consolas,'Courier New',monospace\"><span style=\"font-weight: bold\"> Non-trainable params: </span><span style=\"color: #00af00; text-decoration-color: #00af00\">0</span> (0.00 B)\n",
              "</pre>\n"
            ]
          },
          "metadata": {}
        },
        {
          "output_type": "stream",
          "name": "stdout",
          "text": [
            "Epoch 1/10\n",
            "\u001b[1m720/720\u001b[0m \u001b[32m━━━━━━━━━━━━━━━━━━━━\u001b[0m\u001b[37m\u001b[0m \u001b[1m26s\u001b[0m 31ms/step - accuracy: 0.2205 - loss: 2.1433 - val_accuracy: 0.2759 - val_loss: 1.7140\n",
            "Epoch 2/10\n",
            "\u001b[1m720/720\u001b[0m \u001b[32m━━━━━━━━━━━━━━━━━━━━\u001b[0m\u001b[37m\u001b[0m \u001b[1m38s\u001b[0m 29ms/step - accuracy: 0.3128 - loss: 1.6830 - val_accuracy: 0.3167 - val_loss: 1.6624\n",
            "Epoch 3/10\n",
            "\u001b[1m720/720\u001b[0m \u001b[32m━━━━━━━━━━━━━━━━━━━━\u001b[0m\u001b[37m\u001b[0m \u001b[1m40s\u001b[0m 29ms/step - accuracy: 0.3565 - loss: 1.6175 - val_accuracy: 0.3759 - val_loss: 1.5971\n",
            "Epoch 4/10\n",
            "\u001b[1m720/720\u001b[0m \u001b[32m━━━━━━━━━━━━━━━━━━━━\u001b[0m\u001b[37m\u001b[0m \u001b[1m42s\u001b[0m 30ms/step - accuracy: 0.4135 - loss: 1.5285 - val_accuracy: 0.4042 - val_loss: 1.5351\n",
            "Epoch 5/10\n",
            "\u001b[1m720/720\u001b[0m \u001b[32m━━━━━━━━━━━━━━━━━━━━\u001b[0m\u001b[37m\u001b[0m \u001b[1m41s\u001b[0m 30ms/step - accuracy: 0.4617 - loss: 1.4488 - val_accuracy: 0.4521 - val_loss: 1.4698\n",
            "Epoch 6/10\n",
            "\u001b[1m720/720\u001b[0m \u001b[32m━━━━━━━━━━━━━━━━━━━━\u001b[0m\u001b[37m\u001b[0m \u001b[1m41s\u001b[0m 30ms/step - accuracy: 0.5033 - loss: 1.3680 - val_accuracy: 0.4852 - val_loss: 1.4174\n",
            "Epoch 7/10\n",
            "\u001b[1m720/720\u001b[0m \u001b[32m━━━━━━━━━━━━━━━━━━━━\u001b[0m\u001b[37m\u001b[0m \u001b[1m41s\u001b[0m 29ms/step - accuracy: 0.5475 - loss: 1.2923 - val_accuracy: 0.5168 - val_loss: 1.3608\n",
            "Epoch 8/10\n",
            "\u001b[1m720/720\u001b[0m \u001b[32m━━━━━━━━━━━━━━━━━━━━\u001b[0m\u001b[37m\u001b[0m \u001b[1m41s\u001b[0m 29ms/step - accuracy: 0.5762 - loss: 1.2289 - val_accuracy: 0.5344 - val_loss: 1.3172\n",
            "Epoch 9/10\n",
            "\u001b[1m720/720\u001b[0m \u001b[32m━━━━━━━━━━━━━━━━━━━━\u001b[0m\u001b[37m\u001b[0m \u001b[1m41s\u001b[0m 29ms/step - accuracy: 0.6034 - loss: 1.1640 - val_accuracy: 0.5651 - val_loss: 1.2716\n",
            "Epoch 10/10\n",
            "\u001b[1m720/720\u001b[0m \u001b[32m━━━━━━━━━━━━━━━━━━━━\u001b[0m\u001b[37m\u001b[0m \u001b[1m41s\u001b[0m 29ms/step - accuracy: 0.6357 - loss: 1.1020 - val_accuracy: 0.5859 - val_loss: 1.2257\n"
          ]
        },
        {
          "output_type": "execute_result",
          "data": {
            "text/plain": [
              "<keras.src.callbacks.history.History at 0x7fb6485b4910>"
            ]
          },
          "metadata": {},
          "execution_count": 17
        }
      ]
    },
    {
      "cell_type": "code",
      "source": [
        "from sklearn.metrics import classification_report\n",
        "\n",
        "# Predict on the test set\n",
        "y_pred = np.argmax(model.predict(x_test_emb), axis=1)\n",
        "\n",
        "# Print classification report\n",
        "print(\"Results for RNN with Word2Vec:\")\n",
        "print(classification_report(y_test, y_pred))\n"
      ],
      "metadata": {
        "colab": {
          "base_uri": "https://localhost:8080/"
        },
        "id": "uxss4B-vnW-u",
        "outputId": "f8aa7dda-9bc5-4209-bbc5-dae7cf8d6159"
      },
      "execution_count": 18,
      "outputs": [
        {
          "output_type": "stream",
          "name": "stdout",
          "text": [
            "\u001b[1m225/225\u001b[0m \u001b[32m━━━━━━━━━━━━━━━━━━━━\u001b[0m\u001b[37m\u001b[0m \u001b[1m3s\u001b[0m 9ms/step\n",
            "Results for RNN with Word2Vec:\n",
            "              precision    recall  f1-score   support\n",
            "\n",
            "           0       0.52      0.53      0.53      1226\n",
            "           1       0.62      0.64      0.63      1188\n",
            "           2       0.63      0.71      0.67      1129\n",
            "           3       0.67      0.57      0.61      1246\n",
            "           4       0.45      0.34      0.39      1244\n",
            "           5       0.59      0.74      0.65      1167\n",
            "\n",
            "    accuracy                           0.58      7200\n",
            "   macro avg       0.58      0.59      0.58      7200\n",
            "weighted avg       0.58      0.58      0.58      7200\n",
            "\n"
          ]
        }
      ]
    },
    {
      "cell_type": "markdown",
      "source": [
        "#CNN"
      ],
      "metadata": {
        "id": "KwgTWSTeuxNb"
      }
    },
    {
      "cell_type": "code",
      "source": [
        "import numpy as np\n",
        "from tensorflow.keras.models import Sequential\n",
        "from tensorflow.keras.layers import Conv1D, MaxPooling1D, Flatten, Dense, Embedding, Masking\n",
        "\n",
        "# Define the CNN model\n",
        "model = Sequential()\n",
        "model.add(Masking(mask_value=0., input_shape=(max_sequence_length, 100)))  # Assuming input_shape remains the same\n",
        "\n",
        "# Add convolutional layer\n",
        "model.add(Conv1D(filters=128, kernel_size=5, activation='relu', padding='same'))\n",
        "\n",
        "# Add max pooling layer\n",
        "model.add(MaxPooling1D(pool_size=2))\n",
        "\n",
        "# Flatten the output from the convolutional layers\n",
        "model.add(Flatten())\n",
        "\n",
        "# Add fully connected (Dense) layer\n",
        "model.add(Dense(units=128, activation='relu'))\n",
        "\n",
        "# Output layer\n",
        "model.add(Dense(units=6, activation='softmax'))\n",
        "\n",
        "model.compile(loss='sparse_categorical_crossentropy', optimizer='adam', metrics=['accuracy'])\n",
        "model.summary()\n",
        "\n",
        "# Train the model\n",
        "model.fit(x_train_emb, y_train, epochs=10, batch_size=32, validation_split=0.2)\n"
      ],
      "metadata": {
        "colab": {
          "base_uri": "https://localhost:8080/",
          "height": 789
        },
        "id": "dIzgGHi5uCsA",
        "outputId": "3369b408-47fe-4011-9685-896723d3b6ab"
      },
      "execution_count": 19,
      "outputs": [
        {
          "output_type": "stream",
          "name": "stderr",
          "text": [
            "/usr/local/lib/python3.10/dist-packages/keras/src/layers/core/masking.py:47: UserWarning: Do not pass an `input_shape`/`input_dim` argument to a layer. When using Sequential models, prefer using an `Input(shape)` object as the first layer in the model instead.\n",
            "  super().__init__(**kwargs)\n",
            "/usr/local/lib/python3.10/dist-packages/keras/src/layers/layer.py:915: UserWarning: Layer 'conv1d' (of type Conv1D) was passed an input with a mask attached to it. However, this layer does not support masking and will therefore destroy the mask information. Downstream layers will not see the mask.\n",
            "  warnings.warn(\n"
          ]
        },
        {
          "output_type": "display_data",
          "data": {
            "text/plain": [
              "\u001b[1mModel: \"sequential_2\"\u001b[0m\n"
            ],
            "text/html": [
              "<pre style=\"white-space:pre;overflow-x:auto;line-height:normal;font-family:Menlo,'DejaVu Sans Mono',consolas,'Courier New',monospace\"><span style=\"font-weight: bold\">Model: \"sequential_2\"</span>\n",
              "</pre>\n"
            ]
          },
          "metadata": {}
        },
        {
          "output_type": "display_data",
          "data": {
            "text/plain": [
              "┏━━━━━━━━━━━━━━━━━━━━━━━━━━━━━━━━━━━━━━┳━━━━━━━━━━━━━━━━━━━━━━━━━━━━━┳━━━━━━━━━━━━━━━━━┓\n",
              "┃\u001b[1m \u001b[0m\u001b[1mLayer (type)                        \u001b[0m\u001b[1m \u001b[0m┃\u001b[1m \u001b[0m\u001b[1mOutput Shape               \u001b[0m\u001b[1m \u001b[0m┃\u001b[1m \u001b[0m\u001b[1m        Param #\u001b[0m\u001b[1m \u001b[0m┃\n",
              "┡━━━━━━━━━━━━━━━━━━━━━━━━━━━━━━━━━━━━━━╇━━━━━━━━━━━━━━━━━━━━━━━━━━━━━╇━━━━━━━━━━━━━━━━━┩\n",
              "│ masking_2 (\u001b[38;5;33mMasking\u001b[0m)                  │ (\u001b[38;5;45mNone\u001b[0m, \u001b[38;5;34m100\u001b[0m, \u001b[38;5;34m100\u001b[0m)            │               \u001b[38;5;34m0\u001b[0m │\n",
              "├──────────────────────────────────────┼─────────────────────────────┼─────────────────┤\n",
              "│ conv1d (\u001b[38;5;33mConv1D\u001b[0m)                      │ (\u001b[38;5;45mNone\u001b[0m, \u001b[38;5;34m100\u001b[0m, \u001b[38;5;34m128\u001b[0m)            │          \u001b[38;5;34m64,128\u001b[0m │\n",
              "├──────────────────────────────────────┼─────────────────────────────┼─────────────────┤\n",
              "│ max_pooling1d (\u001b[38;5;33mMaxPooling1D\u001b[0m)         │ (\u001b[38;5;45mNone\u001b[0m, \u001b[38;5;34m50\u001b[0m, \u001b[38;5;34m128\u001b[0m)             │               \u001b[38;5;34m0\u001b[0m │\n",
              "├──────────────────────────────────────┼─────────────────────────────┼─────────────────┤\n",
              "│ flatten (\u001b[38;5;33mFlatten\u001b[0m)                    │ (\u001b[38;5;45mNone\u001b[0m, \u001b[38;5;34m6400\u001b[0m)                │               \u001b[38;5;34m0\u001b[0m │\n",
              "├──────────────────────────────────────┼─────────────────────────────┼─────────────────┤\n",
              "│ dense_2 (\u001b[38;5;33mDense\u001b[0m)                      │ (\u001b[38;5;45mNone\u001b[0m, \u001b[38;5;34m128\u001b[0m)                 │         \u001b[38;5;34m819,328\u001b[0m │\n",
              "├──────────────────────────────────────┼─────────────────────────────┼─────────────────┤\n",
              "│ dense_3 (\u001b[38;5;33mDense\u001b[0m)                      │ (\u001b[38;5;45mNone\u001b[0m, \u001b[38;5;34m6\u001b[0m)                   │             \u001b[38;5;34m774\u001b[0m │\n",
              "└──────────────────────────────────────┴─────────────────────────────┴─────────────────┘\n"
            ],
            "text/html": [
              "<pre style=\"white-space:pre;overflow-x:auto;line-height:normal;font-family:Menlo,'DejaVu Sans Mono',consolas,'Courier New',monospace\">┏━━━━━━━━━━━━━━━━━━━━━━━━━━━━━━━━━━━━━━┳━━━━━━━━━━━━━━━━━━━━━━━━━━━━━┳━━━━━━━━━━━━━━━━━┓\n",
              "┃<span style=\"font-weight: bold\"> Layer (type)                         </span>┃<span style=\"font-weight: bold\"> Output Shape                </span>┃<span style=\"font-weight: bold\">         Param # </span>┃\n",
              "┡━━━━━━━━━━━━━━━━━━━━━━━━━━━━━━━━━━━━━━╇━━━━━━━━━━━━━━━━━━━━━━━━━━━━━╇━━━━━━━━━━━━━━━━━┩\n",
              "│ masking_2 (<span style=\"color: #0087ff; text-decoration-color: #0087ff\">Masking</span>)                  │ (<span style=\"color: #00d7ff; text-decoration-color: #00d7ff\">None</span>, <span style=\"color: #00af00; text-decoration-color: #00af00\">100</span>, <span style=\"color: #00af00; text-decoration-color: #00af00\">100</span>)            │               <span style=\"color: #00af00; text-decoration-color: #00af00\">0</span> │\n",
              "├──────────────────────────────────────┼─────────────────────────────┼─────────────────┤\n",
              "│ conv1d (<span style=\"color: #0087ff; text-decoration-color: #0087ff\">Conv1D</span>)                      │ (<span style=\"color: #00d7ff; text-decoration-color: #00d7ff\">None</span>, <span style=\"color: #00af00; text-decoration-color: #00af00\">100</span>, <span style=\"color: #00af00; text-decoration-color: #00af00\">128</span>)            │          <span style=\"color: #00af00; text-decoration-color: #00af00\">64,128</span> │\n",
              "├──────────────────────────────────────┼─────────────────────────────┼─────────────────┤\n",
              "│ max_pooling1d (<span style=\"color: #0087ff; text-decoration-color: #0087ff\">MaxPooling1D</span>)         │ (<span style=\"color: #00d7ff; text-decoration-color: #00d7ff\">None</span>, <span style=\"color: #00af00; text-decoration-color: #00af00\">50</span>, <span style=\"color: #00af00; text-decoration-color: #00af00\">128</span>)             │               <span style=\"color: #00af00; text-decoration-color: #00af00\">0</span> │\n",
              "├──────────────────────────────────────┼─────────────────────────────┼─────────────────┤\n",
              "│ flatten (<span style=\"color: #0087ff; text-decoration-color: #0087ff\">Flatten</span>)                    │ (<span style=\"color: #00d7ff; text-decoration-color: #00d7ff\">None</span>, <span style=\"color: #00af00; text-decoration-color: #00af00\">6400</span>)                │               <span style=\"color: #00af00; text-decoration-color: #00af00\">0</span> │\n",
              "├──────────────────────────────────────┼─────────────────────────────┼─────────────────┤\n",
              "│ dense_2 (<span style=\"color: #0087ff; text-decoration-color: #0087ff\">Dense</span>)                      │ (<span style=\"color: #00d7ff; text-decoration-color: #00d7ff\">None</span>, <span style=\"color: #00af00; text-decoration-color: #00af00\">128</span>)                 │         <span style=\"color: #00af00; text-decoration-color: #00af00\">819,328</span> │\n",
              "├──────────────────────────────────────┼─────────────────────────────┼─────────────────┤\n",
              "│ dense_3 (<span style=\"color: #0087ff; text-decoration-color: #0087ff\">Dense</span>)                      │ (<span style=\"color: #00d7ff; text-decoration-color: #00d7ff\">None</span>, <span style=\"color: #00af00; text-decoration-color: #00af00\">6</span>)                   │             <span style=\"color: #00af00; text-decoration-color: #00af00\">774</span> │\n",
              "└──────────────────────────────────────┴─────────────────────────────┴─────────────────┘\n",
              "</pre>\n"
            ]
          },
          "metadata": {}
        },
        {
          "output_type": "display_data",
          "data": {
            "text/plain": [
              "\u001b[1m Total params: \u001b[0m\u001b[38;5;34m884,230\u001b[0m (3.37 MB)\n"
            ],
            "text/html": [
              "<pre style=\"white-space:pre;overflow-x:auto;line-height:normal;font-family:Menlo,'DejaVu Sans Mono',consolas,'Courier New',monospace\"><span style=\"font-weight: bold\"> Total params: </span><span style=\"color: #00af00; text-decoration-color: #00af00\">884,230</span> (3.37 MB)\n",
              "</pre>\n"
            ]
          },
          "metadata": {}
        },
        {
          "output_type": "display_data",
          "data": {
            "text/plain": [
              "\u001b[1m Trainable params: \u001b[0m\u001b[38;5;34m884,230\u001b[0m (3.37 MB)\n"
            ],
            "text/html": [
              "<pre style=\"white-space:pre;overflow-x:auto;line-height:normal;font-family:Menlo,'DejaVu Sans Mono',consolas,'Courier New',monospace\"><span style=\"font-weight: bold\"> Trainable params: </span><span style=\"color: #00af00; text-decoration-color: #00af00\">884,230</span> (3.37 MB)\n",
              "</pre>\n"
            ]
          },
          "metadata": {}
        },
        {
          "output_type": "display_data",
          "data": {
            "text/plain": [
              "\u001b[1m Non-trainable params: \u001b[0m\u001b[38;5;34m0\u001b[0m (0.00 B)\n"
            ],
            "text/html": [
              "<pre style=\"white-space:pre;overflow-x:auto;line-height:normal;font-family:Menlo,'DejaVu Sans Mono',consolas,'Courier New',monospace\"><span style=\"font-weight: bold\"> Non-trainable params: </span><span style=\"color: #00af00; text-decoration-color: #00af00\">0</span> (0.00 B)\n",
              "</pre>\n"
            ]
          },
          "metadata": {}
        },
        {
          "output_type": "stream",
          "name": "stdout",
          "text": [
            "Epoch 1/10\n",
            "\u001b[1m720/720\u001b[0m \u001b[32m━━━━━━━━━━━━━━━━━━━━\u001b[0m\u001b[37m\u001b[0m \u001b[1m6s\u001b[0m 4ms/step - accuracy: 0.3164 - loss: 1.6510 - val_accuracy: 0.6224 - val_loss: 1.1064\n",
            "Epoch 2/10\n",
            "\u001b[1m720/720\u001b[0m \u001b[32m━━━━━━━━━━━━━━━━━━━━\u001b[0m\u001b[37m\u001b[0m \u001b[1m2s\u001b[0m 3ms/step - accuracy: 0.7257 - loss: 0.8174 - val_accuracy: 0.7434 - val_loss: 0.8181\n",
            "Epoch 3/10\n",
            "\u001b[1m720/720\u001b[0m \u001b[32m━━━━━━━━━━━━━━━━━━━━\u001b[0m\u001b[37m\u001b[0m \u001b[1m4s\u001b[0m 4ms/step - accuracy: 0.8576 - loss: 0.4725 - val_accuracy: 0.7845 - val_loss: 0.7811\n",
            "Epoch 4/10\n",
            "\u001b[1m720/720\u001b[0m \u001b[32m━━━━━━━━━━━━━━━━━━━━\u001b[0m\u001b[37m\u001b[0m \u001b[1m2s\u001b[0m 3ms/step - accuracy: 0.9067 - loss: 0.3230 - val_accuracy: 0.8064 - val_loss: 0.7801\n",
            "Epoch 5/10\n",
            "\u001b[1m720/720\u001b[0m \u001b[32m━━━━━━━━━━━━━━━━━━━━\u001b[0m\u001b[37m\u001b[0m \u001b[1m2s\u001b[0m 3ms/step - accuracy: 0.9344 - loss: 0.2426 - val_accuracy: 0.8115 - val_loss: 0.7773\n",
            "Epoch 6/10\n",
            "\u001b[1m720/720\u001b[0m \u001b[32m━━━━━━━━━━━━━━━━━━━━\u001b[0m\u001b[37m\u001b[0m \u001b[1m3s\u001b[0m 3ms/step - accuracy: 0.9506 - loss: 0.1814 - val_accuracy: 0.8047 - val_loss: 0.8952\n",
            "Epoch 7/10\n",
            "\u001b[1m720/720\u001b[0m \u001b[32m━━━━━━━━━━━━━━━━━━━━\u001b[0m\u001b[37m\u001b[0m \u001b[1m2s\u001b[0m 3ms/step - accuracy: 0.9507 - loss: 0.1740 - val_accuracy: 0.8125 - val_loss: 0.8661\n",
            "Epoch 8/10\n",
            "\u001b[1m720/720\u001b[0m \u001b[32m━━━━━━━━━━━━━━━━━━━━\u001b[0m\u001b[37m\u001b[0m \u001b[1m3s\u001b[0m 4ms/step - accuracy: 0.9579 - loss: 0.1395 - val_accuracy: 0.8212 - val_loss: 0.8831\n",
            "Epoch 9/10\n",
            "\u001b[1m720/720\u001b[0m \u001b[32m━━━━━━━━━━━━━━━━━━━━\u001b[0m\u001b[37m\u001b[0m \u001b[1m2s\u001b[0m 3ms/step - accuracy: 0.9580 - loss: 0.1300 - val_accuracy: 0.8188 - val_loss: 0.9345\n",
            "Epoch 10/10\n",
            "\u001b[1m720/720\u001b[0m \u001b[32m━━━━━━━━━━━━━━━━━━━━\u001b[0m\u001b[37m\u001b[0m \u001b[1m2s\u001b[0m 3ms/step - accuracy: 0.9582 - loss: 0.1285 - val_accuracy: 0.8155 - val_loss: 0.9871\n"
          ]
        },
        {
          "output_type": "execute_result",
          "data": {
            "text/plain": [
              "<keras.src.callbacks.history.History at 0x7fb5e56189a0>"
            ]
          },
          "metadata": {},
          "execution_count": 19
        }
      ]
    },
    {
      "cell_type": "code",
      "source": [
        "from sklearn.metrics import classification_report\n",
        "\n",
        "# Predict on the test set\n",
        "y_pred = np.argmax(model.predict(x_test_emb), axis=1)\n",
        "\n",
        "# Print classification report\n",
        "print(\"Results for RNN with Word2Vec:\")\n",
        "print(classification_report(y_test, y_pred))\n"
      ],
      "metadata": {
        "colab": {
          "base_uri": "https://localhost:8080/"
        },
        "id": "7JeK5VCfu7_4",
        "outputId": "1ddc2f3c-e0f4-4e56-caa3-9b2a5ae9d89a"
      },
      "execution_count": 20,
      "outputs": [
        {
          "output_type": "stream",
          "name": "stdout",
          "text": [
            "\u001b[1m225/225\u001b[0m \u001b[32m━━━━━━━━━━━━━━━━━━━━\u001b[0m\u001b[37m\u001b[0m \u001b[1m1s\u001b[0m 2ms/step\n",
            "Results for RNN with Word2Vec:\n",
            "              precision    recall  f1-score   support\n",
            "\n",
            "           0       0.79      0.79      0.79      1226\n",
            "           1       0.83      0.85      0.84      1188\n",
            "           2       0.86      0.87      0.87      1129\n",
            "           3       0.88      0.79      0.83      1246\n",
            "           4       0.69      0.71      0.70      1244\n",
            "           5       0.86      0.89      0.87      1167\n",
            "\n",
            "    accuracy                           0.81      7200\n",
            "   macro avg       0.82      0.82      0.82      7200\n",
            "weighted avg       0.82      0.81      0.82      7200\n",
            "\n"
          ]
        }
      ]
    },
    {
      "cell_type": "markdown",
      "source": [
        "#CNN+BiLSTM"
      ],
      "metadata": {
        "id": "At66o5YbwtLn"
      }
    },
    {
      "cell_type": "code",
      "source": [
        "import numpy as np\n",
        "from tensorflow.keras.models import Sequential\n",
        "from tensorflow.keras.layers import Conv1D, MaxPooling1D, Dense, Embedding, Masking, Bidirectional, LSTM\n",
        "\n",
        "# Define the CNN-BiLSTM model\n",
        "model = Sequential()\n",
        "\n",
        "# Masking layer to handle padding\n",
        "model.add(Masking(mask_value=0., input_shape=(max_sequence_length, 100)))\n",
        "\n",
        "# Convolutional layers\n",
        "model.add(Conv1D(filters=128, kernel_size=5, activation='relu', padding='same'))\n",
        "model.add(MaxPooling1D(pool_size=2))\n",
        "\n",
        "model.add(Conv1D(filters=128, kernel_size=5, activation='relu', padding='same'))\n",
        "model.add(MaxPooling1D(pool_size=2))\n",
        "\n",
        "# Bidirectional LSTM layer\n",
        "model.add(Bidirectional(LSTM(units=128, return_sequences=False, recurrent_regularizer='l2', use_bias=False, kernel_initializer='lecun_uniform', implementation=1)))\n",
        "\n",
        "# Output layer\n",
        "model.add(Dense(units=6, activation='softmax'))\n",
        "\n",
        "model.compile(loss='sparse_categorical_crossentropy', optimizer='adam', metrics=['accuracy'])\n",
        "model.summary()\n",
        "\n",
        "# Train the model\n",
        "model.fit(x_train_emb, y_train, epochs=10, batch_size=32, validation_split=0.2)\n"
      ],
      "metadata": {
        "colab": {
          "base_uri": "https://localhost:8080/",
          "height": 822
        },
        "id": "K2tFRFVYve1_",
        "outputId": "92350920-c72b-40ba-e0db-c8dc48822cbf"
      },
      "execution_count": 21,
      "outputs": [
        {
          "output_type": "stream",
          "name": "stderr",
          "text": [
            "/usr/local/lib/python3.10/dist-packages/keras/src/layers/core/masking.py:47: UserWarning: Do not pass an `input_shape`/`input_dim` argument to a layer. When using Sequential models, prefer using an `Input(shape)` object as the first layer in the model instead.\n",
            "  super().__init__(**kwargs)\n",
            "/usr/local/lib/python3.10/dist-packages/keras/src/layers/layer.py:915: UserWarning: Layer 'conv1d_1' (of type Conv1D) was passed an input with a mask attached to it. However, this layer does not support masking and will therefore destroy the mask information. Downstream layers will not see the mask.\n",
            "  warnings.warn(\n"
          ]
        },
        {
          "output_type": "display_data",
          "data": {
            "text/plain": [
              "\u001b[1mModel: \"sequential_3\"\u001b[0m\n"
            ],
            "text/html": [
              "<pre style=\"white-space:pre;overflow-x:auto;line-height:normal;font-family:Menlo,'DejaVu Sans Mono',consolas,'Courier New',monospace\"><span style=\"font-weight: bold\">Model: \"sequential_3\"</span>\n",
              "</pre>\n"
            ]
          },
          "metadata": {}
        },
        {
          "output_type": "display_data",
          "data": {
            "text/plain": [
              "┏━━━━━━━━━━━━━━━━━━━━━━━━━━━━━━━━━━━━━━┳━━━━━━━━━━━━━━━━━━━━━━━━━━━━━┳━━━━━━━━━━━━━━━━━┓\n",
              "┃\u001b[1m \u001b[0m\u001b[1mLayer (type)                        \u001b[0m\u001b[1m \u001b[0m┃\u001b[1m \u001b[0m\u001b[1mOutput Shape               \u001b[0m\u001b[1m \u001b[0m┃\u001b[1m \u001b[0m\u001b[1m        Param #\u001b[0m\u001b[1m \u001b[0m┃\n",
              "┡━━━━━━━━━━━━━━━━━━━━━━━━━━━━━━━━━━━━━━╇━━━━━━━━━━━━━━━━━━━━━━━━━━━━━╇━━━━━━━━━━━━━━━━━┩\n",
              "│ masking_3 (\u001b[38;5;33mMasking\u001b[0m)                  │ (\u001b[38;5;45mNone\u001b[0m, \u001b[38;5;34m100\u001b[0m, \u001b[38;5;34m100\u001b[0m)            │               \u001b[38;5;34m0\u001b[0m │\n",
              "├──────────────────────────────────────┼─────────────────────────────┼─────────────────┤\n",
              "│ conv1d_1 (\u001b[38;5;33mConv1D\u001b[0m)                    │ (\u001b[38;5;45mNone\u001b[0m, \u001b[38;5;34m100\u001b[0m, \u001b[38;5;34m128\u001b[0m)            │          \u001b[38;5;34m64,128\u001b[0m │\n",
              "├──────────────────────────────────────┼─────────────────────────────┼─────────────────┤\n",
              "│ max_pooling1d_1 (\u001b[38;5;33mMaxPooling1D\u001b[0m)       │ (\u001b[38;5;45mNone\u001b[0m, \u001b[38;5;34m50\u001b[0m, \u001b[38;5;34m128\u001b[0m)             │               \u001b[38;5;34m0\u001b[0m │\n",
              "├──────────────────────────────────────┼─────────────────────────────┼─────────────────┤\n",
              "│ conv1d_2 (\u001b[38;5;33mConv1D\u001b[0m)                    │ (\u001b[38;5;45mNone\u001b[0m, \u001b[38;5;34m50\u001b[0m, \u001b[38;5;34m128\u001b[0m)             │          \u001b[38;5;34m82,048\u001b[0m │\n",
              "├──────────────────────────────────────┼─────────────────────────────┼─────────────────┤\n",
              "│ max_pooling1d_2 (\u001b[38;5;33mMaxPooling1D\u001b[0m)       │ (\u001b[38;5;45mNone\u001b[0m, \u001b[38;5;34m25\u001b[0m, \u001b[38;5;34m128\u001b[0m)             │               \u001b[38;5;34m0\u001b[0m │\n",
              "├──────────────────────────────────────┼─────────────────────────────┼─────────────────┤\n",
              "│ bidirectional_1 (\u001b[38;5;33mBidirectional\u001b[0m)      │ (\u001b[38;5;45mNone\u001b[0m, \u001b[38;5;34m256\u001b[0m)                 │         \u001b[38;5;34m262,144\u001b[0m │\n",
              "├──────────────────────────────────────┼─────────────────────────────┼─────────────────┤\n",
              "│ dense_4 (\u001b[38;5;33mDense\u001b[0m)                      │ (\u001b[38;5;45mNone\u001b[0m, \u001b[38;5;34m6\u001b[0m)                   │           \u001b[38;5;34m1,542\u001b[0m │\n",
              "└──────────────────────────────────────┴─────────────────────────────┴─────────────────┘\n"
            ],
            "text/html": [
              "<pre style=\"white-space:pre;overflow-x:auto;line-height:normal;font-family:Menlo,'DejaVu Sans Mono',consolas,'Courier New',monospace\">┏━━━━━━━━━━━━━━━━━━━━━━━━━━━━━━━━━━━━━━┳━━━━━━━━━━━━━━━━━━━━━━━━━━━━━┳━━━━━━━━━━━━━━━━━┓\n",
              "┃<span style=\"font-weight: bold\"> Layer (type)                         </span>┃<span style=\"font-weight: bold\"> Output Shape                </span>┃<span style=\"font-weight: bold\">         Param # </span>┃\n",
              "┡━━━━━━━━━━━━━━━━━━━━━━━━━━━━━━━━━━━━━━╇━━━━━━━━━━━━━━━━━━━━━━━━━━━━━╇━━━━━━━━━━━━━━━━━┩\n",
              "│ masking_3 (<span style=\"color: #0087ff; text-decoration-color: #0087ff\">Masking</span>)                  │ (<span style=\"color: #00d7ff; text-decoration-color: #00d7ff\">None</span>, <span style=\"color: #00af00; text-decoration-color: #00af00\">100</span>, <span style=\"color: #00af00; text-decoration-color: #00af00\">100</span>)            │               <span style=\"color: #00af00; text-decoration-color: #00af00\">0</span> │\n",
              "├──────────────────────────────────────┼─────────────────────────────┼─────────────────┤\n",
              "│ conv1d_1 (<span style=\"color: #0087ff; text-decoration-color: #0087ff\">Conv1D</span>)                    │ (<span style=\"color: #00d7ff; text-decoration-color: #00d7ff\">None</span>, <span style=\"color: #00af00; text-decoration-color: #00af00\">100</span>, <span style=\"color: #00af00; text-decoration-color: #00af00\">128</span>)            │          <span style=\"color: #00af00; text-decoration-color: #00af00\">64,128</span> │\n",
              "├──────────────────────────────────────┼─────────────────────────────┼─────────────────┤\n",
              "│ max_pooling1d_1 (<span style=\"color: #0087ff; text-decoration-color: #0087ff\">MaxPooling1D</span>)       │ (<span style=\"color: #00d7ff; text-decoration-color: #00d7ff\">None</span>, <span style=\"color: #00af00; text-decoration-color: #00af00\">50</span>, <span style=\"color: #00af00; text-decoration-color: #00af00\">128</span>)             │               <span style=\"color: #00af00; text-decoration-color: #00af00\">0</span> │\n",
              "├──────────────────────────────────────┼─────────────────────────────┼─────────────────┤\n",
              "│ conv1d_2 (<span style=\"color: #0087ff; text-decoration-color: #0087ff\">Conv1D</span>)                    │ (<span style=\"color: #00d7ff; text-decoration-color: #00d7ff\">None</span>, <span style=\"color: #00af00; text-decoration-color: #00af00\">50</span>, <span style=\"color: #00af00; text-decoration-color: #00af00\">128</span>)             │          <span style=\"color: #00af00; text-decoration-color: #00af00\">82,048</span> │\n",
              "├──────────────────────────────────────┼─────────────────────────────┼─────────────────┤\n",
              "│ max_pooling1d_2 (<span style=\"color: #0087ff; text-decoration-color: #0087ff\">MaxPooling1D</span>)       │ (<span style=\"color: #00d7ff; text-decoration-color: #00d7ff\">None</span>, <span style=\"color: #00af00; text-decoration-color: #00af00\">25</span>, <span style=\"color: #00af00; text-decoration-color: #00af00\">128</span>)             │               <span style=\"color: #00af00; text-decoration-color: #00af00\">0</span> │\n",
              "├──────────────────────────────────────┼─────────────────────────────┼─────────────────┤\n",
              "│ bidirectional_1 (<span style=\"color: #0087ff; text-decoration-color: #0087ff\">Bidirectional</span>)      │ (<span style=\"color: #00d7ff; text-decoration-color: #00d7ff\">None</span>, <span style=\"color: #00af00; text-decoration-color: #00af00\">256</span>)                 │         <span style=\"color: #00af00; text-decoration-color: #00af00\">262,144</span> │\n",
              "├──────────────────────────────────────┼─────────────────────────────┼─────────────────┤\n",
              "│ dense_4 (<span style=\"color: #0087ff; text-decoration-color: #0087ff\">Dense</span>)                      │ (<span style=\"color: #00d7ff; text-decoration-color: #00d7ff\">None</span>, <span style=\"color: #00af00; text-decoration-color: #00af00\">6</span>)                   │           <span style=\"color: #00af00; text-decoration-color: #00af00\">1,542</span> │\n",
              "└──────────────────────────────────────┴─────────────────────────────┴─────────────────┘\n",
              "</pre>\n"
            ]
          },
          "metadata": {}
        },
        {
          "output_type": "display_data",
          "data": {
            "text/plain": [
              "\u001b[1m Total params: \u001b[0m\u001b[38;5;34m409,862\u001b[0m (1.56 MB)\n"
            ],
            "text/html": [
              "<pre style=\"white-space:pre;overflow-x:auto;line-height:normal;font-family:Menlo,'DejaVu Sans Mono',consolas,'Courier New',monospace\"><span style=\"font-weight: bold\"> Total params: </span><span style=\"color: #00af00; text-decoration-color: #00af00\">409,862</span> (1.56 MB)\n",
              "</pre>\n"
            ]
          },
          "metadata": {}
        },
        {
          "output_type": "display_data",
          "data": {
            "text/plain": [
              "\u001b[1m Trainable params: \u001b[0m\u001b[38;5;34m409,862\u001b[0m (1.56 MB)\n"
            ],
            "text/html": [
              "<pre style=\"white-space:pre;overflow-x:auto;line-height:normal;font-family:Menlo,'DejaVu Sans Mono',consolas,'Courier New',monospace\"><span style=\"font-weight: bold\"> Trainable params: </span><span style=\"color: #00af00; text-decoration-color: #00af00\">409,862</span> (1.56 MB)\n",
              "</pre>\n"
            ]
          },
          "metadata": {}
        },
        {
          "output_type": "display_data",
          "data": {
            "text/plain": [
              "\u001b[1m Non-trainable params: \u001b[0m\u001b[38;5;34m0\u001b[0m (0.00 B)\n"
            ],
            "text/html": [
              "<pre style=\"white-space:pre;overflow-x:auto;line-height:normal;font-family:Menlo,'DejaVu Sans Mono',consolas,'Courier New',monospace\"><span style=\"font-weight: bold\"> Non-trainable params: </span><span style=\"color: #00af00; text-decoration-color: #00af00\">0</span> (0.00 B)\n",
              "</pre>\n"
            ]
          },
          "metadata": {}
        },
        {
          "output_type": "stream",
          "name": "stdout",
          "text": [
            "Epoch 1/10\n",
            "\u001b[1m720/720\u001b[0m \u001b[32m━━━━━━━━━━━━━━━━━━━━\u001b[0m\u001b[37m\u001b[0m \u001b[1m14s\u001b[0m 12ms/step - accuracy: 0.2477 - loss: 2.1123 - val_accuracy: 0.4747 - val_loss: 1.4015\n",
            "Epoch 2/10\n",
            "\u001b[1m720/720\u001b[0m \u001b[32m━━━━━━━━━━━━━━━━━━━━\u001b[0m\u001b[37m\u001b[0m \u001b[1m17s\u001b[0m 11ms/step - accuracy: 0.5542 - loss: 1.2222 - val_accuracy: 0.6300 - val_loss: 1.0527\n",
            "Epoch 3/10\n",
            "\u001b[1m720/720\u001b[0m \u001b[32m━━━━━━━━━━━━━━━━━━━━\u001b[0m\u001b[37m\u001b[0m \u001b[1m11s\u001b[0m 11ms/step - accuracy: 0.7168 - loss: 0.8293 - val_accuracy: 0.7212 - val_loss: 0.8717\n",
            "Epoch 4/10\n",
            "\u001b[1m720/720\u001b[0m \u001b[32m━━━━━━━━━━━━━━━━━━━━\u001b[0m\u001b[37m\u001b[0m \u001b[1m9s\u001b[0m 10ms/step - accuracy: 0.8080 - loss: 0.5849 - val_accuracy: 0.7470 - val_loss: 0.8350\n",
            "Epoch 5/10\n",
            "\u001b[1m720/720\u001b[0m \u001b[32m━━━━━━━━━━━━━━━━━━━━\u001b[0m\u001b[37m\u001b[0m \u001b[1m8s\u001b[0m 10ms/step - accuracy: 0.8554 - loss: 0.4520 - val_accuracy: 0.7720 - val_loss: 0.8100\n",
            "Epoch 6/10\n",
            "\u001b[1m720/720\u001b[0m \u001b[32m━━━━━━━━━━━━━━━━━━━━\u001b[0m\u001b[37m\u001b[0m \u001b[1m7s\u001b[0m 10ms/step - accuracy: 0.8860 - loss: 0.3631 - val_accuracy: 0.7967 - val_loss: 0.7929\n",
            "Epoch 7/10\n",
            "\u001b[1m720/720\u001b[0m \u001b[32m━━━━━━━━━━━━━━━━━━━━\u001b[0m\u001b[37m\u001b[0m \u001b[1m8s\u001b[0m 11ms/step - accuracy: 0.9143 - loss: 0.2762 - val_accuracy: 0.7986 - val_loss: 0.8144\n",
            "Epoch 8/10\n",
            "\u001b[1m720/720\u001b[0m \u001b[32m━━━━━━━━━━━━━━━━━━━━\u001b[0m\u001b[37m\u001b[0m \u001b[1m8s\u001b[0m 10ms/step - accuracy: 0.9237 - loss: 0.2450 - val_accuracy: 0.7932 - val_loss: 0.8752\n",
            "Epoch 9/10\n",
            "\u001b[1m720/720\u001b[0m \u001b[32m━━━━━━━━━━━━━━━━━━━━\u001b[0m\u001b[37m\u001b[0m \u001b[1m10s\u001b[0m 10ms/step - accuracy: 0.9342 - loss: 0.2133 - val_accuracy: 0.8078 - val_loss: 0.8464\n",
            "Epoch 10/10\n",
            "\u001b[1m720/720\u001b[0m \u001b[32m━━━━━━━━━━━━━━━━━━━━\u001b[0m\u001b[37m\u001b[0m \u001b[1m11s\u001b[0m 11ms/step - accuracy: 0.9405 - loss: 0.1901 - val_accuracy: 0.8071 - val_loss: 0.8545\n"
          ]
        },
        {
          "output_type": "execute_result",
          "data": {
            "text/plain": [
              "<keras.src.callbacks.history.History at 0x7fb5e530cfd0>"
            ]
          },
          "metadata": {},
          "execution_count": 21
        }
      ]
    },
    {
      "cell_type": "code",
      "source": [
        "from sklearn.metrics import classification_report\n",
        "\n",
        "# Predict on the test set\n",
        "y_pred = np.argmax(model.predict(x_test_emb), axis=1)\n",
        "\n",
        "# Print classification report\n",
        "print(\"Results for RNN with Word2Vec:\")\n",
        "print(classification_report(y_test, y_pred))\n"
      ],
      "metadata": {
        "colab": {
          "base_uri": "https://localhost:8080/"
        },
        "id": "8bnD-xkew5iw",
        "outputId": "0628a23d-1eaa-451a-808e-16183b325e21"
      },
      "execution_count": 22,
      "outputs": [
        {
          "output_type": "stream",
          "name": "stdout",
          "text": [
            "\u001b[1m225/225\u001b[0m \u001b[32m━━━━━━━━━━━━━━━━━━━━\u001b[0m\u001b[37m\u001b[0m \u001b[1m2s\u001b[0m 5ms/step\n",
            "Results for RNN with Word2Vec:\n",
            "              precision    recall  f1-score   support\n",
            "\n",
            "           0       0.82      0.80      0.81      1226\n",
            "           1       0.82      0.85      0.83      1188\n",
            "           2       0.89      0.85      0.87      1129\n",
            "           3       0.88      0.80      0.84      1246\n",
            "           4       0.70      0.71      0.71      1244\n",
            "           5       0.79      0.88      0.83      1167\n",
            "\n",
            "    accuracy                           0.81      7200\n",
            "   macro avg       0.82      0.82      0.82      7200\n",
            "weighted avg       0.82      0.81      0.81      7200\n",
            "\n"
          ]
        }
      ]
    }
  ]
}